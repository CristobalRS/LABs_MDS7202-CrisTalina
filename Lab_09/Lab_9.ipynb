{
 "cells": [
  {
   "cell_type": "markdown",
   "metadata": {
    "cell_id": "b5c0d2440b3e4995a794ded565213150",
    "deepnote_cell_type": "markdown",
    "id": "_Mql1uRoI5v5"
   },
   "source": [
    "<h1><center>Laboratorio 9: Optimización de modelos 💯</center></h1>\n",
    "\n",
    "<center><strong>MDS7202: Laboratorio de Programación Científica para Ciencia de Datos - Primavera 2024</strong></center>"
   ]
  },
  {
   "cell_type": "markdown",
   "metadata": {
    "cell_id": "bfb94b9656f145ad83e81b75d218cb70",
    "deepnote_cell_type": "markdown",
    "id": "FAPGIlEAI5v8"
   },
   "source": [
    "### **Cuerpo Docente:**\n",
    "\n",
    "- Profesores: Ignacio Meza, Sebastián Tinoco\n",
    "- Auxiliar: Eduardo Moya\n",
    "- Ayudantes: Nicolás Ojeda, Melanie Peña, Valentina Rojas"
   ]
  },
  {
   "cell_type": "markdown",
   "metadata": {
    "cell_id": "b1b537fdd27c43909a49d3476ce64d91",
    "deepnote_cell_type": "markdown",
    "id": "8NozgbkZI5v9"
   },
   "source": [
    "### Equipo: SUPER IMPORTANTE - notebooks sin nombre no serán revisados\n",
    "\n",
    "- Nombre de alumno 1: Cristobal Ramos \n",
    "- Nombre de alumno 2: Catalina Lizana\n"
   ]
  },
  {
   "cell_type": "markdown",
   "metadata": {},
   "source": [
    "### **Link de repositorio de GitHub:** [Insertar Repositorio](https://github.com/...../)"
   ]
  },
  {
   "cell_type": "markdown",
   "metadata": {
    "cell_id": "b7dbdd30ab544cb8a8afe00648a586ae",
    "deepnote_cell_type": "markdown",
    "id": "vHU9DI6wI5v9"
   },
   "source": [
    "### Temas a tratar\n",
    "\n",
    "- Predicción de demanda usando `xgboost`\n",
    "- Búsqueda del modelo óptimo de clasificación usando `optuna`\n",
    "- Uso de pipelines.\n",
    "\n",
    "### Reglas:\n",
    "\n",
    "- **Grupos de 2 personas**\n",
    "- Cualquier duda fuera del horario de clases al foro. Mensajes al equipo docente serán respondidos por este medio.\n",
    "- Prohibidas las copias.\n",
    "- Pueden usar cualquer matrial del curso que estimen conveniente.\n",
    "- Código que no se pueda ejecutar, no será revisado.\n",
    "\n",
    "### Objetivos principales del laboratorio\n",
    "\n",
    "- Optimizar modelos usando `optuna`\n",
    "- Recurrir a técnicas de *prunning*\n",
    "- Forzar el aprendizaje de relaciones entre variables mediante *constraints*\n",
    "- Fijar un pipeline con un modelo base que luego se irá optimizando.\n",
    "\n",
    "El laboratorio deberá ser desarrollado sin el uso indiscriminado de iteradores nativos de python (aka \"for\", \"while\"). La idea es que aprendan a exprimir al máximo las funciones optimizadas que nos entrega `pandas`, las cuales vale mencionar, son bastante más eficientes que los iteradores nativos sobre DataFrames."
   ]
  },
  {
   "cell_type": "markdown",
   "metadata": {
    "cell_id": "f1c73babb7f74af588a4fa6ae14829e0",
    "deepnote_cell_type": "markdown",
    "id": "U_-sNOuOI5v9"
   },
   "source": [
    "# Importamos librerias útiles"
   ]
  },
  {
   "cell_type": "code",
   "execution_count": 1,
   "metadata": {
    "cell_id": "51afe4d2df42442b9e5402ffece60ead",
    "deepnote_cell_type": "code",
    "deepnote_to_be_reexecuted": false,
    "execution_millis": 4957,
    "execution_start": 1699544354044,
    "id": "ekHbM85NI5v9",
    "source_hash": null
   },
   "outputs": [],
   "source": [
    "!pip install -qq xgboost optuna"
   ]
  },
  {
   "cell_type": "markdown",
   "metadata": {
    "id": "y6hJXpLCSspz"
   },
   "source": [
    "# El emprendimiento de Fiu"
   ]
  },
  {
   "cell_type": "markdown",
   "metadata": {
    "cell_id": "44d227389a734ac59189c5e0005bc68a",
    "deepnote_cell_type": "markdown",
    "id": "b0bDalAOI5v-"
   },
   "source": [
    "Tras liderar de manera exitosa la implementación de un proyecto de ciencia de datos para caracterizar los datos generados en Santiago 2023, el misterioso corpóreo **Fiu** se anima y decide levantar su propio negocio de consultoría en machine learning. Tras varias e intensas negociaciones, Fiu logra encontrar su *primera chamba*: predecir la demanda (cantidad de venta) de una famosa productora de bebidas de calibre mundial. Al ver el gran potencial y talento que usted ha demostrado en el campo de la ciencia de datos, Fiu lo contrata como data scientist para que forme parte de su nuevo emprendimiento.\n",
    "\n",
    "Para este laboratorio deben trabajar con los datos `sales.csv` subidos a u-cursos, el cual contiene una muestra de ventas de la empresa para diferentes productos en un determinado tiempo.\n",
    "\n",
    "Para comenzar, cargue el dataset señalado y visualice a través de un `.head` los atributos que posee el dataset.\n",
    "\n",
    "<i><p align=\"center\">Fiu siendo felicitado por su excelente desempeño en el proyecto de caracterización de datos</p></i>\n",
    "<p align=\"center\">\n",
    "  <img src=\"https://media-front.elmostrador.cl/2023/09/A_UNO_1506411_2440e.jpg\">\n",
    "</p>"
   ]
  },
  {
   "cell_type": "code",
   "execution_count": 3,
   "metadata": {
    "cell_id": "2f9c82d204b14515ad27ae07e0b77702",
    "deepnote_cell_type": "code",
    "deepnote_to_be_reexecuted": false,
    "execution_millis": 92,
    "execution_start": 1699544359006,
    "id": "QvMPOqHuI5v-",
    "outputId": "659e7a12-d74d-45d6-d3c2-33a6cd338585",
    "source_hash": null
   },
   "outputs": [
    {
     "data": {
      "text/html": [
       "<div>\n",
       "<style scoped>\n",
       "    .dataframe tbody tr th:only-of-type {\n",
       "        vertical-align: middle;\n",
       "    }\n",
       "\n",
       "    .dataframe tbody tr th {\n",
       "        vertical-align: top;\n",
       "    }\n",
       "\n",
       "    .dataframe thead th {\n",
       "        text-align: right;\n",
       "    }\n",
       "</style>\n",
       "<table border=\"1\" class=\"dataframe\">\n",
       "  <thead>\n",
       "    <tr style=\"text-align: right;\">\n",
       "      <th></th>\n",
       "      <th>id</th>\n",
       "      <th>date</th>\n",
       "      <th>city</th>\n",
       "      <th>lat</th>\n",
       "      <th>long</th>\n",
       "      <th>pop</th>\n",
       "      <th>shop</th>\n",
       "      <th>brand</th>\n",
       "      <th>container</th>\n",
       "      <th>capacity</th>\n",
       "      <th>price</th>\n",
       "      <th>quantity</th>\n",
       "    </tr>\n",
       "  </thead>\n",
       "  <tbody>\n",
       "    <tr>\n",
       "      <th>0</th>\n",
       "      <td>0</td>\n",
       "      <td>31/01/12</td>\n",
       "      <td>Athens</td>\n",
       "      <td>37.97945</td>\n",
       "      <td>23.71622</td>\n",
       "      <td>672130</td>\n",
       "      <td>shop_1</td>\n",
       "      <td>kinder-cola</td>\n",
       "      <td>glass</td>\n",
       "      <td>500ml</td>\n",
       "      <td>0.96</td>\n",
       "      <td>13280</td>\n",
       "    </tr>\n",
       "    <tr>\n",
       "      <th>1</th>\n",
       "      <td>1</td>\n",
       "      <td>31/01/12</td>\n",
       "      <td>Athens</td>\n",
       "      <td>37.97945</td>\n",
       "      <td>23.71622</td>\n",
       "      <td>672130</td>\n",
       "      <td>shop_1</td>\n",
       "      <td>kinder-cola</td>\n",
       "      <td>plastic</td>\n",
       "      <td>1.5lt</td>\n",
       "      <td>2.86</td>\n",
       "      <td>6727</td>\n",
       "    </tr>\n",
       "    <tr>\n",
       "      <th>2</th>\n",
       "      <td>2</td>\n",
       "      <td>31/01/12</td>\n",
       "      <td>Athens</td>\n",
       "      <td>37.97945</td>\n",
       "      <td>23.71622</td>\n",
       "      <td>672130</td>\n",
       "      <td>shop_1</td>\n",
       "      <td>kinder-cola</td>\n",
       "      <td>can</td>\n",
       "      <td>330ml</td>\n",
       "      <td>0.87</td>\n",
       "      <td>9848</td>\n",
       "    </tr>\n",
       "    <tr>\n",
       "      <th>3</th>\n",
       "      <td>3</td>\n",
       "      <td>31/01/12</td>\n",
       "      <td>Athens</td>\n",
       "      <td>37.97945</td>\n",
       "      <td>23.71622</td>\n",
       "      <td>672130</td>\n",
       "      <td>shop_1</td>\n",
       "      <td>adult-cola</td>\n",
       "      <td>glass</td>\n",
       "      <td>500ml</td>\n",
       "      <td>1.00</td>\n",
       "      <td>20050</td>\n",
       "    </tr>\n",
       "    <tr>\n",
       "      <th>4</th>\n",
       "      <td>4</td>\n",
       "      <td>31/01/12</td>\n",
       "      <td>Athens</td>\n",
       "      <td>37.97945</td>\n",
       "      <td>23.71622</td>\n",
       "      <td>672130</td>\n",
       "      <td>shop_1</td>\n",
       "      <td>adult-cola</td>\n",
       "      <td>can</td>\n",
       "      <td>330ml</td>\n",
       "      <td>0.39</td>\n",
       "      <td>25696</td>\n",
       "    </tr>\n",
       "  </tbody>\n",
       "</table>\n",
       "</div>"
      ],
      "text/plain": [
       "   id      date    city       lat      long     pop    shop        brand  \\\n",
       "0   0  31/01/12  Athens  37.97945  23.71622  672130  shop_1  kinder-cola   \n",
       "1   1  31/01/12  Athens  37.97945  23.71622  672130  shop_1  kinder-cola   \n",
       "2   2  31/01/12  Athens  37.97945  23.71622  672130  shop_1  kinder-cola   \n",
       "3   3  31/01/12  Athens  37.97945  23.71622  672130  shop_1   adult-cola   \n",
       "4   4  31/01/12  Athens  37.97945  23.71622  672130  shop_1   adult-cola   \n",
       "\n",
       "  container capacity  price  quantity  \n",
       "0     glass    500ml   0.96     13280  \n",
       "1   plastic    1.5lt   2.86      6727  \n",
       "2       can    330ml   0.87      9848  \n",
       "3     glass    500ml   1.00     20050  \n",
       "4       can    330ml   0.39     25696  "
      ]
     },
     "execution_count": 3,
     "metadata": {},
     "output_type": "execute_result"
    }
   ],
   "source": [
    "import pandas as pd\n",
    "import numpy as np\n",
    "from datetime import datetime\n",
    "\n",
    "df = pd.read_csv('sales.csv')\n",
    "\n",
    "df.head()"
   ]
  },
  {
   "cell_type": "code",
   "execution_count": 5,
   "metadata": {},
   "outputs": [
    {
     "name": "stdout",
     "output_type": "stream",
     "text": [
      "<class 'pandas.core.frame.DataFrame'>\n",
      "RangeIndex: 7456 entries, 0 to 7455\n",
      "Data columns (total 12 columns):\n",
      " #   Column     Non-Null Count  Dtype  \n",
      "---  ------     --------------  -----  \n",
      " 0   id         7456 non-null   int64  \n",
      " 1   date       7456 non-null   object \n",
      " 2   city       7456 non-null   object \n",
      " 3   lat        7456 non-null   float64\n",
      " 4   long       7456 non-null   float64\n",
      " 5   pop        7456 non-null   int64  \n",
      " 6   shop       7456 non-null   object \n",
      " 7   brand      7456 non-null   object \n",
      " 8   container  7456 non-null   object \n",
      " 9   capacity   7456 non-null   object \n",
      " 10  price      7456 non-null   float64\n",
      " 11  quantity   7456 non-null   int64  \n",
      "dtypes: float64(3), int64(3), object(6)\n",
      "memory usage: 699.1+ KB\n"
     ]
    }
   ],
   "source": [
    "df.info()"
   ]
  },
  {
   "cell_type": "markdown",
   "metadata": {
    "cell_id": "b50db6f2cb804932ae3f9e5748a6ea61",
    "deepnote_cell_type": "markdown",
    "id": "pk4ru76pI5v_"
   },
   "source": [
    "## 1 Generando un Baseline (5 puntos)\n",
    "\n",
    "<p align=\"center\">\n",
    "  <img src=\"https://media.tenor.com/O-lan6TkadUAAAAC/what-i-wnna-do-after-a-baseline.gif\">\n",
    "</p>\n",
    "\n",
    "Antes de entrenar un algoritmo, usted recuerda los apuntes de su magíster en ciencia de datos y recuerda que debe seguir una serie de *buenas prácticas* para entrenar correcta y debidamente su modelo. Después de un par de vueltas, llega a las siguientes tareas:\n",
    "\n",
    "1. Separe los datos en conjuntos de train (70%), validation (20%) y test (10%). Fije una semilla para controlar la aleatoriedad. [0.5 puntos]\n",
    "2. Implemente un `FunctionTransformer` para extraer el día, mes y año de la variable `date`. Guarde estas variables en el formato categorical de pandas. [1 punto]\n",
    "3. Implemente un `ColumnTransformer` para procesar de manera adecuada los datos numéricos y categóricos. Use `OneHotEncoder` para las variables categóricas. `Nota:` Utilice el método `.set_output(transform='pandas')` para obtener un DataFrame como salida del `ColumnTransformer` [1 punto]\n",
    "4. Guarde los pasos anteriores en un `Pipeline`, dejando como último paso el regresor `DummyRegressor` para generar predicciones en base a promedios. [0.5 punto]\n",
    "5. Entrene el pipeline anterior y reporte la métrica `mean_absolute_error` sobre los datos de validación. ¿Cómo se interpreta esta métrica para el contexto del negocio? [0.5 puntos]\n",
    "6. Finalmente, vuelva a entrenar el `Pipeline` pero esta vez usando `XGBRegressor` como modelo **utilizando los parámetros por default**. ¿Cómo cambia el MAE al implementar este algoritmo? ¿Es mejor o peor que el `DummyRegressor`? [1 punto]\n",
    "7. Guarde ambos modelos en un archivo .pkl (uno cada uno) [0.5 puntos]"
   ]
  },
  {
   "cell_type": "code",
   "execution_count": 7,
   "metadata": {
    "cell_id": "1482c992d9494e5582b23dbd3431dbfd",
    "deepnote_cell_type": "code",
    "id": "sfnN7HubI5v_"
   },
   "outputs": [],
   "source": [
    "from sklearn import set_config\n",
    "set_config(transform_output=\"pandas\")\n",
    "\n",
    "\n",
    "#1. Separe los datos en conjuntos de train (70%), validation (20%) y test (10%). Fije una semilla para controlar la aleatoriedad. \n",
    "\n",
    "from sklearn.model_selection import train_test_split\n",
    "\n",
    "features = df.drop(columns =['quantity'])\n",
    "labels = df.loc[:, 'quantity']\n",
    "\n",
    "X_train, X_test, y_train, y_test = train_test_split(features, labels, test_size=0.1, random_state=24)\n",
    "\n",
    "X_train, X_valid, y_train, y_valid = train_test_split(X_train,y_train, test_size=0.18, random_state=25)\n"
   ]
  },
  {
   "cell_type": "code",
   "execution_count": 9,
   "metadata": {},
   "outputs": [],
   "source": [
    "#2. Implemente un `FunctionTransformer` para extraer el día, mes y año de la variable `date`. Guarde estas variables en el formato categorical de pandas. \n",
    "from sklearn.preprocessing import FunctionTransformer\n",
    "\n",
    "def extract_dates(dataframe):\n",
    "    dates = pd.to_datetime(dataframe['date'], format='%d/%m/%y')\n",
    "    dataframe['day'] = dates.dt.day.astype('category')\n",
    "    dataframe['month'] = dates.dt.month.astype('category')\n",
    "    dataframe['year'] = dates.dt.year.astype('category')\n",
    "    \n",
    "    return dataframe\n",
    "    \n",
    "transformer = FunctionTransformer(extract_dates)\n"
   ]
  },
  {
   "cell_type": "code",
   "execution_count": 11,
   "metadata": {},
   "outputs": [],
   "source": [
    "#3. Implemente un `ColumnTransformer` para procesar de manera adecuada los datos numéricos y categóricos. Use `OneHotEncoder` para las variables categóricas. \n",
    "from sklearn.compose import ColumnTransformer\n",
    "from sklearn.preprocessing import OneHotEncoder\n",
    "from sklearn.preprocessing import StandardScaler, MinMaxScaler\n",
    "\n",
    "c_transformer =  ColumnTransformer(transformers=[ (\"categorical\", OneHotEncoder(sparse_output=False), ['city', 'shop', 'brand','capacity', 'container','day','month', 'year']), (\"numeric\", StandardScaler(), ['lat', 'long', 'pop','price'])]).set_output(transform='pandas')"
   ]
  },
  {
   "cell_type": "code",
   "execution_count": 13,
   "metadata": {},
   "outputs": [],
   "source": [
    "#4. Guarde los pasos anteriores en un `Pipeline`, dejando como último paso el regresor `DummyRegressor` para generar predicciones en base a promedios.\n",
    "from sklearn.pipeline import Pipeline\n",
    "from sklearn.dummy import DummyRegressor\n",
    "\n",
    "pipe_dummy = Pipeline([('Dates', transformer), ('Processing', c_transformer), ('Regresor', DummyRegressor())])\n"
   ]
  },
  {
   "cell_type": "code",
   "execution_count": 210,
   "metadata": {},
   "outputs": [
    {
     "name": "stdout",
     "output_type": "stream",
     "text": [
      "MAE_dummy_model = 13369.603999508909\n"
     ]
    }
   ],
   "source": [
    "#5. Entrene el pipeline anterior y reporte la métrica `mean_absolute_error` sobre los datos de validación. ¿Cómo se interpreta esta métrica para el contexto del negocio? \n",
    "from sklearn.metrics import mean_absolute_error\n",
    "pipe_dummy.fit(X_train, y_train)\n",
    "y_pred_dummy = pipe_dummy.predict(X_valid)\n",
    "MAE_dummy = mean_absolute_error(y_valid, y_pred_dummy)\n",
    "print(f\"MAE_dummy_model = {MAE_dummy}\")"
   ]
  },
  {
   "cell_type": "markdown",
   "metadata": {},
   "source": [
    "¿Cómo se interpreta esta métrica para el contexto del negocio?\n",
    "\n",
    "RESPUESTA: Podemos interpretar que, en promedio, las predicciones de la demanda tienen un error de 13.369 en comparación a la demanda real."
   ]
  },
  {
   "cell_type": "code",
   "execution_count": 208,
   "metadata": {
    "scrolled": true
   },
   "outputs": [
    {
     "name": "stdout",
     "output_type": "stream",
     "text": [
      "MAE_xgb_model = 2301.8063948675494\n"
     ]
    }
   ],
   "source": [
    "#6. Finalmente, vuelva a entrenar el `Pipeline` pero esta vez usando `XGBRegressor` como modelo **utilizando los parámetros por default**. \n",
    "from xgboost import XGBRegressor\n",
    "pipe_xgb = Pipeline([('Dates', transformer), ('Processing', c_transformer), ('Regresor', XGBRegressor() )])\n",
    "pipe_xgb.fit(X_train, y_train)\n",
    "y_pred_xgb = pipe_xgb.predict(X_valid)\n",
    "MAE_xgb = mean_absolute_error(y_valid, y_pred_xgb)\n",
    "print(f\"MAE_xgb_model = {MAE_xgb}\")"
   ]
  },
  {
   "cell_type": "markdown",
   "metadata": {},
   "source": [
    "¿Cómo cambia el MAE al implementar este algoritmo? ¿Es mejor o peor que el DummyRegressor?\n",
    "\n",
    "RESPUESTA: Mejora considerablemente al compararlo con el de Dummy. El error disminuye aproximadamente en un 80%, con respecto al error del dummy_model"
   ]
  },
  {
   "cell_type": "markdown",
   "metadata": {
    "cell_id": "7e17e46063774ec28226fe300d42ffe0",
    "deepnote_cell_type": "markdown",
    "id": "wnyMINdKI5v_"
   },
   "source": [
    "## 2. Forzando relaciones entre parámetros con XGBoost (10 puntos)\n",
    "\n",
    "<p align=\"center\">\n",
    "  <img src=\"https://64.media.tumblr.com/14cc45f9610a6ee341a45fd0d68f4dde/20d11b36022bca7b-bf/s640x960/67ab1db12ff73a530f649ac455c000945d99c0d6.gif\">\n",
    "</p>\n",
    "\n",
    "Un colega aficionado a la economía le *sopla* que la demanda guarda una relación inversa con el precio del producto. Motivado para impresionar al querido corpóreo, se propone hacer uso de esta información para mejorar su modelo realizando las siguientes tareas:\n",
    "\n",
    "1. Vuelva a entrenar el `Pipeline` con `XGBRegressor`, pero esta vez forzando una relación monótona negativa entre el precio y la cantidad. Para aplicar esta restricción apóyese en la siguiente <a href = https://xgboost.readthedocs.io/en/stable/tutorials/monotonic.html>documentación</a>. [6 puntos]\n",
    "\n",
    ">Hint 1: Para implementar el constraint se le sugiere hacerlo especificando el nombre de la variable. De ser así, probablemente le sea útil **mantener el formato de pandas** antes del step de entrenamiento.\n",
    "\n",
    ">Hint 2: Puede obtener el nombre de las columnas en el paso anterior al modelo regresor mediante el método `.get_feature_names_out()`\n",
    "\n",
    "2. Luego, vuelva a reportar el `MAE` sobre el conjunto de validación. [1 puntos]\n",
    "\n",
    "3. ¿Cómo cambia el error al incluir esta relación? ¿Tenía razón su amigo? [2 puntos]\n",
    "\n",
    "4. Guarde su modelo en un archivo .pkl [1 punto]"
   ]
  },
  {
   "cell_type": "code",
   "execution_count": 21,
   "metadata": {},
   "outputs": [
    {
     "data": {
      "text/plain": [
       "array(['categorical__city_Athens', 'categorical__city_Irakleion',\n",
       "       'categorical__city_Larisa', 'categorical__city_Patra',\n",
       "       'categorical__city_Thessaloniki', 'categorical__shop_shop_1',\n",
       "       'categorical__shop_shop_2', 'categorical__shop_shop_3',\n",
       "       'categorical__shop_shop_4', 'categorical__shop_shop_5',\n",
       "       'categorical__shop_shop_6', 'categorical__brand_adult-cola',\n",
       "       'categorical__brand_gazoza', 'categorical__brand_kinder-cola',\n",
       "       'categorical__brand_lemon-boost',\n",
       "       'categorical__brand_orange-power', 'categorical__capacity_1.5lt',\n",
       "       'categorical__capacity_330ml', 'categorical__capacity_500ml',\n",
       "       'categorical__container_can', 'categorical__container_glass',\n",
       "       'categorical__container_plastic', 'categorical__day_28',\n",
       "       'categorical__day_29', 'categorical__day_30',\n",
       "       'categorical__day_31', 'categorical__month_1',\n",
       "       'categorical__month_2', 'categorical__month_3',\n",
       "       'categorical__month_4', 'categorical__month_5',\n",
       "       'categorical__month_6', 'categorical__month_7',\n",
       "       'categorical__month_8', 'categorical__month_9',\n",
       "       'categorical__month_10', 'categorical__month_11',\n",
       "       'categorical__month_12', 'categorical__year_2012',\n",
       "       'categorical__year_2013', 'categorical__year_2014',\n",
       "       'categorical__year_2015', 'categorical__year_2016',\n",
       "       'categorical__year_2017', 'categorical__year_2018', 'numeric__lat',\n",
       "       'numeric__long', 'numeric__pop', 'numeric__price'], dtype=object)"
      ]
     },
     "execution_count": 21,
     "metadata": {},
     "output_type": "execute_result"
    }
   ],
   "source": [
    "pipe_xgb['Processing'].get_feature_names_out()"
   ]
  },
  {
   "cell_type": "code",
   "execution_count": 45,
   "metadata": {},
   "outputs": [],
   "source": [
    "#1. Vuelva a entrenar el `Pipeline` con `XGBRegressor`, pero esta vez forzando una relación monótona negativa entre el precio y la cantidad. \n",
    "\n",
    "params = {}\n",
    "params['monotone_constraints'] = {'numeric__price': -1}\n",
    "\n",
    "pipe_xgb_ctr = Pipeline([('Dates', transformer), ('Processing', c_transformer), ('Regresor', XGBRegressor(**params))])"
   ]
  },
  {
   "cell_type": "code",
   "execution_count": 212,
   "metadata": {
    "scrolled": true
   },
   "outputs": [
    {
     "name": "stdout",
     "output_type": "stream",
     "text": [
      "MAE_xgb_ctr_model = 2417.2837138397012\n"
     ]
    }
   ],
   "source": [
    "#2. Luego, vuelva a reportar el `MAE` sobre el conjunto de validación. \n",
    "pipe_xgb_ctr.fit(X_train, y_train)\n",
    "y_pred_xgb_ctr = pipe_xgb_ctr.predict(X_valid)\n",
    "MAE_xgb_ctr = mean_absolute_error(y_valid, y_pred_xgb_ctr)\n",
    "print(f\"MAE_xgb_ctr_model = {MAE_xgb_ctr}\")"
   ]
  },
  {
   "cell_type": "code",
   "execution_count": 214,
   "metadata": {},
   "outputs": [
    {
     "name": "stdout",
     "output_type": "stream",
     "text": [
      "MAE_dummy_model   = 13369.603999508909\n",
      "MAE_xgb_model     = 2301.8063948675494\n",
      "MAE_xgb_ctr_model = 2417.2837138397012\n"
     ]
    }
   ],
   "source": [
    "#3. ¿Cómo cambia el error al incluir esta relación? ¿Tenía razón su amigo?\n",
    "print(f\"MAE_dummy_model   = {MAE_dummy}\")\n",
    "print(f\"MAE_xgb_model     = {MAE_xgb}\")\n",
    "print(f\"MAE_xgb_ctr_model = {MAE_xgb_ctr}\")"
   ]
  },
  {
   "cell_type": "markdown",
   "metadata": {},
   "source": [
    "RESPUESTA: El error aumenta, aunque no de manera considerable, por ende, podemos afirmar que el precio si guarda una relación inversa con la cantidad pero no de manera significativa.\n"
   ]
  },
  {
   "cell_type": "code",
   "execution_count": 56,
   "metadata": {
    "cell_id": "f469f3b572be434191d2d5c3f11b20d2",
    "deepnote_cell_type": "code",
    "id": "B7tMnkiAI5v_"
   },
   "outputs": [],
   "source": [
    "#4. Guarde su modelo en un archivo .pkl\n",
    "import pickle\n",
    "with open('pipe_xgb_ctr.pkl', 'wb') as file:\n",
    "    pickle.dump( pipe_xgb_ctr, file)"
   ]
  },
  {
   "cell_type": "markdown",
   "metadata": {
    "cell_id": "e59ef80ed20b4de8921f24da74e87374",
    "deepnote_cell_type": "markdown",
    "id": "5D5-tX4dI5v_"
   },
   "source": [
    "## 1.3 Optimización de Hiperparámetros con Optuna (20 puntos)\n",
    "\n",
    "<p align=\"center\">\n",
    "  <img src=\"https://media.tenor.com/fmNdyGN4z5kAAAAi/hacking-lucy.gif\">\n",
    "</p>\n",
    "\n",
    "Luego de presentarle sus resultados, Fiu le pregunta si es posible mejorar *aun más* su modelo. En particular, le comenta de la optimización de hiperparámetros con metodologías bayesianas a través del paquete `optuna`. Como usted es un aficionado al entrenamiento de modelos de ML, se propone implementar la descabellada idea de su jefe.\n",
    "\n",
    "A partir de la mejor configuración obtenida en la sección anterior, utilice `optuna` para optimizar sus hiperparámetros. En particular, se pide que su optimización considere lo siguiente:\n",
    "\n",
    "- Fijar una semilla en las instancias necesarias para garantizar la reproducibilidad de resultados\n",
    "- Utilice `TPESampler` como método de muestreo\n",
    "- De `XGBRegressor`, optimice los siguientes hiperparámetros:\n",
    "    - `learning_rate` buscando valores flotantes en el rango (0.001, 0.1)\n",
    "    - `n_estimators` buscando valores enteros en el rango (50, 1000)\n",
    "    - `max_depth` buscando valores enteros en el rango (3, 10)\n",
    "    - `max_leaves` buscando valores enteros en el rango (0, 100)\n",
    "    - `min_child_weight` buscando valores enteros en el rango (1, 5)\n",
    "    - `reg_alpha` buscando valores flotantes en el rango (0, 1)\n",
    "    - `reg_lambda` buscando valores flotantes en el rango (0, 1)\n",
    "- De `OneHotEncoder`, optimice el hiperparámetro `min_frequency` buscando el mejor valor flotante en el rango (0.0, 1.0)\n",
    "\n",
    "Para ello se pide los siguientes pasos:\n",
    "1. Implemente una función `objective()` que permita minimizar el `MAE` en el conjunto de validación. Use el método `.set_user_attr()` para almacenar el mejor pipeline entrenado. [10 puntos]\n",
    "2. Fije el tiempo de entrenamiento a 5 minutos. [1 punto]\n",
    "3. Optimizar el modelo y reportar el número de *trials*, el `MAE` y los mejores hiperparámetros encontrados. ¿Cómo cambian sus resultados con respecto a la sección anterior? ¿A qué se puede deber esto? [3 puntos]\n",
    "4. Explique cada hiperparámetro y su rol en el modelo. ¿Hacen sentido los rangos de optimización indicados? [5 puntos]\n",
    "5. Guardar su modelo en un archivo .pkl [1 punto]"
   ]
  },
  {
   "cell_type": "code",
   "execution_count": 58,
   "metadata": {
    "cell_id": "de5914621cc64cb0b1bacb9ff565a97e",
    "deepnote_cell_type": "code",
    "id": "kMXXi1ckI5v_"
   },
   "outputs": [],
   "source": [
    "import optuna\n",
    "from optuna.samplers import TPESampler\n",
    "optuna.logging.set_verbosity(optuna.logging.WARNING)"
   ]
  },
  {
   "cell_type": "code",
   "execution_count": 85,
   "metadata": {},
   "outputs": [],
   "source": [
    "#1. Implemente una función `objective()` que permita minimizar el `MAE` en el conjunto de validación. Use el método `.set_user_attr()` \n",
    "def objective(trial):\n",
    "    # Define the hyperparameters to tune\n",
    "    params = {\n",
    "        \"objective\": 'reg:squarederror',\n",
    "        \"learning_rate\": trial.suggest_float(\"learning_rate\", 0.001, 0.1),\n",
    "        \"n_estimators\": trial.suggest_int(\"n_estimators\", 50, 1000),\n",
    "        \"max_depth\": trial.suggest_int(\"max_depth\", 3, 10),\n",
    "        \"max_leaves\":trial.suggest_int(\"max_leaves\", 0, 100),\n",
    "        \"min_child_weight\": trial.suggest_int(\"min_child_weight\", 1, 5),\n",
    "        \"reg_alpha\": trial.suggest_float(\"reg_alpha\",0,1),\n",
    "        \"reg_lambda\": trial.suggest_float(\"reg_lambda\",0,1),\n",
    "    }\n",
    "    params_OHE ={\"min_frequency\": trial.suggest_float(\"min_frequency\", 0, 1)}\n",
    "\n",
    "    c_transformer =  ColumnTransformer(transformers=[ (\"categorical\", OneHotEncoder(sparse_output=False,min_frequency=params_OHE[\"min_frequency\"]), ['city', 'shop', 'brand','capacity', 'container','day','month', 'year']), (\"numeric\", StandardScaler(), ['lat', 'long', 'pop','price'])]).set_output(transform='pandas')\n",
    "    model = Pipeline([('Dates', transformer), ('Processing', c_transformer), ('Regresor', XGBRegressor(seed =26,**params) )])\n",
    "    model.fit(X_train, y_train)\n",
    "\n",
    "    # Predict and evaluate the model\n",
    "    y_pred = model.predict(X_valid)\n",
    "    mae = mean_absolute_error(y_valid, y_pred)  \n",
    "\n",
    "    trial.set_user_attr(\"mae\", mae)\n",
    "    trial.set_user_attr(\"params\", params)\n",
    "    \n",
    "    return mae \n",
    "    "
   ]
  },
  {
   "cell_type": "code",
   "execution_count": 125,
   "metadata": {},
   "outputs": [],
   "source": [
    "#2. Fije el tiempo de entrenamiento a 5 minutos. \n",
    "train_time = 5*60\n",
    "\n",
    "#3. Optimizar el modelo y reportar el número de *trials*, el `MAE` y los mejores hiperparámetros encontrados.\n",
    "study_optuna = optuna.create_study(sampler=optuna.samplers.TPESampler(), direction=\"minimize\")\n",
    "study_optuna.optimize(objective, timeout=train_time)"
   ]
  },
  {
   "cell_type": "code",
   "execution_count": 243,
   "metadata": {},
   "outputs": [
    {
     "name": "stdout",
     "output_type": "stream",
     "text": [
      "MAE_Optuna = 1901.2106003919184\n",
      "Best_params_Optuna = {'learning_rate': 0.06491578211773985, 'n_estimators': 944, 'max_depth': 7, 'max_leaves': 50, 'min_child_weight': 5, 'reg_alpha': 0.7221977204399269, 'reg_lambda': 0.24108588469794123, 'min_frequency': 0.07299893733895958}\n",
      "Len_Optuna = 137\n"
     ]
    }
   ],
   "source": [
    "MAE_optuna = study_optuna.best_value\n",
    "print(f\"MAE_Optuna = {MAE_optuna}\")\n",
    "print(f\"Best_params_Optuna = {study_optuna.best_params}\")\n",
    "#print(f\"Best_trial_Optuna = {study_optuna.best_trial}\")\n",
    "print(f\"Len_Optuna = {len(study_optuna.trials)}\")"
   ]
  },
  {
   "cell_type": "code",
   "execution_count": 229,
   "metadata": {},
   "outputs": [
    {
     "data": {
      "application/vnd.plotly.v1+json": {
       "config": {
        "plotlyServerURL": "https://plot.ly"
       },
       "data": [
        {
         "mode": "markers",
         "name": "Objective Value",
         "type": "scatter",
         "x": [
          0,
          1,
          2,
          3,
          4,
          5,
          6,
          7,
          8,
          9,
          10,
          11,
          12,
          13,
          14,
          15,
          16,
          17,
          18,
          19,
          20,
          21,
          22,
          23,
          24,
          25,
          26,
          27,
          28,
          29,
          30,
          31,
          32,
          33,
          34,
          35,
          36,
          37,
          38,
          39,
          40,
          41,
          42,
          43,
          44,
          45,
          46,
          47,
          48,
          49,
          50,
          51,
          52,
          53,
          54,
          55,
          56,
          57,
          58,
          59,
          60,
          61,
          62,
          63,
          64,
          65,
          66,
          67,
          68,
          69,
          70,
          71,
          72,
          73,
          74,
          75,
          76,
          77,
          78,
          79,
          80,
          81,
          82,
          83,
          84,
          85,
          86,
          87,
          88,
          89,
          90,
          91,
          92,
          93,
          94,
          95,
          96,
          97,
          98,
          99,
          100,
          101,
          102,
          103,
          104,
          105,
          106,
          107,
          108,
          109,
          110,
          111,
          112,
          113,
          114,
          115,
          116,
          117,
          118,
          119,
          120,
          121,
          122,
          123,
          124,
          125,
          126,
          127,
          128,
          129,
          130,
          131,
          132,
          133,
          134,
          135,
          136
         ],
         "y": [
          8722.946208625439,
          9070.570381215077,
          8677.777499369438,
          8692.310058189543,
          8800.990656770618,
          8856.623131354123,
          8645.857073853347,
          8636.552442133821,
          9838.378802773179,
          8660.368527039787,
          6458.221716242911,
          3290.4642853389514,
          3697.746663668298,
          2174.8188820137884,
          6679.480670853166,
          13369.603787251655,
          2590.482012413985,
          8730.569324619722,
          8660.871552524188,
          5974.440003856128,
          6058.610882487518,
          2176.9381028737453,
          2535.4833074910753,
          6661.3336129093805,
          6428.661285400391,
          2062.943411921823,
          6016.503720719294,
          6611.488937681084,
          2017.0393247288584,
          9400.762812532337,
          6021.78171210889,
          2094.4948768868353,
          2067.6813921391567,
          6305.896746907013,
          9723.00933474105,
          2012.4022414857977,
          7129.837996842845,
          1937.0902588699037,
          6438.25865951437,
          9268.858505956385,
          2084.263290455799,
          6229.8219151781095,
          2119.40347158672,
          2149.5252226772686,
          7193.414630207794,
          6419.131875751824,
          9463.54234384701,
          2086.823294229065,
          8980.262890544158,
          8826.789016016271,
          7006.001378545698,
          2027.2105405693812,
          2031.7694281773852,
          2060.750239088046,
          2033.5933580209087,
          6212.312893696968,
          1996.884795940475,
          6466.050595921396,
          6022.931283811859,
          2441.5599961438716,
          9178.432023812604,
          1987.7458694154852,
          6040.326772727713,
          6177.557679637378,
          2043.1839469252832,
          6386.379353504307,
          6454.543797372982,
          2510.208073091823,
          2306.303466544246,
          6171.011895489219,
          7151.223300858049,
          2046.492327860649,
          2021.852792904077,
          6496.342284145734,
          2404.3260045335783,
          4382.83316989924,
          6416.07827496055,
          6262.979038870098,
          2018.810523835239,
          6467.689402801311,
          3345.4542847690204,
          2153.9708967398333,
          2107.1275170938857,
          6293.774258240958,
          9112.633700541313,
          6391.649780475541,
          2145.3101566137857,
          6289.58001688774,
          1973.4364595728994,
          1924.644496084049,
          9450.416640123784,
          1913.7106258569174,
          6597.257488932831,
          1907.0625521426168,
          1940.3284418977648,
          6620.181584642423,
          1977.9418363255381,
          1938.0464673579133,
          2002.243001167348,
          1925.70204566804,
          4320.254551161204,
          1957.4828774155371,
          1955.5837622636202,
          2197.8876706559136,
          1963.752342779905,
          6373.224698502497,
          1954.0587429021368,
          1930.9742726711247,
          2001.5794386705816,
          6441.721455555088,
          9256.004668178937,
          1918.4213968239083,
          2013.0044858818812,
          6152.033406036579,
          1901.2106003919184,
          6400.745096370874,
          1920.1801725475993,
          6626.9263940268,
          1960.860307706113,
          1957.750971712024,
          6421.496115577142,
          6435.458721842987,
          2046.942614826935,
          6584.060431069885,
          2083.050008609595,
          1987.0604209647274,
          6552.272300669689,
          6497.0352027337285,
          2064.9259435388426,
          9561.66438101459,
          1974.9115409598446,
          1955.9803847761343,
          1957.3518367539968,
          1964.8234462106466,
          6077.390090437125,
          1969.9739658785181,
          1907.8618337871224
         ]
        },
        {
         "mode": "lines",
         "name": "Best Value",
         "type": "scatter",
         "x": [
          0,
          1,
          2,
          3,
          4,
          5,
          6,
          7,
          8,
          9,
          10,
          11,
          12,
          13,
          14,
          15,
          16,
          17,
          18,
          19,
          20,
          21,
          22,
          23,
          24,
          25,
          26,
          27,
          28,
          29,
          30,
          31,
          32,
          33,
          34,
          35,
          36,
          37,
          38,
          39,
          40,
          41,
          42,
          43,
          44,
          45,
          46,
          47,
          48,
          49,
          50,
          51,
          52,
          53,
          54,
          55,
          56,
          57,
          58,
          59,
          60,
          61,
          62,
          63,
          64,
          65,
          66,
          67,
          68,
          69,
          70,
          71,
          72,
          73,
          74,
          75,
          76,
          77,
          78,
          79,
          80,
          81,
          82,
          83,
          84,
          85,
          86,
          87,
          88,
          89,
          90,
          91,
          92,
          93,
          94,
          95,
          96,
          97,
          98,
          99,
          100,
          101,
          102,
          103,
          104,
          105,
          106,
          107,
          108,
          109,
          110,
          111,
          112,
          113,
          114,
          115,
          116,
          117,
          118,
          119,
          120,
          121,
          122,
          123,
          124,
          125,
          126,
          127,
          128,
          129,
          130,
          131,
          132,
          133,
          134,
          135,
          136
         ],
         "y": [
          8722.946208625439,
          8722.946208625439,
          8677.777499369438,
          8677.777499369438,
          8677.777499369438,
          8677.777499369438,
          8645.857073853347,
          8636.552442133821,
          8636.552442133821,
          8636.552442133821,
          6458.221716242911,
          3290.4642853389514,
          3290.4642853389514,
          2174.8188820137884,
          2174.8188820137884,
          2174.8188820137884,
          2174.8188820137884,
          2174.8188820137884,
          2174.8188820137884,
          2174.8188820137884,
          2174.8188820137884,
          2174.8188820137884,
          2174.8188820137884,
          2174.8188820137884,
          2174.8188820137884,
          2062.943411921823,
          2062.943411921823,
          2062.943411921823,
          2017.0393247288584,
          2017.0393247288584,
          2017.0393247288584,
          2017.0393247288584,
          2017.0393247288584,
          2017.0393247288584,
          2017.0393247288584,
          2012.4022414857977,
          2012.4022414857977,
          1937.0902588699037,
          1937.0902588699037,
          1937.0902588699037,
          1937.0902588699037,
          1937.0902588699037,
          1937.0902588699037,
          1937.0902588699037,
          1937.0902588699037,
          1937.0902588699037,
          1937.0902588699037,
          1937.0902588699037,
          1937.0902588699037,
          1937.0902588699037,
          1937.0902588699037,
          1937.0902588699037,
          1937.0902588699037,
          1937.0902588699037,
          1937.0902588699037,
          1937.0902588699037,
          1937.0902588699037,
          1937.0902588699037,
          1937.0902588699037,
          1937.0902588699037,
          1937.0902588699037,
          1937.0902588699037,
          1937.0902588699037,
          1937.0902588699037,
          1937.0902588699037,
          1937.0902588699037,
          1937.0902588699037,
          1937.0902588699037,
          1937.0902588699037,
          1937.0902588699037,
          1937.0902588699037,
          1937.0902588699037,
          1937.0902588699037,
          1937.0902588699037,
          1937.0902588699037,
          1937.0902588699037,
          1937.0902588699037,
          1937.0902588699037,
          1937.0902588699037,
          1937.0902588699037,
          1937.0902588699037,
          1937.0902588699037,
          1937.0902588699037,
          1937.0902588699037,
          1937.0902588699037,
          1937.0902588699037,
          1937.0902588699037,
          1937.0902588699037,
          1937.0902588699037,
          1924.644496084049,
          1924.644496084049,
          1913.7106258569174,
          1913.7106258569174,
          1907.0625521426168,
          1907.0625521426168,
          1907.0625521426168,
          1907.0625521426168,
          1907.0625521426168,
          1907.0625521426168,
          1907.0625521426168,
          1907.0625521426168,
          1907.0625521426168,
          1907.0625521426168,
          1907.0625521426168,
          1907.0625521426168,
          1907.0625521426168,
          1907.0625521426168,
          1907.0625521426168,
          1907.0625521426168,
          1907.0625521426168,
          1907.0625521426168,
          1907.0625521426168,
          1907.0625521426168,
          1907.0625521426168,
          1901.2106003919184,
          1901.2106003919184,
          1901.2106003919184,
          1901.2106003919184,
          1901.2106003919184,
          1901.2106003919184,
          1901.2106003919184,
          1901.2106003919184,
          1901.2106003919184,
          1901.2106003919184,
          1901.2106003919184,
          1901.2106003919184,
          1901.2106003919184,
          1901.2106003919184,
          1901.2106003919184,
          1901.2106003919184,
          1901.2106003919184,
          1901.2106003919184,
          1901.2106003919184,
          1901.2106003919184,
          1901.2106003919184,
          1901.2106003919184,
          1901.2106003919184
         ]
        },
        {
         "marker": {
          "color": "#cccccc"
         },
         "mode": "markers",
         "name": "Infeasible Trial",
         "showlegend": false,
         "type": "scatter",
         "x": [],
         "y": []
        }
       ],
       "layout": {
        "autosize": true,
        "template": {
         "data": {
          "bar": [
           {
            "error_x": {
             "color": "#2a3f5f"
            },
            "error_y": {
             "color": "#2a3f5f"
            },
            "marker": {
             "line": {
              "color": "#E5ECF6",
              "width": 0.5
             },
             "pattern": {
              "fillmode": "overlay",
              "size": 10,
              "solidity": 0.2
             }
            },
            "type": "bar"
           }
          ],
          "barpolar": [
           {
            "marker": {
             "line": {
              "color": "#E5ECF6",
              "width": 0.5
             },
             "pattern": {
              "fillmode": "overlay",
              "size": 10,
              "solidity": 0.2
             }
            },
            "type": "barpolar"
           }
          ],
          "carpet": [
           {
            "aaxis": {
             "endlinecolor": "#2a3f5f",
             "gridcolor": "white",
             "linecolor": "white",
             "minorgridcolor": "white",
             "startlinecolor": "#2a3f5f"
            },
            "baxis": {
             "endlinecolor": "#2a3f5f",
             "gridcolor": "white",
             "linecolor": "white",
             "minorgridcolor": "white",
             "startlinecolor": "#2a3f5f"
            },
            "type": "carpet"
           }
          ],
          "choropleth": [
           {
            "colorbar": {
             "outlinewidth": 0,
             "ticks": ""
            },
            "type": "choropleth"
           }
          ],
          "contour": [
           {
            "colorbar": {
             "outlinewidth": 0,
             "ticks": ""
            },
            "colorscale": [
             [
              0,
              "#0d0887"
             ],
             [
              0.1111111111111111,
              "#46039f"
             ],
             [
              0.2222222222222222,
              "#7201a8"
             ],
             [
              0.3333333333333333,
              "#9c179e"
             ],
             [
              0.4444444444444444,
              "#bd3786"
             ],
             [
              0.5555555555555556,
              "#d8576b"
             ],
             [
              0.6666666666666666,
              "#ed7953"
             ],
             [
              0.7777777777777778,
              "#fb9f3a"
             ],
             [
              0.8888888888888888,
              "#fdca26"
             ],
             [
              1,
              "#f0f921"
             ]
            ],
            "type": "contour"
           }
          ],
          "contourcarpet": [
           {
            "colorbar": {
             "outlinewidth": 0,
             "ticks": ""
            },
            "type": "contourcarpet"
           }
          ],
          "heatmap": [
           {
            "colorbar": {
             "outlinewidth": 0,
             "ticks": ""
            },
            "colorscale": [
             [
              0,
              "#0d0887"
             ],
             [
              0.1111111111111111,
              "#46039f"
             ],
             [
              0.2222222222222222,
              "#7201a8"
             ],
             [
              0.3333333333333333,
              "#9c179e"
             ],
             [
              0.4444444444444444,
              "#bd3786"
             ],
             [
              0.5555555555555556,
              "#d8576b"
             ],
             [
              0.6666666666666666,
              "#ed7953"
             ],
             [
              0.7777777777777778,
              "#fb9f3a"
             ],
             [
              0.8888888888888888,
              "#fdca26"
             ],
             [
              1,
              "#f0f921"
             ]
            ],
            "type": "heatmap"
           }
          ],
          "heatmapgl": [
           {
            "colorbar": {
             "outlinewidth": 0,
             "ticks": ""
            },
            "colorscale": [
             [
              0,
              "#0d0887"
             ],
             [
              0.1111111111111111,
              "#46039f"
             ],
             [
              0.2222222222222222,
              "#7201a8"
             ],
             [
              0.3333333333333333,
              "#9c179e"
             ],
             [
              0.4444444444444444,
              "#bd3786"
             ],
             [
              0.5555555555555556,
              "#d8576b"
             ],
             [
              0.6666666666666666,
              "#ed7953"
             ],
             [
              0.7777777777777778,
              "#fb9f3a"
             ],
             [
              0.8888888888888888,
              "#fdca26"
             ],
             [
              1,
              "#f0f921"
             ]
            ],
            "type": "heatmapgl"
           }
          ],
          "histogram": [
           {
            "marker": {
             "pattern": {
              "fillmode": "overlay",
              "size": 10,
              "solidity": 0.2
             }
            },
            "type": "histogram"
           }
          ],
          "histogram2d": [
           {
            "colorbar": {
             "outlinewidth": 0,
             "ticks": ""
            },
            "colorscale": [
             [
              0,
              "#0d0887"
             ],
             [
              0.1111111111111111,
              "#46039f"
             ],
             [
              0.2222222222222222,
              "#7201a8"
             ],
             [
              0.3333333333333333,
              "#9c179e"
             ],
             [
              0.4444444444444444,
              "#bd3786"
             ],
             [
              0.5555555555555556,
              "#d8576b"
             ],
             [
              0.6666666666666666,
              "#ed7953"
             ],
             [
              0.7777777777777778,
              "#fb9f3a"
             ],
             [
              0.8888888888888888,
              "#fdca26"
             ],
             [
              1,
              "#f0f921"
             ]
            ],
            "type": "histogram2d"
           }
          ],
          "histogram2dcontour": [
           {
            "colorbar": {
             "outlinewidth": 0,
             "ticks": ""
            },
            "colorscale": [
             [
              0,
              "#0d0887"
             ],
             [
              0.1111111111111111,
              "#46039f"
             ],
             [
              0.2222222222222222,
              "#7201a8"
             ],
             [
              0.3333333333333333,
              "#9c179e"
             ],
             [
              0.4444444444444444,
              "#bd3786"
             ],
             [
              0.5555555555555556,
              "#d8576b"
             ],
             [
              0.6666666666666666,
              "#ed7953"
             ],
             [
              0.7777777777777778,
              "#fb9f3a"
             ],
             [
              0.8888888888888888,
              "#fdca26"
             ],
             [
              1,
              "#f0f921"
             ]
            ],
            "type": "histogram2dcontour"
           }
          ],
          "mesh3d": [
           {
            "colorbar": {
             "outlinewidth": 0,
             "ticks": ""
            },
            "type": "mesh3d"
           }
          ],
          "parcoords": [
           {
            "line": {
             "colorbar": {
              "outlinewidth": 0,
              "ticks": ""
             }
            },
            "type": "parcoords"
           }
          ],
          "pie": [
           {
            "automargin": true,
            "type": "pie"
           }
          ],
          "scatter": [
           {
            "fillpattern": {
             "fillmode": "overlay",
             "size": 10,
             "solidity": 0.2
            },
            "type": "scatter"
           }
          ],
          "scatter3d": [
           {
            "line": {
             "colorbar": {
              "outlinewidth": 0,
              "ticks": ""
             }
            },
            "marker": {
             "colorbar": {
              "outlinewidth": 0,
              "ticks": ""
             }
            },
            "type": "scatter3d"
           }
          ],
          "scattercarpet": [
           {
            "marker": {
             "colorbar": {
              "outlinewidth": 0,
              "ticks": ""
             }
            },
            "type": "scattercarpet"
           }
          ],
          "scattergeo": [
           {
            "marker": {
             "colorbar": {
              "outlinewidth": 0,
              "ticks": ""
             }
            },
            "type": "scattergeo"
           }
          ],
          "scattergl": [
           {
            "marker": {
             "colorbar": {
              "outlinewidth": 0,
              "ticks": ""
             }
            },
            "type": "scattergl"
           }
          ],
          "scattermapbox": [
           {
            "marker": {
             "colorbar": {
              "outlinewidth": 0,
              "ticks": ""
             }
            },
            "type": "scattermapbox"
           }
          ],
          "scatterpolar": [
           {
            "marker": {
             "colorbar": {
              "outlinewidth": 0,
              "ticks": ""
             }
            },
            "type": "scatterpolar"
           }
          ],
          "scatterpolargl": [
           {
            "marker": {
             "colorbar": {
              "outlinewidth": 0,
              "ticks": ""
             }
            },
            "type": "scatterpolargl"
           }
          ],
          "scatterternary": [
           {
            "marker": {
             "colorbar": {
              "outlinewidth": 0,
              "ticks": ""
             }
            },
            "type": "scatterternary"
           }
          ],
          "surface": [
           {
            "colorbar": {
             "outlinewidth": 0,
             "ticks": ""
            },
            "colorscale": [
             [
              0,
              "#0d0887"
             ],
             [
              0.1111111111111111,
              "#46039f"
             ],
             [
              0.2222222222222222,
              "#7201a8"
             ],
             [
              0.3333333333333333,
              "#9c179e"
             ],
             [
              0.4444444444444444,
              "#bd3786"
             ],
             [
              0.5555555555555556,
              "#d8576b"
             ],
             [
              0.6666666666666666,
              "#ed7953"
             ],
             [
              0.7777777777777778,
              "#fb9f3a"
             ],
             [
              0.8888888888888888,
              "#fdca26"
             ],
             [
              1,
              "#f0f921"
             ]
            ],
            "type": "surface"
           }
          ],
          "table": [
           {
            "cells": {
             "fill": {
              "color": "#EBF0F8"
             },
             "line": {
              "color": "white"
             }
            },
            "header": {
             "fill": {
              "color": "#C8D4E3"
             },
             "line": {
              "color": "white"
             }
            },
            "type": "table"
           }
          ]
         },
         "layout": {
          "annotationdefaults": {
           "arrowcolor": "#2a3f5f",
           "arrowhead": 0,
           "arrowwidth": 1
          },
          "autotypenumbers": "strict",
          "coloraxis": {
           "colorbar": {
            "outlinewidth": 0,
            "ticks": ""
           }
          },
          "colorscale": {
           "diverging": [
            [
             0,
             "#8e0152"
            ],
            [
             0.1,
             "#c51b7d"
            ],
            [
             0.2,
             "#de77ae"
            ],
            [
             0.3,
             "#f1b6da"
            ],
            [
             0.4,
             "#fde0ef"
            ],
            [
             0.5,
             "#f7f7f7"
            ],
            [
             0.6,
             "#e6f5d0"
            ],
            [
             0.7,
             "#b8e186"
            ],
            [
             0.8,
             "#7fbc41"
            ],
            [
             0.9,
             "#4d9221"
            ],
            [
             1,
             "#276419"
            ]
           ],
           "sequential": [
            [
             0,
             "#0d0887"
            ],
            [
             0.1111111111111111,
             "#46039f"
            ],
            [
             0.2222222222222222,
             "#7201a8"
            ],
            [
             0.3333333333333333,
             "#9c179e"
            ],
            [
             0.4444444444444444,
             "#bd3786"
            ],
            [
             0.5555555555555556,
             "#d8576b"
            ],
            [
             0.6666666666666666,
             "#ed7953"
            ],
            [
             0.7777777777777778,
             "#fb9f3a"
            ],
            [
             0.8888888888888888,
             "#fdca26"
            ],
            [
             1,
             "#f0f921"
            ]
           ],
           "sequentialminus": [
            [
             0,
             "#0d0887"
            ],
            [
             0.1111111111111111,
             "#46039f"
            ],
            [
             0.2222222222222222,
             "#7201a8"
            ],
            [
             0.3333333333333333,
             "#9c179e"
            ],
            [
             0.4444444444444444,
             "#bd3786"
            ],
            [
             0.5555555555555556,
             "#d8576b"
            ],
            [
             0.6666666666666666,
             "#ed7953"
            ],
            [
             0.7777777777777778,
             "#fb9f3a"
            ],
            [
             0.8888888888888888,
             "#fdca26"
            ],
            [
             1,
             "#f0f921"
            ]
           ]
          },
          "colorway": [
           "#636efa",
           "#EF553B",
           "#00cc96",
           "#ab63fa",
           "#FFA15A",
           "#19d3f3",
           "#FF6692",
           "#B6E880",
           "#FF97FF",
           "#FECB52"
          ],
          "font": {
           "color": "#2a3f5f"
          },
          "geo": {
           "bgcolor": "white",
           "lakecolor": "white",
           "landcolor": "#E5ECF6",
           "showlakes": true,
           "showland": true,
           "subunitcolor": "white"
          },
          "hoverlabel": {
           "align": "left"
          },
          "hovermode": "closest",
          "mapbox": {
           "style": "light"
          },
          "paper_bgcolor": "white",
          "plot_bgcolor": "#E5ECF6",
          "polar": {
           "angularaxis": {
            "gridcolor": "white",
            "linecolor": "white",
            "ticks": ""
           },
           "bgcolor": "#E5ECF6",
           "radialaxis": {
            "gridcolor": "white",
            "linecolor": "white",
            "ticks": ""
           }
          },
          "scene": {
           "xaxis": {
            "backgroundcolor": "#E5ECF6",
            "gridcolor": "white",
            "gridwidth": 2,
            "linecolor": "white",
            "showbackground": true,
            "ticks": "",
            "zerolinecolor": "white"
           },
           "yaxis": {
            "backgroundcolor": "#E5ECF6",
            "gridcolor": "white",
            "gridwidth": 2,
            "linecolor": "white",
            "showbackground": true,
            "ticks": "",
            "zerolinecolor": "white"
           },
           "zaxis": {
            "backgroundcolor": "#E5ECF6",
            "gridcolor": "white",
            "gridwidth": 2,
            "linecolor": "white",
            "showbackground": true,
            "ticks": "",
            "zerolinecolor": "white"
           }
          },
          "shapedefaults": {
           "line": {
            "color": "#2a3f5f"
           }
          },
          "ternary": {
           "aaxis": {
            "gridcolor": "white",
            "linecolor": "white",
            "ticks": ""
           },
           "baxis": {
            "gridcolor": "white",
            "linecolor": "white",
            "ticks": ""
           },
           "bgcolor": "#E5ECF6",
           "caxis": {
            "gridcolor": "white",
            "linecolor": "white",
            "ticks": ""
           }
          },
          "title": {
           "x": 0.05
          },
          "xaxis": {
           "automargin": true,
           "gridcolor": "white",
           "linecolor": "white",
           "ticks": "",
           "title": {
            "standoff": 15
           },
           "zerolinecolor": "white",
           "zerolinewidth": 2
          },
          "yaxis": {
           "automargin": true,
           "gridcolor": "white",
           "linecolor": "white",
           "ticks": "",
           "title": {
            "standoff": 15
           },
           "zerolinecolor": "white",
           "zerolinewidth": 2
          }
         }
        },
        "title": {
         "text": "Optimization History Plot"
        },
        "xaxis": {
         "autorange": true,
         "range": [
          -8.307202546756864,
          144.30720254675686
         ],
         "title": {
          "text": "Trial"
         },
         "type": "linear"
        },
        "yaxis": {
         "autorange": true,
         "range": [
          954.7898034180565,
          14316.024584225517
         ],
         "title": {
          "text": "Objective Value"
         },
         "type": "linear"
        }
       }
      },
      "image/png": "[encoded data removed]",
      "text/html": [
       "<div>                            <div id=\"f284ffb0-a671-4ec2-bca8-ef18caaea2fa\" class=\"plotly-graph-div\" style=\"height:525px; width:100%;\"></div>            <script type=\"text/javascript\">                require([\"plotly\"], function(Plotly) {                    window.PLOTLYENV=window.PLOTLYENV || {};                                    if (document.getElementById(\"f284ffb0-a671-4ec2-bca8-ef18caaea2fa\")) {                    Plotly.newPlot(                        \"f284ffb0-a671-4ec2-bca8-ef18caaea2fa\",                        [{\"mode\":\"markers\",\"name\":\"Objective Value\",\"x\":[0,1,2,3,4,5,6,7,8,9,10,11,12,13,14,15,16,17,18,19,20,21,22,23,24,25,26,27,28,29,30,31,32,33,34,35,36,37,38,39,40,41,42,43,44,45,46,47,48,49,50,51,52,53,54,55,56,57,58,59,60,61,62,63,64,65,66,67,68,69,70,71,72,73,74,75,76,77,78,79,80,81,82,83,84,85,86,87,88,89,90,91,92,93,94,95,96,97,98,99,100,101,102,103,104,105,106,107,108,109,110,111,112,113,114,115,116,117,118,119,120,121,122,123,124,125,126,127,128,129,130,131,132,133,134,135,136],\"y\":[8722.946208625439,9070.570381215077,8677.777499369438,8692.310058189543,8800.990656770618,8856.623131354123,8645.857073853347,8636.552442133821,9838.378802773179,8660.368527039787,6458.221716242911,3290.4642853389514,3697.746663668298,2174.8188820137884,6679.480670853166,13369.603787251655,2590.482012413985,8730.569324619722,8660.871552524188,5974.440003856128,6058.610882487518,2176.9381028737453,2535.4833074910753,6661.3336129093805,6428.661285400391,2062.943411921823,6016.503720719294,6611.488937681084,2017.0393247288584,9400.762812532337,6021.78171210889,2094.4948768868353,2067.6813921391567,6305.896746907013,9723.00933474105,2012.4022414857977,7129.837996842845,1937.0902588699037,6438.25865951437,9268.858505956385,2084.263290455799,6229.8219151781095,2119.40347158672,2149.5252226772686,7193.414630207794,6419.131875751824,9463.54234384701,2086.823294229065,8980.262890544158,8826.789016016271,7006.001378545698,2027.2105405693812,2031.7694281773852,2060.750239088046,2033.5933580209087,6212.312893696968,1996.884795940475,6466.050595921396,6022.931283811859,2441.5599961438716,9178.432023812604,1987.7458694154852,6040.326772727713,6177.557679637378,2043.1839469252832,6386.379353504307,6454.543797372982,2510.208073091823,2306.303466544246,6171.011895489219,7151.223300858049,2046.492327860649,2021.852792904077,6496.342284145734,2404.3260045335783,4382.83316989924,6416.07827496055,6262.979038870098,2018.810523835239,6467.689402801311,3345.4542847690204,2153.9708967398333,2107.1275170938857,6293.774258240958,9112.633700541313,6391.649780475541,2145.3101566137857,6289.58001688774,1973.4364595728994,1924.644496084049,9450.416640123784,1913.7106258569174,6597.257488932831,1907.0625521426168,1940.3284418977648,6620.181584642423,1977.9418363255381,1938.0464673579133,2002.243001167348,1925.70204566804,4320.254551161204,1957.4828774155371,1955.5837622636202,2197.8876706559136,1963.752342779905,6373.224698502497,1954.0587429021368,1930.9742726711247,2001.5794386705816,6441.721455555088,9256.004668178937,1918.4213968239083,2013.0044858818812,6152.033406036579,1901.2106003919184,6400.745096370874,1920.1801725475993,6626.9263940268,1960.860307706113,1957.750971712024,6421.496115577142,6435.458721842987,2046.942614826935,6584.060431069885,2083.050008609595,1987.0604209647274,6552.272300669689,6497.0352027337285,2064.9259435388426,9561.66438101459,1974.9115409598446,1955.9803847761343,1957.3518367539968,1964.8234462106466,6077.390090437125,1969.9739658785181,1907.8618337871224],\"type\":\"scatter\"},{\"mode\":\"lines\",\"name\":\"Best Value\",\"x\":[0,1,2,3,4,5,6,7,8,9,10,11,12,13,14,15,16,17,18,19,20,21,22,23,24,25,26,27,28,29,30,31,32,33,34,35,36,37,38,39,40,41,42,43,44,45,46,47,48,49,50,51,52,53,54,55,56,57,58,59,60,61,62,63,64,65,66,67,68,69,70,71,72,73,74,75,76,77,78,79,80,81,82,83,84,85,86,87,88,89,90,91,92,93,94,95,96,97,98,99,100,101,102,103,104,105,106,107,108,109,110,111,112,113,114,115,116,117,118,119,120,121,122,123,124,125,126,127,128,129,130,131,132,133,134,135,136],\"y\":[8722.946208625439,8722.946208625439,8677.777499369438,8677.777499369438,8677.777499369438,8677.777499369438,8645.857073853347,8636.552442133821,8636.552442133821,8636.552442133821,6458.221716242911,3290.4642853389514,3290.4642853389514,2174.8188820137884,2174.8188820137884,2174.8188820137884,2174.8188820137884,2174.8188820137884,2174.8188820137884,2174.8188820137884,2174.8188820137884,2174.8188820137884,2174.8188820137884,2174.8188820137884,2174.8188820137884,2062.943411921823,2062.943411921823,2062.943411921823,2017.0393247288584,2017.0393247288584,2017.0393247288584,2017.0393247288584,2017.0393247288584,2017.0393247288584,2017.0393247288584,2012.4022414857977,2012.4022414857977,1937.0902588699037,1937.0902588699037,1937.0902588699037,1937.0902588699037,1937.0902588699037,1937.0902588699037,1937.0902588699037,1937.0902588699037,1937.0902588699037,1937.0902588699037,1937.0902588699037,1937.0902588699037,1937.0902588699037,1937.0902588699037,1937.0902588699037,1937.0902588699037,1937.0902588699037,1937.0902588699037,1937.0902588699037,1937.0902588699037,1937.0902588699037,1937.0902588699037,1937.0902588699037,1937.0902588699037,1937.0902588699037,1937.0902588699037,1937.0902588699037,1937.0902588699037,1937.0902588699037,1937.0902588699037,1937.0902588699037,1937.0902588699037,1937.0902588699037,1937.0902588699037,1937.0902588699037,1937.0902588699037,1937.0902588699037,1937.0902588699037,1937.0902588699037,1937.0902588699037,1937.0902588699037,1937.0902588699037,1937.0902588699037,1937.0902588699037,1937.0902588699037,1937.0902588699037,1937.0902588699037,1937.0902588699037,1937.0902588699037,1937.0902588699037,1937.0902588699037,1937.0902588699037,1924.644496084049,1924.644496084049,1913.7106258569174,1913.7106258569174,1907.0625521426168,1907.0625521426168,1907.0625521426168,1907.0625521426168,1907.0625521426168,1907.0625521426168,1907.0625521426168,1907.0625521426168,1907.0625521426168,1907.0625521426168,1907.0625521426168,1907.0625521426168,1907.0625521426168,1907.0625521426168,1907.0625521426168,1907.0625521426168,1907.0625521426168,1907.0625521426168,1907.0625521426168,1907.0625521426168,1907.0625521426168,1901.2106003919184,1901.2106003919184,1901.2106003919184,1901.2106003919184,1901.2106003919184,1901.2106003919184,1901.2106003919184,1901.2106003919184,1901.2106003919184,1901.2106003919184,1901.2106003919184,1901.2106003919184,1901.2106003919184,1901.2106003919184,1901.2106003919184,1901.2106003919184,1901.2106003919184,1901.2106003919184,1901.2106003919184,1901.2106003919184,1901.2106003919184,1901.2106003919184,1901.2106003919184],\"type\":\"scatter\"},{\"marker\":{\"color\":\"#cccccc\"},\"mode\":\"markers\",\"name\":\"Infeasible Trial\",\"showlegend\":false,\"x\":[],\"y\":[],\"type\":\"scatter\"}],                        {\"title\":{\"text\":\"Optimization History Plot\"},\"xaxis\":{\"title\":{\"text\":\"Trial\"}},\"yaxis\":{\"title\":{\"text\":\"Objective Value\"}},\"template\":{\"data\":{\"histogram2dcontour\":[{\"type\":\"histogram2dcontour\",\"colorbar\":{\"outlinewidth\":0,\"ticks\":\"\"},\"colorscale\":[[0.0,\"#0d0887\"],[0.1111111111111111,\"#46039f\"],[0.2222222222222222,\"#7201a8\"],[0.3333333333333333,\"#9c179e\"],[0.4444444444444444,\"#bd3786\"],[0.5555555555555556,\"#d8576b\"],[0.6666666666666666,\"#ed7953\"],[0.7777777777777778,\"#fb9f3a\"],[0.8888888888888888,\"#fdca26\"],[1.0,\"#f0f921\"]]}],\"choropleth\":[{\"type\":\"choropleth\",\"colorbar\":{\"outlinewidth\":0,\"ticks\":\"\"}}],\"histogram2d\":[{\"type\":\"histogram2d\",\"colorbar\":{\"outlinewidth\":0,\"ticks\":\"\"},\"colorscale\":[[0.0,\"#0d0887\"],[0.1111111111111111,\"#46039f\"],[0.2222222222222222,\"#7201a8\"],[0.3333333333333333,\"#9c179e\"],[0.4444444444444444,\"#bd3786\"],[0.5555555555555556,\"#d8576b\"],[0.6666666666666666,\"#ed7953\"],[0.7777777777777778,\"#fb9f3a\"],[0.8888888888888888,\"#fdca26\"],[1.0,\"#f0f921\"]]}],\"heatmap\":[{\"type\":\"heatmap\",\"colorbar\":{\"outlinewidth\":0,\"ticks\":\"\"},\"colorscale\":[[0.0,\"#0d0887\"],[0.1111111111111111,\"#46039f\"],[0.2222222222222222,\"#7201a8\"],[0.3333333333333333,\"#9c179e\"],[0.4444444444444444,\"#bd3786\"],[0.5555555555555556,\"#d8576b\"],[0.6666666666666666,\"#ed7953\"],[0.7777777777777778,\"#fb9f3a\"],[0.8888888888888888,\"#fdca26\"],[1.0,\"#f0f921\"]]}],\"heatmapgl\":[{\"type\":\"heatmapgl\",\"colorbar\":{\"outlinewidth\":0,\"ticks\":\"\"},\"colorscale\":[[0.0,\"#0d0887\"],[0.1111111111111111,\"#46039f\"],[0.2222222222222222,\"#7201a8\"],[0.3333333333333333,\"#9c179e\"],[0.4444444444444444,\"#bd3786\"],[0.5555555555555556,\"#d8576b\"],[0.6666666666666666,\"#ed7953\"],[0.7777777777777778,\"#fb9f3a\"],[0.8888888888888888,\"#fdca26\"],[1.0,\"#f0f921\"]]}],\"contourcarpet\":[{\"type\":\"contourcarpet\",\"colorbar\":{\"outlinewidth\":0,\"ticks\":\"\"}}],\"contour\":[{\"type\":\"contour\",\"colorbar\":{\"outlinewidth\":0,\"ticks\":\"\"},\"colorscale\":[[0.0,\"#0d0887\"],[0.1111111111111111,\"#46039f\"],[0.2222222222222222,\"#7201a8\"],[0.3333333333333333,\"#9c179e\"],[0.4444444444444444,\"#bd3786\"],[0.5555555555555556,\"#d8576b\"],[0.6666666666666666,\"#ed7953\"],[0.7777777777777778,\"#fb9f3a\"],[0.8888888888888888,\"#fdca26\"],[1.0,\"#f0f921\"]]}],\"surface\":[{\"type\":\"surface\",\"colorbar\":{\"outlinewidth\":0,\"ticks\":\"\"},\"colorscale\":[[0.0,\"#0d0887\"],[0.1111111111111111,\"#46039f\"],[0.2222222222222222,\"#7201a8\"],[0.3333333333333333,\"#9c179e\"],[0.4444444444444444,\"#bd3786\"],[0.5555555555555556,\"#d8576b\"],[0.6666666666666666,\"#ed7953\"],[0.7777777777777778,\"#fb9f3a\"],[0.8888888888888888,\"#fdca26\"],[1.0,\"#f0f921\"]]}],\"mesh3d\":[{\"type\":\"mesh3d\",\"colorbar\":{\"outlinewidth\":0,\"ticks\":\"\"}}],\"scatter\":[{\"fillpattern\":{\"fillmode\":\"overlay\",\"size\":10,\"solidity\":0.2},\"type\":\"scatter\"}],\"parcoords\":[{\"type\":\"parcoords\",\"line\":{\"colorbar\":{\"outlinewidth\":0,\"ticks\":\"\"}}}],\"scatterpolargl\":[{\"type\":\"scatterpolargl\",\"marker\":{\"colorbar\":{\"outlinewidth\":0,\"ticks\":\"\"}}}],\"bar\":[{\"error_x\":{\"color\":\"#2a3f5f\"},\"error_y\":{\"color\":\"#2a3f5f\"},\"marker\":{\"line\":{\"color\":\"#E5ECF6\",\"width\":0.5},\"pattern\":{\"fillmode\":\"overlay\",\"size\":10,\"solidity\":0.2}},\"type\":\"bar\"}],\"scattergeo\":[{\"type\":\"scattergeo\",\"marker\":{\"colorbar\":{\"outlinewidth\":0,\"ticks\":\"\"}}}],\"scatterpolar\":[{\"type\":\"scatterpolar\",\"marker\":{\"colorbar\":{\"outlinewidth\":0,\"ticks\":\"\"}}}],\"histogram\":[{\"marker\":{\"pattern\":{\"fillmode\":\"overlay\",\"size\":10,\"solidity\":0.2}},\"type\":\"histogram\"}],\"scattergl\":[{\"type\":\"scattergl\",\"marker\":{\"colorbar\":{\"outlinewidth\":0,\"ticks\":\"\"}}}],\"scatter3d\":[{\"type\":\"scatter3d\",\"line\":{\"colorbar\":{\"outlinewidth\":0,\"ticks\":\"\"}},\"marker\":{\"colorbar\":{\"outlinewidth\":0,\"ticks\":\"\"}}}],\"scattermapbox\":[{\"type\":\"scattermapbox\",\"marker\":{\"colorbar\":{\"outlinewidth\":0,\"ticks\":\"\"}}}],\"scatterternary\":[{\"type\":\"scatterternary\",\"marker\":{\"colorbar\":{\"outlinewidth\":0,\"ticks\":\"\"}}}],\"scattercarpet\":[{\"type\":\"scattercarpet\",\"marker\":{\"colorbar\":{\"outlinewidth\":0,\"ticks\":\"\"}}}],\"carpet\":[{\"aaxis\":{\"endlinecolor\":\"#2a3f5f\",\"gridcolor\":\"white\",\"linecolor\":\"white\",\"minorgridcolor\":\"white\",\"startlinecolor\":\"#2a3f5f\"},\"baxis\":{\"endlinecolor\":\"#2a3f5f\",\"gridcolor\":\"white\",\"linecolor\":\"white\",\"minorgridcolor\":\"white\",\"startlinecolor\":\"#2a3f5f\"},\"type\":\"carpet\"}],\"table\":[{\"cells\":{\"fill\":{\"color\":\"#EBF0F8\"},\"line\":{\"color\":\"white\"}},\"header\":{\"fill\":{\"color\":\"#C8D4E3\"},\"line\":{\"color\":\"white\"}},\"type\":\"table\"}],\"barpolar\":[{\"marker\":{\"line\":{\"color\":\"#E5ECF6\",\"width\":0.5},\"pattern\":{\"fillmode\":\"overlay\",\"size\":10,\"solidity\":0.2}},\"type\":\"barpolar\"}],\"pie\":[{\"automargin\":true,\"type\":\"pie\"}]},\"layout\":{\"autotypenumbers\":\"strict\",\"colorway\":[\"#636efa\",\"#EF553B\",\"#00cc96\",\"#ab63fa\",\"#FFA15A\",\"#19d3f3\",\"#FF6692\",\"#B6E880\",\"#FF97FF\",\"#FECB52\"],\"font\":{\"color\":\"#2a3f5f\"},\"hovermode\":\"closest\",\"hoverlabel\":{\"align\":\"left\"},\"paper_bgcolor\":\"white\",\"plot_bgcolor\":\"#E5ECF6\",\"polar\":{\"bgcolor\":\"#E5ECF6\",\"angularaxis\":{\"gridcolor\":\"white\",\"linecolor\":\"white\",\"ticks\":\"\"},\"radialaxis\":{\"gridcolor\":\"white\",\"linecolor\":\"white\",\"ticks\":\"\"}},\"ternary\":{\"bgcolor\":\"#E5ECF6\",\"aaxis\":{\"gridcolor\":\"white\",\"linecolor\":\"white\",\"ticks\":\"\"},\"baxis\":{\"gridcolor\":\"white\",\"linecolor\":\"white\",\"ticks\":\"\"},\"caxis\":{\"gridcolor\":\"white\",\"linecolor\":\"white\",\"ticks\":\"\"}},\"coloraxis\":{\"colorbar\":{\"outlinewidth\":0,\"ticks\":\"\"}},\"colorscale\":{\"sequential\":[[0.0,\"#0d0887\"],[0.1111111111111111,\"#46039f\"],[0.2222222222222222,\"#7201a8\"],[0.3333333333333333,\"#9c179e\"],[0.4444444444444444,\"#bd3786\"],[0.5555555555555556,\"#d8576b\"],[0.6666666666666666,\"#ed7953\"],[0.7777777777777778,\"#fb9f3a\"],[0.8888888888888888,\"#fdca26\"],[1.0,\"#f0f921\"]],\"sequentialminus\":[[0.0,\"#0d0887\"],[0.1111111111111111,\"#46039f\"],[0.2222222222222222,\"#7201a8\"],[0.3333333333333333,\"#9c179e\"],[0.4444444444444444,\"#bd3786\"],[0.5555555555555556,\"#d8576b\"],[0.6666666666666666,\"#ed7953\"],[0.7777777777777778,\"#fb9f3a\"],[0.8888888888888888,\"#fdca26\"],[1.0,\"#f0f921\"]],\"diverging\":[[0,\"#8e0152\"],[0.1,\"#c51b7d\"],[0.2,\"#de77ae\"],[0.3,\"#f1b6da\"],[0.4,\"#fde0ef\"],[0.5,\"#f7f7f7\"],[0.6,\"#e6f5d0\"],[0.7,\"#b8e186\"],[0.8,\"#7fbc41\"],[0.9,\"#4d9221\"],[1,\"#276419\"]]},\"xaxis\":{\"gridcolor\":\"white\",\"linecolor\":\"white\",\"ticks\":\"\",\"title\":{\"standoff\":15},\"zerolinecolor\":\"white\",\"automargin\":true,\"zerolinewidth\":2},\"yaxis\":{\"gridcolor\":\"white\",\"linecolor\":\"white\",\"ticks\":\"\",\"title\":{\"standoff\":15},\"zerolinecolor\":\"white\",\"automargin\":true,\"zerolinewidth\":2},\"scene\":{\"xaxis\":{\"backgroundcolor\":\"#E5ECF6\",\"gridcolor\":\"white\",\"linecolor\":\"white\",\"showbackground\":true,\"ticks\":\"\",\"zerolinecolor\":\"white\",\"gridwidth\":2},\"yaxis\":{\"backgroundcolor\":\"#E5ECF6\",\"gridcolor\":\"white\",\"linecolor\":\"white\",\"showbackground\":true,\"ticks\":\"\",\"zerolinecolor\":\"white\",\"gridwidth\":2},\"zaxis\":{\"backgroundcolor\":\"#E5ECF6\",\"gridcolor\":\"white\",\"linecolor\":\"white\",\"showbackground\":true,\"ticks\":\"\",\"zerolinecolor\":\"white\",\"gridwidth\":2}},\"shapedefaults\":{\"line\":{\"color\":\"#2a3f5f\"}},\"annotationdefaults\":{\"arrowcolor\":\"#2a3f5f\",\"arrowhead\":0,\"arrowwidth\":1},\"geo\":{\"bgcolor\":\"white\",\"landcolor\":\"#E5ECF6\",\"subunitcolor\":\"white\",\"showland\":true,\"showlakes\":true,\"lakecolor\":\"white\"},\"title\":{\"x\":0.05},\"mapbox\":{\"style\":\"light\"}}}},                        {\"responsive\": true}                    ).then(function(){\n",
       "                            \n",
       "var gd = document.getElementById('f284ffb0-a671-4ec2-bca8-ef18caaea2fa');\n",
       "var x = new MutationObserver(function (mutations, observer) {{\n",
       "        var display = window.getComputedStyle(gd).display;\n",
       "        if (!display || display === 'none') {{\n",
       "            console.log([gd, 'removed!']);\n",
       "            Plotly.purge(gd);\n",
       "            observer.disconnect();\n",
       "        }}\n",
       "}});\n",
       "\n",
       "// Listen for the removal of the full notebook cells\n",
       "var notebookContainer = gd.closest('#notebook-container');\n",
       "if (notebookContainer) {{\n",
       "    x.observe(notebookContainer, {childList: true});\n",
       "}}\n",
       "\n",
       "// Listen for the clearing of the current output cell\n",
       "var outputEl = gd.closest('.output');\n",
       "if (outputEl) {{\n",
       "    x.observe(outputEl, {childList: true});\n",
       "}}\n",
       "\n",
       "                        })                };                });            </script>        </div>"
      ]
     },
     "metadata": {},
     "output_type": "display_data"
    }
   ],
   "source": [
    "from optuna.visualization import plot_optimization_history\n",
    "plot_optimization_history(study_optuna)"
   ]
  },
  {
   "cell_type": "markdown",
   "metadata": {},
   "source": [
    "¿Cómo cambian sus resultados con respecto a la sección anterior? ¿A qué se puede deber esto?\n",
    "\n",
    "RESPUESTA: Los resultados son mejores que los 3 obtenidos en las secciones anteriores, esto se debe principalmente al uso de hiperparámetros ajustados exclusivamente para este problema."
   ]
  },
  {
   "cell_type": "markdown",
   "metadata": {},
   "source": [
    "4. Explique cada hiperparámetro y su rol en el modelo. ¿Hacen sentido los rangos de optimización indicados?\n",
    "\n",
    "* learning_rate: Determina la tasa de aprendizaje con la que el modelo \"aprenderá\" en cada iteración.\n",
    "* n_estimators: Es el número estimadores de tipo árboles de decisión qeu utilizará el modelo.\n",
    "* max_depth: Máximo de profundidad de cad árbol de decisión. \n",
    "* max_leaves: Número máximo de hojas permitidas en cada árbol de decisión.\n",
    "* min_child_weight: Fija el peso mínimo que tienen qeu tener las hojas de los árboles de decisión para que se subdividan (y dejen de ser hojas).\n",
    "* reg_alpha: Coeficiente de regularización L1, utilizado para penalizar el modelo.\n",
    "* reg_lambda: Coeficiente de regularización L2, utilizado para penalizar el modelo.\n",
    "* min_frequency: Fija el mínimo de frecuencia que deben tener las variables categóricas para ser codificadas. \n",
    "\n",
    "El ajuste de estos hiperparámetros permite mejorar los resultados del modelo y a la vez evitar el sobreajuste del mismo. \n",
    "\n",
    "Los rangos de optimización parecen tener sentido, pensando en que cada uno de los hiperparámetros explicados arriba, si toman valores muy grandes o muy pequeños, pueden generar sobreajuste en el modelo, por lo que es coeherente ajustar sus rangos a valores que sigan siendo realistas. "
   ]
  },
  {
   "cell_type": "code",
   "execution_count": 133,
   "metadata": {},
   "outputs": [],
   "source": [
    "# 5. Guardar su modelo en un archivo .pkl \n",
    "params = study_optuna.best_params\n",
    "params_OHE = params['min_frequency']\n",
    "params.pop('min_frequency')\n",
    "\n",
    "c_transformer =  ColumnTransformer(transformers=[ (\"categorical\", OneHotEncoder(sparse_output=False,min_frequency=params_OHE), ['city', 'shop', 'brand','capacity', 'container','day','month', 'year']), (\"numeric\", StandardScaler(), ['lat', 'long', 'pop','price'])]).set_output(transform='pandas')\n",
    "optuna_model = Pipeline([('Dates', transformer), ('Processing', c_transformer), ('Regresor', XGBRegressor(seed =26,**params) )])\n",
    "\n",
    "with open('optuna_model.pkl', 'wb') as file:\n",
    "    pickle.dump(optuna_model, file)"
   ]
  },
  {
   "cell_type": "markdown",
   "metadata": {
    "cell_id": "5195ccfc37e044ad9453f6eb2754f631",
    "deepnote_cell_type": "markdown",
    "id": "ZglyD_QWI5wA"
   },
   "source": [
    "## 4. Optimización de Hiperparámetros con Optuna y Prunners (17 puntos)\n",
    "\n",
    "<p align=\"center\">\n",
    "  <img src=\"https://i.pinimg.com/originals/90/16/f9/9016f919c2259f3d0e8fe465049638a7.gif\">\n",
    "</p>\n",
    "\n",
    "Después de optimizar el rendimiento de su modelo varias veces, Fiu le pregunta si no es posible optimizar el entrenamiento del modelo en sí mismo. Después de leer un par de post de personas de dudosa reputación en la *deepweb*, usted llega a la conclusión que puede cumplir este objetivo mediante la implementación de **Prunning**.\n",
    "\n",
    "Vuelva a optimizar los mismos hiperparámetros que la sección pasada, pero esta vez utilizando **Prunning** en la optimización. En particular, usted debe:\n",
    "\n",
    "- Responder: ¿Qué es prunning? ¿De qué forma debería impactar en el entrenamiento? [2 puntos]\n",
    "- Redefinir la función `objective()` utilizando `optuna.integration.XGBoostPruningCallback` como método de **Prunning** [10 puntos]\n",
    "- Fijar nuevamente el tiempo de entrenamiento a 5 minutos [1 punto]\n",
    "- Reportar el número de *trials*, el `MAE` y los mejores hiperparámetros encontrados. ¿Cómo cambian sus resultados con respecto a la sección anterior? ¿A qué se puede deber esto? [3 puntos]\n",
    "- Guardar su modelo en un archivo .pkl [1 punto]\n",
    "\n",
    "Nota: Si quieren silenciar los prints obtenidos en el prunning, pueden hacerlo mediante el siguiente comando:\n",
    "\n",
    "```\n",
    "optuna.logging.set_verbosity(optuna.logging.WARNING)\n",
    "```\n",
    "\n",
    "De implementar la opción anterior, pueden especificar `show_progress_bar = True` en el método `optimize` para *más sabor*.\n",
    "\n",
    "Hint: Si quieren especificar parámetros del método .fit() del modelo a través del pipeline, pueden hacerlo por medio de la siguiente sintaxis: `pipeline.fit(stepmodelo__parametro = valor)`\n",
    "\n",
    "Hint2: Este <a href = https://stackoverflow.com/questions/40329576/sklearn-pass-fit-parameters-to-xgboost-in-pipeline>enlace</a> les puede ser de ayuda en su implementación"
   ]
  },
  {
   "cell_type": "code",
   "execution_count": 135,
   "metadata": {},
   "outputs": [],
   "source": [
    "#!pip install optuna-integration[xgboost]\n",
    "optuna.logging.set_verbosity(optuna.logging.WARNING)"
   ]
  },
  {
   "cell_type": "markdown",
   "metadata": {},
   "source": [
    "1. ¿Qué es prunning? ¿De qué forma debería impactar en el entrenamiento?\n",
    "\n",
    "RESPUESTA: Pruning se refiere a la técnica de \"podar\", en el sentido de eliminar conexiones (o neuronas en el caso de redes neuronales) con el objetivo de optimizar el modelo, reduciendo la su complejidad y aumentando la eficiencia del mismo. En este caso el pruning elimina los intentos que tienden a disminuir el desempeño final del modelo. \n",
    "\n",
    "Esto debería impactar de manera positiva el entrenamiento del modelo, pues al bajar la complejidad aumenta la posibilidad de obtener un mejor aprendizaje, y luego, mejores predicciones. \n"
   ]
  },
  {
   "cell_type": "code",
   "execution_count": 290,
   "metadata": {},
   "outputs": [],
   "source": [
    "#2. Redefinir la función objective() utilizando optuna.integration.XGBoostPruningCallback como método de Prunning \n",
    "\n",
    "def objective(trial):\n",
    "    # Define the hyperparameters to tune\n",
    "    params = {\n",
    "        \"objective\": 'reg:squarederror',\n",
    "        \"learning_rate\": trial.suggest_float(\"learning_rate\", 0.001, 0.1),\n",
    "        \"n_estimators\": trial.suggest_int(\"n_estimators\", 50, 1000),\n",
    "        \"max_depth\": trial.suggest_int(\"max_depth\", 3, 10),\n",
    "        \"max_leaves\":trial.suggest_int(\"max_leaves\", 0, 100),\n",
    "        \"min_child_weight\": trial.suggest_int(\"min_child_weight\", 1, 5),\n",
    "        \"reg_alpha\": trial.suggest_float(\"reg_alpha\",0,1),\n",
    "        \"reg_lambda\": trial.suggest_float(\"reg_lambda\",0,1),\n",
    "    }\n",
    "    params_OHE ={\"min_frequency\": trial.suggest_float(\"min_frequency\", 0, 1)}\n",
    "\n",
    "    pruning_callback = optuna.integration.XGBoostPruningCallback(trial, observation_key='mae')\n",
    "\n",
    "    c_transformer =  ColumnTransformer(transformers=[ (\"categorical\", OneHotEncoder(sparse_output=False, min_frequency=params_OHE[\"min_frequency\"]), ['city', 'shop', 'brand','capacity', 'container','day','month', 'year']), (\"numeric\", StandardScaler(), ['lat', 'long', 'pop','price'])]).set_output(transform='pandas')\n",
    "    model = Pipeline([('Dates', transformer), ('Processing', c_transformer), ('Regresor', XGBRegressor(seed=26, **params) )])\n",
    "    \n",
    "    model.fit(X_train, y_train)\n",
    "    #    model.fit(X_train, y_train, Regresor__eval_set=[(X_train, y_train), (X_valid, y_valid)], Regresor__callbacks=[pruning_callback])\n",
    "\n",
    "    # Predict and evaluate the model\n",
    "    y_pred = model.predict(X_valid)\n",
    "    mae = mean_absolute_error(y_valid, y_pred)  \n",
    "\n",
    "    trial.set_user_attr(\"mae\", mae)\n",
    "    trial.set_user_attr(\"params\", params)\n",
    "    \n",
    "    return mae \n",
    "    "
   ]
  },
  {
   "cell_type": "code",
   "execution_count": 292,
   "metadata": {},
   "outputs": [
    {
     "data": {
      "application/vnd.jupyter.widget-view+json": {
       "model_id": "54e478aea4a94fa6bf40b6e7539bf41b",
       "version_major": 2,
       "version_minor": 0
      },
      "text/plain": [
       "   0%|          | 00:00/05:00"
      ]
     },
     "metadata": {},
     "output_type": "display_data"
    }
   ],
   "source": [
    "#3. Fijar nuevamente el tiempo de entrenamiento a 5 minutos \n",
    "train_time = 5*60\n",
    "\n",
    "#4. Reportar el número de trials, el MAE y los mejores hiperparámetros encontrados. \n",
    "study_optuna_pruning = optuna.create_study(sampler=optuna.samplers.TPESampler(), direction=\"minimize\")\n",
    "study_optuna_pruning.optimize(objective, timeout=train_time, show_progress_bar = True)"
   ]
  },
  {
   "cell_type": "code",
   "execution_count": 293,
   "metadata": {
    "scrolled": true
   },
   "outputs": [
    {
     "name": "stdout",
     "output_type": "stream",
     "text": [
      "MAE_Optuna_pruning = 1823.9205247487453\n",
      "Best_params_Optuna_pruning = {'learning_rate': 0.08222314033086457, 'n_estimators': 913, 'max_depth': 7, 'max_leaves': 68, 'min_child_weight': 3, 'reg_alpha': 0.5773162471942738, 'reg_lambda': 0.05097961357729251, 'min_frequency': 0.052556998273338824}\n",
      "Len_Optuna_pruning = 120\n"
     ]
    }
   ],
   "source": [
    "MAE_optuna_pruning = study_optuna_pruning.best_value\n",
    "print(f\"MAE_Optuna_pruning = {MAE_optuna_pruning}\")\n",
    "print(f\"Best_params_Optuna_pruning = {study_optuna_pruning.best_params}\")\n",
    "#print(f\"Best_trial_Optuna_pruning = {study_optuna_pruning.best_trial}\")\n",
    "print(f\"Len_Optuna_pruning = {len(study_optuna_pruning.trials)}\")"
   ]
  },
  {
   "cell_type": "code",
   "execution_count": 294,
   "metadata": {},
   "outputs": [
    {
     "name": "stdout",
     "output_type": "stream",
     "text": [
      "MAE_Optuna         = 1901.2106003919184, Len_Optuna         = 137\n",
      "MAE_Optuna_pruning = 1823.9205247487453, Len_Optuna_pruning = 120\n"
     ]
    }
   ],
   "source": [
    "print(f\"MAE_Optuna         = {study_optuna.best_value}, Len_Optuna         = {len(study_optuna.trials)}\")\n",
    "print(f\"MAE_Optuna_pruning = {study_optuna_pruning.best_value}, Len_Optuna_pruning = {len(study_optuna_pruning.trials)}\")"
   ]
  },
  {
   "cell_type": "markdown",
   "metadata": {},
   "source": [
    "¿Cómo cambian sus resultados con respecto a la sección anterior? ¿A qué se puede deber esto?\n",
    "\n",
    "RESPUESTA: El modelo Optuna utilizando la técnica \"pruning\" obtiene un menor error absoluto que el anterior modelo (Optuna sin pruning). Efectivamente, esto da cuenta de las mejoras en el entrenamiento obtenidas por la disminución de complejidad del modelo obtenida por la \"poda\". "
   ]
  },
  {
   "cell_type": "code",
   "execution_count": 296,
   "metadata": {},
   "outputs": [],
   "source": [
    "#5. Guardar su modelo en un archivo .pkl \n",
    "params= study_optuna_pruning.best_params\n",
    "params_OHE= params[\"min_frequency\"]\n",
    "params.pop('min_frequency', None)\n",
    "\n",
    "\n",
    "c_transformer =  ColumnTransformer(transformers=[ (\"categorical\", OneHotEncoder(sparse_output=False,min_frequency=params_OHE), ['city', 'shop', 'brand','capacity', 'container','day','month', 'year']), (\"numeric\", StandardScaler(), ['lat', 'long', 'pop','price'])]).set_output(transform='pandas')\n",
    "optuna_pruning_model = Pipeline([('Dates', transformer), ('Processing', c_transformer), ('Regresor', XGBRegressor(seed =26,**params) )])\n",
    "\n",
    "with open('optuna_pruning_model.pkl', 'wb') as file:\n",
    "    pickle.dump(optuna_pruning_model, file)\n",
    "    \n"
   ]
  },
  {
   "cell_type": "markdown",
   "metadata": {
    "cell_id": "8a081778cc704fc6bed05393a5419327",
    "deepnote_cell_type": "markdown",
    "id": "ZMiiVaCUI5wA"
   },
   "source": [
    "## 5. Visualizaciones (5 puntos)\n",
    "\n",
    "<p align=\"center\">\n",
    "  <img src=\"https://media.tenor.com/F-LgB1xTebEAAAAd/look-at-this-graph-nickelback.gif\">\n",
    "</p>\n",
    "\n",
    "\n",
    "Satisfecho con su trabajo, Fiu le pregunta si es posible generar visualizaciones que permitan entender el entrenamiento de su modelo.\n",
    "\n",
    "A partir del siguiente <a href = https://optuna.readthedocs.io/en/stable/tutorial/10_key_features/005_visualization.html#visualization>enlace</a>, genere las siguientes visualizaciones:\n",
    "\n",
    "1. Gráfico de historial de optimización [1 punto]\n",
    "2. Gráfico de coordenadas paralelas [1 punto]\n",
    "3. Gráfico de importancia de hiperparámetros [1 punto]\n",
    "\n",
    "Comente sus resultados:\n",
    "\n",
    "4. ¿Desde qué *trial* se empiezan a observar mejoras notables en sus resultados? [0.5 puntos]\n",
    "5. ¿Qué tendencias puede observar a partir del gráfico de coordenadas paralelas? [1 punto]\n",
    "6. ¿Cuáles son los hiperparámetros con mayor importancia para la optimización de su modelo? [0.5 puntos]"
   ]
  },
  {
   "cell_type": "code",
   "execution_count": 297,
   "metadata": {
    "cell_id": "0e706dc9a8d946eda7a9eb1f0463c6d7",
    "deepnote_cell_type": "code",
    "id": "xjxAEENAI5wA",
    "scrolled": true
   },
   "outputs": [
    {
     "name": "stdout",
     "output_type": "stream",
     "text": [
      "Optuna Pruning model\n"
     ]
    },
    {
     "data": {
      "application/vnd.plotly.v1+json": {
       "config": {
        "plotlyServerURL": "https://plot.ly"
       },
       "data": [
        {
         "mode": "markers",
         "name": "Objective Value",
         "type": "scatter",
         "x": [
          0,
          1,
          2,
          3,
          4,
          5,
          6,
          7,
          8,
          9,
          10,
          11,
          12,
          13,
          14,
          15,
          16,
          17,
          18,
          19,
          20,
          21,
          22,
          23,
          24,
          25,
          26,
          27,
          28,
          29,
          30,
          31,
          32,
          33,
          34,
          35,
          36,
          37,
          38,
          39,
          40,
          41,
          42,
          43,
          44,
          45,
          46,
          47,
          48,
          49,
          50,
          51,
          52,
          53,
          54,
          55,
          56,
          57,
          58,
          59,
          60,
          61,
          62,
          63,
          64,
          65,
          66,
          67,
          68,
          69,
          70,
          71,
          72,
          73,
          74,
          75,
          76,
          77,
          78,
          79,
          80,
          81,
          82,
          83,
          84,
          85,
          86,
          87,
          88,
          89,
          90,
          91,
          92,
          93,
          94,
          95,
          96,
          97,
          98,
          99,
          100,
          101,
          102,
          103,
          104,
          105,
          106,
          107,
          108,
          109,
          110,
          111,
          112,
          113,
          114,
          115,
          116,
          117,
          118,
          119
         ],
         "y": [
          11140.777578189673,
          6635.846647553097,
          8709.999409050342,
          8597.406102868896,
          6813.299302663235,
          8634.856156304972,
          8891.234104181756,
          5956.466127105106,
          6181.336742881118,
          6143.492774407595,
          13369.603787251655,
          2263.2927595732226,
          3353.0375020614524,
          2231.2217467857513,
          8796.438256270048,
          8988.942818546926,
          2913.530459574516,
          9394.19160350269,
          8978.638595480003,
          6750.926207687681,
          6219.716767367938,
          2899.6743651131133,
          2847.9577634697716,
          5945.4560344771835,
          6708.641132481051,
          8822.107759791494,
          2180.0105107793743,
          6062.516999503635,
          6723.445395766505,
          6009.7937775668715,
          7002.801039739949,
          5596.686610746068,
          2941.5620955915642,
          5950.424884114044,
          3258.1594474741955,
          5985.084206082173,
          1963.9127344800936,
          6530.0433438534765,
          7048.908920894395,
          9236.25416534626,
          8751.824272509442,
          2259.1359665220148,
          2271.7644936264746,
          6816.9436305721865,
          6119.9617736007995,
          2140.574708041766,
          6278.398415470755,
          2306.0091471893106,
          2133.7972013966137,
          2091.9470511935406,
          6949.964135378402,
          2252.1389578509807,
          6224.356152869218,
          1987.6293405697045,
          6410.909622293434,
          1984.120377092172,
          1994.0002049326108,
          1979.6536935970482,
          7026.767893001734,
          9481.618851617472,
          8736.25330438677,
          1974.696693470936,
          1978.7627466467043,
          2016.065510932973,
          6402.35236990215,
          6465.766979293318,
          1903.6644456876036,
          6740.340791815954,
          6527.248095177657,
          2039.33178104628,
          2186.192525901542,
          1991.7413024902344,
          1947.7651722889073,
          6583.033698884067,
          6138.360775777046,
          1952.5892758401023,
          6736.335527230573,
          9557.049194335938,
          2005.4279136405087,
          6328.262904691381,
          2058.719069525106,
          1955.1597247597397,
          1960.7785468701495,
          1921.325947338382,
          1907.2540588378906,
          1936.954903305761,
          7066.305830443932,
          1934.88213464598,
          6609.024515114083,
          6630.07074783022,
          6498.364183640638,
          1942.0213542205609,
          1922.3463221669986,
          6471.392205446761,
          1974.4377572773308,
          6452.933500176234,
          9572.15787571787,
          1891.6327223619878,
          1923.1835029551526,
          1939.3918911763374,
          9544.912768231323,
          1968.6013010795543,
          6496.4188741721855,
          1842.2484904914502,
          1927.5401223290046,
          1829.0946291487737,
          1853.0565013759183,
          1932.2834670717352,
          1905.0593631567544,
          1848.778911868468,
          1869.2219135208636,
          1863.441361888355,
          1843.6622995540795,
          1839.1828920478063,
          1881.2516014654905,
          1823.9205247487453,
          1911.4583000536786,
          1916.9701693705376,
          6837.939310743319,
          6979.395497101033
         ]
        },
        {
         "mode": "lines",
         "name": "Best Value",
         "type": "scatter",
         "x": [
          0,
          1,
          2,
          3,
          4,
          5,
          6,
          7,
          8,
          9,
          10,
          11,
          12,
          13,
          14,
          15,
          16,
          17,
          18,
          19,
          20,
          21,
          22,
          23,
          24,
          25,
          26,
          27,
          28,
          29,
          30,
          31,
          32,
          33,
          34,
          35,
          36,
          37,
          38,
          39,
          40,
          41,
          42,
          43,
          44,
          45,
          46,
          47,
          48,
          49,
          50,
          51,
          52,
          53,
          54,
          55,
          56,
          57,
          58,
          59,
          60,
          61,
          62,
          63,
          64,
          65,
          66,
          67,
          68,
          69,
          70,
          71,
          72,
          73,
          74,
          75,
          76,
          77,
          78,
          79,
          80,
          81,
          82,
          83,
          84,
          85,
          86,
          87,
          88,
          89,
          90,
          91,
          92,
          93,
          94,
          95,
          96,
          97,
          98,
          99,
          100,
          101,
          102,
          103,
          104,
          105,
          106,
          107,
          108,
          109,
          110,
          111,
          112,
          113,
          114,
          115,
          116,
          117,
          118,
          119
         ],
         "y": [
          11140.777578189673,
          6635.846647553097,
          6635.846647553097,
          6635.846647553097,
          6635.846647553097,
          6635.846647553097,
          6635.846647553097,
          5956.466127105106,
          5956.466127105106,
          5956.466127105106,
          5956.466127105106,
          2263.2927595732226,
          2263.2927595732226,
          2231.2217467857513,
          2231.2217467857513,
          2231.2217467857513,
          2231.2217467857513,
          2231.2217467857513,
          2231.2217467857513,
          2231.2217467857513,
          2231.2217467857513,
          2231.2217467857513,
          2231.2217467857513,
          2231.2217467857513,
          2231.2217467857513,
          2231.2217467857513,
          2180.0105107793743,
          2180.0105107793743,
          2180.0105107793743,
          2180.0105107793743,
          2180.0105107793743,
          2180.0105107793743,
          2180.0105107793743,
          2180.0105107793743,
          2180.0105107793743,
          2180.0105107793743,
          1963.9127344800936,
          1963.9127344800936,
          1963.9127344800936,
          1963.9127344800936,
          1963.9127344800936,
          1963.9127344800936,
          1963.9127344800936,
          1963.9127344800936,
          1963.9127344800936,
          1963.9127344800936,
          1963.9127344800936,
          1963.9127344800936,
          1963.9127344800936,
          1963.9127344800936,
          1963.9127344800936,
          1963.9127344800936,
          1963.9127344800936,
          1963.9127344800936,
          1963.9127344800936,
          1963.9127344800936,
          1963.9127344800936,
          1963.9127344800936,
          1963.9127344800936,
          1963.9127344800936,
          1963.9127344800936,
          1963.9127344800936,
          1963.9127344800936,
          1963.9127344800936,
          1963.9127344800936,
          1963.9127344800936,
          1903.6644456876036,
          1903.6644456876036,
          1903.6644456876036,
          1903.6644456876036,
          1903.6644456876036,
          1903.6644456876036,
          1903.6644456876036,
          1903.6644456876036,
          1903.6644456876036,
          1903.6644456876036,
          1903.6644456876036,
          1903.6644456876036,
          1903.6644456876036,
          1903.6644456876036,
          1903.6644456876036,
          1903.6644456876036,
          1903.6644456876036,
          1903.6644456876036,
          1903.6644456876036,
          1903.6644456876036,
          1903.6644456876036,
          1903.6644456876036,
          1903.6644456876036,
          1903.6644456876036,
          1903.6644456876036,
          1903.6644456876036,
          1903.6644456876036,
          1903.6644456876036,
          1903.6644456876036,
          1903.6644456876036,
          1903.6644456876036,
          1891.6327223619878,
          1891.6327223619878,
          1891.6327223619878,
          1891.6327223619878,
          1891.6327223619878,
          1891.6327223619878,
          1842.2484904914502,
          1842.2484904914502,
          1829.0946291487737,
          1829.0946291487737,
          1829.0946291487737,
          1829.0946291487737,
          1829.0946291487737,
          1829.0946291487737,
          1829.0946291487737,
          1829.0946291487737,
          1829.0946291487737,
          1829.0946291487737,
          1823.9205247487453,
          1823.9205247487453,
          1823.9205247487453,
          1823.9205247487453,
          1823.9205247487453
         ]
        },
        {
         "marker": {
          "color": "#cccccc"
         },
         "mode": "markers",
         "name": "Infeasible Trial",
         "showlegend": false,
         "type": "scatter",
         "x": [],
         "y": []
        }
       ],
       "layout": {
        "autosize": true,
        "template": {
         "data": {
          "bar": [
           {
            "error_x": {
             "color": "#2a3f5f"
            },
            "error_y": {
             "color": "#2a3f5f"
            },
            "marker": {
             "line": {
              "color": "#E5ECF6",
              "width": 0.5
             },
             "pattern": {
              "fillmode": "overlay",
              "size": 10,
              "solidity": 0.2
             }
            },
            "type": "bar"
           }
          ],
          "barpolar": [
           {
            "marker": {
             "line": {
              "color": "#E5ECF6",
              "width": 0.5
             },
             "pattern": {
              "fillmode": "overlay",
              "size": 10,
              "solidity": 0.2
             }
            },
            "type": "barpolar"
           }
          ],
          "carpet": [
           {
            "aaxis": {
             "endlinecolor": "#2a3f5f",
             "gridcolor": "white",
             "linecolor": "white",
             "minorgridcolor": "white",
             "startlinecolor": "#2a3f5f"
            },
            "baxis": {
             "endlinecolor": "#2a3f5f",
             "gridcolor": "white",
             "linecolor": "white",
             "minorgridcolor": "white",
             "startlinecolor": "#2a3f5f"
            },
            "type": "carpet"
           }
          ],
          "choropleth": [
           {
            "colorbar": {
             "outlinewidth": 0,
             "ticks": ""
            },
            "type": "choropleth"
           }
          ],
          "contour": [
           {
            "colorbar": {
             "outlinewidth": 0,
             "ticks": ""
            },
            "colorscale": [
             [
              0,
              "#0d0887"
             ],
             [
              0.1111111111111111,
              "#46039f"
             ],
             [
              0.2222222222222222,
              "#7201a8"
             ],
             [
              0.3333333333333333,
              "#9c179e"
             ],
             [
              0.4444444444444444,
              "#bd3786"
             ],
             [
              0.5555555555555556,
              "#d8576b"
             ],
             [
              0.6666666666666666,
              "#ed7953"
             ],
             [
              0.7777777777777778,
              "#fb9f3a"
             ],
             [
              0.8888888888888888,
              "#fdca26"
             ],
             [
              1,
              "#f0f921"
             ]
            ],
            "type": "contour"
           }
          ],
          "contourcarpet": [
           {
            "colorbar": {
             "outlinewidth": 0,
             "ticks": ""
            },
            "type": "contourcarpet"
           }
          ],
          "heatmap": [
           {
            "colorbar": {
             "outlinewidth": 0,
             "ticks": ""
            },
            "colorscale": [
             [
              0,
              "#0d0887"
             ],
             [
              0.1111111111111111,
              "#46039f"
             ],
             [
              0.2222222222222222,
              "#7201a8"
             ],
             [
              0.3333333333333333,
              "#9c179e"
             ],
             [
              0.4444444444444444,
              "#bd3786"
             ],
             [
              0.5555555555555556,
              "#d8576b"
             ],
             [
              0.6666666666666666,
              "#ed7953"
             ],
             [
              0.7777777777777778,
              "#fb9f3a"
             ],
             [
              0.8888888888888888,
              "#fdca26"
             ],
             [
              1,
              "#f0f921"
             ]
            ],
            "type": "heatmap"
           }
          ],
          "heatmapgl": [
           {
            "colorbar": {
             "outlinewidth": 0,
             "ticks": ""
            },
            "colorscale": [
             [
              0,
              "#0d0887"
             ],
             [
              0.1111111111111111,
              "#46039f"
             ],
             [
              0.2222222222222222,
              "#7201a8"
             ],
             [
              0.3333333333333333,
              "#9c179e"
             ],
             [
              0.4444444444444444,
              "#bd3786"
             ],
             [
              0.5555555555555556,
              "#d8576b"
             ],
             [
              0.6666666666666666,
              "#ed7953"
             ],
             [
              0.7777777777777778,
              "#fb9f3a"
             ],
             [
              0.8888888888888888,
              "#fdca26"
             ],
             [
              1,
              "#f0f921"
             ]
            ],
            "type": "heatmapgl"
           }
          ],
          "histogram": [
           {
            "marker": {
             "pattern": {
              "fillmode": "overlay",
              "size": 10,
              "solidity": 0.2
             }
            },
            "type": "histogram"
           }
          ],
          "histogram2d": [
           {
            "colorbar": {
             "outlinewidth": 0,
             "ticks": ""
            },
            "colorscale": [
             [
              0,
              "#0d0887"
             ],
             [
              0.1111111111111111,
              "#46039f"
             ],
             [
              0.2222222222222222,
              "#7201a8"
             ],
             [
              0.3333333333333333,
              "#9c179e"
             ],
             [
              0.4444444444444444,
              "#bd3786"
             ],
             [
              0.5555555555555556,
              "#d8576b"
             ],
             [
              0.6666666666666666,
              "#ed7953"
             ],
             [
              0.7777777777777778,
              "#fb9f3a"
             ],
             [
              0.8888888888888888,
              "#fdca26"
             ],
             [
              1,
              "#f0f921"
             ]
            ],
            "type": "histogram2d"
           }
          ],
          "histogram2dcontour": [
           {
            "colorbar": {
             "outlinewidth": 0,
             "ticks": ""
            },
            "colorscale": [
             [
              0,
              "#0d0887"
             ],
             [
              0.1111111111111111,
              "#46039f"
             ],
             [
              0.2222222222222222,
              "#7201a8"
             ],
             [
              0.3333333333333333,
              "#9c179e"
             ],
             [
              0.4444444444444444,
              "#bd3786"
             ],
             [
              0.5555555555555556,
              "#d8576b"
             ],
             [
              0.6666666666666666,
              "#ed7953"
             ],
             [
              0.7777777777777778,
              "#fb9f3a"
             ],
             [
              0.8888888888888888,
              "#fdca26"
             ],
             [
              1,
              "#f0f921"
             ]
            ],
            "type": "histogram2dcontour"
           }
          ],
          "mesh3d": [
           {
            "colorbar": {
             "outlinewidth": 0,
             "ticks": ""
            },
            "type": "mesh3d"
           }
          ],
          "parcoords": [
           {
            "line": {
             "colorbar": {
              "outlinewidth": 0,
              "ticks": ""
             }
            },
            "type": "parcoords"
           }
          ],
          "pie": [
           {
            "automargin": true,
            "type": "pie"
           }
          ],
          "scatter": [
           {
            "fillpattern": {
             "fillmode": "overlay",
             "size": 10,
             "solidity": 0.2
            },
            "type": "scatter"
           }
          ],
          "scatter3d": [
           {
            "line": {
             "colorbar": {
              "outlinewidth": 0,
              "ticks": ""
             }
            },
            "marker": {
             "colorbar": {
              "outlinewidth": 0,
              "ticks": ""
             }
            },
            "type": "scatter3d"
           }
          ],
          "scattercarpet": [
           {
            "marker": {
             "colorbar": {
              "outlinewidth": 0,
              "ticks": ""
             }
            },
            "type": "scattercarpet"
           }
          ],
          "scattergeo": [
           {
            "marker": {
             "colorbar": {
              "outlinewidth": 0,
              "ticks": ""
             }
            },
            "type": "scattergeo"
           }
          ],
          "scattergl": [
           {
            "marker": {
             "colorbar": {
              "outlinewidth": 0,
              "ticks": ""
             }
            },
            "type": "scattergl"
           }
          ],
          "scattermapbox": [
           {
            "marker": {
             "colorbar": {
              "outlinewidth": 0,
              "ticks": ""
             }
            },
            "type": "scattermapbox"
           }
          ],
          "scatterpolar": [
           {
            "marker": {
             "colorbar": {
              "outlinewidth": 0,
              "ticks": ""
             }
            },
            "type": "scatterpolar"
           }
          ],
          "scatterpolargl": [
           {
            "marker": {
             "colorbar": {
              "outlinewidth": 0,
              "ticks": ""
             }
            },
            "type": "scatterpolargl"
           }
          ],
          "scatterternary": [
           {
            "marker": {
             "colorbar": {
              "outlinewidth": 0,
              "ticks": ""
             }
            },
            "type": "scatterternary"
           }
          ],
          "surface": [
           {
            "colorbar": {
             "outlinewidth": 0,
             "ticks": ""
            },
            "colorscale": [
             [
              0,
              "#0d0887"
             ],
             [
              0.1111111111111111,
              "#46039f"
             ],
             [
              0.2222222222222222,
              "#7201a8"
             ],
             [
              0.3333333333333333,
              "#9c179e"
             ],
             [
              0.4444444444444444,
              "#bd3786"
             ],
             [
              0.5555555555555556,
              "#d8576b"
             ],
             [
              0.6666666666666666,
              "#ed7953"
             ],
             [
              0.7777777777777778,
              "#fb9f3a"
             ],
             [
              0.8888888888888888,
              "#fdca26"
             ],
             [
              1,
              "#f0f921"
             ]
            ],
            "type": "surface"
           }
          ],
          "table": [
           {
            "cells": {
             "fill": {
              "color": "#EBF0F8"
             },
             "line": {
              "color": "white"
             }
            },
            "header": {
             "fill": {
              "color": "#C8D4E3"
             },
             "line": {
              "color": "white"
             }
            },
            "type": "table"
           }
          ]
         },
         "layout": {
          "annotationdefaults": {
           "arrowcolor": "#2a3f5f",
           "arrowhead": 0,
           "arrowwidth": 1
          },
          "autotypenumbers": "strict",
          "coloraxis": {
           "colorbar": {
            "outlinewidth": 0,
            "ticks": ""
           }
          },
          "colorscale": {
           "diverging": [
            [
             0,
             "#8e0152"
            ],
            [
             0.1,
             "#c51b7d"
            ],
            [
             0.2,
             "#de77ae"
            ],
            [
             0.3,
             "#f1b6da"
            ],
            [
             0.4,
             "#fde0ef"
            ],
            [
             0.5,
             "#f7f7f7"
            ],
            [
             0.6,
             "#e6f5d0"
            ],
            [
             0.7,
             "#b8e186"
            ],
            [
             0.8,
             "#7fbc41"
            ],
            [
             0.9,
             "#4d9221"
            ],
            [
             1,
             "#276419"
            ]
           ],
           "sequential": [
            [
             0,
             "#0d0887"
            ],
            [
             0.1111111111111111,
             "#46039f"
            ],
            [
             0.2222222222222222,
             "#7201a8"
            ],
            [
             0.3333333333333333,
             "#9c179e"
            ],
            [
             0.4444444444444444,
             "#bd3786"
            ],
            [
             0.5555555555555556,
             "#d8576b"
            ],
            [
             0.6666666666666666,
             "#ed7953"
            ],
            [
             0.7777777777777778,
             "#fb9f3a"
            ],
            [
             0.8888888888888888,
             "#fdca26"
            ],
            [
             1,
             "#f0f921"
            ]
           ],
           "sequentialminus": [
            [
             0,
             "#0d0887"
            ],
            [
             0.1111111111111111,
             "#46039f"
            ],
            [
             0.2222222222222222,
             "#7201a8"
            ],
            [
             0.3333333333333333,
             "#9c179e"
            ],
            [
             0.4444444444444444,
             "#bd3786"
            ],
            [
             0.5555555555555556,
             "#d8576b"
            ],
            [
             0.6666666666666666,
             "#ed7953"
            ],
            [
             0.7777777777777778,
             "#fb9f3a"
            ],
            [
             0.8888888888888888,
             "#fdca26"
            ],
            [
             1,
             "#f0f921"
            ]
           ]
          },
          "colorway": [
           "#636efa",
           "#EF553B",
           "#00cc96",
           "#ab63fa",
           "#FFA15A",
           "#19d3f3",
           "#FF6692",
           "#B6E880",
           "#FF97FF",
           "#FECB52"
          ],
          "font": {
           "color": "#2a3f5f"
          },
          "geo": {
           "bgcolor": "white",
           "lakecolor": "white",
           "landcolor": "#E5ECF6",
           "showlakes": true,
           "showland": true,
           "subunitcolor": "white"
          },
          "hoverlabel": {
           "align": "left"
          },
          "hovermode": "closest",
          "mapbox": {
           "style": "light"
          },
          "paper_bgcolor": "white",
          "plot_bgcolor": "#E5ECF6",
          "polar": {
           "angularaxis": {
            "gridcolor": "white",
            "linecolor": "white",
            "ticks": ""
           },
           "bgcolor": "#E5ECF6",
           "radialaxis": {
            "gridcolor": "white",
            "linecolor": "white",
            "ticks": ""
           }
          },
          "scene": {
           "xaxis": {
            "backgroundcolor": "#E5ECF6",
            "gridcolor": "white",
            "gridwidth": 2,
            "linecolor": "white",
            "showbackground": true,
            "ticks": "",
            "zerolinecolor": "white"
           },
           "yaxis": {
            "backgroundcolor": "#E5ECF6",
            "gridcolor": "white",
            "gridwidth": 2,
            "linecolor": "white",
            "showbackground": true,
            "ticks": "",
            "zerolinecolor": "white"
           },
           "zaxis": {
            "backgroundcolor": "#E5ECF6",
            "gridcolor": "white",
            "gridwidth": 2,
            "linecolor": "white",
            "showbackground": true,
            "ticks": "",
            "zerolinecolor": "white"
           }
          },
          "shapedefaults": {
           "line": {
            "color": "#2a3f5f"
           }
          },
          "ternary": {
           "aaxis": {
            "gridcolor": "white",
            "linecolor": "white",
            "ticks": ""
           },
           "baxis": {
            "gridcolor": "white",
            "linecolor": "white",
            "ticks": ""
           },
           "bgcolor": "#E5ECF6",
           "caxis": {
            "gridcolor": "white",
            "linecolor": "white",
            "ticks": ""
           }
          },
          "title": {
           "x": 0.05
          },
          "xaxis": {
           "automargin": true,
           "gridcolor": "white",
           "linecolor": "white",
           "ticks": "",
           "title": {
            "standoff": 15
           },
           "zerolinecolor": "white",
           "zerolinewidth": 2
          },
          "yaxis": {
           "automargin": true,
           "gridcolor": "white",
           "linecolor": "white",
           "ticks": "",
           "title": {
            "standoff": 15
           },
           "zerolinecolor": "white",
           "zerolinewidth": 2
          }
         }
        },
        "title": {
         "text": "Optimization History Plot"
        },
        "xaxis": {
         "autorange": true,
         "range": [
          -7.2857142857142865,
          126.28571428571429
         ],
         "title": {
          "text": "Trial"
         },
         "type": "linear"
        },
        "yaxis": {
         "autorange": true,
         "range": [
          871.1214205616119,
          14322.402891438789
         ],
         "title": {
          "text": "Objective Value"
         },
         "type": "linear"
        }
       }
      },
      "image/png": "[encoded data removed]",
      "text/html": [
       "<div>                            <div id=\"fb188304-2cd0-423e-8c73-d97420c5e95b\" class=\"plotly-graph-div\" style=\"height:525px; width:100%;\"></div>            <script type=\"text/javascript\">                require([\"plotly\"], function(Plotly) {                    window.PLOTLYENV=window.PLOTLYENV || {};                                    if (document.getElementById(\"fb188304-2cd0-423e-8c73-d97420c5e95b\")) {                    Plotly.newPlot(                        \"fb188304-2cd0-423e-8c73-d97420c5e95b\",                        [{\"mode\":\"markers\",\"name\":\"Objective Value\",\"x\":[0,1,2,3,4,5,6,7,8,9,10,11,12,13,14,15,16,17,18,19,20,21,22,23,24,25,26,27,28,29,30,31,32,33,34,35,36,37,38,39,40,41,42,43,44,45,46,47,48,49,50,51,52,53,54,55,56,57,58,59,60,61,62,63,64,65,66,67,68,69,70,71,72,73,74,75,76,77,78,79,80,81,82,83,84,85,86,87,88,89,90,91,92,93,94,95,96,97,98,99,100,101,102,103,104,105,106,107,108,109,110,111,112,113,114,115,116,117,118,119],\"y\":[11140.777578189673,6635.846647553097,8709.999409050342,8597.406102868896,6813.299302663235,8634.856156304972,8891.234104181756,5956.466127105106,6181.336742881118,6143.492774407595,13369.603787251655,2263.2927595732226,3353.0375020614524,2231.2217467857513,8796.438256270048,8988.942818546926,2913.530459574516,9394.19160350269,8978.638595480003,6750.926207687681,6219.716767367938,2899.6743651131133,2847.9577634697716,5945.4560344771835,6708.641132481051,8822.107759791494,2180.0105107793743,6062.516999503635,6723.445395766505,6009.7937775668715,7002.801039739949,5596.686610746068,2941.5620955915642,5950.424884114044,3258.1594474741955,5985.084206082173,1963.9127344800936,6530.0433438534765,7048.908920894395,9236.25416534626,8751.824272509442,2259.1359665220148,2271.7644936264746,6816.9436305721865,6119.9617736007995,2140.574708041766,6278.398415470755,2306.0091471893106,2133.7972013966137,2091.9470511935406,6949.964135378402,2252.1389578509807,6224.356152869218,1987.6293405697045,6410.909622293434,1984.120377092172,1994.0002049326108,1979.6536935970482,7026.767893001734,9481.618851617472,8736.25330438677,1974.696693470936,1978.7627466467043,2016.065510932973,6402.35236990215,6465.766979293318,1903.6644456876036,6740.340791815954,6527.248095177657,2039.33178104628,2186.192525901542,1991.7413024902344,1947.7651722889073,6583.033698884067,6138.360775777046,1952.5892758401023,6736.335527230573,9557.049194335938,2005.4279136405087,6328.262904691381,2058.719069525106,1955.1597247597397,1960.7785468701495,1921.325947338382,1907.2540588378906,1936.954903305761,7066.305830443932,1934.88213464598,6609.024515114083,6630.07074783022,6498.364183640638,1942.0213542205609,1922.3463221669986,6471.392205446761,1974.4377572773308,6452.933500176234,9572.15787571787,1891.6327223619878,1923.1835029551526,1939.3918911763374,9544.912768231323,1968.6013010795543,6496.4188741721855,1842.2484904914502,1927.5401223290046,1829.0946291487737,1853.0565013759183,1932.2834670717352,1905.0593631567544,1848.778911868468,1869.2219135208636,1863.441361888355,1843.6622995540795,1839.1828920478063,1881.2516014654905,1823.9205247487453,1911.4583000536786,1916.9701693705376,6837.939310743319,6979.395497101033],\"type\":\"scatter\"},{\"mode\":\"lines\",\"name\":\"Best Value\",\"x\":[0,1,2,3,4,5,6,7,8,9,10,11,12,13,14,15,16,17,18,19,20,21,22,23,24,25,26,27,28,29,30,31,32,33,34,35,36,37,38,39,40,41,42,43,44,45,46,47,48,49,50,51,52,53,54,55,56,57,58,59,60,61,62,63,64,65,66,67,68,69,70,71,72,73,74,75,76,77,78,79,80,81,82,83,84,85,86,87,88,89,90,91,92,93,94,95,96,97,98,99,100,101,102,103,104,105,106,107,108,109,110,111,112,113,114,115,116,117,118,119],\"y\":[11140.777578189673,6635.846647553097,6635.846647553097,6635.846647553097,6635.846647553097,6635.846647553097,6635.846647553097,5956.466127105106,5956.466127105106,5956.466127105106,5956.466127105106,2263.2927595732226,2263.2927595732226,2231.2217467857513,2231.2217467857513,2231.2217467857513,2231.2217467857513,2231.2217467857513,2231.2217467857513,2231.2217467857513,2231.2217467857513,2231.2217467857513,2231.2217467857513,2231.2217467857513,2231.2217467857513,2231.2217467857513,2180.0105107793743,2180.0105107793743,2180.0105107793743,2180.0105107793743,2180.0105107793743,2180.0105107793743,2180.0105107793743,2180.0105107793743,2180.0105107793743,2180.0105107793743,1963.9127344800936,1963.9127344800936,1963.9127344800936,1963.9127344800936,1963.9127344800936,1963.9127344800936,1963.9127344800936,1963.9127344800936,1963.9127344800936,1963.9127344800936,1963.9127344800936,1963.9127344800936,1963.9127344800936,1963.9127344800936,1963.9127344800936,1963.9127344800936,1963.9127344800936,1963.9127344800936,1963.9127344800936,1963.9127344800936,1963.9127344800936,1963.9127344800936,1963.9127344800936,1963.9127344800936,1963.9127344800936,1963.9127344800936,1963.9127344800936,1963.9127344800936,1963.9127344800936,1963.9127344800936,1903.6644456876036,1903.6644456876036,1903.6644456876036,1903.6644456876036,1903.6644456876036,1903.6644456876036,1903.6644456876036,1903.6644456876036,1903.6644456876036,1903.6644456876036,1903.6644456876036,1903.6644456876036,1903.6644456876036,1903.6644456876036,1903.6644456876036,1903.6644456876036,1903.6644456876036,1903.6644456876036,1903.6644456876036,1903.6644456876036,1903.6644456876036,1903.6644456876036,1903.6644456876036,1903.6644456876036,1903.6644456876036,1903.6644456876036,1903.6644456876036,1903.6644456876036,1903.6644456876036,1903.6644456876036,1903.6644456876036,1891.6327223619878,1891.6327223619878,1891.6327223619878,1891.6327223619878,1891.6327223619878,1891.6327223619878,1842.2484904914502,1842.2484904914502,1829.0946291487737,1829.0946291487737,1829.0946291487737,1829.0946291487737,1829.0946291487737,1829.0946291487737,1829.0946291487737,1829.0946291487737,1829.0946291487737,1829.0946291487737,1823.9205247487453,1823.9205247487453,1823.9205247487453,1823.9205247487453,1823.9205247487453],\"type\":\"scatter\"},{\"marker\":{\"color\":\"#cccccc\"},\"mode\":\"markers\",\"name\":\"Infeasible Trial\",\"showlegend\":false,\"x\":[],\"y\":[],\"type\":\"scatter\"}],                        {\"title\":{\"text\":\"Optimization History Plot\"},\"xaxis\":{\"title\":{\"text\":\"Trial\"}},\"yaxis\":{\"title\":{\"text\":\"Objective Value\"}},\"template\":{\"data\":{\"histogram2dcontour\":[{\"type\":\"histogram2dcontour\",\"colorbar\":{\"outlinewidth\":0,\"ticks\":\"\"},\"colorscale\":[[0.0,\"#0d0887\"],[0.1111111111111111,\"#46039f\"],[0.2222222222222222,\"#7201a8\"],[0.3333333333333333,\"#9c179e\"],[0.4444444444444444,\"#bd3786\"],[0.5555555555555556,\"#d8576b\"],[0.6666666666666666,\"#ed7953\"],[0.7777777777777778,\"#fb9f3a\"],[0.8888888888888888,\"#fdca26\"],[1.0,\"#f0f921\"]]}],\"choropleth\":[{\"type\":\"choropleth\",\"colorbar\":{\"outlinewidth\":0,\"ticks\":\"\"}}],\"histogram2d\":[{\"type\":\"histogram2d\",\"colorbar\":{\"outlinewidth\":0,\"ticks\":\"\"},\"colorscale\":[[0.0,\"#0d0887\"],[0.1111111111111111,\"#46039f\"],[0.2222222222222222,\"#7201a8\"],[0.3333333333333333,\"#9c179e\"],[0.4444444444444444,\"#bd3786\"],[0.5555555555555556,\"#d8576b\"],[0.6666666666666666,\"#ed7953\"],[0.7777777777777778,\"#fb9f3a\"],[0.8888888888888888,\"#fdca26\"],[1.0,\"#f0f921\"]]}],\"heatmap\":[{\"type\":\"heatmap\",\"colorbar\":{\"outlinewidth\":0,\"ticks\":\"\"},\"colorscale\":[[0.0,\"#0d0887\"],[0.1111111111111111,\"#46039f\"],[0.2222222222222222,\"#7201a8\"],[0.3333333333333333,\"#9c179e\"],[0.4444444444444444,\"#bd3786\"],[0.5555555555555556,\"#d8576b\"],[0.6666666666666666,\"#ed7953\"],[0.7777777777777778,\"#fb9f3a\"],[0.8888888888888888,\"#fdca26\"],[1.0,\"#f0f921\"]]}],\"heatmapgl\":[{\"type\":\"heatmapgl\",\"colorbar\":{\"outlinewidth\":0,\"ticks\":\"\"},\"colorscale\":[[0.0,\"#0d0887\"],[0.1111111111111111,\"#46039f\"],[0.2222222222222222,\"#7201a8\"],[0.3333333333333333,\"#9c179e\"],[0.4444444444444444,\"#bd3786\"],[0.5555555555555556,\"#d8576b\"],[0.6666666666666666,\"#ed7953\"],[0.7777777777777778,\"#fb9f3a\"],[0.8888888888888888,\"#fdca26\"],[1.0,\"#f0f921\"]]}],\"contourcarpet\":[{\"type\":\"contourcarpet\",\"colorbar\":{\"outlinewidth\":0,\"ticks\":\"\"}}],\"contour\":[{\"type\":\"contour\",\"colorbar\":{\"outlinewidth\":0,\"ticks\":\"\"},\"colorscale\":[[0.0,\"#0d0887\"],[0.1111111111111111,\"#46039f\"],[0.2222222222222222,\"#7201a8\"],[0.3333333333333333,\"#9c179e\"],[0.4444444444444444,\"#bd3786\"],[0.5555555555555556,\"#d8576b\"],[0.6666666666666666,\"#ed7953\"],[0.7777777777777778,\"#fb9f3a\"],[0.8888888888888888,\"#fdca26\"],[1.0,\"#f0f921\"]]}],\"surface\":[{\"type\":\"surface\",\"colorbar\":{\"outlinewidth\":0,\"ticks\":\"\"},\"colorscale\":[[0.0,\"#0d0887\"],[0.1111111111111111,\"#46039f\"],[0.2222222222222222,\"#7201a8\"],[0.3333333333333333,\"#9c179e\"],[0.4444444444444444,\"#bd3786\"],[0.5555555555555556,\"#d8576b\"],[0.6666666666666666,\"#ed7953\"],[0.7777777777777778,\"#fb9f3a\"],[0.8888888888888888,\"#fdca26\"],[1.0,\"#f0f921\"]]}],\"mesh3d\":[{\"type\":\"mesh3d\",\"colorbar\":{\"outlinewidth\":0,\"ticks\":\"\"}}],\"scatter\":[{\"fillpattern\":{\"fillmode\":\"overlay\",\"size\":10,\"solidity\":0.2},\"type\":\"scatter\"}],\"parcoords\":[{\"type\":\"parcoords\",\"line\":{\"colorbar\":{\"outlinewidth\":0,\"ticks\":\"\"}}}],\"scatterpolargl\":[{\"type\":\"scatterpolargl\",\"marker\":{\"colorbar\":{\"outlinewidth\":0,\"ticks\":\"\"}}}],\"bar\":[{\"error_x\":{\"color\":\"#2a3f5f\"},\"error_y\":{\"color\":\"#2a3f5f\"},\"marker\":{\"line\":{\"color\":\"#E5ECF6\",\"width\":0.5},\"pattern\":{\"fillmode\":\"overlay\",\"size\":10,\"solidity\":0.2}},\"type\":\"bar\"}],\"scattergeo\":[{\"type\":\"scattergeo\",\"marker\":{\"colorbar\":{\"outlinewidth\":0,\"ticks\":\"\"}}}],\"scatterpolar\":[{\"type\":\"scatterpolar\",\"marker\":{\"colorbar\":{\"outlinewidth\":0,\"ticks\":\"\"}}}],\"histogram\":[{\"marker\":{\"pattern\":{\"fillmode\":\"overlay\",\"size\":10,\"solidity\":0.2}},\"type\":\"histogram\"}],\"scattergl\":[{\"type\":\"scattergl\",\"marker\":{\"colorbar\":{\"outlinewidth\":0,\"ticks\":\"\"}}}],\"scatter3d\":[{\"type\":\"scatter3d\",\"line\":{\"colorbar\":{\"outlinewidth\":0,\"ticks\":\"\"}},\"marker\":{\"colorbar\":{\"outlinewidth\":0,\"ticks\":\"\"}}}],\"scattermapbox\":[{\"type\":\"scattermapbox\",\"marker\":{\"colorbar\":{\"outlinewidth\":0,\"ticks\":\"\"}}}],\"scatterternary\":[{\"type\":\"scatterternary\",\"marker\":{\"colorbar\":{\"outlinewidth\":0,\"ticks\":\"\"}}}],\"scattercarpet\":[{\"type\":\"scattercarpet\",\"marker\":{\"colorbar\":{\"outlinewidth\":0,\"ticks\":\"\"}}}],\"carpet\":[{\"aaxis\":{\"endlinecolor\":\"#2a3f5f\",\"gridcolor\":\"white\",\"linecolor\":\"white\",\"minorgridcolor\":\"white\",\"startlinecolor\":\"#2a3f5f\"},\"baxis\":{\"endlinecolor\":\"#2a3f5f\",\"gridcolor\":\"white\",\"linecolor\":\"white\",\"minorgridcolor\":\"white\",\"startlinecolor\":\"#2a3f5f\"},\"type\":\"carpet\"}],\"table\":[{\"cells\":{\"fill\":{\"color\":\"#EBF0F8\"},\"line\":{\"color\":\"white\"}},\"header\":{\"fill\":{\"color\":\"#C8D4E3\"},\"line\":{\"color\":\"white\"}},\"type\":\"table\"}],\"barpolar\":[{\"marker\":{\"line\":{\"color\":\"#E5ECF6\",\"width\":0.5},\"pattern\":{\"fillmode\":\"overlay\",\"size\":10,\"solidity\":0.2}},\"type\":\"barpolar\"}],\"pie\":[{\"automargin\":true,\"type\":\"pie\"}]},\"layout\":{\"autotypenumbers\":\"strict\",\"colorway\":[\"#636efa\",\"#EF553B\",\"#00cc96\",\"#ab63fa\",\"#FFA15A\",\"#19d3f3\",\"#FF6692\",\"#B6E880\",\"#FF97FF\",\"#FECB52\"],\"font\":{\"color\":\"#2a3f5f\"},\"hovermode\":\"closest\",\"hoverlabel\":{\"align\":\"left\"},\"paper_bgcolor\":\"white\",\"plot_bgcolor\":\"#E5ECF6\",\"polar\":{\"bgcolor\":\"#E5ECF6\",\"angularaxis\":{\"gridcolor\":\"white\",\"linecolor\":\"white\",\"ticks\":\"\"},\"radialaxis\":{\"gridcolor\":\"white\",\"linecolor\":\"white\",\"ticks\":\"\"}},\"ternary\":{\"bgcolor\":\"#E5ECF6\",\"aaxis\":{\"gridcolor\":\"white\",\"linecolor\":\"white\",\"ticks\":\"\"},\"baxis\":{\"gridcolor\":\"white\",\"linecolor\":\"white\",\"ticks\":\"\"},\"caxis\":{\"gridcolor\":\"white\",\"linecolor\":\"white\",\"ticks\":\"\"}},\"coloraxis\":{\"colorbar\":{\"outlinewidth\":0,\"ticks\":\"\"}},\"colorscale\":{\"sequential\":[[0.0,\"#0d0887\"],[0.1111111111111111,\"#46039f\"],[0.2222222222222222,\"#7201a8\"],[0.3333333333333333,\"#9c179e\"],[0.4444444444444444,\"#bd3786\"],[0.5555555555555556,\"#d8576b\"],[0.6666666666666666,\"#ed7953\"],[0.7777777777777778,\"#fb9f3a\"],[0.8888888888888888,\"#fdca26\"],[1.0,\"#f0f921\"]],\"sequentialminus\":[[0.0,\"#0d0887\"],[0.1111111111111111,\"#46039f\"],[0.2222222222222222,\"#7201a8\"],[0.3333333333333333,\"#9c179e\"],[0.4444444444444444,\"#bd3786\"],[0.5555555555555556,\"#d8576b\"],[0.6666666666666666,\"#ed7953\"],[0.7777777777777778,\"#fb9f3a\"],[0.8888888888888888,\"#fdca26\"],[1.0,\"#f0f921\"]],\"diverging\":[[0,\"#8e0152\"],[0.1,\"#c51b7d\"],[0.2,\"#de77ae\"],[0.3,\"#f1b6da\"],[0.4,\"#fde0ef\"],[0.5,\"#f7f7f7\"],[0.6,\"#e6f5d0\"],[0.7,\"#b8e186\"],[0.8,\"#7fbc41\"],[0.9,\"#4d9221\"],[1,\"#276419\"]]},\"xaxis\":{\"gridcolor\":\"white\",\"linecolor\":\"white\",\"ticks\":\"\",\"title\":{\"standoff\":15},\"zerolinecolor\":\"white\",\"automargin\":true,\"zerolinewidth\":2},\"yaxis\":{\"gridcolor\":\"white\",\"linecolor\":\"white\",\"ticks\":\"\",\"title\":{\"standoff\":15},\"zerolinecolor\":\"white\",\"automargin\":true,\"zerolinewidth\":2},\"scene\":{\"xaxis\":{\"backgroundcolor\":\"#E5ECF6\",\"gridcolor\":\"white\",\"linecolor\":\"white\",\"showbackground\":true,\"ticks\":\"\",\"zerolinecolor\":\"white\",\"gridwidth\":2},\"yaxis\":{\"backgroundcolor\":\"#E5ECF6\",\"gridcolor\":\"white\",\"linecolor\":\"white\",\"showbackground\":true,\"ticks\":\"\",\"zerolinecolor\":\"white\",\"gridwidth\":2},\"zaxis\":{\"backgroundcolor\":\"#E5ECF6\",\"gridcolor\":\"white\",\"linecolor\":\"white\",\"showbackground\":true,\"ticks\":\"\",\"zerolinecolor\":\"white\",\"gridwidth\":2}},\"shapedefaults\":{\"line\":{\"color\":\"#2a3f5f\"}},\"annotationdefaults\":{\"arrowcolor\":\"#2a3f5f\",\"arrowhead\":0,\"arrowwidth\":1},\"geo\":{\"bgcolor\":\"white\",\"landcolor\":\"#E5ECF6\",\"subunitcolor\":\"white\",\"showland\":true,\"showlakes\":true,\"lakecolor\":\"white\"},\"title\":{\"x\":0.05},\"mapbox\":{\"style\":\"light\"}}}},                        {\"responsive\": true}                    ).then(function(){\n",
       "                            \n",
       "var gd = document.getElementById('fb188304-2cd0-423e-8c73-d97420c5e95b');\n",
       "var x = new MutationObserver(function (mutations, observer) {{\n",
       "        var display = window.getComputedStyle(gd).display;\n",
       "        if (!display || display === 'none') {{\n",
       "            console.log([gd, 'removed!']);\n",
       "            Plotly.purge(gd);\n",
       "            observer.disconnect();\n",
       "        }}\n",
       "}});\n",
       "\n",
       "// Listen for the removal of the full notebook cells\n",
       "var notebookContainer = gd.closest('#notebook-container');\n",
       "if (notebookContainer) {{\n",
       "    x.observe(notebookContainer, {childList: true});\n",
       "}}\n",
       "\n",
       "// Listen for the clearing of the current output cell\n",
       "var outputEl = gd.closest('.output');\n",
       "if (outputEl) {{\n",
       "    x.observe(outputEl, {childList: true});\n",
       "}}\n",
       "\n",
       "                        })                };                });            </script>        </div>"
      ]
     },
     "metadata": {},
     "output_type": "display_data"
    }
   ],
   "source": [
    "# 1. Gráfico de historial de optimización \n",
    "from optuna.visualization import plot_optimization_history\n",
    "print(\"Optuna Pruning model\")\n",
    "plot_optimization_history(study_optuna_pruning)\n"
   ]
  },
  {
   "cell_type": "markdown",
   "metadata": {},
   "source": [
    "4. ¿Desde qué *trial* se empiezan a observar mejoras notables en sus resultados?\n",
    "\n",
    "RESPUESTA: En el *trial* 3 realiza una gran mejora, luego en el *trial* 10 y finalemente en el *trial* 17. A partir de este, los resultados no presentan grandes mejoras. "
   ]
  },
  {
   "cell_type": "code",
   "execution_count": 334,
   "metadata": {},
   "outputs": [
    {
     "name": "stdout",
     "output_type": "stream",
     "text": [
      "Optuna Pruning model\n"
     ]
    },
    {
     "data": {
      "application/vnd.plotly.v1+json": {
       "config": {
        "plotlyServerURL": "https://plot.ly"
       },
       "data": [
        {
         "dimensions": [
          {
           "label": "Objective Value",
           "range": [
            1823.9205247487453,
            13369.603787251655
           ],
           "values": [
            11140.777578189673,
            6635.846647553097,
            8709.999409050342,
            8597.406102868896,
            6813.299302663235,
            8634.856156304972,
            8891.234104181756,
            5956.466127105106,
            6181.336742881118,
            6143.492774407595,
            13369.603787251655,
            2263.2927595732226,
            3353.0375020614524,
            2231.2217467857513,
            8796.438256270048,
            8988.942818546926,
            2913.530459574516,
            9394.19160350269,
            8978.638595480003,
            6750.926207687681,
            6219.716767367938,
            2899.6743651131133,
            2847.9577634697716,
            5945.4560344771835,
            6708.641132481051,
            8822.107759791494,
            2180.0105107793743,
            6062.516999503635,
            6723.445395766505,
            6009.7937775668715,
            7002.801039739949,
            5596.686610746068,
            2941.5620955915642,
            5950.424884114044,
            3258.1594474741955,
            5985.084206082173,
            1963.9127344800936,
            6530.0433438534765,
            7048.908920894395,
            9236.25416534626,
            8751.824272509442,
            2259.1359665220148,
            2271.7644936264746,
            6816.9436305721865,
            6119.9617736007995,
            2140.574708041766,
            6278.398415470755,
            2306.0091471893106,
            2133.7972013966137,
            2091.9470511935406,
            6949.964135378402,
            2252.1389578509807,
            6224.356152869218,
            1987.6293405697045,
            6410.909622293434,
            1984.120377092172,
            1994.0002049326108,
            1979.6536935970482,
            7026.767893001734,
            9481.618851617472,
            8736.25330438677,
            1974.696693470936,
            1978.7627466467043,
            2016.065510932973,
            6402.35236990215,
            6465.766979293318,
            1903.6644456876036,
            6740.340791815954,
            6527.248095177657,
            2039.33178104628,
            2186.192525901542,
            1991.7413024902344,
            1947.7651722889073,
            6583.033698884067,
            6138.360775777046,
            1952.5892758401023,
            6736.335527230573,
            9557.049194335938,
            2005.4279136405087,
            6328.262904691381,
            2058.719069525106,
            1955.1597247597397,
            1960.7785468701495,
            1921.325947338382,
            1907.2540588378906,
            1936.954903305761,
            7066.305830443932,
            1934.88213464598,
            6609.024515114083,
            6630.07074783022,
            6498.364183640638,
            1942.0213542205609,
            1922.3463221669986,
            6471.392205446761,
            1974.4377572773308,
            6452.933500176234,
            9572.15787571787,
            1891.6327223619878,
            1923.1835029551526,
            1939.3918911763374,
            9544.912768231323,
            1968.6013010795543,
            6496.4188741721855,
            1842.2484904914502,
            1927.5401223290046,
            1829.0946291487737,
            1853.0565013759183,
            1932.2834670717352,
            1905.0593631567544,
            1848.778911868468,
            1869.2219135208636,
            1863.441361888355,
            1843.6622995540795,
            1839.1828920478063,
            1881.2516014654905,
            1823.9205247487453,
            1911.4583000536786,
            1916.9701693705376,
            6837.939310743319,
            6979.395497101033
           ]
          },
          {
           "label": "learning_rate",
           "range": [
            0.002602004044944553,
            0.09841456845541514
           ],
           "values": [
            0.005582858013997575,
            0.05119555339319663,
            0.01454396298340439,
            0.04723930323813348,
            0.0888490467821646,
            0.05560530690547149,
            0.08044626124311946,
            0.06723414957197096,
            0.09841456845541514,
            0.012249167483910701,
            0.06814354553675538,
            0.029891044475397734,
            0.03306326539914199,
            0.030183269454628268,
            0.030994341822196986,
            0.030126117025792713,
            0.0189056535467325,
            0.044772065890266645,
            0.037266463143469146,
            0.023930219932261364,
            0.004558796618686797,
            0.02032583211630736,
            0.02140204458803697,
            0.04045701895170681,
            0.023481162033960223,
            0.05645256450837223,
            0.02753519425489854,
            0.03808589988773274,
            0.028918389065681463,
            0.009121629619287988,
            0.0642107095264308,
            0.002602004044944553,
            0.017206973422815457,
            0.026271993891453276,
            0.010243254037720636,
            0.04151332298924484,
            0.04837945046957666,
            0.049941911014223433,
            0.05892107545578998,
            0.0462857155887137,
            0.03469134578564237,
            0.014036363579202248,
            0.013348090297734823,
            0.07488181270860583,
            0.016041065860667357,
            0.02755491200959571,
            0.052227540706907785,
            0.02617029070413622,
            0.03460207148584624,
            0.04325557432308948,
            0.04478743701137161,
            0.034999413913674386,
            0.040036094127218556,
            0.05030417494277652,
            0.05314977769273416,
            0.04793998701267041,
            0.06272521036608486,
            0.057715059201643854,
            0.061179874203578344,
            0.06862558639940416,
            0.0740890590919792,
            0.04934060043889521,
            0.049580362737467125,
            0.04888623898116423,
            0.055157215661188225,
            0.05989641180170055,
            0.06372464531530819,
            0.06625576238486745,
            0.05540385890520102,
            0.05014921568183515,
            0.04726068989837305,
            0.06307123610933489,
            0.05772036970089543,
            0.057587525208036686,
            0.07075110876272106,
            0.052377432133809305,
            0.08729288393501286,
            0.05319587392077835,
            0.05800188767317319,
            0.047461275045853395,
            0.04249866340574431,
            0.05139511808780397,
            0.05456013223904525,
            0.05421784965490503,
            0.053950671317521834,
            0.05211052872413799,
            0.054049224753038555,
            0.05990122514621572,
            0.0656130699369754,
            0.05985081290821622,
            0.05205200320859988,
            0.04483762553744442,
            0.04482129190179814,
            0.04567077299446742,
            0.04400106236687133,
            0.037787830252740545,
            0.05658451962326402,
            0.060817535869848796,
            0.06136949676734444,
            0.07057312290634835,
            0.07031102203287137,
            0.06168573261618736,
            0.06410142907802786,
            0.06881299635614814,
            0.07484286371691432,
            0.0797886744731229,
            0.0801235372634346,
            0.08137404188367234,
            0.08215942821077316,
            0.07977258296331144,
            0.08037978343352023,
            0.08615615561133849,
            0.08196433279716248,
            0.08242673267218706,
            0.08235330261045265,
            0.08222314033086457,
            0.08552056874968321,
            0.09548889545004871,
            0.07850274805755984,
            0.09174974633456248
           ]
          },
          {
           "label": "max_depth",
           "range": [
            3,
            10
           ],
           "values": [
            4,
            8,
            10,
            3,
            8,
            4,
            8,
            6,
            7,
            3,
            6,
            5,
            5,
            5,
            5,
            5,
            4,
            7,
            6,
            5,
            10,
            4,
            4,
            3,
            5,
            4,
            6,
            7,
            6,
            6,
            9,
            5,
            4,
            5,
            4,
            3,
            7,
            7,
            8,
            6,
            8,
            7,
            7,
            7,
            6,
            8,
            8,
            9,
            9,
            9,
            9,
            9,
            10,
            9,
            9,
            8,
            8,
            10,
            10,
            10,
            8,
            9,
            9,
            10,
            8,
            9,
            8,
            10,
            9,
            9,
            8,
            8,
            8,
            9,
            10,
            8,
            7,
            8,
            7,
            8,
            8,
            9,
            8,
            9,
            9,
            9,
            7,
            8,
            8,
            9,
            9,
            8,
            8,
            8,
            8,
            9,
            8,
            9,
            8,
            8,
            9,
            8,
            8,
            8,
            7,
            7,
            7,
            7,
            7,
            7,
            7,
            7,
            7,
            7,
            7,
            7,
            6,
            7,
            7,
            7
           ]
          },
          {
           "label": "max_leaves",
           "range": [
            1,
            100
           ],
           "values": [
            45,
            94,
            64,
            53,
            28,
            47,
            31,
            7,
            31,
            78,
            1,
            86,
            5,
            99,
            100,
            85,
            75,
            89,
            70,
            100,
            63,
            79,
            82,
            87,
            92,
            82,
            70,
            69,
            55,
            61,
            95,
            72,
            83,
            92,
            78,
            38,
            96,
            96,
            88,
            100,
            66,
            91,
            95,
            91,
            17,
            86,
            57,
            46,
            96,
            97,
            73,
            97,
            97,
            87,
            78,
            86,
            89,
            89,
            82,
            87,
            76,
            90,
            90,
            90,
            83,
            85,
            92,
            93,
            79,
            93,
            39,
            89,
            84,
            84,
            80,
            86,
            75,
            100,
            94,
            50,
            91,
            87,
            81,
            81,
            81,
            81,
            67,
            81,
            72,
            81,
            76,
            81,
            77,
            74,
            77,
            84,
            70,
            79,
            61,
            57,
            59,
            65,
            54,
            79,
            62,
            63,
            69,
            61,
            62,
            68,
            67,
            68,
            68,
            69,
            67,
            68,
            68,
            65,
            71,
            70
           ]
          },
          {
           "label": "min_child_weight",
           "range": [
            1,
            5
           ],
           "values": [
            3,
            5,
            3,
            4,
            4,
            3,
            2,
            2,
            2,
            1,
            1,
            1,
            2,
            1,
            1,
            1,
            1,
            2,
            4,
            1,
            5,
            1,
            1,
            2,
            1,
            2,
            1,
            2,
            1,
            3,
            2,
            1,
            1,
            1,
            1,
            3,
            1,
            4,
            2,
            1,
            3,
            1,
            1,
            1,
            2,
            1,
            1,
            2,
            1,
            1,
            5,
            1,
            1,
            1,
            1,
            2,
            2,
            2,
            2,
            2,
            2,
            2,
            2,
            2,
            3,
            2,
            3,
            3,
            4,
            3,
            2,
            2,
            2,
            3,
            2,
            2,
            2,
            2,
            3,
            2,
            4,
            2,
            2,
            2,
            2,
            2,
            3,
            2,
            2,
            2,
            2,
            2,
            2,
            2,
            2,
            2,
            2,
            2,
            2,
            2,
            2,
            2,
            2,
            2,
            2,
            2,
            2,
            2,
            2,
            3,
            3,
            3,
            3,
            3,
            3,
            3,
            3,
            3,
            3,
            3
           ]
          },
          {
           "label": "min_frequency",
           "range": [
            0.00042003886601091334,
            0.9951934104566905
           ],
           "values": [
            0.07474084414082505,
            0.12201163699543205,
            0.7314009993405658,
            0.5140833125073319,
            0.2528792737497081,
            0.3836504421262442,
            0.7902043111930501,
            0.19004732769823296,
            0.1996652220040489,
            0.15791374774105282,
            0.546745212644285,
            0.010902724789623286,
            0.013658084369225248,
            0.004671849522659279,
            0.9410213065161138,
            0.3426661918470368,
            0.008157635242998583,
            0.39614381206453975,
            0.6533977992571454,
            0.30453649140264244,
            0.08796798698016682,
            0.006832109120451863,
            0.028285862344646476,
            0.09510596937948146,
            0.24459919524606205,
            0.4421841143986459,
            0.06552707461648362,
            0.1329324846409538,
            0.2691839317690611,
            0.09728964197315278,
            0.20676049462145663,
            0.04930564403314783,
            0.06608856043129342,
            0.16497376526279253,
            0.04762385530876129,
            0.13391485744929263,
            0.06402910676900317,
            0.10777798232419045,
            0.24621887174096468,
            0.5922915052874438,
            0.847234362833413,
            0.06055060472882522,
            0.05628488053006614,
            0.16606812508739954,
            0.20051068942334027,
            0.008388262056969225,
            0.1320634041776052,
            0.07960772771213089,
            0.05677899148623396,
            0.0035456789059969893,
            0.3118186253053418,
            0.0018381203320694314,
            0.1136456718059619,
            0.0455579655315167,
            0.1607997338474504,
            0.03740681089389899,
            0.02607328719975781,
            0.03550804069696516,
            0.21582087140399087,
            0.9951934104566905,
            0.48232575492914725,
            0.049489444229163015,
            0.036963128629135575,
            0.03781360239749788,
            0.10512297214835908,
            0.1378054635218863,
            0.03448062162518923,
            0.08579979064526982,
            0.17867235906301948,
            0.07970632373132659,
            0.03315212495471212,
            0.044454010506953426,
            0.0334642935518345,
            0.12111035713435513,
            0.08436820954712752,
            0.028087535101985063,
            0.14222370066437617,
            0.6626561174276082,
            0.031114783322139607,
            0.0962550467654456,
            0.00042003886601091334,
            0.06797168192353756,
            0.06961580180132784,
            0.07014553761574968,
            0.07036437125277759,
            0.07047567034090282,
            0.22095550031136035,
            0.07202219282053668,
            0.11089028344208451,
            0.18645898842129857,
            0.1527400222891886,
            0.07031061488939125,
            0.06986871023081995,
            0.11251575079858375,
            0.07362120653151648,
            0.09275643160479796,
            0.3812808348537481,
            0.01789542468847708,
            0.02486220405613568,
            0.0006409930765523437,
            0.801906408971565,
            0.019621003817672573,
            0.12714439897434382,
            0.05959718098975881,
            0.013885453362939539,
            0.0005332700392830722,
            0.023271195132267452,
            0.01502095292553967,
            0.016177308083167287,
            0.022853387941642756,
            0.05276075358199753,
            0.05535299417423586,
            0.05049076948212232,
            0.05026308716992306,
            0.050447272978040414,
            0.052556998273338824,
            0.05235806564042058,
            0.048484323096817813,
            0.10048874579542326,
            0.09357199491103192
           ]
          },
          {
           "label": "n_estimators",
           "range": [
            55,
            998
           ],
           "values": [
            72,
            898,
            543,
            179,
            412,
            193,
            377,
            565,
            108,
            833,
            670,
            907,
            987,
            983,
            750,
            985,
            801,
            684,
            895,
            911,
            653,
            782,
            786,
            996,
            858,
            727,
            601,
            407,
            623,
            472,
            326,
            934,
            842,
            726,
            943,
            571,
            886,
            875,
            475,
            936,
            256,
            804,
            825,
            880,
            931,
            611,
            605,
            531,
            478,
            447,
            481,
            342,
            437,
            562,
            588,
            511,
            538,
            518,
            371,
            515,
            55,
            514,
            540,
            545,
            510,
            555,
            671,
            641,
            697,
            401,
            503,
            571,
            660,
            667,
            637,
            754,
            704,
            772,
            719,
            754,
            440,
            578,
            677,
            674,
            755,
            658,
            669,
            749,
            747,
            688,
            744,
            813,
            809,
            818,
            775,
            793,
            715,
            859,
            859,
            858,
            864,
            843,
            813,
            846,
            961,
            955,
            960,
            971,
            969,
            910,
            912,
            911,
            909,
            906,
            913,
            913,
            923,
            904,
            952,
            998
           ]
          },
          {
           "label": "reg_alpha",
           "range": [
            0.011431128953260664,
            0.9934663861815286
           ],
           "values": [
            0.931446457717315,
            0.0930422788325701,
            0.4904438714610625,
            0.30694913534932966,
            0.5172983267503276,
            0.860778123159474,
            0.26890768191548775,
            0.26400555276534066,
            0.2907268720953222,
            0.01658752474556824,
            0.6801056996437609,
            0.029864206529708337,
            0.16848307131752133,
            0.12152129794453292,
            0.011431128953260664,
            0.41540786278232544,
            0.1307009365894846,
            0.7087169800437436,
            0.18433821075908383,
            0.39629040465019,
            0.07368411305899199,
            0.1494100717222576,
            0.1991335010538997,
            0.21541795026427432,
            0.011591382545999951,
            0.3680822086592962,
            0.09090213729096425,
            0.07033764499505521,
            0.5908236102769799,
            0.9459119974489618,
            0.09868119888266096,
            0.20782890496373185,
            0.05867928016085608,
            0.12627310754110793,
            0.3413900751262456,
            0.21712776771904663,
            0.47863016224360966,
            0.800381033418077,
            0.4962916298040107,
            0.5830186311196373,
            0.4530460101936568,
            0.2598359056355825,
            0.31816528474548805,
            0.28177525701679246,
            0.24283830807873819,
            0.1105517700784252,
            0.10650333729784595,
            0.5688796714987496,
            0.15488849143564332,
            0.1598794736077902,
            0.15297516241416972,
            0.04953359800014287,
            0.15896687402944565,
            0.8684472116684205,
            0.7061427109577747,
            0.8898637085648169,
            0.9000406101295871,
            0.9934663861815286,
            0.9924670053955678,
            0.8427943426366376,
            0.904688115812162,
            0.7696121411929709,
            0.7998818479235329,
            0.7733353542890103,
            0.8871800309849972,
            0.9726492915128848,
            0.8250036591488517,
            0.832949567739077,
            0.7585174247600521,
            0.8670556696843801,
            0.947487055982735,
            0.9112367228869772,
            0.9216648117289865,
            0.6350598173895436,
            0.8247317031523979,
            0.7702485139741626,
            0.7673798385118848,
            0.9326517446042565,
            0.7315657124974918,
            0.538760782637879,
            0.7977192002851916,
            0.8709874562207442,
            0.8062907172341591,
            0.801961397115463,
            0.4592186717197573,
            0.6619664500767162,
            0.4751899875668826,
            0.6496032814247369,
            0.6551955471773441,
            0.7293010907045624,
            0.6261668618767665,
            0.41687062627344873,
            0.6891726923523329,
            0.4216264768681615,
            0.6898854579086688,
            0.37182696906240453,
            0.6625378733131491,
            0.5264135217007448,
            0.5311097662971154,
            0.5201369048524354,
            0.5359647627777826,
            0.5988520190109359,
            0.45150173520209214,
            0.5303282290581974,
            0.543844485642173,
            0.5206904395173338,
            0.5636567359245236,
            0.5447010492724479,
            0.5625327152441919,
            0.5075737708556732,
            0.5684336065383273,
            0.507553918635917,
            0.4603912063476516,
            0.5672974074907985,
            0.5663010635241154,
            0.5773162471942738,
            0.4933530833254539,
            0.6043633935220168,
            0.5070763834841227,
            0.5687753451457324
           ]
          },
          {
           "label": "reg_lambda",
           "range": [
            0.0011590902964488947,
            0.9834493766627649
           ],
           "values": [
            0.9522249340602004,
            0.21750607065015948,
            0.9834493766627649,
            0.8830136549712072,
            0.38381354202838025,
            0.5225777002843698,
            0.07406821450770718,
            0.7520765703840404,
            0.09655939851917572,
            0.07504159992057202,
            0.7011225824523346,
            0.6652985524704578,
            0.7028421079619821,
            0.5669347520093111,
            0.49260738795466397,
            0.5778812023436224,
            0.3683891832545144,
            0.8027872436840107,
            0.6039842818650989,
            0.39103135777731846,
            0.631564014320551,
            0.41253584867656445,
            0.2675126296622869,
            0.2399512243316662,
            0.22480491121540513,
            0.4963890142080697,
            0.3071418365434319,
            0.3306861254939131,
            0.7953308645939553,
            0.46656073594461284,
            0.16532712250131018,
            0.655625989553841,
            0.5562489086930273,
            0.2971599905516371,
            0.9018041627939927,
            0.16253619521930532,
            0.25682533187906104,
            0.45329747902338424,
            0.14504713434546335,
            0.0011590902964488947,
            0.5369858140188581,
            0.27781266582293856,
            0.29944063175830077,
            0.3402284018644666,
            0.6738852811320696,
            0.4165542453558383,
            0.1876522430373596,
            0.4195824248571888,
            0.27956051411162,
            0.34060260324251557,
            0.339460277569527,
            0.42682204956632364,
            0.3696748548700826,
            0.11537354924699894,
            0.10972982805665321,
            0.015575439010684991,
            0.02274971044070462,
            0.019774277654326905,
            0.01709243592604115,
            0.043458040751763335,
            0.06763779492601463,
            0.09573326268003408,
            0.09747918075339926,
            0.11261977779746234,
            0.03819219205844872,
            0.07665846441605366,
            0.10960330004670381,
            0.1341046341011504,
            0.18715496048077046,
            0.0661219832337083,
            0.09089815295324208,
            0.03132394149681897,
            0.04700287225770064,
            0.19065371048462276,
            0.13051102844302753,
            0.245679289100102,
            0.23688053097736184,
            0.06218018994113908,
            0.2158856619720591,
            0.15950548934749198,
            0.002351986477220569,
            0.10249068985899257,
            0.09821844696632906,
            0.09106222451236848,
            0.08291686477716405,
            0.14556122938140198,
            0.20620578058753267,
            0.17088768288515593,
            0.14981296391789223,
            0.12835179743513575,
            0.04593627972524153,
            0.25837176524727545,
            0.17524674889800929,
            0.2502926574252551,
            0.17784961830536106,
            0.16450501135885506,
            0.22769771253388954,
            0.14714289966177793,
            0.21113052551024963,
            0.20756180715376887,
            0.20493059219972334,
            0.14611124141254364,
            0.17308184503133217,
            0.11934474031278375,
            0.12872669974767026,
            0.12969815728096323,
            0.13264887455706684,
            0.12249997746316174,
            0.08309464828348233,
            0.08006029158176448,
            0.07892417476146252,
            0.0829205329512665,
            0.07142298856982944,
            0.08374379206697358,
            0.0745714402413655,
            0.05097961357729251,
            0.05907485901891632,
            0.05960823991836005,
            0.03923824201120504,
            0.1102092495115464
           ]
          }
         ],
         "labelangle": 30,
         "labelside": "bottom",
         "line": {
          "color": [
           11140.777578189673,
           6635.846647553097,
           8709.999409050342,
           8597.406102868896,
           6813.299302663235,
           8634.856156304972,
           8891.234104181756,
           5956.466127105106,
           6181.336742881118,
           6143.492774407595,
           13369.603787251655,
           2263.2927595732226,
           3353.0375020614524,
           2231.2217467857513,
           8796.438256270048,
           8988.942818546926,
           2913.530459574516,
           9394.19160350269,
           8978.638595480003,
           6750.926207687681,
           6219.716767367938,
           2899.6743651131133,
           2847.9577634697716,
           5945.4560344771835,
           6708.641132481051,
           8822.107759791494,
           2180.0105107793743,
           6062.516999503635,
           6723.445395766505,
           6009.7937775668715,
           7002.801039739949,
           5596.686610746068,
           2941.5620955915642,
           5950.424884114044,
           3258.1594474741955,
           5985.084206082173,
           1963.9127344800936,
           6530.0433438534765,
           7048.908920894395,
           9236.25416534626,
           8751.824272509442,
           2259.1359665220148,
           2271.7644936264746,
           6816.9436305721865,
           6119.9617736007995,
           2140.574708041766,
           6278.398415470755,
           2306.0091471893106,
           2133.7972013966137,
           2091.9470511935406,
           6949.964135378402,
           2252.1389578509807,
           6224.356152869218,
           1987.6293405697045,
           6410.909622293434,
           1984.120377092172,
           1994.0002049326108,
           1979.6536935970482,
           7026.767893001734,
           9481.618851617472,
           8736.25330438677,
           1974.696693470936,
           1978.7627466467043,
           2016.065510932973,
           6402.35236990215,
           6465.766979293318,
           1903.6644456876036,
           6740.340791815954,
           6527.248095177657,
           2039.33178104628,
           2186.192525901542,
           1991.7413024902344,
           1947.7651722889073,
           6583.033698884067,
           6138.360775777046,
           1952.5892758401023,
           6736.335527230573,
           9557.049194335938,
           2005.4279136405087,
           6328.262904691381,
           2058.719069525106,
           1955.1597247597397,
           1960.7785468701495,
           1921.325947338382,
           1907.2540588378906,
           1936.954903305761,
           7066.305830443932,
           1934.88213464598,
           6609.024515114083,
           6630.07074783022,
           6498.364183640638,
           1942.0213542205609,
           1922.3463221669986,
           6471.392205446761,
           1974.4377572773308,
           6452.933500176234,
           9572.15787571787,
           1891.6327223619878,
           1923.1835029551526,
           1939.3918911763374,
           9544.912768231323,
           1968.6013010795543,
           6496.4188741721855,
           1842.2484904914502,
           1927.5401223290046,
           1829.0946291487737,
           1853.0565013759183,
           1932.2834670717352,
           1905.0593631567544,
           1848.778911868468,
           1869.2219135208636,
           1863.441361888355,
           1843.6622995540795,
           1839.1828920478063,
           1881.2516014654905,
           1823.9205247487453,
           1911.4583000536786,
           1916.9701693705376,
           6837.939310743319,
           6979.395497101033
          ],
          "colorbar": {
           "title": {
            "text": "Objective Value"
           }
          },
          "colorscale": [
           [
            0,
            "rgb(247,251,255)"
           ],
           [
            0.125,
            "rgb(222,235,247)"
           ],
           [
            0.25,
            "rgb(198,219,239)"
           ],
           [
            0.375,
            "rgb(158,202,225)"
           ],
           [
            0.5,
            "rgb(107,174,214)"
           ],
           [
            0.625,
            "rgb(66,146,198)"
           ],
           [
            0.75,
            "rgb(33,113,181)"
           ],
           [
            0.875,
            "rgb(8,81,156)"
           ],
           [
            1,
            "rgb(8,48,107)"
           ]
          ],
          "reversescale": true,
          "showscale": true
         },
         "type": "parcoords"
        }
       ],
       "layout": {
        "autosize": true,
        "template": {
         "data": {
          "bar": [
           {
            "error_x": {
             "color": "#2a3f5f"
            },
            "error_y": {
             "color": "#2a3f5f"
            },
            "marker": {
             "line": {
              "color": "#E5ECF6",
              "width": 0.5
             },
             "pattern": {
              "fillmode": "overlay",
              "size": 10,
              "solidity": 0.2
             }
            },
            "type": "bar"
           }
          ],
          "barpolar": [
           {
            "marker": {
             "line": {
              "color": "#E5ECF6",
              "width": 0.5
             },
             "pattern": {
              "fillmode": "overlay",
              "size": 10,
              "solidity": 0.2
             }
            },
            "type": "barpolar"
           }
          ],
          "carpet": [
           {
            "aaxis": {
             "endlinecolor": "#2a3f5f",
             "gridcolor": "white",
             "linecolor": "white",
             "minorgridcolor": "white",
             "startlinecolor": "#2a3f5f"
            },
            "baxis": {
             "endlinecolor": "#2a3f5f",
             "gridcolor": "white",
             "linecolor": "white",
             "minorgridcolor": "white",
             "startlinecolor": "#2a3f5f"
            },
            "type": "carpet"
           }
          ],
          "choropleth": [
           {
            "colorbar": {
             "outlinewidth": 0,
             "ticks": ""
            },
            "type": "choropleth"
           }
          ],
          "contour": [
           {
            "colorbar": {
             "outlinewidth": 0,
             "ticks": ""
            },
            "colorscale": [
             [
              0,
              "#0d0887"
             ],
             [
              0.1111111111111111,
              "#46039f"
             ],
             [
              0.2222222222222222,
              "#7201a8"
             ],
             [
              0.3333333333333333,
              "#9c179e"
             ],
             [
              0.4444444444444444,
              "#bd3786"
             ],
             [
              0.5555555555555556,
              "#d8576b"
             ],
             [
              0.6666666666666666,
              "#ed7953"
             ],
             [
              0.7777777777777778,
              "#fb9f3a"
             ],
             [
              0.8888888888888888,
              "#fdca26"
             ],
             [
              1,
              "#f0f921"
             ]
            ],
            "type": "contour"
           }
          ],
          "contourcarpet": [
           {
            "colorbar": {
             "outlinewidth": 0,
             "ticks": ""
            },
            "type": "contourcarpet"
           }
          ],
          "heatmap": [
           {
            "colorbar": {
             "outlinewidth": 0,
             "ticks": ""
            },
            "colorscale": [
             [
              0,
              "#0d0887"
             ],
             [
              0.1111111111111111,
              "#46039f"
             ],
             [
              0.2222222222222222,
              "#7201a8"
             ],
             [
              0.3333333333333333,
              "#9c179e"
             ],
             [
              0.4444444444444444,
              "#bd3786"
             ],
             [
              0.5555555555555556,
              "#d8576b"
             ],
             [
              0.6666666666666666,
              "#ed7953"
             ],
             [
              0.7777777777777778,
              "#fb9f3a"
             ],
             [
              0.8888888888888888,
              "#fdca26"
             ],
             [
              1,
              "#f0f921"
             ]
            ],
            "type": "heatmap"
           }
          ],
          "heatmapgl": [
           {
            "colorbar": {
             "outlinewidth": 0,
             "ticks": ""
            },
            "colorscale": [
             [
              0,
              "#0d0887"
             ],
             [
              0.1111111111111111,
              "#46039f"
             ],
             [
              0.2222222222222222,
              "#7201a8"
             ],
             [
              0.3333333333333333,
              "#9c179e"
             ],
             [
              0.4444444444444444,
              "#bd3786"
             ],
             [
              0.5555555555555556,
              "#d8576b"
             ],
             [
              0.6666666666666666,
              "#ed7953"
             ],
             [
              0.7777777777777778,
              "#fb9f3a"
             ],
             [
              0.8888888888888888,
              "#fdca26"
             ],
             [
              1,
              "#f0f921"
             ]
            ],
            "type": "heatmapgl"
           }
          ],
          "histogram": [
           {
            "marker": {
             "pattern": {
              "fillmode": "overlay",
              "size": 10,
              "solidity": 0.2
             }
            },
            "type": "histogram"
           }
          ],
          "histogram2d": [
           {
            "colorbar": {
             "outlinewidth": 0,
             "ticks": ""
            },
            "colorscale": [
             [
              0,
              "#0d0887"
             ],
             [
              0.1111111111111111,
              "#46039f"
             ],
             [
              0.2222222222222222,
              "#7201a8"
             ],
             [
              0.3333333333333333,
              "#9c179e"
             ],
             [
              0.4444444444444444,
              "#bd3786"
             ],
             [
              0.5555555555555556,
              "#d8576b"
             ],
             [
              0.6666666666666666,
              "#ed7953"
             ],
             [
              0.7777777777777778,
              "#fb9f3a"
             ],
             [
              0.8888888888888888,
              "#fdca26"
             ],
             [
              1,
              "#f0f921"
             ]
            ],
            "type": "histogram2d"
           }
          ],
          "histogram2dcontour": [
           {
            "colorbar": {
             "outlinewidth": 0,
             "ticks": ""
            },
            "colorscale": [
             [
              0,
              "#0d0887"
             ],
             [
              0.1111111111111111,
              "#46039f"
             ],
             [
              0.2222222222222222,
              "#7201a8"
             ],
             [
              0.3333333333333333,
              "#9c179e"
             ],
             [
              0.4444444444444444,
              "#bd3786"
             ],
             [
              0.5555555555555556,
              "#d8576b"
             ],
             [
              0.6666666666666666,
              "#ed7953"
             ],
             [
              0.7777777777777778,
              "#fb9f3a"
             ],
             [
              0.8888888888888888,
              "#fdca26"
             ],
             [
              1,
              "#f0f921"
             ]
            ],
            "type": "histogram2dcontour"
           }
          ],
          "mesh3d": [
           {
            "colorbar": {
             "outlinewidth": 0,
             "ticks": ""
            },
            "type": "mesh3d"
           }
          ],
          "parcoords": [
           {
            "line": {
             "colorbar": {
              "outlinewidth": 0,
              "ticks": ""
             }
            },
            "type": "parcoords"
           }
          ],
          "pie": [
           {
            "automargin": true,
            "type": "pie"
           }
          ],
          "scatter": [
           {
            "fillpattern": {
             "fillmode": "overlay",
             "size": 10,
             "solidity": 0.2
            },
            "type": "scatter"
           }
          ],
          "scatter3d": [
           {
            "line": {
             "colorbar": {
              "outlinewidth": 0,
              "ticks": ""
             }
            },
            "marker": {
             "colorbar": {
              "outlinewidth": 0,
              "ticks": ""
             }
            },
            "type": "scatter3d"
           }
          ],
          "scattercarpet": [
           {
            "marker": {
             "colorbar": {
              "outlinewidth": 0,
              "ticks": ""
             }
            },
            "type": "scattercarpet"
           }
          ],
          "scattergeo": [
           {
            "marker": {
             "colorbar": {
              "outlinewidth": 0,
              "ticks": ""
             }
            },
            "type": "scattergeo"
           }
          ],
          "scattergl": [
           {
            "marker": {
             "colorbar": {
              "outlinewidth": 0,
              "ticks": ""
             }
            },
            "type": "scattergl"
           }
          ],
          "scattermapbox": [
           {
            "marker": {
             "colorbar": {
              "outlinewidth": 0,
              "ticks": ""
             }
            },
            "type": "scattermapbox"
           }
          ],
          "scatterpolar": [
           {
            "marker": {
             "colorbar": {
              "outlinewidth": 0,
              "ticks": ""
             }
            },
            "type": "scatterpolar"
           }
          ],
          "scatterpolargl": [
           {
            "marker": {
             "colorbar": {
              "outlinewidth": 0,
              "ticks": ""
             }
            },
            "type": "scatterpolargl"
           }
          ],
          "scatterternary": [
           {
            "marker": {
             "colorbar": {
              "outlinewidth": 0,
              "ticks": ""
             }
            },
            "type": "scatterternary"
           }
          ],
          "surface": [
           {
            "colorbar": {
             "outlinewidth": 0,
             "ticks": ""
            },
            "colorscale": [
             [
              0,
              "#0d0887"
             ],
             [
              0.1111111111111111,
              "#46039f"
             ],
             [
              0.2222222222222222,
              "#7201a8"
             ],
             [
              0.3333333333333333,
              "#9c179e"
             ],
             [
              0.4444444444444444,
              "#bd3786"
             ],
             [
              0.5555555555555556,
              "#d8576b"
             ],
             [
              0.6666666666666666,
              "#ed7953"
             ],
             [
              0.7777777777777778,
              "#fb9f3a"
             ],
             [
              0.8888888888888888,
              "#fdca26"
             ],
             [
              1,
              "#f0f921"
             ]
            ],
            "type": "surface"
           }
          ],
          "table": [
           {
            "cells": {
             "fill": {
              "color": "#EBF0F8"
             },
             "line": {
              "color": "white"
             }
            },
            "header": {
             "fill": {
              "color": "#C8D4E3"
             },
             "line": {
              "color": "white"
             }
            },
            "type": "table"
           }
          ]
         },
         "layout": {
          "annotationdefaults": {
           "arrowcolor": "#2a3f5f",
           "arrowhead": 0,
           "arrowwidth": 1
          },
          "autotypenumbers": "strict",
          "coloraxis": {
           "colorbar": {
            "outlinewidth": 0,
            "ticks": ""
           }
          },
          "colorscale": {
           "diverging": [
            [
             0,
             "#8e0152"
            ],
            [
             0.1,
             "#c51b7d"
            ],
            [
             0.2,
             "#de77ae"
            ],
            [
             0.3,
             "#f1b6da"
            ],
            [
             0.4,
             "#fde0ef"
            ],
            [
             0.5,
             "#f7f7f7"
            ],
            [
             0.6,
             "#e6f5d0"
            ],
            [
             0.7,
             "#b8e186"
            ],
            [
             0.8,
             "#7fbc41"
            ],
            [
             0.9,
             "#4d9221"
            ],
            [
             1,
             "#276419"
            ]
           ],
           "sequential": [
            [
             0,
             "#0d0887"
            ],
            [
             0.1111111111111111,
             "#46039f"
            ],
            [
             0.2222222222222222,
             "#7201a8"
            ],
            [
             0.3333333333333333,
             "#9c179e"
            ],
            [
             0.4444444444444444,
             "#bd3786"
            ],
            [
             0.5555555555555556,
             "#d8576b"
            ],
            [
             0.6666666666666666,
             "#ed7953"
            ],
            [
             0.7777777777777778,
             "#fb9f3a"
            ],
            [
             0.8888888888888888,
             "#fdca26"
            ],
            [
             1,
             "#f0f921"
            ]
           ],
           "sequentialminus": [
            [
             0,
             "#0d0887"
            ],
            [
             0.1111111111111111,
             "#46039f"
            ],
            [
             0.2222222222222222,
             "#7201a8"
            ],
            [
             0.3333333333333333,
             "#9c179e"
            ],
            [
             0.4444444444444444,
             "#bd3786"
            ],
            [
             0.5555555555555556,
             "#d8576b"
            ],
            [
             0.6666666666666666,
             "#ed7953"
            ],
            [
             0.7777777777777778,
             "#fb9f3a"
            ],
            [
             0.8888888888888888,
             "#fdca26"
            ],
            [
             1,
             "#f0f921"
            ]
           ]
          },
          "colorway": [
           "#636efa",
           "#EF553B",
           "#00cc96",
           "#ab63fa",
           "#FFA15A",
           "#19d3f3",
           "#FF6692",
           "#B6E880",
           "#FF97FF",
           "#FECB52"
          ],
          "font": {
           "color": "#2a3f5f"
          },
          "geo": {
           "bgcolor": "white",
           "lakecolor": "white",
           "landcolor": "#E5ECF6",
           "showlakes": true,
           "showland": true,
           "subunitcolor": "white"
          },
          "hoverlabel": {
           "align": "left"
          },
          "hovermode": "closest",
          "mapbox": {
           "style": "light"
          },
          "paper_bgcolor": "white",
          "plot_bgcolor": "#E5ECF6",
          "polar": {
           "angularaxis": {
            "gridcolor": "white",
            "linecolor": "white",
            "ticks": ""
           },
           "bgcolor": "#E5ECF6",
           "radialaxis": {
            "gridcolor": "white",
            "linecolor": "white",
            "ticks": ""
           }
          },
          "scene": {
           "xaxis": {
            "backgroundcolor": "#E5ECF6",
            "gridcolor": "white",
            "gridwidth": 2,
            "linecolor": "white",
            "showbackground": true,
            "ticks": "",
            "zerolinecolor": "white"
           },
           "yaxis": {
            "backgroundcolor": "#E5ECF6",
            "gridcolor": "white",
            "gridwidth": 2,
            "linecolor": "white",
            "showbackground": true,
            "ticks": "",
            "zerolinecolor": "white"
           },
           "zaxis": {
            "backgroundcolor": "#E5ECF6",
            "gridcolor": "white",
            "gridwidth": 2,
            "linecolor": "white",
            "showbackground": true,
            "ticks": "",
            "zerolinecolor": "white"
           }
          },
          "shapedefaults": {
           "line": {
            "color": "#2a3f5f"
           }
          },
          "ternary": {
           "aaxis": {
            "gridcolor": "white",
            "linecolor": "white",
            "ticks": ""
           },
           "baxis": {
            "gridcolor": "white",
            "linecolor": "white",
            "ticks": ""
           },
           "bgcolor": "#E5ECF6",
           "caxis": {
            "gridcolor": "white",
            "linecolor": "white",
            "ticks": ""
           }
          },
          "title": {
           "x": 0.05
          },
          "xaxis": {
           "automargin": true,
           "gridcolor": "white",
           "linecolor": "white",
           "ticks": "",
           "title": {
            "standoff": 15
           },
           "zerolinecolor": "white",
           "zerolinewidth": 2
          },
          "yaxis": {
           "automargin": true,
           "gridcolor": "white",
           "linecolor": "white",
           "ticks": "",
           "title": {
            "standoff": 15
           },
           "zerolinecolor": "white",
           "zerolinewidth": 2
          }
         }
        },
        "title": {
         "text": "Parallel Coordinate Plot"
        }
       }
      },
      "image/png": "[encoded data removed]",
      "text/html": [
       "<div>                            <div id=\"670a4135-a7d6-44a4-8770-5792a8d1f57b\" class=\"plotly-graph-div\" style=\"height:525px; width:100%;\"></div>            <script type=\"text/javascript\">                require([\"plotly\"], function(Plotly) {                    window.PLOTLYENV=window.PLOTLYENV || {};                                    if (document.getElementById(\"670a4135-a7d6-44a4-8770-5792a8d1f57b\")) {                    Plotly.newPlot(                        \"670a4135-a7d6-44a4-8770-5792a8d1f57b\",                        [{\"dimensions\":[{\"label\":\"Objective Value\",\"range\":[1823.9205247487453,13369.603787251655],\"values\":[11140.777578189673,6635.846647553097,8709.999409050342,8597.406102868896,6813.299302663235,8634.856156304972,8891.234104181756,5956.466127105106,6181.336742881118,6143.492774407595,13369.603787251655,2263.2927595732226,3353.0375020614524,2231.2217467857513,8796.438256270048,8988.942818546926,2913.530459574516,9394.19160350269,8978.638595480003,6750.926207687681,6219.716767367938,2899.6743651131133,2847.9577634697716,5945.4560344771835,6708.641132481051,8822.107759791494,2180.0105107793743,6062.516999503635,6723.445395766505,6009.7937775668715,7002.801039739949,5596.686610746068,2941.5620955915642,5950.424884114044,3258.1594474741955,5985.084206082173,1963.9127344800936,6530.0433438534765,7048.908920894395,9236.25416534626,8751.824272509442,2259.1359665220148,2271.7644936264746,6816.9436305721865,6119.9617736007995,2140.574708041766,6278.398415470755,2306.0091471893106,2133.7972013966137,2091.9470511935406,6949.964135378402,2252.1389578509807,6224.356152869218,1987.6293405697045,6410.909622293434,1984.120377092172,1994.0002049326108,1979.6536935970482,7026.767893001734,9481.618851617472,8736.25330438677,1974.696693470936,1978.7627466467043,2016.065510932973,6402.35236990215,6465.766979293318,1903.6644456876036,6740.340791815954,6527.248095177657,2039.33178104628,2186.192525901542,1991.7413024902344,1947.7651722889073,6583.033698884067,6138.360775777046,1952.5892758401023,6736.335527230573,9557.049194335938,2005.4279136405087,6328.262904691381,2058.719069525106,1955.1597247597397,1960.7785468701495,1921.325947338382,1907.2540588378906,1936.954903305761,7066.305830443932,1934.88213464598,6609.024515114083,6630.07074783022,6498.364183640638,1942.0213542205609,1922.3463221669986,6471.392205446761,1974.4377572773308,6452.933500176234,9572.15787571787,1891.6327223619878,1923.1835029551526,1939.3918911763374,9544.912768231323,1968.6013010795543,6496.4188741721855,1842.2484904914502,1927.5401223290046,1829.0946291487737,1853.0565013759183,1932.2834670717352,1905.0593631567544,1848.778911868468,1869.2219135208636,1863.441361888355,1843.6622995540795,1839.1828920478063,1881.2516014654905,1823.9205247487453,1911.4583000536786,1916.9701693705376,6837.939310743319,6979.395497101033]},{\"label\":\"learning_rate\",\"range\":[0.002602004044944553,0.09841456845541514],\"values\":[0.005582858013997575,0.05119555339319663,0.01454396298340439,0.04723930323813348,0.0888490467821646,0.05560530690547149,0.08044626124311946,0.06723414957197096,0.09841456845541514,0.012249167483910701,0.06814354553675538,0.029891044475397734,0.03306326539914199,0.030183269454628268,0.030994341822196986,0.030126117025792713,0.0189056535467325,0.044772065890266645,0.037266463143469146,0.023930219932261364,0.004558796618686797,0.02032583211630736,0.02140204458803697,0.04045701895170681,0.023481162033960223,0.05645256450837223,0.02753519425489854,0.03808589988773274,0.028918389065681463,0.009121629619287988,0.0642107095264308,0.002602004044944553,0.017206973422815457,0.026271993891453276,0.010243254037720636,0.04151332298924484,0.04837945046957666,0.049941911014223433,0.05892107545578998,0.0462857155887137,0.03469134578564237,0.014036363579202248,0.013348090297734823,0.07488181270860583,0.016041065860667357,0.02755491200959571,0.052227540706907785,0.02617029070413622,0.03460207148584624,0.04325557432308948,0.04478743701137161,0.034999413913674386,0.040036094127218556,0.05030417494277652,0.05314977769273416,0.04793998701267041,0.06272521036608486,0.057715059201643854,0.061179874203578344,0.06862558639940416,0.0740890590919792,0.04934060043889521,0.049580362737467125,0.04888623898116423,0.055157215661188225,0.05989641180170055,0.06372464531530819,0.06625576238486745,0.05540385890520102,0.05014921568183515,0.04726068989837305,0.06307123610933489,0.05772036970089543,0.057587525208036686,0.07075110876272106,0.052377432133809305,0.08729288393501286,0.05319587392077835,0.05800188767317319,0.047461275045853395,0.04249866340574431,0.05139511808780397,0.05456013223904525,0.05421784965490503,0.053950671317521834,0.05211052872413799,0.054049224753038555,0.05990122514621572,0.0656130699369754,0.05985081290821622,0.05205200320859988,0.04483762553744442,0.04482129190179814,0.04567077299446742,0.04400106236687133,0.037787830252740545,0.05658451962326402,0.060817535869848796,0.06136949676734444,0.07057312290634835,0.07031102203287137,0.06168573261618736,0.06410142907802786,0.06881299635614814,0.07484286371691432,0.0797886744731229,0.0801235372634346,0.08137404188367234,0.08215942821077316,0.07977258296331144,0.08037978343352023,0.08615615561133849,0.08196433279716248,0.08242673267218706,0.08235330261045265,0.08222314033086457,0.08552056874968321,0.09548889545004871,0.07850274805755984,0.09174974633456248]},{\"label\":\"max_depth\",\"range\":[3,10],\"values\":[4,8,10,3,8,4,8,6,7,3,6,5,5,5,5,5,4,7,6,5,10,4,4,3,5,4,6,7,6,6,9,5,4,5,4,3,7,7,8,6,8,7,7,7,6,8,8,9,9,9,9,9,10,9,9,8,8,10,10,10,8,9,9,10,8,9,8,10,9,9,8,8,8,9,10,8,7,8,7,8,8,9,8,9,9,9,7,8,8,9,9,8,8,8,8,9,8,9,8,8,9,8,8,8,7,7,7,7,7,7,7,7,7,7,7,7,6,7,7,7]},{\"label\":\"max_leaves\",\"range\":[1,100],\"values\":[45,94,64,53,28,47,31,7,31,78,1,86,5,99,100,85,75,89,70,100,63,79,82,87,92,82,70,69,55,61,95,72,83,92,78,38,96,96,88,100,66,91,95,91,17,86,57,46,96,97,73,97,97,87,78,86,89,89,82,87,76,90,90,90,83,85,92,93,79,93,39,89,84,84,80,86,75,100,94,50,91,87,81,81,81,81,67,81,72,81,76,81,77,74,77,84,70,79,61,57,59,65,54,79,62,63,69,61,62,68,67,68,68,69,67,68,68,65,71,70]},{\"label\":\"min_child_weight\",\"range\":[1,5],\"values\":[3,5,3,4,4,3,2,2,2,1,1,1,2,1,1,1,1,2,4,1,5,1,1,2,1,2,1,2,1,3,2,1,1,1,1,3,1,4,2,1,3,1,1,1,2,1,1,2,1,1,5,1,1,1,1,2,2,2,2,2,2,2,2,2,3,2,3,3,4,3,2,2,2,3,2,2,2,2,3,2,4,2,2,2,2,2,3,2,2,2,2,2,2,2,2,2,2,2,2,2,2,2,2,2,2,2,2,2,2,3,3,3,3,3,3,3,3,3,3,3]},{\"label\":\"min_frequency\",\"range\":[0.00042003886601091334,0.9951934104566905],\"values\":[0.07474084414082505,0.12201163699543205,0.7314009993405658,0.5140833125073319,0.2528792737497081,0.3836504421262442,0.7902043111930501,0.19004732769823296,0.1996652220040489,0.15791374774105282,0.546745212644285,0.010902724789623286,0.013658084369225248,0.004671849522659279,0.9410213065161138,0.3426661918470368,0.008157635242998583,0.39614381206453975,0.6533977992571454,0.30453649140264244,0.08796798698016682,0.006832109120451863,0.028285862344646476,0.09510596937948146,0.24459919524606205,0.4421841143986459,0.06552707461648362,0.1329324846409538,0.2691839317690611,0.09728964197315278,0.20676049462145663,0.04930564403314783,0.06608856043129342,0.16497376526279253,0.04762385530876129,0.13391485744929263,0.06402910676900317,0.10777798232419045,0.24621887174096468,0.5922915052874438,0.847234362833413,0.06055060472882522,0.05628488053006614,0.16606812508739954,0.20051068942334027,0.008388262056969225,0.1320634041776052,0.07960772771213089,0.05677899148623396,0.0035456789059969893,0.3118186253053418,0.0018381203320694314,0.1136456718059619,0.0455579655315167,0.1607997338474504,0.03740681089389899,0.02607328719975781,0.03550804069696516,0.21582087140399087,0.9951934104566905,0.48232575492914725,0.049489444229163015,0.036963128629135575,0.03781360239749788,0.10512297214835908,0.1378054635218863,0.03448062162518923,0.08579979064526982,0.17867235906301948,0.07970632373132659,0.03315212495471212,0.044454010506953426,0.0334642935518345,0.12111035713435513,0.08436820954712752,0.028087535101985063,0.14222370066437617,0.6626561174276082,0.031114783322139607,0.0962550467654456,0.00042003886601091334,0.06797168192353756,0.06961580180132784,0.07014553761574968,0.07036437125277759,0.07047567034090282,0.22095550031136035,0.07202219282053668,0.11089028344208451,0.18645898842129857,0.1527400222891886,0.07031061488939125,0.06986871023081995,0.11251575079858375,0.07362120653151648,0.09275643160479796,0.3812808348537481,0.01789542468847708,0.02486220405613568,0.0006409930765523437,0.801906408971565,0.019621003817672573,0.12714439897434382,0.05959718098975881,0.013885453362939539,0.0005332700392830722,0.023271195132267452,0.01502095292553967,0.016177308083167287,0.022853387941642756,0.05276075358199753,0.05535299417423586,0.05049076948212232,0.05026308716992306,0.050447272978040414,0.052556998273338824,0.05235806564042058,0.048484323096817813,0.10048874579542326,0.09357199491103192]},{\"label\":\"n_estimators\",\"range\":[55,998],\"values\":[72,898,543,179,412,193,377,565,108,833,670,907,987,983,750,985,801,684,895,911,653,782,786,996,858,727,601,407,623,472,326,934,842,726,943,571,886,875,475,936,256,804,825,880,931,611,605,531,478,447,481,342,437,562,588,511,538,518,371,515,55,514,540,545,510,555,671,641,697,401,503,571,660,667,637,754,704,772,719,754,440,578,677,674,755,658,669,749,747,688,744,813,809,818,775,793,715,859,859,858,864,843,813,846,961,955,960,971,969,910,912,911,909,906,913,913,923,904,952,998]},{\"label\":\"reg_alpha\",\"range\":[0.011431128953260664,0.9934663861815286],\"values\":[0.931446457717315,0.0930422788325701,0.4904438714610625,0.30694913534932966,0.5172983267503276,0.860778123159474,0.26890768191548775,0.26400555276534066,0.2907268720953222,0.01658752474556824,0.6801056996437609,0.029864206529708337,0.16848307131752133,0.12152129794453292,0.011431128953260664,0.41540786278232544,0.1307009365894846,0.7087169800437436,0.18433821075908383,0.39629040465019,0.07368411305899199,0.1494100717222576,0.1991335010538997,0.21541795026427432,0.011591382545999951,0.3680822086592962,0.09090213729096425,0.07033764499505521,0.5908236102769799,0.9459119974489618,0.09868119888266096,0.20782890496373185,0.05867928016085608,0.12627310754110793,0.3413900751262456,0.21712776771904663,0.47863016224360966,0.800381033418077,0.4962916298040107,0.5830186311196373,0.4530460101936568,0.2598359056355825,0.31816528474548805,0.28177525701679246,0.24283830807873819,0.1105517700784252,0.10650333729784595,0.5688796714987496,0.15488849143564332,0.1598794736077902,0.15297516241416972,0.04953359800014287,0.15896687402944565,0.8684472116684205,0.7061427109577747,0.8898637085648169,0.9000406101295871,0.9934663861815286,0.9924670053955678,0.8427943426366376,0.904688115812162,0.7696121411929709,0.7998818479235329,0.7733353542890103,0.8871800309849972,0.9726492915128848,0.8250036591488517,0.832949567739077,0.7585174247600521,0.8670556696843801,0.947487055982735,0.9112367228869772,0.9216648117289865,0.6350598173895436,0.8247317031523979,0.7702485139741626,0.7673798385118848,0.9326517446042565,0.7315657124974918,0.538760782637879,0.7977192002851916,0.8709874562207442,0.8062907172341591,0.801961397115463,0.4592186717197573,0.6619664500767162,0.4751899875668826,0.6496032814247369,0.6551955471773441,0.7293010907045624,0.6261668618767665,0.41687062627344873,0.6891726923523329,0.4216264768681615,0.6898854579086688,0.37182696906240453,0.6625378733131491,0.5264135217007448,0.5311097662971154,0.5201369048524354,0.5359647627777826,0.5988520190109359,0.45150173520209214,0.5303282290581974,0.543844485642173,0.5206904395173338,0.5636567359245236,0.5447010492724479,0.5625327152441919,0.5075737708556732,0.5684336065383273,0.507553918635917,0.4603912063476516,0.5672974074907985,0.5663010635241154,0.5773162471942738,0.4933530833254539,0.6043633935220168,0.5070763834841227,0.5687753451457324]},{\"label\":\"reg_lambda\",\"range\":[0.0011590902964488947,0.9834493766627649],\"values\":[0.9522249340602004,0.21750607065015948,0.9834493766627649,0.8830136549712072,0.38381354202838025,0.5225777002843698,0.07406821450770718,0.7520765703840404,0.09655939851917572,0.07504159992057202,0.7011225824523346,0.6652985524704578,0.7028421079619821,0.5669347520093111,0.49260738795466397,0.5778812023436224,0.3683891832545144,0.8027872436840107,0.6039842818650989,0.39103135777731846,0.631564014320551,0.41253584867656445,0.2675126296622869,0.2399512243316662,0.22480491121540513,0.4963890142080697,0.3071418365434319,0.3306861254939131,0.7953308645939553,0.46656073594461284,0.16532712250131018,0.655625989553841,0.5562489086930273,0.2971599905516371,0.9018041627939927,0.16253619521930532,0.25682533187906104,0.45329747902338424,0.14504713434546335,0.0011590902964488947,0.5369858140188581,0.27781266582293856,0.29944063175830077,0.3402284018644666,0.6738852811320696,0.4165542453558383,0.1876522430373596,0.4195824248571888,0.27956051411162,0.34060260324251557,0.339460277569527,0.42682204956632364,0.3696748548700826,0.11537354924699894,0.10972982805665321,0.015575439010684991,0.02274971044070462,0.019774277654326905,0.01709243592604115,0.043458040751763335,0.06763779492601463,0.09573326268003408,0.09747918075339926,0.11261977779746234,0.03819219205844872,0.07665846441605366,0.10960330004670381,0.1341046341011504,0.18715496048077046,0.0661219832337083,0.09089815295324208,0.03132394149681897,0.04700287225770064,0.19065371048462276,0.13051102844302753,0.245679289100102,0.23688053097736184,0.06218018994113908,0.2158856619720591,0.15950548934749198,0.002351986477220569,0.10249068985899257,0.09821844696632906,0.09106222451236848,0.08291686477716405,0.14556122938140198,0.20620578058753267,0.17088768288515593,0.14981296391789223,0.12835179743513575,0.04593627972524153,0.25837176524727545,0.17524674889800929,0.2502926574252551,0.17784961830536106,0.16450501135885506,0.22769771253388954,0.14714289966177793,0.21113052551024963,0.20756180715376887,0.20493059219972334,0.14611124141254364,0.17308184503133217,0.11934474031278375,0.12872669974767026,0.12969815728096323,0.13264887455706684,0.12249997746316174,0.08309464828348233,0.08006029158176448,0.07892417476146252,0.0829205329512665,0.07142298856982944,0.08374379206697358,0.0745714402413655,0.05097961357729251,0.05907485901891632,0.05960823991836005,0.03923824201120504,0.1102092495115464]}],\"labelangle\":30,\"labelside\":\"bottom\",\"line\":{\"color\":[11140.777578189673,6635.846647553097,8709.999409050342,8597.406102868896,6813.299302663235,8634.856156304972,8891.234104181756,5956.466127105106,6181.336742881118,6143.492774407595,13369.603787251655,2263.2927595732226,3353.0375020614524,2231.2217467857513,8796.438256270048,8988.942818546926,2913.530459574516,9394.19160350269,8978.638595480003,6750.926207687681,6219.716767367938,2899.6743651131133,2847.9577634697716,5945.4560344771835,6708.641132481051,8822.107759791494,2180.0105107793743,6062.516999503635,6723.445395766505,6009.7937775668715,7002.801039739949,5596.686610746068,2941.5620955915642,5950.424884114044,3258.1594474741955,5985.084206082173,1963.9127344800936,6530.0433438534765,7048.908920894395,9236.25416534626,8751.824272509442,2259.1359665220148,2271.7644936264746,6816.9436305721865,6119.9617736007995,2140.574708041766,6278.398415470755,2306.0091471893106,2133.7972013966137,2091.9470511935406,6949.964135378402,2252.1389578509807,6224.356152869218,1987.6293405697045,6410.909622293434,1984.120377092172,1994.0002049326108,1979.6536935970482,7026.767893001734,9481.618851617472,8736.25330438677,1974.696693470936,1978.7627466467043,2016.065510932973,6402.35236990215,6465.766979293318,1903.6644456876036,6740.340791815954,6527.248095177657,2039.33178104628,2186.192525901542,1991.7413024902344,1947.7651722889073,6583.033698884067,6138.360775777046,1952.5892758401023,6736.335527230573,9557.049194335938,2005.4279136405087,6328.262904691381,2058.719069525106,1955.1597247597397,1960.7785468701495,1921.325947338382,1907.2540588378906,1936.954903305761,7066.305830443932,1934.88213464598,6609.024515114083,6630.07074783022,6498.364183640638,1942.0213542205609,1922.3463221669986,6471.392205446761,1974.4377572773308,6452.933500176234,9572.15787571787,1891.6327223619878,1923.1835029551526,1939.3918911763374,9544.912768231323,1968.6013010795543,6496.4188741721855,1842.2484904914502,1927.5401223290046,1829.0946291487737,1853.0565013759183,1932.2834670717352,1905.0593631567544,1848.778911868468,1869.2219135208636,1863.441361888355,1843.6622995540795,1839.1828920478063,1881.2516014654905,1823.9205247487453,1911.4583000536786,1916.9701693705376,6837.939310743319,6979.395497101033],\"colorbar\":{\"title\":{\"text\":\"Objective Value\"}},\"colorscale\":[[0.0,\"rgb(247,251,255)\"],[0.125,\"rgb(222,235,247)\"],[0.25,\"rgb(198,219,239)\"],[0.375,\"rgb(158,202,225)\"],[0.5,\"rgb(107,174,214)\"],[0.625,\"rgb(66,146,198)\"],[0.75,\"rgb(33,113,181)\"],[0.875,\"rgb(8,81,156)\"],[1.0,\"rgb(8,48,107)\"]],\"reversescale\":true,\"showscale\":true},\"type\":\"parcoords\"}],                        {\"title\":{\"text\":\"Parallel Coordinate Plot\"},\"template\":{\"data\":{\"histogram2dcontour\":[{\"type\":\"histogram2dcontour\",\"colorbar\":{\"outlinewidth\":0,\"ticks\":\"\"},\"colorscale\":[[0.0,\"#0d0887\"],[0.1111111111111111,\"#46039f\"],[0.2222222222222222,\"#7201a8\"],[0.3333333333333333,\"#9c179e\"],[0.4444444444444444,\"#bd3786\"],[0.5555555555555556,\"#d8576b\"],[0.6666666666666666,\"#ed7953\"],[0.7777777777777778,\"#fb9f3a\"],[0.8888888888888888,\"#fdca26\"],[1.0,\"#f0f921\"]]}],\"choropleth\":[{\"type\":\"choropleth\",\"colorbar\":{\"outlinewidth\":0,\"ticks\":\"\"}}],\"histogram2d\":[{\"type\":\"histogram2d\",\"colorbar\":{\"outlinewidth\":0,\"ticks\":\"\"},\"colorscale\":[[0.0,\"#0d0887\"],[0.1111111111111111,\"#46039f\"],[0.2222222222222222,\"#7201a8\"],[0.3333333333333333,\"#9c179e\"],[0.4444444444444444,\"#bd3786\"],[0.5555555555555556,\"#d8576b\"],[0.6666666666666666,\"#ed7953\"],[0.7777777777777778,\"#fb9f3a\"],[0.8888888888888888,\"#fdca26\"],[1.0,\"#f0f921\"]]}],\"heatmap\":[{\"type\":\"heatmap\",\"colorbar\":{\"outlinewidth\":0,\"ticks\":\"\"},\"colorscale\":[[0.0,\"#0d0887\"],[0.1111111111111111,\"#46039f\"],[0.2222222222222222,\"#7201a8\"],[0.3333333333333333,\"#9c179e\"],[0.4444444444444444,\"#bd3786\"],[0.5555555555555556,\"#d8576b\"],[0.6666666666666666,\"#ed7953\"],[0.7777777777777778,\"#fb9f3a\"],[0.8888888888888888,\"#fdca26\"],[1.0,\"#f0f921\"]]}],\"heatmapgl\":[{\"type\":\"heatmapgl\",\"colorbar\":{\"outlinewidth\":0,\"ticks\":\"\"},\"colorscale\":[[0.0,\"#0d0887\"],[0.1111111111111111,\"#46039f\"],[0.2222222222222222,\"#7201a8\"],[0.3333333333333333,\"#9c179e\"],[0.4444444444444444,\"#bd3786\"],[0.5555555555555556,\"#d8576b\"],[0.6666666666666666,\"#ed7953\"],[0.7777777777777778,\"#fb9f3a\"],[0.8888888888888888,\"#fdca26\"],[1.0,\"#f0f921\"]]}],\"contourcarpet\":[{\"type\":\"contourcarpet\",\"colorbar\":{\"outlinewidth\":0,\"ticks\":\"\"}}],\"contour\":[{\"type\":\"contour\",\"colorbar\":{\"outlinewidth\":0,\"ticks\":\"\"},\"colorscale\":[[0.0,\"#0d0887\"],[0.1111111111111111,\"#46039f\"],[0.2222222222222222,\"#7201a8\"],[0.3333333333333333,\"#9c179e\"],[0.4444444444444444,\"#bd3786\"],[0.5555555555555556,\"#d8576b\"],[0.6666666666666666,\"#ed7953\"],[0.7777777777777778,\"#fb9f3a\"],[0.8888888888888888,\"#fdca26\"],[1.0,\"#f0f921\"]]}],\"surface\":[{\"type\":\"surface\",\"colorbar\":{\"outlinewidth\":0,\"ticks\":\"\"},\"colorscale\":[[0.0,\"#0d0887\"],[0.1111111111111111,\"#46039f\"],[0.2222222222222222,\"#7201a8\"],[0.3333333333333333,\"#9c179e\"],[0.4444444444444444,\"#bd3786\"],[0.5555555555555556,\"#d8576b\"],[0.6666666666666666,\"#ed7953\"],[0.7777777777777778,\"#fb9f3a\"],[0.8888888888888888,\"#fdca26\"],[1.0,\"#f0f921\"]]}],\"mesh3d\":[{\"type\":\"mesh3d\",\"colorbar\":{\"outlinewidth\":0,\"ticks\":\"\"}}],\"scatter\":[{\"fillpattern\":{\"fillmode\":\"overlay\",\"size\":10,\"solidity\":0.2},\"type\":\"scatter\"}],\"parcoords\":[{\"type\":\"parcoords\",\"line\":{\"colorbar\":{\"outlinewidth\":0,\"ticks\":\"\"}}}],\"scatterpolargl\":[{\"type\":\"scatterpolargl\",\"marker\":{\"colorbar\":{\"outlinewidth\":0,\"ticks\":\"\"}}}],\"bar\":[{\"error_x\":{\"color\":\"#2a3f5f\"},\"error_y\":{\"color\":\"#2a3f5f\"},\"marker\":{\"line\":{\"color\":\"#E5ECF6\",\"width\":0.5},\"pattern\":{\"fillmode\":\"overlay\",\"size\":10,\"solidity\":0.2}},\"type\":\"bar\"}],\"scattergeo\":[{\"type\":\"scattergeo\",\"marker\":{\"colorbar\":{\"outlinewidth\":0,\"ticks\":\"\"}}}],\"scatterpolar\":[{\"type\":\"scatterpolar\",\"marker\":{\"colorbar\":{\"outlinewidth\":0,\"ticks\":\"\"}}}],\"histogram\":[{\"marker\":{\"pattern\":{\"fillmode\":\"overlay\",\"size\":10,\"solidity\":0.2}},\"type\":\"histogram\"}],\"scattergl\":[{\"type\":\"scattergl\",\"marker\":{\"colorbar\":{\"outlinewidth\":0,\"ticks\":\"\"}}}],\"scatter3d\":[{\"type\":\"scatter3d\",\"line\":{\"colorbar\":{\"outlinewidth\":0,\"ticks\":\"\"}},\"marker\":{\"colorbar\":{\"outlinewidth\":0,\"ticks\":\"\"}}}],\"scattermapbox\":[{\"type\":\"scattermapbox\",\"marker\":{\"colorbar\":{\"outlinewidth\":0,\"ticks\":\"\"}}}],\"scatterternary\":[{\"type\":\"scatterternary\",\"marker\":{\"colorbar\":{\"outlinewidth\":0,\"ticks\":\"\"}}}],\"scattercarpet\":[{\"type\":\"scattercarpet\",\"marker\":{\"colorbar\":{\"outlinewidth\":0,\"ticks\":\"\"}}}],\"carpet\":[{\"aaxis\":{\"endlinecolor\":\"#2a3f5f\",\"gridcolor\":\"white\",\"linecolor\":\"white\",\"minorgridcolor\":\"white\",\"startlinecolor\":\"#2a3f5f\"},\"baxis\":{\"endlinecolor\":\"#2a3f5f\",\"gridcolor\":\"white\",\"linecolor\":\"white\",\"minorgridcolor\":\"white\",\"startlinecolor\":\"#2a3f5f\"},\"type\":\"carpet\"}],\"table\":[{\"cells\":{\"fill\":{\"color\":\"#EBF0F8\"},\"line\":{\"color\":\"white\"}},\"header\":{\"fill\":{\"color\":\"#C8D4E3\"},\"line\":{\"color\":\"white\"}},\"type\":\"table\"}],\"barpolar\":[{\"marker\":{\"line\":{\"color\":\"#E5ECF6\",\"width\":0.5},\"pattern\":{\"fillmode\":\"overlay\",\"size\":10,\"solidity\":0.2}},\"type\":\"barpolar\"}],\"pie\":[{\"automargin\":true,\"type\":\"pie\"}]},\"layout\":{\"autotypenumbers\":\"strict\",\"colorway\":[\"#636efa\",\"#EF553B\",\"#00cc96\",\"#ab63fa\",\"#FFA15A\",\"#19d3f3\",\"#FF6692\",\"#B6E880\",\"#FF97FF\",\"#FECB52\"],\"font\":{\"color\":\"#2a3f5f\"},\"hovermode\":\"closest\",\"hoverlabel\":{\"align\":\"left\"},\"paper_bgcolor\":\"white\",\"plot_bgcolor\":\"#E5ECF6\",\"polar\":{\"bgcolor\":\"#E5ECF6\",\"angularaxis\":{\"gridcolor\":\"white\",\"linecolor\":\"white\",\"ticks\":\"\"},\"radialaxis\":{\"gridcolor\":\"white\",\"linecolor\":\"white\",\"ticks\":\"\"}},\"ternary\":{\"bgcolor\":\"#E5ECF6\",\"aaxis\":{\"gridcolor\":\"white\",\"linecolor\":\"white\",\"ticks\":\"\"},\"baxis\":{\"gridcolor\":\"white\",\"linecolor\":\"white\",\"ticks\":\"\"},\"caxis\":{\"gridcolor\":\"white\",\"linecolor\":\"white\",\"ticks\":\"\"}},\"coloraxis\":{\"colorbar\":{\"outlinewidth\":0,\"ticks\":\"\"}},\"colorscale\":{\"sequential\":[[0.0,\"#0d0887\"],[0.1111111111111111,\"#46039f\"],[0.2222222222222222,\"#7201a8\"],[0.3333333333333333,\"#9c179e\"],[0.4444444444444444,\"#bd3786\"],[0.5555555555555556,\"#d8576b\"],[0.6666666666666666,\"#ed7953\"],[0.7777777777777778,\"#fb9f3a\"],[0.8888888888888888,\"#fdca26\"],[1.0,\"#f0f921\"]],\"sequentialminus\":[[0.0,\"#0d0887\"],[0.1111111111111111,\"#46039f\"],[0.2222222222222222,\"#7201a8\"],[0.3333333333333333,\"#9c179e\"],[0.4444444444444444,\"#bd3786\"],[0.5555555555555556,\"#d8576b\"],[0.6666666666666666,\"#ed7953\"],[0.7777777777777778,\"#fb9f3a\"],[0.8888888888888888,\"#fdca26\"],[1.0,\"#f0f921\"]],\"diverging\":[[0,\"#8e0152\"],[0.1,\"#c51b7d\"],[0.2,\"#de77ae\"],[0.3,\"#f1b6da\"],[0.4,\"#fde0ef\"],[0.5,\"#f7f7f7\"],[0.6,\"#e6f5d0\"],[0.7,\"#b8e186\"],[0.8,\"#7fbc41\"],[0.9,\"#4d9221\"],[1,\"#276419\"]]},\"xaxis\":{\"gridcolor\":\"white\",\"linecolor\":\"white\",\"ticks\":\"\",\"title\":{\"standoff\":15},\"zerolinecolor\":\"white\",\"automargin\":true,\"zerolinewidth\":2},\"yaxis\":{\"gridcolor\":\"white\",\"linecolor\":\"white\",\"ticks\":\"\",\"title\":{\"standoff\":15},\"zerolinecolor\":\"white\",\"automargin\":true,\"zerolinewidth\":2},\"scene\":{\"xaxis\":{\"backgroundcolor\":\"#E5ECF6\",\"gridcolor\":\"white\",\"linecolor\":\"white\",\"showbackground\":true,\"ticks\":\"\",\"zerolinecolor\":\"white\",\"gridwidth\":2},\"yaxis\":{\"backgroundcolor\":\"#E5ECF6\",\"gridcolor\":\"white\",\"linecolor\":\"white\",\"showbackground\":true,\"ticks\":\"\",\"zerolinecolor\":\"white\",\"gridwidth\":2},\"zaxis\":{\"backgroundcolor\":\"#E5ECF6\",\"gridcolor\":\"white\",\"linecolor\":\"white\",\"showbackground\":true,\"ticks\":\"\",\"zerolinecolor\":\"white\",\"gridwidth\":2}},\"shapedefaults\":{\"line\":{\"color\":\"#2a3f5f\"}},\"annotationdefaults\":{\"arrowcolor\":\"#2a3f5f\",\"arrowhead\":0,\"arrowwidth\":1},\"geo\":{\"bgcolor\":\"white\",\"landcolor\":\"#E5ECF6\",\"subunitcolor\":\"white\",\"showland\":true,\"showlakes\":true,\"lakecolor\":\"white\"},\"title\":{\"x\":0.05},\"mapbox\":{\"style\":\"light\"}}}},                        {\"responsive\": true}                    ).then(function(){\n",
       "                            \n",
       "var gd = document.getElementById('670a4135-a7d6-44a4-8770-5792a8d1f57b');\n",
       "var x = new MutationObserver(function (mutations, observer) {{\n",
       "        var display = window.getComputedStyle(gd).display;\n",
       "        if (!display || display === 'none') {{\n",
       "            console.log([gd, 'removed!']);\n",
       "            Plotly.purge(gd);\n",
       "            observer.disconnect();\n",
       "        }}\n",
       "}});\n",
       "\n",
       "// Listen for the removal of the full notebook cells\n",
       "var notebookContainer = gd.closest('#notebook-container');\n",
       "if (notebookContainer) {{\n",
       "    x.observe(notebookContainer, {childList: true});\n",
       "}}\n",
       "\n",
       "// Listen for the clearing of the current output cell\n",
       "var outputEl = gd.closest('.output');\n",
       "if (outputEl) {{\n",
       "    x.observe(outputEl, {childList: true});\n",
       "}}\n",
       "\n",
       "                        })                };                });            </script>        </div>"
      ]
     },
     "metadata": {},
     "output_type": "display_data"
    }
   ],
   "source": [
    "# 2. Gráfico de coordenadas paralelas \n",
    "from optuna.visualization import plot_parallel_coordinate\n",
    "print(\"Optuna Pruning model\")\n",
    "plot_parallel_coordinate(study_optuna_pruning)"
   ]
  },
  {
   "cell_type": "markdown",
   "metadata": {},
   "source": [
    "5. ¿Qué tendencias puede observar a partir del gráfico de coordenadas paralelas? \n",
    "\n",
    "RESPUESTA: Como las líneas de color obscuro marcan valores más pequeños de la función objetivo, estas representan las mejores configuración de parámetros. Entre ellas se destaca la utilización de un bajo \"min_frecuency\", alto \"max_leaves\" y alto \"n_estimators\". \n"
   ]
  },
  {
   "cell_type": "code",
   "execution_count": 302,
   "metadata": {},
   "outputs": [
    {
     "name": "stdout",
     "output_type": "stream",
     "text": [
      "Optuna Pruning model\n"
     ]
    },
    {
     "data": {
      "application/vnd.plotly.v1+json": {
       "config": {
        "plotlyServerURL": "https://plot.ly"
       },
       "data": [
        {
         "cliponaxis": false,
         "hovertemplate": [
          "max_depth (IntDistribution): 0.0005929926590051137<extra></extra>",
          "learning_rate (FloatDistribution): 0.0014661076322263081<extra></extra>",
          "reg_alpha (FloatDistribution): 0.0016464911252941185<extra></extra>",
          "min_child_weight (IntDistribution): 0.002907812190438067<extra></extra>",
          "n_estimators (IntDistribution): 0.005312942104047501<extra></extra>",
          "reg_lambda (FloatDistribution): 0.013460625377622538<extra></extra>",
          "max_leaves (IntDistribution): 0.12444769254051462<extra></extra>",
          "min_frequency (FloatDistribution): 0.8501653363708516<extra></extra>"
         ],
         "name": "Objective Value",
         "orientation": "h",
         "text": [
          "<0.01",
          "<0.01",
          "<0.01",
          "<0.01",
          "<0.01",
          "0.01",
          "0.12",
          "0.85"
         ],
         "textposition": "outside",
         "type": "bar",
         "x": [
          0.0005929926590051137,
          0.0014661076322263081,
          0.0016464911252941185,
          0.002907812190438067,
          0.005312942104047501,
          0.013460625377622538,
          0.12444769254051462,
          0.8501653363708516
         ],
         "y": [
          "max_depth",
          "learning_rate",
          "reg_alpha",
          "min_child_weight",
          "n_estimators",
          "reg_lambda",
          "max_leaves",
          "min_frequency"
         ]
        }
       ],
       "layout": {
        "autosize": true,
        "template": {
         "data": {
          "bar": [
           {
            "error_x": {
             "color": "#2a3f5f"
            },
            "error_y": {
             "color": "#2a3f5f"
            },
            "marker": {
             "line": {
              "color": "#E5ECF6",
              "width": 0.5
             },
             "pattern": {
              "fillmode": "overlay",
              "size": 10,
              "solidity": 0.2
             }
            },
            "type": "bar"
           }
          ],
          "barpolar": [
           {
            "marker": {
             "line": {
              "color": "#E5ECF6",
              "width": 0.5
             },
             "pattern": {
              "fillmode": "overlay",
              "size": 10,
              "solidity": 0.2
             }
            },
            "type": "barpolar"
           }
          ],
          "carpet": [
           {
            "aaxis": {
             "endlinecolor": "#2a3f5f",
             "gridcolor": "white",
             "linecolor": "white",
             "minorgridcolor": "white",
             "startlinecolor": "#2a3f5f"
            },
            "baxis": {
             "endlinecolor": "#2a3f5f",
             "gridcolor": "white",
             "linecolor": "white",
             "minorgridcolor": "white",
             "startlinecolor": "#2a3f5f"
            },
            "type": "carpet"
           }
          ],
          "choropleth": [
           {
            "colorbar": {
             "outlinewidth": 0,
             "ticks": ""
            },
            "type": "choropleth"
           }
          ],
          "contour": [
           {
            "colorbar": {
             "outlinewidth": 0,
             "ticks": ""
            },
            "colorscale": [
             [
              0,
              "#0d0887"
             ],
             [
              0.1111111111111111,
              "#46039f"
             ],
             [
              0.2222222222222222,
              "#7201a8"
             ],
             [
              0.3333333333333333,
              "#9c179e"
             ],
             [
              0.4444444444444444,
              "#bd3786"
             ],
             [
              0.5555555555555556,
              "#d8576b"
             ],
             [
              0.6666666666666666,
              "#ed7953"
             ],
             [
              0.7777777777777778,
              "#fb9f3a"
             ],
             [
              0.8888888888888888,
              "#fdca26"
             ],
             [
              1,
              "#f0f921"
             ]
            ],
            "type": "contour"
           }
          ],
          "contourcarpet": [
           {
            "colorbar": {
             "outlinewidth": 0,
             "ticks": ""
            },
            "type": "contourcarpet"
           }
          ],
          "heatmap": [
           {
            "colorbar": {
             "outlinewidth": 0,
             "ticks": ""
            },
            "colorscale": [
             [
              0,
              "#0d0887"
             ],
             [
              0.1111111111111111,
              "#46039f"
             ],
             [
              0.2222222222222222,
              "#7201a8"
             ],
             [
              0.3333333333333333,
              "#9c179e"
             ],
             [
              0.4444444444444444,
              "#bd3786"
             ],
             [
              0.5555555555555556,
              "#d8576b"
             ],
             [
              0.6666666666666666,
              "#ed7953"
             ],
             [
              0.7777777777777778,
              "#fb9f3a"
             ],
             [
              0.8888888888888888,
              "#fdca26"
             ],
             [
              1,
              "#f0f921"
             ]
            ],
            "type": "heatmap"
           }
          ],
          "heatmapgl": [
           {
            "colorbar": {
             "outlinewidth": 0,
             "ticks": ""
            },
            "colorscale": [
             [
              0,
              "#0d0887"
             ],
             [
              0.1111111111111111,
              "#46039f"
             ],
             [
              0.2222222222222222,
              "#7201a8"
             ],
             [
              0.3333333333333333,
              "#9c179e"
             ],
             [
              0.4444444444444444,
              "#bd3786"
             ],
             [
              0.5555555555555556,
              "#d8576b"
             ],
             [
              0.6666666666666666,
              "#ed7953"
             ],
             [
              0.7777777777777778,
              "#fb9f3a"
             ],
             [
              0.8888888888888888,
              "#fdca26"
             ],
             [
              1,
              "#f0f921"
             ]
            ],
            "type": "heatmapgl"
           }
          ],
          "histogram": [
           {
            "marker": {
             "pattern": {
              "fillmode": "overlay",
              "size": 10,
              "solidity": 0.2
             }
            },
            "type": "histogram"
           }
          ],
          "histogram2d": [
           {
            "colorbar": {
             "outlinewidth": 0,
             "ticks": ""
            },
            "colorscale": [
             [
              0,
              "#0d0887"
             ],
             [
              0.1111111111111111,
              "#46039f"
             ],
             [
              0.2222222222222222,
              "#7201a8"
             ],
             [
              0.3333333333333333,
              "#9c179e"
             ],
             [
              0.4444444444444444,
              "#bd3786"
             ],
             [
              0.5555555555555556,
              "#d8576b"
             ],
             [
              0.6666666666666666,
              "#ed7953"
             ],
             [
              0.7777777777777778,
              "#fb9f3a"
             ],
             [
              0.8888888888888888,
              "#fdca26"
             ],
             [
              1,
              "#f0f921"
             ]
            ],
            "type": "histogram2d"
           }
          ],
          "histogram2dcontour": [
           {
            "colorbar": {
             "outlinewidth": 0,
             "ticks": ""
            },
            "colorscale": [
             [
              0,
              "#0d0887"
             ],
             [
              0.1111111111111111,
              "#46039f"
             ],
             [
              0.2222222222222222,
              "#7201a8"
             ],
             [
              0.3333333333333333,
              "#9c179e"
             ],
             [
              0.4444444444444444,
              "#bd3786"
             ],
             [
              0.5555555555555556,
              "#d8576b"
             ],
             [
              0.6666666666666666,
              "#ed7953"
             ],
             [
              0.7777777777777778,
              "#fb9f3a"
             ],
             [
              0.8888888888888888,
              "#fdca26"
             ],
             [
              1,
              "#f0f921"
             ]
            ],
            "type": "histogram2dcontour"
           }
          ],
          "mesh3d": [
           {
            "colorbar": {
             "outlinewidth": 0,
             "ticks": ""
            },
            "type": "mesh3d"
           }
          ],
          "parcoords": [
           {
            "line": {
             "colorbar": {
              "outlinewidth": 0,
              "ticks": ""
             }
            },
            "type": "parcoords"
           }
          ],
          "pie": [
           {
            "automargin": true,
            "type": "pie"
           }
          ],
          "scatter": [
           {
            "fillpattern": {
             "fillmode": "overlay",
             "size": 10,
             "solidity": 0.2
            },
            "type": "scatter"
           }
          ],
          "scatter3d": [
           {
            "line": {
             "colorbar": {
              "outlinewidth": 0,
              "ticks": ""
             }
            },
            "marker": {
             "colorbar": {
              "outlinewidth": 0,
              "ticks": ""
             }
            },
            "type": "scatter3d"
           }
          ],
          "scattercarpet": [
           {
            "marker": {
             "colorbar": {
              "outlinewidth": 0,
              "ticks": ""
             }
            },
            "type": "scattercarpet"
           }
          ],
          "scattergeo": [
           {
            "marker": {
             "colorbar": {
              "outlinewidth": 0,
              "ticks": ""
             }
            },
            "type": "scattergeo"
           }
          ],
          "scattergl": [
           {
            "marker": {
             "colorbar": {
              "outlinewidth": 0,
              "ticks": ""
             }
            },
            "type": "scattergl"
           }
          ],
          "scattermapbox": [
           {
            "marker": {
             "colorbar": {
              "outlinewidth": 0,
              "ticks": ""
             }
            },
            "type": "scattermapbox"
           }
          ],
          "scatterpolar": [
           {
            "marker": {
             "colorbar": {
              "outlinewidth": 0,
              "ticks": ""
             }
            },
            "type": "scatterpolar"
           }
          ],
          "scatterpolargl": [
           {
            "marker": {
             "colorbar": {
              "outlinewidth": 0,
              "ticks": ""
             }
            },
            "type": "scatterpolargl"
           }
          ],
          "scatterternary": [
           {
            "marker": {
             "colorbar": {
              "outlinewidth": 0,
              "ticks": ""
             }
            },
            "type": "scatterternary"
           }
          ],
          "surface": [
           {
            "colorbar": {
             "outlinewidth": 0,
             "ticks": ""
            },
            "colorscale": [
             [
              0,
              "#0d0887"
             ],
             [
              0.1111111111111111,
              "#46039f"
             ],
             [
              0.2222222222222222,
              "#7201a8"
             ],
             [
              0.3333333333333333,
              "#9c179e"
             ],
             [
              0.4444444444444444,
              "#bd3786"
             ],
             [
              0.5555555555555556,
              "#d8576b"
             ],
             [
              0.6666666666666666,
              "#ed7953"
             ],
             [
              0.7777777777777778,
              "#fb9f3a"
             ],
             [
              0.8888888888888888,
              "#fdca26"
             ],
             [
              1,
              "#f0f921"
             ]
            ],
            "type": "surface"
           }
          ],
          "table": [
           {
            "cells": {
             "fill": {
              "color": "#EBF0F8"
             },
             "line": {
              "color": "white"
             }
            },
            "header": {
             "fill": {
              "color": "#C8D4E3"
             },
             "line": {
              "color": "white"
             }
            },
            "type": "table"
           }
          ]
         },
         "layout": {
          "annotationdefaults": {
           "arrowcolor": "#2a3f5f",
           "arrowhead": 0,
           "arrowwidth": 1
          },
          "autotypenumbers": "strict",
          "coloraxis": {
           "colorbar": {
            "outlinewidth": 0,
            "ticks": ""
           }
          },
          "colorscale": {
           "diverging": [
            [
             0,
             "#8e0152"
            ],
            [
             0.1,
             "#c51b7d"
            ],
            [
             0.2,
             "#de77ae"
            ],
            [
             0.3,
             "#f1b6da"
            ],
            [
             0.4,
             "#fde0ef"
            ],
            [
             0.5,
             "#f7f7f7"
            ],
            [
             0.6,
             "#e6f5d0"
            ],
            [
             0.7,
             "#b8e186"
            ],
            [
             0.8,
             "#7fbc41"
            ],
            [
             0.9,
             "#4d9221"
            ],
            [
             1,
             "#276419"
            ]
           ],
           "sequential": [
            [
             0,
             "#0d0887"
            ],
            [
             0.1111111111111111,
             "#46039f"
            ],
            [
             0.2222222222222222,
             "#7201a8"
            ],
            [
             0.3333333333333333,
             "#9c179e"
            ],
            [
             0.4444444444444444,
             "#bd3786"
            ],
            [
             0.5555555555555556,
             "#d8576b"
            ],
            [
             0.6666666666666666,
             "#ed7953"
            ],
            [
             0.7777777777777778,
             "#fb9f3a"
            ],
            [
             0.8888888888888888,
             "#fdca26"
            ],
            [
             1,
             "#f0f921"
            ]
           ],
           "sequentialminus": [
            [
             0,
             "#0d0887"
            ],
            [
             0.1111111111111111,
             "#46039f"
            ],
            [
             0.2222222222222222,
             "#7201a8"
            ],
            [
             0.3333333333333333,
             "#9c179e"
            ],
            [
             0.4444444444444444,
             "#bd3786"
            ],
            [
             0.5555555555555556,
             "#d8576b"
            ],
            [
             0.6666666666666666,
             "#ed7953"
            ],
            [
             0.7777777777777778,
             "#fb9f3a"
            ],
            [
             0.8888888888888888,
             "#fdca26"
            ],
            [
             1,
             "#f0f921"
            ]
           ]
          },
          "colorway": [
           "#636efa",
           "#EF553B",
           "#00cc96",
           "#ab63fa",
           "#FFA15A",
           "#19d3f3",
           "#FF6692",
           "#B6E880",
           "#FF97FF",
           "#FECB52"
          ],
          "font": {
           "color": "#2a3f5f"
          },
          "geo": {
           "bgcolor": "white",
           "lakecolor": "white",
           "landcolor": "#E5ECF6",
           "showlakes": true,
           "showland": true,
           "subunitcolor": "white"
          },
          "hoverlabel": {
           "align": "left"
          },
          "hovermode": "closest",
          "mapbox": {
           "style": "light"
          },
          "paper_bgcolor": "white",
          "plot_bgcolor": "#E5ECF6",
          "polar": {
           "angularaxis": {
            "gridcolor": "white",
            "linecolor": "white",
            "ticks": ""
           },
           "bgcolor": "#E5ECF6",
           "radialaxis": {
            "gridcolor": "white",
            "linecolor": "white",
            "ticks": ""
           }
          },
          "scene": {
           "xaxis": {
            "backgroundcolor": "#E5ECF6",
            "gridcolor": "white",
            "gridwidth": 2,
            "linecolor": "white",
            "showbackground": true,
            "ticks": "",
            "zerolinecolor": "white"
           },
           "yaxis": {
            "backgroundcolor": "#E5ECF6",
            "gridcolor": "white",
            "gridwidth": 2,
            "linecolor": "white",
            "showbackground": true,
            "ticks": "",
            "zerolinecolor": "white"
           },
           "zaxis": {
            "backgroundcolor": "#E5ECF6",
            "gridcolor": "white",
            "gridwidth": 2,
            "linecolor": "white",
            "showbackground": true,
            "ticks": "",
            "zerolinecolor": "white"
           }
          },
          "shapedefaults": {
           "line": {
            "color": "#2a3f5f"
           }
          },
          "ternary": {
           "aaxis": {
            "gridcolor": "white",
            "linecolor": "white",
            "ticks": ""
           },
           "baxis": {
            "gridcolor": "white",
            "linecolor": "white",
            "ticks": ""
           },
           "bgcolor": "#E5ECF6",
           "caxis": {
            "gridcolor": "white",
            "linecolor": "white",
            "ticks": ""
           }
          },
          "title": {
           "x": 0.05
          },
          "xaxis": {
           "automargin": true,
           "gridcolor": "white",
           "linecolor": "white",
           "ticks": "",
           "title": {
            "standoff": 15
           },
           "zerolinecolor": "white",
           "zerolinewidth": 2
          },
          "yaxis": {
           "automargin": true,
           "gridcolor": "white",
           "linecolor": "white",
           "ticks": "",
           "title": {
            "standoff": 15
           },
           "zerolinecolor": "white",
           "zerolinewidth": 2
          }
         }
        },
        "title": {
         "text": "Hyperparameter Importances"
        },
        "xaxis": {
         "autorange": true,
         "range": [
          0,
          0.89491088039037
         ],
         "title": {
          "text": "Hyperparameter Importance"
         },
         "type": "linear"
        },
        "yaxis": {
         "autorange": true,
         "range": [
          -0.5,
          7.5
         ],
         "title": {
          "text": "Hyperparameter"
         },
         "type": "category"
        }
       }
      },
      "image/png": "[encoded data removed]",
      "text/html": [
       "<div>                            <div id=\"109b24e6-cfac-4738-b24e-c9e9464e7430\" class=\"plotly-graph-div\" style=\"height:525px; width:100%;\"></div>            <script type=\"text/javascript\">                require([\"plotly\"], function(Plotly) {                    window.PLOTLYENV=window.PLOTLYENV || {};                                    if (document.getElementById(\"109b24e6-cfac-4738-b24e-c9e9464e7430\")) {                    Plotly.newPlot(                        \"109b24e6-cfac-4738-b24e-c9e9464e7430\",                        [{\"cliponaxis\":false,\"hovertemplate\":[\"max_depth (IntDistribution): 0.0005929926590051137\\u003cextra\\u003e\\u003c\\u002fextra\\u003e\",\"learning_rate (FloatDistribution): 0.0014661076322263081\\u003cextra\\u003e\\u003c\\u002fextra\\u003e\",\"reg_alpha (FloatDistribution): 0.0016464911252941185\\u003cextra\\u003e\\u003c\\u002fextra\\u003e\",\"min_child_weight (IntDistribution): 0.002907812190438067\\u003cextra\\u003e\\u003c\\u002fextra\\u003e\",\"n_estimators (IntDistribution): 0.005312942104047501\\u003cextra\\u003e\\u003c\\u002fextra\\u003e\",\"reg_lambda (FloatDistribution): 0.013460625377622538\\u003cextra\\u003e\\u003c\\u002fextra\\u003e\",\"max_leaves (IntDistribution): 0.12444769254051462\\u003cextra\\u003e\\u003c\\u002fextra\\u003e\",\"min_frequency (FloatDistribution): 0.8501653363708516\\u003cextra\\u003e\\u003c\\u002fextra\\u003e\"],\"name\":\"Objective Value\",\"orientation\":\"h\",\"text\":[\"\\u003c0.01\",\"\\u003c0.01\",\"\\u003c0.01\",\"\\u003c0.01\",\"\\u003c0.01\",\"0.01\",\"0.12\",\"0.85\"],\"textposition\":\"outside\",\"x\":[0.0005929926590051137,0.0014661076322263081,0.0016464911252941185,0.002907812190438067,0.005312942104047501,0.013460625377622538,0.12444769254051462,0.8501653363708516],\"y\":[\"max_depth\",\"learning_rate\",\"reg_alpha\",\"min_child_weight\",\"n_estimators\",\"reg_lambda\",\"max_leaves\",\"min_frequency\"],\"type\":\"bar\"}],                        {\"title\":{\"text\":\"Hyperparameter Importances\"},\"xaxis\":{\"title\":{\"text\":\"Hyperparameter Importance\"}},\"yaxis\":{\"title\":{\"text\":\"Hyperparameter\"}},\"template\":{\"data\":{\"histogram2dcontour\":[{\"type\":\"histogram2dcontour\",\"colorbar\":{\"outlinewidth\":0,\"ticks\":\"\"},\"colorscale\":[[0.0,\"#0d0887\"],[0.1111111111111111,\"#46039f\"],[0.2222222222222222,\"#7201a8\"],[0.3333333333333333,\"#9c179e\"],[0.4444444444444444,\"#bd3786\"],[0.5555555555555556,\"#d8576b\"],[0.6666666666666666,\"#ed7953\"],[0.7777777777777778,\"#fb9f3a\"],[0.8888888888888888,\"#fdca26\"],[1.0,\"#f0f921\"]]}],\"choropleth\":[{\"type\":\"choropleth\",\"colorbar\":{\"outlinewidth\":0,\"ticks\":\"\"}}],\"histogram2d\":[{\"type\":\"histogram2d\",\"colorbar\":{\"outlinewidth\":0,\"ticks\":\"\"},\"colorscale\":[[0.0,\"#0d0887\"],[0.1111111111111111,\"#46039f\"],[0.2222222222222222,\"#7201a8\"],[0.3333333333333333,\"#9c179e\"],[0.4444444444444444,\"#bd3786\"],[0.5555555555555556,\"#d8576b\"],[0.6666666666666666,\"#ed7953\"],[0.7777777777777778,\"#fb9f3a\"],[0.8888888888888888,\"#fdca26\"],[1.0,\"#f0f921\"]]}],\"heatmap\":[{\"type\":\"heatmap\",\"colorbar\":{\"outlinewidth\":0,\"ticks\":\"\"},\"colorscale\":[[0.0,\"#0d0887\"],[0.1111111111111111,\"#46039f\"],[0.2222222222222222,\"#7201a8\"],[0.3333333333333333,\"#9c179e\"],[0.4444444444444444,\"#bd3786\"],[0.5555555555555556,\"#d8576b\"],[0.6666666666666666,\"#ed7953\"],[0.7777777777777778,\"#fb9f3a\"],[0.8888888888888888,\"#fdca26\"],[1.0,\"#f0f921\"]]}],\"heatmapgl\":[{\"type\":\"heatmapgl\",\"colorbar\":{\"outlinewidth\":0,\"ticks\":\"\"},\"colorscale\":[[0.0,\"#0d0887\"],[0.1111111111111111,\"#46039f\"],[0.2222222222222222,\"#7201a8\"],[0.3333333333333333,\"#9c179e\"],[0.4444444444444444,\"#bd3786\"],[0.5555555555555556,\"#d8576b\"],[0.6666666666666666,\"#ed7953\"],[0.7777777777777778,\"#fb9f3a\"],[0.8888888888888888,\"#fdca26\"],[1.0,\"#f0f921\"]]}],\"contourcarpet\":[{\"type\":\"contourcarpet\",\"colorbar\":{\"outlinewidth\":0,\"ticks\":\"\"}}],\"contour\":[{\"type\":\"contour\",\"colorbar\":{\"outlinewidth\":0,\"ticks\":\"\"},\"colorscale\":[[0.0,\"#0d0887\"],[0.1111111111111111,\"#46039f\"],[0.2222222222222222,\"#7201a8\"],[0.3333333333333333,\"#9c179e\"],[0.4444444444444444,\"#bd3786\"],[0.5555555555555556,\"#d8576b\"],[0.6666666666666666,\"#ed7953\"],[0.7777777777777778,\"#fb9f3a\"],[0.8888888888888888,\"#fdca26\"],[1.0,\"#f0f921\"]]}],\"surface\":[{\"type\":\"surface\",\"colorbar\":{\"outlinewidth\":0,\"ticks\":\"\"},\"colorscale\":[[0.0,\"#0d0887\"],[0.1111111111111111,\"#46039f\"],[0.2222222222222222,\"#7201a8\"],[0.3333333333333333,\"#9c179e\"],[0.4444444444444444,\"#bd3786\"],[0.5555555555555556,\"#d8576b\"],[0.6666666666666666,\"#ed7953\"],[0.7777777777777778,\"#fb9f3a\"],[0.8888888888888888,\"#fdca26\"],[1.0,\"#f0f921\"]]}],\"mesh3d\":[{\"type\":\"mesh3d\",\"colorbar\":{\"outlinewidth\":0,\"ticks\":\"\"}}],\"scatter\":[{\"fillpattern\":{\"fillmode\":\"overlay\",\"size\":10,\"solidity\":0.2},\"type\":\"scatter\"}],\"parcoords\":[{\"type\":\"parcoords\",\"line\":{\"colorbar\":{\"outlinewidth\":0,\"ticks\":\"\"}}}],\"scatterpolargl\":[{\"type\":\"scatterpolargl\",\"marker\":{\"colorbar\":{\"outlinewidth\":0,\"ticks\":\"\"}}}],\"bar\":[{\"error_x\":{\"color\":\"#2a3f5f\"},\"error_y\":{\"color\":\"#2a3f5f\"},\"marker\":{\"line\":{\"color\":\"#E5ECF6\",\"width\":0.5},\"pattern\":{\"fillmode\":\"overlay\",\"size\":10,\"solidity\":0.2}},\"type\":\"bar\"}],\"scattergeo\":[{\"type\":\"scattergeo\",\"marker\":{\"colorbar\":{\"outlinewidth\":0,\"ticks\":\"\"}}}],\"scatterpolar\":[{\"type\":\"scatterpolar\",\"marker\":{\"colorbar\":{\"outlinewidth\":0,\"ticks\":\"\"}}}],\"histogram\":[{\"marker\":{\"pattern\":{\"fillmode\":\"overlay\",\"size\":10,\"solidity\":0.2}},\"type\":\"histogram\"}],\"scattergl\":[{\"type\":\"scattergl\",\"marker\":{\"colorbar\":{\"outlinewidth\":0,\"ticks\":\"\"}}}],\"scatter3d\":[{\"type\":\"scatter3d\",\"line\":{\"colorbar\":{\"outlinewidth\":0,\"ticks\":\"\"}},\"marker\":{\"colorbar\":{\"outlinewidth\":0,\"ticks\":\"\"}}}],\"scattermapbox\":[{\"type\":\"scattermapbox\",\"marker\":{\"colorbar\":{\"outlinewidth\":0,\"ticks\":\"\"}}}],\"scatterternary\":[{\"type\":\"scatterternary\",\"marker\":{\"colorbar\":{\"outlinewidth\":0,\"ticks\":\"\"}}}],\"scattercarpet\":[{\"type\":\"scattercarpet\",\"marker\":{\"colorbar\":{\"outlinewidth\":0,\"ticks\":\"\"}}}],\"carpet\":[{\"aaxis\":{\"endlinecolor\":\"#2a3f5f\",\"gridcolor\":\"white\",\"linecolor\":\"white\",\"minorgridcolor\":\"white\",\"startlinecolor\":\"#2a3f5f\"},\"baxis\":{\"endlinecolor\":\"#2a3f5f\",\"gridcolor\":\"white\",\"linecolor\":\"white\",\"minorgridcolor\":\"white\",\"startlinecolor\":\"#2a3f5f\"},\"type\":\"carpet\"}],\"table\":[{\"cells\":{\"fill\":{\"color\":\"#EBF0F8\"},\"line\":{\"color\":\"white\"}},\"header\":{\"fill\":{\"color\":\"#C8D4E3\"},\"line\":{\"color\":\"white\"}},\"type\":\"table\"}],\"barpolar\":[{\"marker\":{\"line\":{\"color\":\"#E5ECF6\",\"width\":0.5},\"pattern\":{\"fillmode\":\"overlay\",\"size\":10,\"solidity\":0.2}},\"type\":\"barpolar\"}],\"pie\":[{\"automargin\":true,\"type\":\"pie\"}]},\"layout\":{\"autotypenumbers\":\"strict\",\"colorway\":[\"#636efa\",\"#EF553B\",\"#00cc96\",\"#ab63fa\",\"#FFA15A\",\"#19d3f3\",\"#FF6692\",\"#B6E880\",\"#FF97FF\",\"#FECB52\"],\"font\":{\"color\":\"#2a3f5f\"},\"hovermode\":\"closest\",\"hoverlabel\":{\"align\":\"left\"},\"paper_bgcolor\":\"white\",\"plot_bgcolor\":\"#E5ECF6\",\"polar\":{\"bgcolor\":\"#E5ECF6\",\"angularaxis\":{\"gridcolor\":\"white\",\"linecolor\":\"white\",\"ticks\":\"\"},\"radialaxis\":{\"gridcolor\":\"white\",\"linecolor\":\"white\",\"ticks\":\"\"}},\"ternary\":{\"bgcolor\":\"#E5ECF6\",\"aaxis\":{\"gridcolor\":\"white\",\"linecolor\":\"white\",\"ticks\":\"\"},\"baxis\":{\"gridcolor\":\"white\",\"linecolor\":\"white\",\"ticks\":\"\"},\"caxis\":{\"gridcolor\":\"white\",\"linecolor\":\"white\",\"ticks\":\"\"}},\"coloraxis\":{\"colorbar\":{\"outlinewidth\":0,\"ticks\":\"\"}},\"colorscale\":{\"sequential\":[[0.0,\"#0d0887\"],[0.1111111111111111,\"#46039f\"],[0.2222222222222222,\"#7201a8\"],[0.3333333333333333,\"#9c179e\"],[0.4444444444444444,\"#bd3786\"],[0.5555555555555556,\"#d8576b\"],[0.6666666666666666,\"#ed7953\"],[0.7777777777777778,\"#fb9f3a\"],[0.8888888888888888,\"#fdca26\"],[1.0,\"#f0f921\"]],\"sequentialminus\":[[0.0,\"#0d0887\"],[0.1111111111111111,\"#46039f\"],[0.2222222222222222,\"#7201a8\"],[0.3333333333333333,\"#9c179e\"],[0.4444444444444444,\"#bd3786\"],[0.5555555555555556,\"#d8576b\"],[0.6666666666666666,\"#ed7953\"],[0.7777777777777778,\"#fb9f3a\"],[0.8888888888888888,\"#fdca26\"],[1.0,\"#f0f921\"]],\"diverging\":[[0,\"#8e0152\"],[0.1,\"#c51b7d\"],[0.2,\"#de77ae\"],[0.3,\"#f1b6da\"],[0.4,\"#fde0ef\"],[0.5,\"#f7f7f7\"],[0.6,\"#e6f5d0\"],[0.7,\"#b8e186\"],[0.8,\"#7fbc41\"],[0.9,\"#4d9221\"],[1,\"#276419\"]]},\"xaxis\":{\"gridcolor\":\"white\",\"linecolor\":\"white\",\"ticks\":\"\",\"title\":{\"standoff\":15},\"zerolinecolor\":\"white\",\"automargin\":true,\"zerolinewidth\":2},\"yaxis\":{\"gridcolor\":\"white\",\"linecolor\":\"white\",\"ticks\":\"\",\"title\":{\"standoff\":15},\"zerolinecolor\":\"white\",\"automargin\":true,\"zerolinewidth\":2},\"scene\":{\"xaxis\":{\"backgroundcolor\":\"#E5ECF6\",\"gridcolor\":\"white\",\"linecolor\":\"white\",\"showbackground\":true,\"ticks\":\"\",\"zerolinecolor\":\"white\",\"gridwidth\":2},\"yaxis\":{\"backgroundcolor\":\"#E5ECF6\",\"gridcolor\":\"white\",\"linecolor\":\"white\",\"showbackground\":true,\"ticks\":\"\",\"zerolinecolor\":\"white\",\"gridwidth\":2},\"zaxis\":{\"backgroundcolor\":\"#E5ECF6\",\"gridcolor\":\"white\",\"linecolor\":\"white\",\"showbackground\":true,\"ticks\":\"\",\"zerolinecolor\":\"white\",\"gridwidth\":2}},\"shapedefaults\":{\"line\":{\"color\":\"#2a3f5f\"}},\"annotationdefaults\":{\"arrowcolor\":\"#2a3f5f\",\"arrowhead\":0,\"arrowwidth\":1},\"geo\":{\"bgcolor\":\"white\",\"landcolor\":\"#E5ECF6\",\"subunitcolor\":\"white\",\"showland\":true,\"showlakes\":true,\"lakecolor\":\"white\"},\"title\":{\"x\":0.05},\"mapbox\":{\"style\":\"light\"}}}},                        {\"responsive\": true}                    ).then(function(){\n",
       "                            \n",
       "var gd = document.getElementById('109b24e6-cfac-4738-b24e-c9e9464e7430');\n",
       "var x = new MutationObserver(function (mutations, observer) {{\n",
       "        var display = window.getComputedStyle(gd).display;\n",
       "        if (!display || display === 'none') {{\n",
       "            console.log([gd, 'removed!']);\n",
       "            Plotly.purge(gd);\n",
       "            observer.disconnect();\n",
       "        }}\n",
       "}});\n",
       "\n",
       "// Listen for the removal of the full notebook cells\n",
       "var notebookContainer = gd.closest('#notebook-container');\n",
       "if (notebookContainer) {{\n",
       "    x.observe(notebookContainer, {childList: true});\n",
       "}}\n",
       "\n",
       "// Listen for the clearing of the current output cell\n",
       "var outputEl = gd.closest('.output');\n",
       "if (outputEl) {{\n",
       "    x.observe(outputEl, {childList: true});\n",
       "}}\n",
       "\n",
       "                        })                };                });            </script>        </div>"
      ]
     },
     "metadata": {},
     "output_type": "display_data"
    }
   ],
   "source": [
    "# 3. Gráfico de importancia de hiperparámetros\n",
    "from optuna.visualization import plot_param_importances\n",
    "print(\"Optuna Pruning model\")\n",
    "plot_param_importances(study_optuna_pruning)\n"
   ]
  },
  {
   "cell_type": "markdown",
   "metadata": {},
   "source": [
    "6. ¿Cuáles son los hiperparámetros con mayor importancia para la optimización de su modelo?\n",
    "\n",
    "RESPUESTA: El hiperparámetro más importante es la variable \"min_frecuency\", la cual se \"lleva\" el *97%* de la importancia a la hora de predecir. "
   ]
  },
  {
   "cell_type": "markdown",
   "metadata": {
    "cell_id": "ac8a20f445d045a3becf1a518d410a7d",
    "deepnote_cell_type": "markdown",
    "id": "EoW32TA9I5wA"
   },
   "source": [
    "## 6. Síntesis de resultados (3 puntos)\n",
    "\n",
    "Finalmente:\n",
    "\n",
    "1. Genere una tabla resumen del MAE en el conjunto de validación obtenido en los 5 modelos entrenados desde Baseline hasta XGBoost con Constraints, Optuna y Prunning. [1 punto]\n",
    "2. Compare los resultados de la tabla y responda, ¿qué modelo obtiene el mejor rendimiento? [0.5 puntos]\n",
    "3. Cargue el mejor modelo, prediga sobre el conjunto de **test** y reporte su MAE. [0.5 puntos]\n",
    "4. ¿Existen diferencias con respecto a las métricas obtenidas en el conjunto de validación? ¿Porqué puede ocurrir esto? [1 punto]"
   ]
  },
  {
   "cell_type": "code",
   "execution_count": 305,
   "metadata": {},
   "outputs": [
    {
     "data": {
      "text/html": [
       "<div>\n",
       "<style scoped>\n",
       "    .dataframe tbody tr th:only-of-type {\n",
       "        vertical-align: middle;\n",
       "    }\n",
       "\n",
       "    .dataframe tbody tr th {\n",
       "        vertical-align: top;\n",
       "    }\n",
       "\n",
       "    .dataframe thead th {\n",
       "        text-align: right;\n",
       "    }\n",
       "</style>\n",
       "<table border=\"1\" class=\"dataframe\">\n",
       "  <thead>\n",
       "    <tr style=\"text-align: right;\">\n",
       "      <th></th>\n",
       "      <th>Model</th>\n",
       "      <th>MAE</th>\n",
       "    </tr>\n",
       "  </thead>\n",
       "  <tbody>\n",
       "    <tr>\n",
       "      <th>0</th>\n",
       "      <td>Baseline_dummy</td>\n",
       "      <td>13369.60</td>\n",
       "    </tr>\n",
       "    <tr>\n",
       "      <th>1</th>\n",
       "      <td>XGBRegressor</td>\n",
       "      <td>2301.81</td>\n",
       "    </tr>\n",
       "    <tr>\n",
       "      <th>2</th>\n",
       "      <td>XGBRegressor_ctr</td>\n",
       "      <td>2417.28</td>\n",
       "    </tr>\n",
       "    <tr>\n",
       "      <th>3</th>\n",
       "      <td>Optuna</td>\n",
       "      <td>1901.21</td>\n",
       "    </tr>\n",
       "    <tr>\n",
       "      <th>4</th>\n",
       "      <td>Optuna_Prunners</td>\n",
       "      <td>1823.92</td>\n",
       "    </tr>\n",
       "  </tbody>\n",
       "</table>\n",
       "</div>"
      ],
      "text/plain": [
       "              Model       MAE\n",
       "0    Baseline_dummy  13369.60\n",
       "1      XGBRegressor   2301.81\n",
       "2  XGBRegressor_ctr   2417.28\n",
       "3            Optuna   1901.21\n",
       "4   Optuna_Prunners   1823.92"
      ]
     },
     "execution_count": 305,
     "metadata": {},
     "output_type": "execute_result"
    }
   ],
   "source": [
    "#1 Tabla de resumen:\n",
    "data_MAE = {\"Model\": [\"Baseline_dummy\", \"XGBRegressor\", \"XGBRegressor_ctr\", \"Optuna\", \"Optuna_Prunners\"], \n",
    "            \"MAE\": [MAE_dummy, MAE_xgb, MAE_xgb_ctr, MAE_optuna, MAE_optuna_pruning]}\n",
    "\n",
    "df_MAE_models = pd.DataFrame(data=data_MAE)\n",
    "df_MAE_models[\"MAE\"] = df_MAE_models.MAE.round(2)\n",
    "df_MAE_models"
   ]
  },
  {
   "cell_type": "markdown",
   "metadata": {},
   "source": [
    "2. Compare los resultados de la tabla y responda, ¿qué modelo obtiene el mejor rendimiento? \n",
    "\n",
    "RESPUESTA: El modelo que consigue un mejor rendimiento es Optuna_Prunners con un MAE de $1874.79$. \n"
   ]
  },
  {
   "cell_type": "code",
   "execution_count": 319,
   "metadata": {
    "scrolled": true
   },
   "outputs": [
    {
     "name": "stdout",
     "output_type": "stream",
     "text": [
      "MAE_optuna_pruning_model en test_set = 1995.8434145520903\n"
     ]
    }
   ],
   "source": [
    "#4. Cargue el mejor modelo, prediga sobre el conjunto de **test** y reporte su MAE. [0.5 puntos]\n",
    "optuna_pruning_model.fit(X_train, y_train)\n",
    "y_pred_test = optuna_pruning_model.predict(X_test)\n",
    "mae_in_test = mean_absolute_error(y_test, y_pred_test)  \n",
    "print(f\"MAE_optuna_pruning_model en test_set = {mae_in_test}\")"
   ]
  },
  {
   "cell_type": "markdown",
   "metadata": {},
   "source": [
    "6. ¿Existen diferencias con respecto a las métricas obtenidas en el conjunto de validación? ¿Porqué puede ocurrir esto?\n",
    "\n",
    "RESPUESTA: Si, la méttrica de MAE en el conjunto de test es un poco mayor al cálculo en el conjunto de validación. Esto sucede pues hay datos distintos en cada conjunto, y para distintos datos, el error absoluto promedio puede cambiar. "
   ]
  },
  {
   "cell_type": "markdown",
   "metadata": {
    "cell_id": "5c4654d12037494fbd385b4dc6bd1059",
    "deepnote_cell_type": "markdown",
    "id": "E_19tgBEI5wA"
   },
   "source": [
    "# Conclusión\n",
    "Eso ha sido todo para el lab de hoy, recuerden que el laboratorio tiene un plazo de entrega de una semana. Cualquier duda del laboratorio, no duden en contactarnos por mail o U-cursos.\n",
    "\n",
    "<p align=\"center\">\n",
    "  <img src=\"https://media.tenor.com/8CT1AXElF_cAAAAC/gojo-satoru.gif\">\n",
    "</p>"
   ]
  },
  {
   "cell_type": "markdown",
   "metadata": {
    "cell_id": "5025de06759f4903a26916c80323bf25",
    "deepnote_cell_type": "markdown",
    "id": "Kq2cFix1I5wA"
   },
   "source": []
  },
  {
   "cell_type": "markdown",
   "metadata": {
    "created_in_deepnote_cell": true,
    "deepnote_cell_type": "markdown",
    "id": "rAp9UxwiI5wA"
   },
   "source": [
    "<a style='text-decoration:none;line-height:16px;display:flex;color:#5B5B62;padding:10px;justify-content:end;' href='https://deepnote.com?utm_source=created-in-deepnote-cell&projectId=87110296-876e-426f-b91d-aaf681223468' target=\"_blank\">\n",
    "<img alt='Created in deepnote.com' style='display:inline;max-height:16px;margin:0px;margin-right:7.5px;' src='data:image/svg+xml;base64,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' > </img>\n",
    "Created in <span style='font-weight:600;margin-left:4px;'>Deepnote</span></a>"
   ]
  }
 ],
 "metadata": {
  "colab": {
   "provenance": []
  },
  "deepnote": {},
  "deepnote_execution_queue": [],
  "deepnote_notebook_id": "f63d38450a6b464c9bb6385cf11db4d9",
  "deepnote_persisted_session": {
   "createdAt": "2023-11-09T16:18:30.203Z"
  },
  "kernelspec": {
   "display_name": "Python 3 (ipykernel)",
   "language": "python",
   "name": "python3"
  },
  "language_info": {
   "codemirror_mode": {
    "name": "ipython",
    "version": 3
   },
   "file_extension": ".py",
   "mimetype": "text/x-python",
   "name": "python",
   "nbconvert_exporter": "python",
   "pygments_lexer": "ipython3",
   "version": "3.12.3"
  }
 },
 "nbformat": 4,
 "nbformat_minor": 4
}
