{
 "cells": [
  {
   "cell_type": "markdown",
   "metadata": {
    "id": "PyPTffTLug7i"
   },
   "source": [
    "# **Laboratorio 11: LLM y Agentes Autónomos 🤖**\n",
    "\n",
    "MDS7202: Laboratorio de Programación Científica para Ciencia de Datos"
   ]
  },
  {
   "cell_type": "markdown",
   "metadata": {
    "id": "5pbWVyntzbvL"
   },
   "source": [
    "### **Cuerpo Docente:**\n",
    "\n",
    "- Profesores: Ignacio Meza, Sebastián Tinoco\n",
    "- Auxiliar: Eduardo Moya\n",
    "- Ayudantes: Nicolás Ojeda, Melanie Peña, Valentina Rojas"
   ]
  },
  {
   "cell_type": "markdown",
   "metadata": {
    "id": "dy6ikgVYzghB"
   },
   "source": [
    "### **Equipo: SUPER IMPORTANTE - notebooks sin nombre no serán revisados**\n",
    "\n",
    "- Nombre de alumno 1: Cristóbal Ramos\n",
    "- Nombre de alumno 2: Catalina Lizana "
   ]
  },
  {
   "cell_type": "markdown",
   "metadata": {
    "id": "iMJ-owchzjFf"
   },
   "source": [
    "### **Link de repositorio de GitHub:** [Repositorio](https://github.com/CristobalRS/LABs_MDS7202-CrisTalina.git)"
   ]
  },
  {
   "cell_type": "markdown",
   "metadata": {
    "id": "WUuwsXrKzmkK"
   },
   "source": [
    "## **Temas a tratar**\n",
    "\n",
    "- Reinforcement Learning\n",
    "- Large Language Models\n",
    "\n",
    "## **Reglas:**\n",
    "\n",
    "- **Grupos de 2 personas**\n",
    "- Cualquier duda fuera del horario de clases al foro. Mensajes al equipo docente serán respondidos por este medio.\n",
    "- Prohibidas las copias.\n",
    "- Pueden usar cualquer matrial del curso que estimen conveniente.\n",
    "\n",
    "### **Objetivos principales del laboratorio**\n",
    "\n",
    "- Resolución de problemas secuenciales usando Reinforcement Learning\n",
    "- Habilitar un Chatbot para entregar respuestas útiles usando Large Language Models.\n",
    "\n",
    "El laboratorio deberá ser desarrollado sin el uso indiscriminado de iteradores nativos de python (aka \"for\", \"while\"). La idea es que aprendan a exprimir al máximo las funciones optimizadas que nos entrega `pandas`, las cuales vale mencionar, son bastante más eficientes que los iteradores nativos sobre DataFrames."
   ]
  },
  {
   "cell_type": "markdown",
   "metadata": {
    "id": "0hmHHQ9BuyAG"
   },
   "source": [
    "## **1. Reinforcement Learning (2.0 puntos)**\n",
    "\n",
    "En esta sección van a usar métodos de RL para resolver dos problemas interesantes: `Blackjack` y `LunarLander`."
   ]
  },
  {
   "cell_type": "code",
   "execution_count": 1,
   "metadata": {
    "id": "gOcejYb6uzOO"
   },
   "outputs": [],
   "source": [
    "!pip install -qqq gymnasium stable_baselines3\n",
    "!pip install -qqq swig"
   ]
  },
  {
   "cell_type": "code",
   "execution_count": 7,
   "metadata": {},
   "outputs": [],
   "source": [
    "#!pip install -qqq gymnasium[box2d]"
   ]
  },
  {
   "cell_type": "code",
   "execution_count": 9,
   "metadata": {},
   "outputs": [],
   "source": [
    "#pip install box2d-py"
   ]
  },
  {
   "cell_type": "markdown",
   "metadata": {
    "id": "qBPet_Mq8dX9"
   },
   "source": [
    "### **1.1 Blackjack (1.0 puntos)**\n",
    "\n",
    "<p align=\"center\">\n",
    "  <img src=\"https://www.recreoviral.com/wp-content/uploads/2016/08/s3.amazonaws.com-Math.gif\"\n",
    "\" width=\"400\">\n",
    "</p>\n",
    "\n",
    "La idea de esta subsección es que puedan implementar métodos de RL y así generar una estrategia para jugar el clásico juego Blackjack y de paso puedan ~~hacerse millonarios~~ aprender a resolver problemas mediante RL.\n",
    "\n",
    "Comencemos primero preparando el ambiente. El siguiente bloque de código transforma las observaciones del ambiente a `np.array`:\n"
   ]
  },
  {
   "cell_type": "code",
   "execution_count": 11,
   "metadata": {
    "id": "LpZ8bBKk9ZlU"
   },
   "outputs": [],
   "source": [
    "import gymnasium as gym\n",
    "from gymnasium.spaces import MultiDiscrete\n",
    "import numpy as np\n",
    "\n",
    "class FlattenObservation(gym.ObservationWrapper):\n",
    "    def __init__(self, env):\n",
    "        super(FlattenObservation, self).__init__(env)\n",
    "        self.observation_space = MultiDiscrete(np.array([32, 11, 2]))\n",
    "\n",
    "    def observation(self, observation):\n",
    "        return np.array(observation).flatten()\n",
    "\n",
    "# Create and wrap the environment\n",
    "env = gym.make(\"Blackjack-v1\")\n",
    "env = FlattenObservation(env)"
   ]
  },
  {
   "cell_type": "markdown",
   "metadata": {
    "id": "ZJ6J1_-Y9nHO"
   },
   "source": [
    "#### **1.1.1 Descripción de MDP (0.2 puntos)**\n",
    "\n",
    "Entregue una breve descripción sobre el ambiente [Blackjack](https://gymnasium.farama.org/environments/toy_text/blackjack/) y su formulación en MDP, distinguiendo de forma clara y concisa los estados, acciones y recompensas."
   ]
  },
  {
   "cell_type": "markdown",
   "metadata": {
    "id": "G5i1Wt1p770x"
   },
   "source": [
    "**Respuesta:**\n",
    "\n",
    "\n",
    "El ambiente Blackjack simula el juego del mismo nombre, donde un distribuidor va mostrando cartas al jugador con el fin que este obtenga una suma menor o igual a 21. Las cartas Jota, Queen y King tienen un valor de 10, la carta As vale 1 u 11 según conveniencia del jugador y el resto de cartas conserva su valor original.\n",
    "\n",
    "**Estados**: Cada estado queda descrito por tres números:\n",
    "* La suma de las cartas que tiene el jugador \n",
    "* La carta que muestra la ´mesa´ o el ´distribuidor´\n",
    "* Un valor booleano (0 o 1) que indica si el jugador posee un As.\n",
    "\n",
    "**Acciones**: Las acciones pueden ser 2 y son ejecutadas por el jugador: \n",
    "* 1 : Seguir jugando (Recibir carta)\n",
    "* 0 : Parar (No recibir más cartas)\n",
    "\n",
    "**Recompensas**: La recompensa se da al final de la partida y puede ser:\n",
    "* +1: Gana el jugador\n",
    "* -1: Pierde el Jugador\n",
    "* 0: Empate "
   ]
  },
  {
   "cell_type": "markdown",
   "metadata": {
    "id": "pmcX6bRC9agQ"
   },
   "source": [
    "#### **1.1.2 Generando un Baseline (0.2 puntos)**\n",
    "\n",
    "Simule un escenario en donde se escojan acciones aleatorias. Repita esta simulación 5000 veces y reporte el promedio y desviación de las recompensas. ¿Cómo calificaría el performance de esta política? ¿Cómo podría interpretar las recompensas obtenidas?"
   ]
  },
  {
   "cell_type": "code",
   "execution_count": 13,
   "metadata": {
    "id": "9p2PrLLR9yju"
   },
   "outputs": [],
   "source": [
    "#env = gym.make(\"Blackjack-v1\", render_mode=\"human\")\n",
    "#env = gym.make(\"Blackjack-v1\")\n",
    "rew=[]\n",
    "for episode in range(500):\n",
    "    done = truncated = False\n",
    "    state, info = env.reset()\n",
    "    for timestep in range(100):\n",
    "        action = env.action_space.sample()  #agent policy that uses the observation and info\n",
    "        state, reward, done, truncated, info = env.step(action)\n",
    "        if done or truncated:\n",
    "            rew.append(reward)\n",
    "            break\n",
    "\n",
    "env.close()"
   ]
  },
  {
   "cell_type": "code",
   "execution_count": 15,
   "metadata": {},
   "outputs": [
    {
     "name": "stdout",
     "output_type": "stream",
     "text": [
      "Promedio: -0.374\n",
      "Desviacion estandar: 0.9031918461888615\n"
     ]
    }
   ],
   "source": [
    "promedio = np.mean(rew)\n",
    "desviacion_estandar = np.std(rew, ddof=1)\n",
    "\n",
    "print(f'Promedio: {promedio}')\n",
    "print(f'Desviacion estandar: {desviacion_estandar}')"
   ]
  },
  {
   "cell_type": "markdown",
   "metadata": {},
   "source": [
    "**¿Cómo calificaría el performance de esta política?**\n",
    "\n",
    "Notamos que no es una muy buena performance, ya que, como el objetivo es ganar esperariamos valores cercanos a 1 o por lo menos positivos.\n",
    "\n",
    "**¿Cómo podría interpretar las recompensas obtenidas?**\n",
    "\n",
    "Se interpreta como que tiende a ganar el distribuidor, lo cual es esperable considerando las condiciones del juego."
   ]
  },
  {
   "cell_type": "markdown",
   "metadata": {
    "id": "LEO_dY4x_SJu"
   },
   "source": [
    "#### **1.1.3 Entrenamiento de modelo (0.2 puntos)**\n",
    "\n",
    "A partir del siguiente [enlace](https://stable-baselines3.readthedocs.io/en/master/guide/algos.html), escoja un modelo de `stable_baselines3` y entrenelo para resolver el ambiente `Blackjack`."
   ]
  },
  {
   "cell_type": "code",
   "execution_count": 17,
   "metadata": {
    "id": "m9JsFA1wGmnH"
   },
   "outputs": [
    {
     "data": {
      "application/vnd.jupyter.widget-view+json": {
       "model_id": "9a2c34aa3fdb4ec3853d5fbd87fae55f",
       "version_major": 2,
       "version_minor": 0
      },
      "text/plain": [
       "Output()"
      ]
     },
     "metadata": {},
     "output_type": "display_data"
    },
    {
     "data": {
      "text/html": [
       "<pre style=\"white-space:pre;overflow-x:auto;line-height:normal;font-family:Menlo,'DejaVu Sans Mono',consolas,'Courier New',monospace\"></pre>\n"
      ],
      "text/plain": []
     },
     "metadata": {},
     "output_type": "display_data"
    },
    {
     "data": {
      "text/html": [
       "<pre style=\"white-space:pre;overflow-x:auto;line-height:normal;font-family:Menlo,'DejaVu Sans Mono',consolas,'Courier New',monospace\">\n",
       "</pre>\n"
      ],
      "text/plain": [
       "\n"
      ]
     },
     "metadata": {},
     "output_type": "display_data"
    },
    {
     "data": {
      "text/plain": [
       "<stable_baselines3.dqn.dqn.DQN at 0x2353b093da0>"
      ]
     },
     "execution_count": 17,
     "metadata": {},
     "output_type": "execute_result"
    }
   ],
   "source": [
    "from stable_baselines3 import DQN\n",
    "\n",
    "# init agent\n",
    "model = DQN(\"MlpPolicy\", env, verbose=0)\n",
    "# train the agent and display a progress bar\n",
    "model.learn(total_timesteps=int(2e5), progress_bar=True)"
   ]
  },
  {
   "cell_type": "markdown",
   "metadata": {
    "id": "E-bpdb8wZID1"
   },
   "source": [
    "#### **1.1.4 Evaluación de modelo (0.2 puntos)**\n",
    "\n",
    "Repita el ejercicio 1.1.2 pero utilizando el modelo entrenado. ¿Cómo es el performance de su agente? ¿Es mejor o peor que el escenario baseline?"
   ]
  },
  {
   "cell_type": "code",
   "execution_count": 5,
   "metadata": {
    "id": "5-d7d8GFf7F6"
   },
   "outputs": [
    {
     "data": {
      "text/plain": [
       "(-0.058, 0.9626193432504876)"
      ]
     },
     "execution_count": 5,
     "metadata": {},
     "output_type": "execute_result"
    }
   ],
   "source": [
    "from stable_baselines3.common.evaluation import evaluate_policy\n",
    "\n",
    "# Evaluate the agent\n",
    "mean_reward, std_reward = evaluate_policy(model, model.get_env(), n_eval_episodes=500)\n",
    "mean_reward, std_reward"
   ]
  },
  {
   "cell_type": "markdown",
   "metadata": {},
   "source": [
    "**¿Cómo es el performance de su agente?**\n",
    "\n",
    "Es una performance más neutra ya que el promedio es más cercano a 0 y como std es aprox. $0.9$ significa que existe casi igual probabilidad que pierda o que gane el jugador \n",
    "\n",
    "**¿Es mejor o peor que el escenario baseline?**\n",
    "\n",
    "Es mejor que el baseline."
   ]
  },
  {
   "cell_type": "markdown",
   "metadata": {
    "id": "RO-EsAaPAYEm"
   },
   "source": [
    "#### **1.1.5 Estudio de acciones (0.2 puntos)**\n",
    "\n",
    "Genere una función que reciba un estado y retorne la accion del agente. Luego, use esta función para entregar la acción escogida frente a los siguientes escenarios:\n",
    "\n",
    "- Suma de cartas del agente es 6, dealer muestra un 7, agente no tiene tiene un as\n",
    "- Suma de cartas del agente es 19, dealer muestra un 3, agente tiene tiene un as\n",
    "\n",
    "¿Son coherentes sus acciones con las reglas del juego?\n",
    "\n",
    "Hint: ¿A que clase de python pertenecen los estados? Pruebe a usar el método `.reset` para saberlo."
   ]
  },
  {
   "cell_type": "code",
   "execution_count": 6,
   "metadata": {
    "id": "Fh8XlGyzwtRp"
   },
   "outputs": [],
   "source": [
    "#env.reset()\n",
    "def estado_accion(state):\n",
    "    action, _states = model.predict(state, deterministic=True)\n",
    "    action = action.item() \n",
    "    #state, reward, done, truncated, info = env.step(action)\n",
    "    return action \n",
    "    "
   ]
  },
  {
   "cell_type": "code",
   "execution_count": 7,
   "metadata": {},
   "outputs": [
    {
     "data": {
      "text/plain": [
       "1"
      ]
     },
     "execution_count": 7,
     "metadata": {},
     "output_type": "execute_result"
    }
   ],
   "source": [
    "estado_accion((6,7,0))"
   ]
  },
  {
   "cell_type": "code",
   "execution_count": 8,
   "metadata": {},
   "outputs": [
    {
     "data": {
      "text/plain": [
       "0"
      ]
     },
     "execution_count": 8,
     "metadata": {},
     "output_type": "execute_result"
    }
   ],
   "source": [
    "estado_accion((19,3,1))"
   ]
  },
  {
   "cell_type": "markdown",
   "metadata": {},
   "source": [
    "Notamos que los resultados son coherentes con el juego, pues, en el primer caso $6+7= 13<21$ por ende, sigue jugando y en el segundo se exceden los 21 por ende, se para el juego."
   ]
  },
  {
   "cell_type": "markdown",
   "metadata": {
    "id": "SEqCTqqroh03"
   },
   "source": [
    "### **1.2 LunarLander**\n",
    "\n",
    "<p align=\"center\">\n",
    "  <img src=\"https://i.redd.it/097t6tk29zf51.jpg\"\n",
    "\" width=\"400\">\n",
    "</p>\n",
    "\n",
    "Similar a la sección 2.1, en esta sección usted se encargará de implementar una gente de RL que pueda resolver el ambiente `LunarLander`.\n",
    "\n",
    "Comencemos preparando el ambiente:\n"
   ]
  },
  {
   "cell_type": "code",
   "execution_count": 2,
   "metadata": {
    "id": "nvQUyuZ_FtZ4"
   },
   "outputs": [],
   "source": [
    "import gymnasium as gym\n",
    "env = gym.make(\"LunarLander-v3\", render_mode = \"rgb_array\", continuous = True) # notar el parámetro continuous = True"
   ]
  },
  {
   "cell_type": "markdown",
   "metadata": {
    "id": "FBU4lGX3wpN6"
   },
   "source": [
    "Noten que se especifica el parámetro `continuous = True`. ¿Que implicancias tiene esto sobre el ambiente?\n",
    "\n",
    "El espacio de acciones es continuo, cuando continuous es False existen 4 acciones posibles, pero al ser True el espacio de acciones es el intervalo $[-1,1]^2$\n",
    "\n",
    "Además, se le facilita la función `export_gif` para el ejercicio 2.2.4:"
   ]
  },
  {
   "cell_type": "code",
   "execution_count": 3,
   "metadata": {
    "id": "bRiWpSo9yfr9"
   },
   "outputs": [],
   "source": [
    "import imageio\n",
    "import numpy as np\n",
    "\n",
    "def export_gif(model, n = 5):\n",
    "  '''\n",
    "  función que exporta a gif el comportamiento del agente en n episodios\n",
    "  '''\n",
    "  images = []\n",
    "  for episode in range(n):\n",
    "    obs = model.env.reset()\n",
    "    img = model.env.render()\n",
    "    done = False\n",
    "    while not done:\n",
    "      images.append(img)\n",
    "      action, _ = model.predict(obs)\n",
    "      obs, reward, done, info = model.env.step(action)\n",
    "      img = model.env.render(mode=\"rgb_array\")\n",
    "\n",
    "  imageio.mimsave(\"agent_performance.gif\", [np.array(img) for i, img in enumerate(images) if i%2 == 0], fps=29)"
   ]
  },
  {
   "cell_type": "markdown",
   "metadata": {
    "id": "sk5VJVppXh3N"
   },
   "source": [
    "#### **1.2.1 Descripción de MDP (0.2 puntos)**\n",
    "\n",
    "Entregue una breve descripción sobre el ambiente [LunarLander](https://gymnasium.farama.org/environments/box2d/lunar_lander/) y su formulación en MDP, distinguiendo de forma clara y concisa los estados, acciones y recompensas. ¿Como se distinguen las acciones de este ambiente en comparación a `Blackjack`?\n",
    "\n",
    "Nota: recuerde que se especificó el parámetro `continuous = True`"
   ]
  },
  {
   "cell_type": "markdown",
   "metadata": {
    "id": "Yb-u9LUE8O9a"
   },
   "source": [
    "**Respuesta:**\n",
    "El objetivo del juego simulado es que la nave aterrice de forma segura en un espacio determinado.\n",
    "\n",
    "**Estados**: Cada estado queda descrito por 8 datos\n",
    "* La coordenada de la nave en x\n",
    "* La coordenada de la nave en y\n",
    "* La velocidad de la nave en x\n",
    "* La velocidad de la nave en y\n",
    "* El ángulo de inclinación de la nave\n",
    "* La velocidad angular de la nave\n",
    "* Un valor booleano que indica si la para derecha esta en el suelo \n",
    "* Un valor booleano que indica si la para izquierda esta en el suelo \n",
    "\n",
    "**Acciones**: El espacio de acciones esta compuesto por dos acciones, donde cada una de ellas pertenece al intervalo $[-1,1]$ \n",
    "* La primera coordenada controla el empuje vertical donde a mayor valor mayor es el empuje de la nave hacia arriba.\n",
    "* La segunda coordenada controla el empuje lateral donde valores mayores indican un empuje hacia la derecha y valores menores indican un empuje hacia la izquierda.\n",
    "\n",
    "**Recompensas**: La recompensa es acumulativa en los episodios y depende de :\n",
    "* La distancia de la nave a la plataforma de aterrizaje. (Más cerca mejor puntaje)\n",
    "* La velocidad de la nave (Más lento mejor puntaje)\n",
    "* La inclinación de la nave (Menos inclinación mayor puntaje)\n",
    "* Aumenta en 10 puntos por cada pata que esté en contacto con el suelo.\n",
    "* Disminuye en 0,03 puntos cada fotograma en que se enciende un motor lateral.\n",
    "* Disminuye en 0,3 puntos cada fotograma en que se enciende el motor principal.\n",
    "* Aumenta 100 por aterrizar de forma segura\n",
    "* Disminuye 100 por estrellarse \n",
    "\n",
    "Por último, un episodio se considera una solución si se obtienen al menos 200 puntos.\n",
    "\n",
    "En Lunar Lander el espacio de acción tiene 2 dimensiones y cada una de ellas puede tomar infinitos valores (en $[-1,1]$), en cambio en Blackjack solo contamos con una dimensión que contempla 2 valores posibles. "
   ]
  },
  {
   "cell_type": "markdown",
   "metadata": {
    "id": "YChodtNQwzG2"
   },
   "source": [
    "#### **1.2.2 Generando un Baseline (0.2 puntos)**\n",
    "\n",
    "Simule un escenario en donde se escojan acciones aleatorias. Repita esta simulación 10 veces y reporte el promedio y desviación de las recompensas. ¿Cómo calificaría el performance de esta política?"
   ]
  },
  {
   "cell_type": "code",
   "execution_count": 4,
   "metadata": {
    "id": "5bwc3A0GX7a8"
   },
   "outputs": [],
   "source": [
    "rew=[]\n",
    "for episode in range(10):\n",
    "    done = truncated = False\n",
    "    state, info = env.reset()\n",
    "    for timestep in range(150):\n",
    "        action = env.action_space.sample()  \n",
    "        state, reward, done, truncated, info = env.step(action)\n",
    "        if done or truncated:\n",
    "            #print(timestep)\n",
    "            #print(reward)\n",
    "            break\n",
    "    rew.append(reward)\n",
    "env.close()"
   ]
  },
  {
   "cell_type": "code",
   "execution_count": 5,
   "metadata": {},
   "outputs": [
    {
     "name": "stdout",
     "output_type": "stream",
     "text": [
      "Promedio: -89.86266901401355\n",
      "Desviacion estandar: 32.05705531071766\n"
     ]
    }
   ],
   "source": [
    "promedio = np.mean(rew)\n",
    "desviacion_estandar = np.std(rew, ddof=1)\n",
    "\n",
    "print(f'Promedio: {promedio}')\n",
    "print(f'Desviacion estandar: {desviacion_estandar}')"
   ]
  },
  {
   "cell_type": "markdown",
   "metadata": {},
   "source": [
    "**¿Cómo calificaría el performance de esta política?**\n",
    "\n",
    "Es una mala performance, al ser negativa y su std relativamente pequeño, significa que la nave no aterriza correctamente en practicamente ninguno de los episodios. Por otro lado, el valor promedio es muy lejano a 200.\n"
   ]
  },
  {
   "cell_type": "markdown",
   "metadata": {
    "id": "hQrZVQflX_5f"
   },
   "source": [
    "#### **1.2.3 Entrenamiento de modelo (0.2 puntos)**\n",
    "\n",
    "A partir del siguiente [enlace](https://stable-baselines3.readthedocs.io/en/master/guide/algos.html), escoja un modelo de `stable_baselines3` y entrenelo para resolver el ambiente `LunarLander` **usando 10000 timesteps de entrenamiento**."
   ]
  },
  {
   "cell_type": "code",
   "execution_count": 6,
   "metadata": {
    "id": "y_6Ia9uoF7Hs"
   },
   "outputs": [
    {
     "data": {
      "application/vnd.jupyter.widget-view+json": {
       "model_id": "7d359796458747049e0d36b5f15e5997",
       "version_major": 2,
       "version_minor": 0
      },
      "text/plain": [
       "Output()"
      ]
     },
     "metadata": {},
     "output_type": "display_data"
    },
    {
     "data": {
      "text/html": [
       "<pre style=\"white-space:pre;overflow-x:auto;line-height:normal;font-family:Menlo,'DejaVu Sans Mono',consolas,'Courier New',monospace\"></pre>\n"
      ],
      "text/plain": []
     },
     "metadata": {},
     "output_type": "display_data"
    },
    {
     "data": {
      "text/html": [
       "<pre style=\"white-space:pre;overflow-x:auto;line-height:normal;font-family:Menlo,'DejaVu Sans Mono',consolas,'Courier New',monospace\">\n",
       "</pre>\n"
      ],
      "text/plain": [
       "\n"
      ]
     },
     "metadata": {},
     "output_type": "display_data"
    },
    {
     "data": {
      "text/plain": [
       "<stable_baselines3.sac.sac.SAC at 0x21adc8d6c30>"
      ]
     },
     "execution_count": 6,
     "metadata": {},
     "output_type": "execute_result"
    }
   ],
   "source": [
    "from stable_baselines3 import DDPG\n",
    "from stable_baselines3 import TD3\n",
    "from stable_baselines3 import SAC\n",
    "from stable_baselines3 import PPO\n",
    "\n",
    "env = gym.make(\"LunarLander-v3\", render_mode = \"rgb_array\", continuous = True) \n",
    "\n",
    "model = SAC(\"MlpPolicy\", env, verbose=0)\n",
    "model.learn(total_timesteps=int(1e4), progress_bar=True)"
   ]
  },
  {
   "cell_type": "markdown",
   "metadata": {
    "id": "3z-oIUSrlAsY"
   },
   "source": [
    "#### **1.2.4 Evaluación de modelo (0.2 puntos)**\n",
    "\n",
    "Repita el ejercicio 1.2.2 pero utilizando el modelo entrenado. ¿Cómo es el performance de su agente? ¿Es mejor o peor que el escenario baseline?"
   ]
  },
  {
   "cell_type": "code",
   "execution_count": 7,
   "metadata": {
    "id": "ophyU3KrWrwl"
   },
   "outputs": [
    {
     "data": {
      "text/plain": [
       "(-32.1073605, 16.74173035370277)"
      ]
     },
     "execution_count": 7,
     "metadata": {},
     "output_type": "execute_result"
    }
   ],
   "source": [
    "from stable_baselines3.common.evaluation import evaluate_policy\n",
    "\n",
    "# Evaluate the agent\n",
    "mean_reward, std_reward = evaluate_policy(model, model.get_env(), n_eval_episodes=10)\n",
    "mean_reward, std_reward"
   ]
  },
  {
   "cell_type": "markdown",
   "metadata": {},
   "source": [
    "**¿Cómo es el performance de su agente? ¿Es mejor o peor que el escenario baseline?**\n",
    "\n",
    "Sigue siendo una mala performance por los mismos motivos explicados en la pregunta anterior, sin embargo, su desempeño es un poco mejor que el baseline. \n",
    "\n",
    "\n"
   ]
  },
  {
   "cell_type": "markdown",
   "metadata": {
    "id": "x6Xw4YHT3P5d"
   },
   "source": [
    "#### **1.2.5 Optimización de modelo (0.2 puntos)**\n",
    "\n",
    "Repita los ejercicios 1.2.3 y 1.2.4 hasta obtener un nivel de recompensas promedio mayor a 50. Para esto, puede cambiar manualmente parámetros como:\n",
    "- `total_timesteps`\n",
    "- `learning_rate`\n",
    "- `batch_size`\n",
    "\n",
    "Una vez optimizado el modelo, use la función `export_gif` para estudiar el comportamiento de su agente en la resolución del ambiente y comente sobre sus resultados.\n",
    "\n",
    "Adjunte el gif generado en su entrega (mejor aún si además adjuntan el gif en el markdown)."
   ]
  },
  {
   "cell_type": "code",
   "execution_count": 14,
   "metadata": {
    "id": "aItYF6sr6F_6"
   },
   "outputs": [
    {
     "data": {
      "text/html": [
       "<pre style=\"white-space:pre;overflow-x:auto;line-height:normal;font-family:Menlo,'DejaVu Sans Mono',consolas,'Courier New',monospace\">Using cpu device\n",
       "</pre>\n"
      ],
      "text/plain": [
       "Using cpu device\n"
      ]
     },
     "metadata": {},
     "output_type": "display_data"
    },
    {
     "data": {
      "text/html": [
       "<pre style=\"white-space:pre;overflow-x:auto;line-height:normal;font-family:Menlo,'DejaVu Sans Mono',consolas,'Courier New',monospace\">---------------------------------\n",
       "| rollout/           |          |\n",
       "|    ep_len_mean     | 114      |\n",
       "|    ep_rew_mean     | -148     |\n",
       "| time/              |          |\n",
       "|    episodes        | 4        |\n",
       "|    fps             | 51       |\n",
       "|    time_elapsed    | 8        |\n",
       "|    total_timesteps | 455      |\n",
       "| train/             |          |\n",
       "|    actor_loss      | -2.34    |\n",
       "|    critic_loss     | 54.8     |\n",
       "|    ent_coef        | 0.966    |\n",
       "|    ent_coef_loss   | -0.111   |\n",
       "|    learning_rate   | 0.0001   |\n",
       "|    n_updates       | 354      |\n",
       "---------------------------------\n",
       "</pre>\n"
      ],
      "text/plain": [
       "---------------------------------\n",
       "| rollout/           |          |\n",
       "|    ep_len_mean     | 114      |\n",
       "|    ep_rew_mean     | -148     |\n",
       "| time/              |          |\n",
       "|    episodes        | 4        |\n",
       "|    fps             | 51       |\n",
       "|    time_elapsed    | 8        |\n",
       "|    total_timesteps | 455      |\n",
       "| train/             |          |\n",
       "|    actor_loss      | -2.34    |\n",
       "|    critic_loss     | 54.8     |\n",
       "|    ent_coef        | 0.966    |\n",
       "|    ent_coef_loss   | -0.111   |\n",
       "|    learning_rate   | 0.0001   |\n",
       "|    n_updates       | 354      |\n",
       "---------------------------------\n"
      ]
     },
     "metadata": {},
     "output_type": "display_data"
    },
    {
     "data": {
      "text/html": [
       "<pre style=\"white-space:pre;overflow-x:auto;line-height:normal;font-family:Menlo,'DejaVu Sans Mono',consolas,'Courier New',monospace\">---------------------------------\n",
       "| rollout/           |          |\n",
       "|    ep_len_mean     | 129      |\n",
       "|    ep_rew_mean     | -181     |\n",
       "| time/              |          |\n",
       "|    episodes        | 8        |\n",
       "|    fps             | 45       |\n",
       "|    time_elapsed    | 22       |\n",
       "|    total_timesteps | 1033     |\n",
       "| train/             |          |\n",
       "|    actor_loss      | -1.67    |\n",
       "|    critic_loss     | 29.5     |\n",
       "|    ent_coef        | 0.914    |\n",
       "|    ent_coef_loss   | -0.252   |\n",
       "|    learning_rate   | 0.0001   |\n",
       "|    n_updates       | 932      |\n",
       "---------------------------------\n",
       "</pre>\n"
      ],
      "text/plain": [
       "---------------------------------\n",
       "| rollout/           |          |\n",
       "|    ep_len_mean     | 129      |\n",
       "|    ep_rew_mean     | -181     |\n",
       "| time/              |          |\n",
       "|    episodes        | 8        |\n",
       "|    fps             | 45       |\n",
       "|    time_elapsed    | 22       |\n",
       "|    total_timesteps | 1033     |\n",
       "| train/             |          |\n",
       "|    actor_loss      | -1.67    |\n",
       "|    critic_loss     | 29.5     |\n",
       "|    ent_coef        | 0.914    |\n",
       "|    ent_coef_loss   | -0.252   |\n",
       "|    learning_rate   | 0.0001   |\n",
       "|    n_updates       | 932      |\n",
       "---------------------------------\n"
      ]
     },
     "metadata": {},
     "output_type": "display_data"
    },
    {
     "data": {
      "text/html": [
       "<pre style=\"white-space:pre;overflow-x:auto;line-height:normal;font-family:Menlo,'DejaVu Sans Mono',consolas,'Courier New',monospace\">---------------------------------\n",
       "| rollout/           |          |\n",
       "|    ep_len_mean     | 137      |\n",
       "|    ep_rew_mean     | -191     |\n",
       "| time/              |          |\n",
       "|    episodes        | 12       |\n",
       "|    fps             | 44       |\n",
       "|    time_elapsed    | 36       |\n",
       "|    total_timesteps | 1641     |\n",
       "| train/             |          |\n",
       "|    actor_loss      | -1.97    |\n",
       "|    critic_loss     | 28.9     |\n",
       "|    ent_coef        | 0.864    |\n",
       "|    ent_coef_loss   | -0.41    |\n",
       "|    learning_rate   | 0.0001   |\n",
       "|    n_updates       | 1540     |\n",
       "---------------------------------\n",
       "</pre>\n"
      ],
      "text/plain": [
       "---------------------------------\n",
       "| rollout/           |          |\n",
       "|    ep_len_mean     | 137      |\n",
       "|    ep_rew_mean     | -191     |\n",
       "| time/              |          |\n",
       "|    episodes        | 12       |\n",
       "|    fps             | 44       |\n",
       "|    time_elapsed    | 36       |\n",
       "|    total_timesteps | 1641     |\n",
       "| train/             |          |\n",
       "|    actor_loss      | -1.97    |\n",
       "|    critic_loss     | 28.9     |\n",
       "|    ent_coef        | 0.864    |\n",
       "|    ent_coef_loss   | -0.41    |\n",
       "|    learning_rate   | 0.0001   |\n",
       "|    n_updates       | 1540     |\n",
       "---------------------------------\n"
      ]
     },
     "metadata": {},
     "output_type": "display_data"
    },
    {
     "data": {
      "text/html": [
       "<pre style=\"white-space:pre;overflow-x:auto;line-height:normal;font-family:Menlo,'DejaVu Sans Mono',consolas,'Courier New',monospace\">---------------------------------\n",
       "| rollout/           |          |\n",
       "|    ep_len_mean     | 148      |\n",
       "|    ep_rew_mean     | -211     |\n",
       "| time/              |          |\n",
       "|    episodes        | 16       |\n",
       "|    fps             | 43       |\n",
       "|    time_elapsed    | 54       |\n",
       "|    total_timesteps | 2369     |\n",
       "| train/             |          |\n",
       "|    actor_loss      | -0.764   |\n",
       "|    critic_loss     | 15.8     |\n",
       "|    ent_coef        | 0.806    |\n",
       "|    ent_coef_loss   | -0.584   |\n",
       "|    learning_rate   | 0.0001   |\n",
       "|    n_updates       | 2268     |\n",
       "---------------------------------\n",
       "</pre>\n"
      ],
      "text/plain": [
       "---------------------------------\n",
       "| rollout/           |          |\n",
       "|    ep_len_mean     | 148      |\n",
       "|    ep_rew_mean     | -211     |\n",
       "| time/              |          |\n",
       "|    episodes        | 16       |\n",
       "|    fps             | 43       |\n",
       "|    time_elapsed    | 54       |\n",
       "|    total_timesteps | 2369     |\n",
       "| train/             |          |\n",
       "|    actor_loss      | -0.764   |\n",
       "|    critic_loss     | 15.8     |\n",
       "|    ent_coef        | 0.806    |\n",
       "|    ent_coef_loss   | -0.584   |\n",
       "|    learning_rate   | 0.0001   |\n",
       "|    n_updates       | 2268     |\n",
       "---------------------------------\n"
      ]
     },
     "metadata": {},
     "output_type": "display_data"
    },
    {
     "data": {
      "text/html": [
       "<pre style=\"white-space:pre;overflow-x:auto;line-height:normal;font-family:Menlo,'DejaVu Sans Mono',consolas,'Courier New',monospace\">---------------------------------\n",
       "| rollout/           |          |\n",
       "|    ep_len_mean     | 152      |\n",
       "|    ep_rew_mean     | -203     |\n",
       "| time/              |          |\n",
       "|    episodes        | 20       |\n",
       "|    fps             | 42       |\n",
       "|    time_elapsed    | 71       |\n",
       "|    total_timesteps | 3046     |\n",
       "| train/             |          |\n",
       "|    actor_loss      | -0.405   |\n",
       "|    critic_loss     | 5.58     |\n",
       "|    ent_coef        | 0.755    |\n",
       "|    ent_coef_loss   | -0.735   |\n",
       "|    learning_rate   | 0.0001   |\n",
       "|    n_updates       | 2945     |\n",
       "---------------------------------\n",
       "</pre>\n"
      ],
      "text/plain": [
       "---------------------------------\n",
       "| rollout/           |          |\n",
       "|    ep_len_mean     | 152      |\n",
       "|    ep_rew_mean     | -203     |\n",
       "| time/              |          |\n",
       "|    episodes        | 20       |\n",
       "|    fps             | 42       |\n",
       "|    time_elapsed    | 71       |\n",
       "|    total_timesteps | 3046     |\n",
       "| train/             |          |\n",
       "|    actor_loss      | -0.405   |\n",
       "|    critic_loss     | 5.58     |\n",
       "|    ent_coef        | 0.755    |\n",
       "|    ent_coef_loss   | -0.735   |\n",
       "|    learning_rate   | 0.0001   |\n",
       "|    n_updates       | 2945     |\n",
       "---------------------------------\n"
      ]
     },
     "metadata": {},
     "output_type": "display_data"
    },
    {
     "data": {
      "text/html": [
       "<pre style=\"white-space:pre;overflow-x:auto;line-height:normal;font-family:Menlo,'DejaVu Sans Mono',consolas,'Courier New',monospace\">---------------------------------\n",
       "| rollout/           |          |\n",
       "|    ep_len_mean     | 205      |\n",
       "|    ep_rew_mean     | -176     |\n",
       "| time/              |          |\n",
       "|    episodes        | 24       |\n",
       "|    fps             | 41       |\n",
       "|    time_elapsed    | 118      |\n",
       "|    total_timesteps | 4929     |\n",
       "| train/             |          |\n",
       "|    actor_loss      | 6.06     |\n",
       "|    critic_loss     | 6.52     |\n",
       "|    ent_coef        | 0.632    |\n",
       "|    ent_coef_loss   | -1.09    |\n",
       "|    learning_rate   | 0.0001   |\n",
       "|    n_updates       | 4828     |\n",
       "---------------------------------\n",
       "</pre>\n"
      ],
      "text/plain": [
       "---------------------------------\n",
       "| rollout/           |          |\n",
       "|    ep_len_mean     | 205      |\n",
       "|    ep_rew_mean     | -176     |\n",
       "| time/              |          |\n",
       "|    episodes        | 24       |\n",
       "|    fps             | 41       |\n",
       "|    time_elapsed    | 118      |\n",
       "|    total_timesteps | 4929     |\n",
       "| train/             |          |\n",
       "|    actor_loss      | 6.06     |\n",
       "|    critic_loss     | 6.52     |\n",
       "|    ent_coef        | 0.632    |\n",
       "|    ent_coef_loss   | -1.09    |\n",
       "|    learning_rate   | 0.0001   |\n",
       "|    n_updates       | 4828     |\n",
       "---------------------------------\n"
      ]
     },
     "metadata": {},
     "output_type": "display_data"
    },
    {
     "data": {
      "text/html": [
       "<pre style=\"white-space:pre;overflow-x:auto;line-height:normal;font-family:Menlo,'DejaVu Sans Mono',consolas,'Courier New',monospace\">---------------------------------\n",
       "| rollout/           |          |\n",
       "|    ep_len_mean     | 261      |\n",
       "|    ep_rew_mean     | -166     |\n",
       "| time/              |          |\n",
       "|    episodes        | 28       |\n",
       "|    fps             | 40       |\n",
       "|    time_elapsed    | 178      |\n",
       "|    total_timesteps | 7306     |\n",
       "| train/             |          |\n",
       "|    actor_loss      | 1.19     |\n",
       "|    critic_loss     | 15.9     |\n",
       "|    ent_coef        | 0.504    |\n",
       "|    ent_coef_loss   | -1.46    |\n",
       "|    learning_rate   | 0.0001   |\n",
       "|    n_updates       | 7205     |\n",
       "---------------------------------\n",
       "</pre>\n"
      ],
      "text/plain": [
       "---------------------------------\n",
       "| rollout/           |          |\n",
       "|    ep_len_mean     | 261      |\n",
       "|    ep_rew_mean     | -166     |\n",
       "| time/              |          |\n",
       "|    episodes        | 28       |\n",
       "|    fps             | 40       |\n",
       "|    time_elapsed    | 178      |\n",
       "|    total_timesteps | 7306     |\n",
       "| train/             |          |\n",
       "|    actor_loss      | 1.19     |\n",
       "|    critic_loss     | 15.9     |\n",
       "|    ent_coef        | 0.504    |\n",
       "|    ent_coef_loss   | -1.46    |\n",
       "|    learning_rate   | 0.0001   |\n",
       "|    n_updates       | 7205     |\n",
       "---------------------------------\n"
      ]
     },
     "metadata": {},
     "output_type": "display_data"
    },
    {
     "data": {
      "text/html": [
       "<pre style=\"white-space:pre;overflow-x:auto;line-height:normal;font-family:Menlo,'DejaVu Sans Mono',consolas,'Courier New',monospace\">---------------------------------\n",
       "| rollout/           |          |\n",
       "|    ep_len_mean     | 309      |\n",
       "|    ep_rew_mean     | -163     |\n",
       "| time/              |          |\n",
       "|    episodes        | 32       |\n",
       "|    fps             | 40       |\n",
       "|    time_elapsed    | 246      |\n",
       "|    total_timesteps | 9881     |\n",
       "| train/             |          |\n",
       "|    actor_loss      | -6.14    |\n",
       "|    critic_loss     | 3.46     |\n",
       "|    ent_coef        | 0.393    |\n",
       "|    ent_coef_loss   | -1.77    |\n",
       "|    learning_rate   | 0.0001   |\n",
       "|    n_updates       | 9780     |\n",
       "---------------------------------\n",
       "</pre>\n"
      ],
      "text/plain": [
       "---------------------------------\n",
       "| rollout/           |          |\n",
       "|    ep_len_mean     | 309      |\n",
       "|    ep_rew_mean     | -163     |\n",
       "| time/              |          |\n",
       "|    episodes        | 32       |\n",
       "|    fps             | 40       |\n",
       "|    time_elapsed    | 246      |\n",
       "|    total_timesteps | 9881     |\n",
       "| train/             |          |\n",
       "|    actor_loss      | -6.14    |\n",
       "|    critic_loss     | 3.46     |\n",
       "|    ent_coef        | 0.393    |\n",
       "|    ent_coef_loss   | -1.77    |\n",
       "|    learning_rate   | 0.0001   |\n",
       "|    n_updates       | 9780     |\n",
       "---------------------------------\n"
      ]
     },
     "metadata": {},
     "output_type": "display_data"
    },
    {
     "data": {
      "text/html": [
       "<pre style=\"white-space:pre;overflow-x:auto;line-height:normal;font-family:Menlo,'DejaVu Sans Mono',consolas,'Courier New',monospace\">---------------------------------\n",
       "| rollout/           |          |\n",
       "|    ep_len_mean     | 429      |\n",
       "|    ep_rew_mean     | -135     |\n",
       "| time/              |          |\n",
       "|    episodes        | 40       |\n",
       "|    fps             | 38       |\n",
       "|    time_elapsed    | 445      |\n",
       "|    total_timesteps | 17177    |\n",
       "| train/             |          |\n",
       "|    actor_loss      | -10.7    |\n",
       "|    critic_loss     | 3.04     |\n",
       "|    ent_coef        | 0.194    |\n",
       "|    ent_coef_loss   | -2.52    |\n",
       "|    learning_rate   | 0.0001   |\n",
       "|    n_updates       | 17076    |\n",
       "---------------------------------\n",
       "</pre>\n"
      ],
      "text/plain": [
       "---------------------------------\n",
       "| rollout/           |          |\n",
       "|    ep_len_mean     | 429      |\n",
       "|    ep_rew_mean     | -135     |\n",
       "| time/              |          |\n",
       "|    episodes        | 40       |\n",
       "|    fps             | 38       |\n",
       "|    time_elapsed    | 445      |\n",
       "|    total_timesteps | 17177    |\n",
       "| train/             |          |\n",
       "|    actor_loss      | -10.7    |\n",
       "|    critic_loss     | 3.04     |\n",
       "|    ent_coef        | 0.194    |\n",
       "|    ent_coef_loss   | -2.52    |\n",
       "|    learning_rate   | 0.0001   |\n",
       "|    n_updates       | 17076    |\n",
       "---------------------------------\n"
      ]
     },
     "metadata": {},
     "output_type": "display_data"
    },
    {
     "data": {
      "text/html": [
       "<pre style=\"white-space:pre;overflow-x:auto;line-height:normal;font-family:Menlo,'DejaVu Sans Mono',consolas,'Courier New',monospace\">---------------------------------\n",
       "| rollout/           |          |\n",
       "|    ep_len_mean     | 481      |\n",
       "|    ep_rew_mean     | -126     |\n",
       "| time/              |          |\n",
       "|    episodes        | 44       |\n",
       "|    fps             | 38       |\n",
       "|    time_elapsed    | 552      |\n",
       "|    total_timesteps | 21177    |\n",
       "| train/             |          |\n",
       "|    actor_loss      | -15.7    |\n",
       "|    critic_loss     | 3.45     |\n",
       "|    ent_coef        | 0.133    |\n",
       "|    ent_coef_loss   | -2.84    |\n",
       "|    learning_rate   | 0.0001   |\n",
       "|    n_updates       | 21076    |\n",
       "---------------------------------\n",
       "</pre>\n"
      ],
      "text/plain": [
       "---------------------------------\n",
       "| rollout/           |          |\n",
       "|    ep_len_mean     | 481      |\n",
       "|    ep_rew_mean     | -126     |\n",
       "| time/              |          |\n",
       "|    episodes        | 44       |\n",
       "|    fps             | 38       |\n",
       "|    time_elapsed    | 552      |\n",
       "|    total_timesteps | 21177    |\n",
       "| train/             |          |\n",
       "|    actor_loss      | -15.7    |\n",
       "|    critic_loss     | 3.45     |\n",
       "|    ent_coef        | 0.133    |\n",
       "|    ent_coef_loss   | -2.84    |\n",
       "|    learning_rate   | 0.0001   |\n",
       "|    n_updates       | 21076    |\n",
       "---------------------------------\n"
      ]
     },
     "metadata": {},
     "output_type": "display_data"
    },
    {
     "data": {
      "text/html": [
       "<pre style=\"white-space:pre;overflow-x:auto;line-height:normal;font-family:Menlo,'DejaVu Sans Mono',consolas,'Courier New',monospace\">---------------------------------\n",
       "| rollout/           |          |\n",
       "|    ep_len_mean     | 525      |\n",
       "|    ep_rew_mean     | -120     |\n",
       "| time/              |          |\n",
       "|    episodes        | 48       |\n",
       "|    fps             | 37       |\n",
       "|    time_elapsed    | 663      |\n",
       "|    total_timesteps | 25177    |\n",
       "| train/             |          |\n",
       "|    actor_loss      | -17.1    |\n",
       "|    critic_loss     | 1.64     |\n",
       "|    ent_coef        | 0.0929   |\n",
       "|    ent_coef_loss   | -1.82    |\n",
       "|    learning_rate   | 0.0001   |\n",
       "|    n_updates       | 25076    |\n",
       "---------------------------------\n",
       "</pre>\n"
      ],
      "text/plain": [
       "---------------------------------\n",
       "| rollout/           |          |\n",
       "|    ep_len_mean     | 525      |\n",
       "|    ep_rew_mean     | -120     |\n",
       "| time/              |          |\n",
       "|    episodes        | 48       |\n",
       "|    fps             | 37       |\n",
       "|    time_elapsed    | 663      |\n",
       "|    total_timesteps | 25177    |\n",
       "| train/             |          |\n",
       "|    actor_loss      | -17.1    |\n",
       "|    critic_loss     | 1.64     |\n",
       "|    ent_coef        | 0.0929   |\n",
       "|    ent_coef_loss   | -1.82    |\n",
       "|    learning_rate   | 0.0001   |\n",
       "|    n_updates       | 25076    |\n",
       "---------------------------------\n"
      ]
     },
     "metadata": {},
     "output_type": "display_data"
    },
    {
     "data": {
      "text/html": [
       "<pre style=\"white-space:pre;overflow-x:auto;line-height:normal;font-family:Menlo,'DejaVu Sans Mono',consolas,'Courier New',monospace\">---------------------------------\n",
       "| rollout/           |          |\n",
       "|    ep_len_mean     | 561      |\n",
       "|    ep_rew_mean     | -115     |\n",
       "| time/              |          |\n",
       "|    episodes        | 52       |\n",
       "|    fps             | 37       |\n",
       "|    time_elapsed    | 771      |\n",
       "|    total_timesteps | 29177    |\n",
       "| train/             |          |\n",
       "|    actor_loss      | -18.8    |\n",
       "|    critic_loss     | 14.5     |\n",
       "|    ent_coef        | 0.0682   |\n",
       "|    ent_coef_loss   | -1.48    |\n",
       "|    learning_rate   | 0.0001   |\n",
       "|    n_updates       | 29076    |\n",
       "---------------------------------\n",
       "</pre>\n"
      ],
      "text/plain": [
       "---------------------------------\n",
       "| rollout/           |          |\n",
       "|    ep_len_mean     | 561      |\n",
       "|    ep_rew_mean     | -115     |\n",
       "| time/              |          |\n",
       "|    episodes        | 52       |\n",
       "|    fps             | 37       |\n",
       "|    time_elapsed    | 771      |\n",
       "|    total_timesteps | 29177    |\n",
       "| train/             |          |\n",
       "|    actor_loss      | -18.8    |\n",
       "|    critic_loss     | 14.5     |\n",
       "|    ent_coef        | 0.0682   |\n",
       "|    ent_coef_loss   | -1.48    |\n",
       "|    learning_rate   | 0.0001   |\n",
       "|    n_updates       | 29076    |\n",
       "---------------------------------\n"
      ]
     },
     "metadata": {},
     "output_type": "display_data"
    },
    {
     "data": {
      "text/html": [
       "<pre style=\"white-space:pre;overflow-x:auto;line-height:normal;font-family:Menlo,'DejaVu Sans Mono',consolas,'Courier New',monospace\">---------------------------------\n",
       "| rollout/           |          |\n",
       "|    ep_len_mean     | 568      |\n",
       "|    ep_rew_mean     | -114     |\n",
       "| time/              |          |\n",
       "|    episodes        | 56       |\n",
       "|    fps             | 37       |\n",
       "|    time_elapsed    | 841      |\n",
       "|    total_timesteps | 31830    |\n",
       "| train/             |          |\n",
       "|    actor_loss      | -20.9    |\n",
       "|    critic_loss     | 1.93     |\n",
       "|    ent_coef        | 0.0553   |\n",
       "|    ent_coef_loss   | -1.59    |\n",
       "|    learning_rate   | 0.0001   |\n",
       "|    n_updates       | 31729    |\n",
       "---------------------------------\n",
       "</pre>\n"
      ],
      "text/plain": [
       "---------------------------------\n",
       "| rollout/           |          |\n",
       "|    ep_len_mean     | 568      |\n",
       "|    ep_rew_mean     | -114     |\n",
       "| time/              |          |\n",
       "|    episodes        | 56       |\n",
       "|    fps             | 37       |\n",
       "|    time_elapsed    | 841      |\n",
       "|    total_timesteps | 31830    |\n",
       "| train/             |          |\n",
       "|    actor_loss      | -20.9    |\n",
       "|    critic_loss     | 1.93     |\n",
       "|    ent_coef        | 0.0553   |\n",
       "|    ent_coef_loss   | -1.59    |\n",
       "|    learning_rate   | 0.0001   |\n",
       "|    n_updates       | 31729    |\n",
       "---------------------------------\n"
      ]
     },
     "metadata": {},
     "output_type": "display_data"
    },
    {
     "data": {
      "text/html": [
       "<pre style=\"white-space:pre;overflow-x:auto;line-height:normal;font-family:Menlo,'DejaVu Sans Mono',consolas,'Courier New',monospace\">---------------------------------\n",
       "| rollout/           |          |\n",
       "|    ep_len_mean     | 597      |\n",
       "|    ep_rew_mean     | -107     |\n",
       "| time/              |          |\n",
       "|    episodes        | 60       |\n",
       "|    fps             | 37       |\n",
       "|    time_elapsed    | 951      |\n",
       "|    total_timesteps | 35830    |\n",
       "| train/             |          |\n",
       "|    actor_loss      | -18.9    |\n",
       "|    critic_loss     | 2.34     |\n",
       "|    ent_coef        | 0.0497   |\n",
       "|    ent_coef_loss   | 0.121    |\n",
       "|    learning_rate   | 0.0001   |\n",
       "|    n_updates       | 35729    |\n",
       "---------------------------------\n",
       "</pre>\n"
      ],
      "text/plain": [
       "---------------------------------\n",
       "| rollout/           |          |\n",
       "|    ep_len_mean     | 597      |\n",
       "|    ep_rew_mean     | -107     |\n",
       "| time/              |          |\n",
       "|    episodes        | 60       |\n",
       "|    fps             | 37       |\n",
       "|    time_elapsed    | 951      |\n",
       "|    total_timesteps | 35830    |\n",
       "| train/             |          |\n",
       "|    actor_loss      | -18.9    |\n",
       "|    critic_loss     | 2.34     |\n",
       "|    ent_coef        | 0.0497   |\n",
       "|    ent_coef_loss   | 0.121    |\n",
       "|    learning_rate   | 0.0001   |\n",
       "|    n_updates       | 35729    |\n",
       "---------------------------------\n"
      ]
     },
     "metadata": {},
     "output_type": "display_data"
    },
    {
     "data": {
      "text/html": [
       "<pre style=\"white-space:pre;overflow-x:auto;line-height:normal;font-family:Menlo,'DejaVu Sans Mono',consolas,'Courier New',monospace\">---------------------------------\n",
       "| rollout/           |          |\n",
       "|    ep_len_mean     | 622      |\n",
       "|    ep_rew_mean     | -102     |\n",
       "| time/              |          |\n",
       "|    episodes        | 64       |\n",
       "|    fps             | 37       |\n",
       "|    time_elapsed    | 1061     |\n",
       "|    total_timesteps | 39830    |\n",
       "| train/             |          |\n",
       "|    actor_loss      | -17.6    |\n",
       "|    critic_loss     | 2.08     |\n",
       "|    ent_coef        | 0.0542   |\n",
       "|    ent_coef_loss   | 0.938    |\n",
       "|    learning_rate   | 0.0001   |\n",
       "|    n_updates       | 39729    |\n",
       "---------------------------------\n",
       "</pre>\n"
      ],
      "text/plain": [
       "---------------------------------\n",
       "| rollout/           |          |\n",
       "|    ep_len_mean     | 622      |\n",
       "|    ep_rew_mean     | -102     |\n",
       "| time/              |          |\n",
       "|    episodes        | 64       |\n",
       "|    fps             | 37       |\n",
       "|    time_elapsed    | 1061     |\n",
       "|    total_timesteps | 39830    |\n",
       "| train/             |          |\n",
       "|    actor_loss      | -17.6    |\n",
       "|    critic_loss     | 2.08     |\n",
       "|    ent_coef        | 0.0542   |\n",
       "|    ent_coef_loss   | 0.938    |\n",
       "|    learning_rate   | 0.0001   |\n",
       "|    n_updates       | 39729    |\n",
       "---------------------------------\n"
      ]
     },
     "metadata": {},
     "output_type": "display_data"
    },
    {
     "data": {
      "text/html": [
       "<pre style=\"white-space:pre;overflow-x:auto;line-height:normal;font-family:Menlo,'DejaVu Sans Mono',consolas,'Courier New',monospace\">---------------------------------\n",
       "| rollout/           |          |\n",
       "|    ep_len_mean     | 618      |\n",
       "|    ep_rew_mean     | -98.7    |\n",
       "| time/              |          |\n",
       "|    episodes        | 68       |\n",
       "|    fps             | 37       |\n",
       "|    time_elapsed    | 1119     |\n",
       "|    total_timesteps | 42038    |\n",
       "| train/             |          |\n",
       "|    actor_loss      | -19      |\n",
       "|    critic_loss     | 3.19     |\n",
       "|    ent_coef        | 0.0617   |\n",
       "|    ent_coef_loss   | -0.544   |\n",
       "|    learning_rate   | 0.0001   |\n",
       "|    n_updates       | 41937    |\n",
       "---------------------------------\n",
       "</pre>\n"
      ],
      "text/plain": [
       "---------------------------------\n",
       "| rollout/           |          |\n",
       "|    ep_len_mean     | 618      |\n",
       "|    ep_rew_mean     | -98.7    |\n",
       "| time/              |          |\n",
       "|    episodes        | 68       |\n",
       "|    fps             | 37       |\n",
       "|    time_elapsed    | 1119     |\n",
       "|    total_timesteps | 42038    |\n",
       "| train/             |          |\n",
       "|    actor_loss      | -19      |\n",
       "|    critic_loss     | 3.19     |\n",
       "|    ent_coef        | 0.0617   |\n",
       "|    ent_coef_loss   | -0.544   |\n",
       "|    learning_rate   | 0.0001   |\n",
       "|    n_updates       | 41937    |\n",
       "---------------------------------\n"
      ]
     },
     "metadata": {},
     "output_type": "display_data"
    },
    {
     "data": {
      "text/html": [
       "<pre style=\"white-space:pre;overflow-x:auto;line-height:normal;font-family:Menlo,'DejaVu Sans Mono',consolas,'Courier New',monospace\">---------------------------------\n",
       "| rollout/           |          |\n",
       "|    ep_len_mean     | 630      |\n",
       "|    ep_rew_mean     | -87.7    |\n",
       "| time/              |          |\n",
       "|    episodes        | 72       |\n",
       "|    fps             | 37       |\n",
       "|    time_elapsed    | 1209     |\n",
       "|    total_timesteps | 45377    |\n",
       "| train/             |          |\n",
       "|    actor_loss      | -19.5    |\n",
       "|    critic_loss     | 10.5     |\n",
       "|    ent_coef        | 0.055    |\n",
       "|    ent_coef_loss   | -0.348   |\n",
       "|    learning_rate   | 0.0001   |\n",
       "|    n_updates       | 45276    |\n",
       "---------------------------------\n",
       "</pre>\n"
      ],
      "text/plain": [
       "---------------------------------\n",
       "| rollout/           |          |\n",
       "|    ep_len_mean     | 630      |\n",
       "|    ep_rew_mean     | -87.7    |\n",
       "| time/              |          |\n",
       "|    episodes        | 72       |\n",
       "|    fps             | 37       |\n",
       "|    time_elapsed    | 1209     |\n",
       "|    total_timesteps | 45377    |\n",
       "| train/             |          |\n",
       "|    actor_loss      | -19.5    |\n",
       "|    critic_loss     | 10.5     |\n",
       "|    ent_coef        | 0.055    |\n",
       "|    ent_coef_loss   | -0.348   |\n",
       "|    learning_rate   | 0.0001   |\n",
       "|    n_updates       | 45276    |\n",
       "---------------------------------\n"
      ]
     },
     "metadata": {},
     "output_type": "display_data"
    },
    {
     "data": {
      "text/html": [
       "<pre style=\"white-space:pre;overflow-x:auto;line-height:normal;font-family:Menlo,'DejaVu Sans Mono',consolas,'Courier New',monospace\">---------------------------------\n",
       "| rollout/           |          |\n",
       "|    ep_len_mean     | 648      |\n",
       "|    ep_rew_mean     | -83.2    |\n",
       "| time/              |          |\n",
       "|    episodes        | 76       |\n",
       "|    fps             | 37       |\n",
       "|    time_elapsed    | 1316     |\n",
       "|    total_timesteps | 49271    |\n",
       "| train/             |          |\n",
       "|    actor_loss      | -19.4    |\n",
       "|    critic_loss     | 1.51     |\n",
       "|    ent_coef        | 0.0566   |\n",
       "|    ent_coef_loss   | -0.206   |\n",
       "|    learning_rate   | 0.0001   |\n",
       "|    n_updates       | 49170    |\n",
       "---------------------------------\n",
       "</pre>\n"
      ],
      "text/plain": [
       "---------------------------------\n",
       "| rollout/           |          |\n",
       "|    ep_len_mean     | 648      |\n",
       "|    ep_rew_mean     | -83.2    |\n",
       "| time/              |          |\n",
       "|    episodes        | 76       |\n",
       "|    fps             | 37       |\n",
       "|    time_elapsed    | 1316     |\n",
       "|    total_timesteps | 49271    |\n",
       "| train/             |          |\n",
       "|    actor_loss      | -19.4    |\n",
       "|    critic_loss     | 1.51     |\n",
       "|    ent_coef        | 0.0566   |\n",
       "|    ent_coef_loss   | -0.206   |\n",
       "|    learning_rate   | 0.0001   |\n",
       "|    n_updates       | 49170    |\n",
       "---------------------------------\n"
      ]
     },
     "metadata": {},
     "output_type": "display_data"
    },
    {
     "data": {
      "text/html": [
       "<pre style=\"white-space:pre;overflow-x:auto;line-height:normal;font-family:Menlo,'DejaVu Sans Mono',consolas,'Courier New',monospace\">---------------------------------\n",
       "| rollout/           |          |\n",
       "|    ep_len_mean     | 661      |\n",
       "|    ep_rew_mean     | -76.4    |\n",
       "| time/              |          |\n",
       "|    episodes        | 80       |\n",
       "|    fps             | 37       |\n",
       "|    time_elapsed    | 1414     |\n",
       "|    total_timesteps | 52916    |\n",
       "| train/             |          |\n",
       "|    actor_loss      | -16      |\n",
       "|    critic_loss     | 4.37     |\n",
       "|    ent_coef        | 0.043    |\n",
       "|    ent_coef_loss   | -0.181   |\n",
       "|    learning_rate   | 0.0001   |\n",
       "|    n_updates       | 52815    |\n",
       "---------------------------------\n",
       "</pre>\n"
      ],
      "text/plain": [
       "---------------------------------\n",
       "| rollout/           |          |\n",
       "|    ep_len_mean     | 661      |\n",
       "|    ep_rew_mean     | -76.4    |\n",
       "| time/              |          |\n",
       "|    episodes        | 80       |\n",
       "|    fps             | 37       |\n",
       "|    time_elapsed    | 1414     |\n",
       "|    total_timesteps | 52916    |\n",
       "| train/             |          |\n",
       "|    actor_loss      | -16      |\n",
       "|    critic_loss     | 4.37     |\n",
       "|    ent_coef        | 0.043    |\n",
       "|    ent_coef_loss   | -0.181   |\n",
       "|    learning_rate   | 0.0001   |\n",
       "|    n_updates       | 52815    |\n",
       "---------------------------------\n"
      ]
     },
     "metadata": {},
     "output_type": "display_data"
    },
    {
     "data": {
      "text/html": [
       "<pre style=\"white-space:pre;overflow-x:auto;line-height:normal;font-family:Menlo,'DejaVu Sans Mono',consolas,'Courier New',monospace\">---------------------------------\n",
       "| rollout/           |          |\n",
       "|    ep_len_mean     | 675      |\n",
       "|    ep_rew_mean     | -70.3    |\n",
       "| time/              |          |\n",
       "|    episodes        | 84       |\n",
       "|    fps             | 37       |\n",
       "|    time_elapsed    | 1516     |\n",
       "|    total_timesteps | 56705    |\n",
       "| train/             |          |\n",
       "|    actor_loss      | -15.6    |\n",
       "|    critic_loss     | 10       |\n",
       "|    ent_coef        | 0.0332   |\n",
       "|    ent_coef_loss   | -0.269   |\n",
       "|    learning_rate   | 0.0001   |\n",
       "|    n_updates       | 56604    |\n",
       "---------------------------------\n",
       "</pre>\n"
      ],
      "text/plain": [
       "---------------------------------\n",
       "| rollout/           |          |\n",
       "|    ep_len_mean     | 675      |\n",
       "|    ep_rew_mean     | -70.3    |\n",
       "| time/              |          |\n",
       "|    episodes        | 84       |\n",
       "|    fps             | 37       |\n",
       "|    time_elapsed    | 1516     |\n",
       "|    total_timesteps | 56705    |\n",
       "| train/             |          |\n",
       "|    actor_loss      | -15.6    |\n",
       "|    critic_loss     | 10       |\n",
       "|    ent_coef        | 0.0332   |\n",
       "|    ent_coef_loss   | -0.269   |\n",
       "|    learning_rate   | 0.0001   |\n",
       "|    n_updates       | 56604    |\n",
       "---------------------------------\n"
      ]
     },
     "metadata": {},
     "output_type": "display_data"
    },
    {
     "data": {
      "text/html": [
       "<pre style=\"white-space:pre;overflow-x:auto;line-height:normal;font-family:Menlo,'DejaVu Sans Mono',consolas,'Courier New',monospace\">---------------------------------\n",
       "| rollout/           |          |\n",
       "|    ep_len_mean     | 690      |\n",
       "|    ep_rew_mean     | -67.8    |\n",
       "| time/              |          |\n",
       "|    episodes        | 88       |\n",
       "|    fps             | 37       |\n",
       "|    time_elapsed    | 1628     |\n",
       "|    total_timesteps | 60683    |\n",
       "| train/             |          |\n",
       "|    actor_loss      | -14.3    |\n",
       "|    critic_loss     | 1.32     |\n",
       "|    ent_coef        | 0.0328   |\n",
       "|    ent_coef_loss   | 0.0572   |\n",
       "|    learning_rate   | 0.0001   |\n",
       "|    n_updates       | 60582    |\n",
       "---------------------------------\n",
       "</pre>\n"
      ],
      "text/plain": [
       "---------------------------------\n",
       "| rollout/           |          |\n",
       "|    ep_len_mean     | 690      |\n",
       "|    ep_rew_mean     | -67.8    |\n",
       "| time/              |          |\n",
       "|    episodes        | 88       |\n",
       "|    fps             | 37       |\n",
       "|    time_elapsed    | 1628     |\n",
       "|    total_timesteps | 60683    |\n",
       "| train/             |          |\n",
       "|    actor_loss      | -14.3    |\n",
       "|    critic_loss     | 1.32     |\n",
       "|    ent_coef        | 0.0328   |\n",
       "|    ent_coef_loss   | 0.0572   |\n",
       "|    learning_rate   | 0.0001   |\n",
       "|    n_updates       | 60582    |\n",
       "---------------------------------\n"
      ]
     },
     "metadata": {},
     "output_type": "display_data"
    },
    {
     "data": {
      "text/html": [
       "<pre style=\"white-space:pre;overflow-x:auto;line-height:normal;font-family:Menlo,'DejaVu Sans Mono',consolas,'Courier New',monospace\">---------------------------------\n",
       "| rollout/           |          |\n",
       "|    ep_len_mean     | 701      |\n",
       "|    ep_rew_mean     | -64.7    |\n",
       "| time/              |          |\n",
       "|    episodes        | 92       |\n",
       "|    fps             | 36       |\n",
       "|    time_elapsed    | 1749     |\n",
       "|    total_timesteps | 64484    |\n",
       "| train/             |          |\n",
       "|    actor_loss      | -11.2    |\n",
       "|    critic_loss     | 1.37     |\n",
       "|    ent_coef        | 0.0329   |\n",
       "|    ent_coef_loss   | 0.0504   |\n",
       "|    learning_rate   | 0.0001   |\n",
       "|    n_updates       | 64383    |\n",
       "---------------------------------\n",
       "</pre>\n"
      ],
      "text/plain": [
       "---------------------------------\n",
       "| rollout/           |          |\n",
       "|    ep_len_mean     | 701      |\n",
       "|    ep_rew_mean     | -64.7    |\n",
       "| time/              |          |\n",
       "|    episodes        | 92       |\n",
       "|    fps             | 36       |\n",
       "|    time_elapsed    | 1749     |\n",
       "|    total_timesteps | 64484    |\n",
       "| train/             |          |\n",
       "|    actor_loss      | -11.2    |\n",
       "|    critic_loss     | 1.37     |\n",
       "|    ent_coef        | 0.0329   |\n",
       "|    ent_coef_loss   | 0.0504   |\n",
       "|    learning_rate   | 0.0001   |\n",
       "|    n_updates       | 64383    |\n",
       "---------------------------------\n"
      ]
     },
     "metadata": {},
     "output_type": "display_data"
    },
    {
     "data": {
      "text/html": [
       "<pre style=\"white-space:pre;overflow-x:auto;line-height:normal;font-family:Menlo,'DejaVu Sans Mono',consolas,'Courier New',monospace\">---------------------------------\n",
       "| rollout/           |          |\n",
       "|    ep_len_mean     | 712      |\n",
       "|    ep_rew_mean     | -62      |\n",
       "| time/              |          |\n",
       "|    episodes        | 96       |\n",
       "|    fps             | 35       |\n",
       "|    time_elapsed    | 1907     |\n",
       "|    total_timesteps | 68318    |\n",
       "| train/             |          |\n",
       "|    actor_loss      | -11.7    |\n",
       "|    critic_loss     | 8.06     |\n",
       "|    ent_coef        | 0.0367   |\n",
       "|    ent_coef_loss   | -0.0734  |\n",
       "|    learning_rate   | 0.0001   |\n",
       "|    n_updates       | 68217    |\n",
       "---------------------------------\n",
       "</pre>\n"
      ],
      "text/plain": [
       "---------------------------------\n",
       "| rollout/           |          |\n",
       "|    ep_len_mean     | 712      |\n",
       "|    ep_rew_mean     | -62      |\n",
       "| time/              |          |\n",
       "|    episodes        | 96       |\n",
       "|    fps             | 35       |\n",
       "|    time_elapsed    | 1907     |\n",
       "|    total_timesteps | 68318    |\n",
       "| train/             |          |\n",
       "|    actor_loss      | -11.7    |\n",
       "|    critic_loss     | 8.06     |\n",
       "|    ent_coef        | 0.0367   |\n",
       "|    ent_coef_loss   | -0.0734  |\n",
       "|    learning_rate   | 0.0001   |\n",
       "|    n_updates       | 68217    |\n",
       "---------------------------------\n"
      ]
     },
     "metadata": {},
     "output_type": "display_data"
    },
    {
     "data": {
      "text/html": [
       "<pre style=\"white-space:pre;overflow-x:auto;line-height:normal;font-family:Menlo,'DejaVu Sans Mono',consolas,'Courier New',monospace\">---------------------------------\n",
       "| rollout/           |          |\n",
       "|    ep_len_mean     | 709      |\n",
       "|    ep_rew_mean     | -51.9    |\n",
       "| time/              |          |\n",
       "|    episodes        | 100      |\n",
       "|    fps             | 35       |\n",
       "|    time_elapsed    | 1977     |\n",
       "|    total_timesteps | 70868    |\n",
       "| train/             |          |\n",
       "|    actor_loss      | -11.5    |\n",
       "|    critic_loss     | 3.52     |\n",
       "|    ent_coef        | 0.0379   |\n",
       "|    ent_coef_loss   | 0.415    |\n",
       "|    learning_rate   | 0.0001   |\n",
       "|    n_updates       | 70767    |\n",
       "---------------------------------\n",
       "</pre>\n"
      ],
      "text/plain": [
       "---------------------------------\n",
       "| rollout/           |          |\n",
       "|    ep_len_mean     | 709      |\n",
       "|    ep_rew_mean     | -51.9    |\n",
       "| time/              |          |\n",
       "|    episodes        | 100      |\n",
       "|    fps             | 35       |\n",
       "|    time_elapsed    | 1977     |\n",
       "|    total_timesteps | 70868    |\n",
       "| train/             |          |\n",
       "|    actor_loss      | -11.5    |\n",
       "|    critic_loss     | 3.52     |\n",
       "|    ent_coef        | 0.0379   |\n",
       "|    ent_coef_loss   | 0.415    |\n",
       "|    learning_rate   | 0.0001   |\n",
       "|    n_updates       | 70767    |\n",
       "---------------------------------\n"
      ]
     },
     "metadata": {},
     "output_type": "display_data"
    },
    {
     "data": {
      "text/html": [
       "<pre style=\"white-space:pre;overflow-x:auto;line-height:normal;font-family:Menlo,'DejaVu Sans Mono',consolas,'Courier New',monospace\">---------------------------------\n",
       "| rollout/           |          |\n",
       "|    ep_len_mean     | 736      |\n",
       "|    ep_rew_mean     | -43.5    |\n",
       "| time/              |          |\n",
       "|    episodes        | 104      |\n",
       "|    fps             | 35       |\n",
       "|    time_elapsed    | 2064     |\n",
       "|    total_timesteps | 74024    |\n",
       "| train/             |          |\n",
       "|    actor_loss      | -10.6    |\n",
       "|    critic_loss     | 11.2     |\n",
       "|    ent_coef        | 0.0365   |\n",
       "|    ent_coef_loss   | 0.636    |\n",
       "|    learning_rate   | 0.0001   |\n",
       "|    n_updates       | 73923    |\n",
       "---------------------------------\n",
       "</pre>\n"
      ],
      "text/plain": [
       "---------------------------------\n",
       "| rollout/           |          |\n",
       "|    ep_len_mean     | 736      |\n",
       "|    ep_rew_mean     | -43.5    |\n",
       "| time/              |          |\n",
       "|    episodes        | 104      |\n",
       "|    fps             | 35       |\n",
       "|    time_elapsed    | 2064     |\n",
       "|    total_timesteps | 74024    |\n",
       "| train/             |          |\n",
       "|    actor_loss      | -10.6    |\n",
       "|    critic_loss     | 11.2     |\n",
       "|    ent_coef        | 0.0365   |\n",
       "|    ent_coef_loss   | 0.636    |\n",
       "|    learning_rate   | 0.0001   |\n",
       "|    n_updates       | 73923    |\n",
       "---------------------------------\n"
      ]
     },
     "metadata": {},
     "output_type": "display_data"
    },
    {
     "data": {
      "text/html": [
       "<pre style=\"white-space:pre;overflow-x:auto;line-height:normal;font-family:Menlo,'DejaVu Sans Mono',consolas,'Courier New',monospace\">---------------------------------\n",
       "| rollout/           |          |\n",
       "|    ep_len_mean     | 753      |\n",
       "|    ep_rew_mean     | -29.2    |\n",
       "| time/              |          |\n",
       "|    episodes        | 108      |\n",
       "|    fps             | 35       |\n",
       "|    time_elapsed    | 2127     |\n",
       "|    total_timesteps | 76356    |\n",
       "| train/             |          |\n",
       "|    actor_loss      | -9.42    |\n",
       "|    critic_loss     | 3.23     |\n",
       "|    ent_coef        | 0.0328   |\n",
       "|    ent_coef_loss   | -0.124   |\n",
       "|    learning_rate   | 0.0001   |\n",
       "|    n_updates       | 76255    |\n",
       "---------------------------------\n",
       "</pre>\n"
      ],
      "text/plain": [
       "---------------------------------\n",
       "| rollout/           |          |\n",
       "|    ep_len_mean     | 753      |\n",
       "|    ep_rew_mean     | -29.2    |\n",
       "| time/              |          |\n",
       "|    episodes        | 108      |\n",
       "|    fps             | 35       |\n",
       "|    time_elapsed    | 2127     |\n",
       "|    total_timesteps | 76356    |\n",
       "| train/             |          |\n",
       "|    actor_loss      | -9.42    |\n",
       "|    critic_loss     | 3.23     |\n",
       "|    ent_coef        | 0.0328   |\n",
       "|    ent_coef_loss   | -0.124   |\n",
       "|    learning_rate   | 0.0001   |\n",
       "|    n_updates       | 76255    |\n",
       "---------------------------------\n"
      ]
     },
     "metadata": {},
     "output_type": "display_data"
    },
    {
     "data": {
      "text/html": [
       "<pre style=\"white-space:pre;overflow-x:auto;line-height:normal;font-family:Menlo,'DejaVu Sans Mono',consolas,'Courier New',monospace\">---------------------------------\n",
       "| rollout/           |          |\n",
       "|    ep_len_mean     | 771      |\n",
       "|    ep_rew_mean     | -13      |\n",
       "| time/              |          |\n",
       "|    episodes        | 112      |\n",
       "|    fps             | 35       |\n",
       "|    time_elapsed    | 2193     |\n",
       "|    total_timesteps | 78762    |\n",
       "| train/             |          |\n",
       "|    actor_loss      | -8.65    |\n",
       "|    critic_loss     | 2.67     |\n",
       "|    ent_coef        | 0.0301   |\n",
       "|    ent_coef_loss   | 0.637    |\n",
       "|    learning_rate   | 0.0001   |\n",
       "|    n_updates       | 78661    |\n",
       "---------------------------------\n",
       "</pre>\n"
      ],
      "text/plain": [
       "---------------------------------\n",
       "| rollout/           |          |\n",
       "|    ep_len_mean     | 771      |\n",
       "|    ep_rew_mean     | -13      |\n",
       "| time/              |          |\n",
       "|    episodes        | 112      |\n",
       "|    fps             | 35       |\n",
       "|    time_elapsed    | 2193     |\n",
       "|    total_timesteps | 78762    |\n",
       "| train/             |          |\n",
       "|    actor_loss      | -8.65    |\n",
       "|    critic_loss     | 2.67     |\n",
       "|    ent_coef        | 0.0301   |\n",
       "|    ent_coef_loss   | 0.637    |\n",
       "|    learning_rate   | 0.0001   |\n",
       "|    n_updates       | 78661    |\n",
       "---------------------------------\n"
      ]
     },
     "metadata": {},
     "output_type": "display_data"
    },
    {
     "data": {
      "text/html": [
       "<pre style=\"white-space:pre;overflow-x:auto;line-height:normal;font-family:Menlo,'DejaVu Sans Mono',consolas,'Courier New',monospace\">---------------------------------\n",
       "| rollout/           |          |\n",
       "|    ep_len_mean     | 792      |\n",
       "|    ep_rew_mean     | 4.47     |\n",
       "| time/              |          |\n",
       "|    episodes        | 116      |\n",
       "|    fps             | 35       |\n",
       "|    time_elapsed    | 2276     |\n",
       "|    total_timesteps | 81558    |\n",
       "| train/             |          |\n",
       "|    actor_loss      | -9.37    |\n",
       "|    critic_loss     | 4.61     |\n",
       "|    ent_coef        | 0.0292   |\n",
       "|    ent_coef_loss   | -0.165   |\n",
       "|    learning_rate   | 0.0001   |\n",
       "|    n_updates       | 81457    |\n",
       "---------------------------------\n",
       "</pre>\n"
      ],
      "text/plain": [
       "---------------------------------\n",
       "| rollout/           |          |\n",
       "|    ep_len_mean     | 792      |\n",
       "|    ep_rew_mean     | 4.47     |\n",
       "| time/              |          |\n",
       "|    episodes        | 116      |\n",
       "|    fps             | 35       |\n",
       "|    time_elapsed    | 2276     |\n",
       "|    total_timesteps | 81558    |\n",
       "| train/             |          |\n",
       "|    actor_loss      | -9.37    |\n",
       "|    critic_loss     | 4.61     |\n",
       "|    ent_coef        | 0.0292   |\n",
       "|    ent_coef_loss   | -0.165   |\n",
       "|    learning_rate   | 0.0001   |\n",
       "|    n_updates       | 81457    |\n",
       "---------------------------------\n"
      ]
     },
     "metadata": {},
     "output_type": "display_data"
    },
    {
     "data": {
      "text/html": [
       "<pre style=\"white-space:pre;overflow-x:auto;line-height:normal;font-family:Menlo,'DejaVu Sans Mono',consolas,'Courier New',monospace\">---------------------------------\n",
       "| rollout/           |          |\n",
       "|    ep_len_mean     | 813      |\n",
       "|    ep_rew_mean     | 11.6     |\n",
       "| time/              |          |\n",
       "|    episodes        | 120      |\n",
       "|    fps             | 35       |\n",
       "|    time_elapsed    | 2356     |\n",
       "|    total_timesteps | 84360    |\n",
       "| train/             |          |\n",
       "|    actor_loss      | -9.21    |\n",
       "|    critic_loss     | 4.38     |\n",
       "|    ent_coef        | 0.0303   |\n",
       "|    ent_coef_loss   | 0.0956   |\n",
       "|    learning_rate   | 0.0001   |\n",
       "|    n_updates       | 84259    |\n",
       "---------------------------------\n",
       "</pre>\n"
      ],
      "text/plain": [
       "---------------------------------\n",
       "| rollout/           |          |\n",
       "|    ep_len_mean     | 813      |\n",
       "|    ep_rew_mean     | 11.6     |\n",
       "| time/              |          |\n",
       "|    episodes        | 120      |\n",
       "|    fps             | 35       |\n",
       "|    time_elapsed    | 2356     |\n",
       "|    total_timesteps | 84360    |\n",
       "| train/             |          |\n",
       "|    actor_loss      | -9.21    |\n",
       "|    critic_loss     | 4.38     |\n",
       "|    ent_coef        | 0.0303   |\n",
       "|    ent_coef_loss   | 0.0956   |\n",
       "|    learning_rate   | 0.0001   |\n",
       "|    n_updates       | 84259    |\n",
       "---------------------------------\n"
      ]
     },
     "metadata": {},
     "output_type": "display_data"
    },
    {
     "data": {
      "text/html": [
       "<pre style=\"white-space:pre;overflow-x:auto;line-height:normal;font-family:Menlo,'DejaVu Sans Mono',consolas,'Courier New',monospace\">---------------------------------\n",
       "| rollout/           |          |\n",
       "|    ep_len_mean     | 824      |\n",
       "|    ep_rew_mean     | 17.1     |\n",
       "| time/              |          |\n",
       "|    episodes        | 124      |\n",
       "|    fps             | 35       |\n",
       "|    time_elapsed    | 2435     |\n",
       "|    total_timesteps | 87327    |\n",
       "| train/             |          |\n",
       "|    actor_loss      | -10.5    |\n",
       "|    critic_loss     | 1.71     |\n",
       "|    ent_coef        | 0.0331   |\n",
       "|    ent_coef_loss   | 0.11     |\n",
       "|    learning_rate   | 0.0001   |\n",
       "|    n_updates       | 87226    |\n",
       "---------------------------------\n",
       "</pre>\n"
      ],
      "text/plain": [
       "---------------------------------\n",
       "| rollout/           |          |\n",
       "|    ep_len_mean     | 824      |\n",
       "|    ep_rew_mean     | 17.1     |\n",
       "| time/              |          |\n",
       "|    episodes        | 124      |\n",
       "|    fps             | 35       |\n",
       "|    time_elapsed    | 2435     |\n",
       "|    total_timesteps | 87327    |\n",
       "| train/             |          |\n",
       "|    actor_loss      | -10.5    |\n",
       "|    critic_loss     | 1.71     |\n",
       "|    ent_coef        | 0.0331   |\n",
       "|    ent_coef_loss   | 0.11     |\n",
       "|    learning_rate   | 0.0001   |\n",
       "|    n_updates       | 87226    |\n",
       "---------------------------------\n"
      ]
     },
     "metadata": {},
     "output_type": "display_data"
    },
    {
     "data": {
      "text/html": [
       "<pre style=\"white-space:pre;overflow-x:auto;line-height:normal;font-family:Menlo,'DejaVu Sans Mono',consolas,'Courier New',monospace\">---------------------------------\n",
       "| rollout/           |          |\n",
       "|    ep_len_mean     | 834      |\n",
       "|    ep_rew_mean     | 22.1     |\n",
       "| time/              |          |\n",
       "|    episodes        | 128      |\n",
       "|    fps             | 35       |\n",
       "|    time_elapsed    | 2527     |\n",
       "|    total_timesteps | 90715    |\n",
       "| train/             |          |\n",
       "|    actor_loss      | -10.7    |\n",
       "|    critic_loss     | 7.83     |\n",
       "|    ent_coef        | 0.0372   |\n",
       "|    ent_coef_loss   | 0.0314   |\n",
       "|    learning_rate   | 0.0001   |\n",
       "|    n_updates       | 90614    |\n",
       "---------------------------------\n",
       "</pre>\n"
      ],
      "text/plain": [
       "---------------------------------\n",
       "| rollout/           |          |\n",
       "|    ep_len_mean     | 834      |\n",
       "|    ep_rew_mean     | 22.1     |\n",
       "| time/              |          |\n",
       "|    episodes        | 128      |\n",
       "|    fps             | 35       |\n",
       "|    time_elapsed    | 2527     |\n",
       "|    total_timesteps | 90715    |\n",
       "| train/             |          |\n",
       "|    actor_loss      | -10.7    |\n",
       "|    critic_loss     | 7.83     |\n",
       "|    ent_coef        | 0.0372   |\n",
       "|    ent_coef_loss   | 0.0314   |\n",
       "|    learning_rate   | 0.0001   |\n",
       "|    n_updates       | 90614    |\n",
       "---------------------------------\n"
      ]
     },
     "metadata": {},
     "output_type": "display_data"
    },
    {
     "data": {
      "text/html": [
       "<pre style=\"white-space:pre;overflow-x:auto;line-height:normal;font-family:Menlo,'DejaVu Sans Mono',consolas,'Courier New',monospace\">---------------------------------\n",
       "| rollout/           |          |\n",
       "|    ep_len_mean     | 838      |\n",
       "|    ep_rew_mean     | 28.2     |\n",
       "| time/              |          |\n",
       "|    episodes        | 132      |\n",
       "|    fps             | 35       |\n",
       "|    time_elapsed    | 2608     |\n",
       "|    total_timesteps | 93689    |\n",
       "| train/             |          |\n",
       "|    actor_loss      | -10.2    |\n",
       "|    critic_loss     | 14.5     |\n",
       "|    ent_coef        | 0.0406   |\n",
       "|    ent_coef_loss   | 0.207    |\n",
       "|    learning_rate   | 0.0001   |\n",
       "|    n_updates       | 93588    |\n",
       "---------------------------------\n",
       "</pre>\n"
      ],
      "text/plain": [
       "---------------------------------\n",
       "| rollout/           |          |\n",
       "|    ep_len_mean     | 838      |\n",
       "|    ep_rew_mean     | 28.2     |\n",
       "| time/              |          |\n",
       "|    episodes        | 132      |\n",
       "|    fps             | 35       |\n",
       "|    time_elapsed    | 2608     |\n",
       "|    total_timesteps | 93689    |\n",
       "| train/             |          |\n",
       "|    actor_loss      | -10.2    |\n",
       "|    critic_loss     | 14.5     |\n",
       "|    ent_coef        | 0.0406   |\n",
       "|    ent_coef_loss   | 0.207    |\n",
       "|    learning_rate   | 0.0001   |\n",
       "|    n_updates       | 93588    |\n",
       "---------------------------------\n"
      ]
     },
     "metadata": {},
     "output_type": "display_data"
    },
    {
     "data": {
      "text/html": [
       "<pre style=\"white-space:pre;overflow-x:auto;line-height:normal;font-family:Menlo,'DejaVu Sans Mono',consolas,'Courier New',monospace\">---------------------------------\n",
       "| rollout/           |          |\n",
       "|    ep_len_mean     | 837      |\n",
       "|    ep_rew_mean     | 28.6     |\n",
       "| time/              |          |\n",
       "|    episodes        | 136      |\n",
       "|    fps             | 35       |\n",
       "|    time_elapsed    | 2694     |\n",
       "|    total_timesteps | 96861    |\n",
       "| train/             |          |\n",
       "|    actor_loss      | -10.7    |\n",
       "|    critic_loss     | 3.8      |\n",
       "|    ent_coef        | 0.039    |\n",
       "|    ent_coef_loss   | 0.231    |\n",
       "|    learning_rate   | 0.0001   |\n",
       "|    n_updates       | 96760    |\n",
       "---------------------------------\n",
       "</pre>\n"
      ],
      "text/plain": [
       "---------------------------------\n",
       "| rollout/           |          |\n",
       "|    ep_len_mean     | 837      |\n",
       "|    ep_rew_mean     | 28.6     |\n",
       "| time/              |          |\n",
       "|    episodes        | 136      |\n",
       "|    fps             | 35       |\n",
       "|    time_elapsed    | 2694     |\n",
       "|    total_timesteps | 96861    |\n",
       "| train/             |          |\n",
       "|    actor_loss      | -10.7    |\n",
       "|    critic_loss     | 3.8      |\n",
       "|    ent_coef        | 0.039    |\n",
       "|    ent_coef_loss   | 0.231    |\n",
       "|    learning_rate   | 0.0001   |\n",
       "|    n_updates       | 96760    |\n",
       "---------------------------------\n"
      ]
     },
     "metadata": {},
     "output_type": "display_data"
    },
    {
     "data": {
      "text/html": [
       "<pre style=\"white-space:pre;overflow-x:auto;line-height:normal;font-family:Menlo,'DejaVu Sans Mono',consolas,'Courier New',monospace\">---------------------------------\n",
       "| rollout/           |          |\n",
       "|    ep_len_mean     | 821      |\n",
       "|    ep_rew_mean     | 37.9     |\n",
       "| time/              |          |\n",
       "|    episodes        | 140      |\n",
       "|    fps             | 35       |\n",
       "|    time_elapsed    | 2758     |\n",
       "|    total_timesteps | 99273    |\n",
       "| train/             |          |\n",
       "|    actor_loss      | -11.7    |\n",
       "|    critic_loss     | 2.32     |\n",
       "|    ent_coef        | 0.0361   |\n",
       "|    ent_coef_loss   | 0.6      |\n",
       "|    learning_rate   | 0.0001   |\n",
       "|    n_updates       | 99172    |\n",
       "---------------------------------\n",
       "</pre>\n"
      ],
      "text/plain": [
       "---------------------------------\n",
       "| rollout/           |          |\n",
       "|    ep_len_mean     | 821      |\n",
       "|    ep_rew_mean     | 37.9     |\n",
       "| time/              |          |\n",
       "|    episodes        | 140      |\n",
       "|    fps             | 35       |\n",
       "|    time_elapsed    | 2758     |\n",
       "|    total_timesteps | 99273    |\n",
       "| train/             |          |\n",
       "|    actor_loss      | -11.7    |\n",
       "|    critic_loss     | 2.32     |\n",
       "|    ent_coef        | 0.0361   |\n",
       "|    ent_coef_loss   | 0.6      |\n",
       "|    learning_rate   | 0.0001   |\n",
       "|    n_updates       | 99172    |\n",
       "---------------------------------\n"
      ]
     },
     "metadata": {},
     "output_type": "display_data"
    },
    {
     "data": {
      "text/html": [
       "<pre style=\"white-space:pre;overflow-x:auto;line-height:normal;font-family:Menlo,'DejaVu Sans Mono',consolas,'Courier New',monospace\">---------------------------------\n",
       "| rollout/           |          |\n",
       "|    ep_len_mean     | 802      |\n",
       "|    ep_rew_mean     | 44.7     |\n",
       "| time/              |          |\n",
       "|    episodes        | 144      |\n",
       "|    fps             | 36       |\n",
       "|    time_elapsed    | 2813     |\n",
       "|    total_timesteps | 101347   |\n",
       "| train/             |          |\n",
       "|    actor_loss      | -13.2    |\n",
       "|    critic_loss     | 10.1     |\n",
       "|    ent_coef        | 0.037    |\n",
       "|    ent_coef_loss   | -0.403   |\n",
       "|    learning_rate   | 0.0001   |\n",
       "|    n_updates       | 101246   |\n",
       "---------------------------------\n",
       "</pre>\n"
      ],
      "text/plain": [
       "---------------------------------\n",
       "| rollout/           |          |\n",
       "|    ep_len_mean     | 802      |\n",
       "|    ep_rew_mean     | 44.7     |\n",
       "| time/              |          |\n",
       "|    episodes        | 144      |\n",
       "|    fps             | 36       |\n",
       "|    time_elapsed    | 2813     |\n",
       "|    total_timesteps | 101347   |\n",
       "| train/             |          |\n",
       "|    actor_loss      | -13.2    |\n",
       "|    critic_loss     | 10.1     |\n",
       "|    ent_coef        | 0.037    |\n",
       "|    ent_coef_loss   | -0.403   |\n",
       "|    learning_rate   | 0.0001   |\n",
       "|    n_updates       | 101246   |\n",
       "---------------------------------\n"
      ]
     },
     "metadata": {},
     "output_type": "display_data"
    },
    {
     "data": {
      "text/html": [
       "<pre style=\"white-space:pre;overflow-x:auto;line-height:normal;font-family:Menlo,'DejaVu Sans Mono',consolas,'Courier New',monospace\">---------------------------------\n",
       "| rollout/           |          |\n",
       "|    ep_len_mean     | 781      |\n",
       "|    ep_rew_mean     | 52.9     |\n",
       "| time/              |          |\n",
       "|    episodes        | 148      |\n",
       "|    fps             | 36       |\n",
       "|    time_elapsed    | 2866     |\n",
       "|    total_timesteps | 103309   |\n",
       "| train/             |          |\n",
       "|    actor_loss      | -11      |\n",
       "|    critic_loss     | 3.14     |\n",
       "|    ent_coef        | 0.0361   |\n",
       "|    ent_coef_loss   | 0.593    |\n",
       "|    learning_rate   | 0.0001   |\n",
       "|    n_updates       | 103208   |\n",
       "---------------------------------\n",
       "</pre>\n"
      ],
      "text/plain": [
       "---------------------------------\n",
       "| rollout/           |          |\n",
       "|    ep_len_mean     | 781      |\n",
       "|    ep_rew_mean     | 52.9     |\n",
       "| time/              |          |\n",
       "|    episodes        | 148      |\n",
       "|    fps             | 36       |\n",
       "|    time_elapsed    | 2866     |\n",
       "|    total_timesteps | 103309   |\n",
       "| train/             |          |\n",
       "|    actor_loss      | -11      |\n",
       "|    critic_loss     | 3.14     |\n",
       "|    ent_coef        | 0.0361   |\n",
       "|    ent_coef_loss   | 0.593    |\n",
       "|    learning_rate   | 0.0001   |\n",
       "|    n_updates       | 103208   |\n",
       "---------------------------------\n"
      ]
     },
     "metadata": {},
     "output_type": "display_data"
    },
    {
     "data": {
      "text/html": [
       "<pre style=\"white-space:pre;overflow-x:auto;line-height:normal;font-family:Menlo,'DejaVu Sans Mono',consolas,'Courier New',monospace\">---------------------------------\n",
       "| rollout/           |          |\n",
       "|    ep_len_mean     | 762      |\n",
       "|    ep_rew_mean     | 64.5     |\n",
       "| time/              |          |\n",
       "|    episodes        | 152      |\n",
       "|    fps             | 36       |\n",
       "|    time_elapsed    | 2922     |\n",
       "|    total_timesteps | 105399   |\n",
       "| train/             |          |\n",
       "|    actor_loss      | -12.1    |\n",
       "|    critic_loss     | 1.62     |\n",
       "|    ent_coef        | 0.0346   |\n",
       "|    ent_coef_loss   | -1.12    |\n",
       "|    learning_rate   | 0.0001   |\n",
       "|    n_updates       | 105298   |\n",
       "---------------------------------\n",
       "</pre>\n"
      ],
      "text/plain": [
       "---------------------------------\n",
       "| rollout/           |          |\n",
       "|    ep_len_mean     | 762      |\n",
       "|    ep_rew_mean     | 64.5     |\n",
       "| time/              |          |\n",
       "|    episodes        | 152      |\n",
       "|    fps             | 36       |\n",
       "|    time_elapsed    | 2922     |\n",
       "|    total_timesteps | 105399   |\n",
       "| train/             |          |\n",
       "|    actor_loss      | -12.1    |\n",
       "|    critic_loss     | 1.62     |\n",
       "|    ent_coef        | 0.0346   |\n",
       "|    ent_coef_loss   | -1.12    |\n",
       "|    learning_rate   | 0.0001   |\n",
       "|    n_updates       | 105298   |\n",
       "---------------------------------\n"
      ]
     },
     "metadata": {},
     "output_type": "display_data"
    },
    {
     "data": {
      "text/html": [
       "<pre style=\"white-space:pre;overflow-x:auto;line-height:normal;font-family:Menlo,'DejaVu Sans Mono',consolas,'Courier New',monospace\">---------------------------------\n",
       "| rollout/           |          |\n",
       "|    ep_len_mean     | 764      |\n",
       "|    ep_rew_mean     | 72.5     |\n",
       "| time/              |          |\n",
       "|    episodes        | 156      |\n",
       "|    fps             | 36       |\n",
       "|    time_elapsed    | 3003     |\n",
       "|    total_timesteps | 108190   |\n",
       "| train/             |          |\n",
       "|    actor_loss      | -12      |\n",
       "|    critic_loss     | 3.81     |\n",
       "|    ent_coef        | 0.0353   |\n",
       "|    ent_coef_loss   | -0.383   |\n",
       "|    learning_rate   | 0.0001   |\n",
       "|    n_updates       | 108089   |\n",
       "---------------------------------\n",
       "</pre>\n"
      ],
      "text/plain": [
       "---------------------------------\n",
       "| rollout/           |          |\n",
       "|    ep_len_mean     | 764      |\n",
       "|    ep_rew_mean     | 72.5     |\n",
       "| time/              |          |\n",
       "|    episodes        | 156      |\n",
       "|    fps             | 36       |\n",
       "|    time_elapsed    | 3003     |\n",
       "|    total_timesteps | 108190   |\n",
       "| train/             |          |\n",
       "|    actor_loss      | -12      |\n",
       "|    critic_loss     | 3.81     |\n",
       "|    ent_coef        | 0.0353   |\n",
       "|    ent_coef_loss   | -0.383   |\n",
       "|    learning_rate   | 0.0001   |\n",
       "|    n_updates       | 108089   |\n",
       "---------------------------------\n"
      ]
     },
     "metadata": {},
     "output_type": "display_data"
    },
    {
     "data": {
      "text/html": [
       "<pre style=\"white-space:pre;overflow-x:auto;line-height:normal;font-family:Menlo,'DejaVu Sans Mono',consolas,'Courier New',monospace\">---------------------------------\n",
       "| rollout/           |          |\n",
       "|    ep_len_mean     | 757      |\n",
       "|    ep_rew_mean     | 74.2     |\n",
       "| time/              |          |\n",
       "|    episodes        | 160      |\n",
       "|    fps             | 36       |\n",
       "|    time_elapsed    | 3093     |\n",
       "|    total_timesteps | 111487   |\n",
       "| train/             |          |\n",
       "|    actor_loss      | -12.3    |\n",
       "|    critic_loss     | 3.86     |\n",
       "|    ent_coef        | 0.0363   |\n",
       "|    ent_coef_loss   | 0.504    |\n",
       "|    learning_rate   | 0.0001   |\n",
       "|    n_updates       | 111386   |\n",
       "---------------------------------\n",
       "</pre>\n"
      ],
      "text/plain": [
       "---------------------------------\n",
       "| rollout/           |          |\n",
       "|    ep_len_mean     | 757      |\n",
       "|    ep_rew_mean     | 74.2     |\n",
       "| time/              |          |\n",
       "|    episodes        | 160      |\n",
       "|    fps             | 36       |\n",
       "|    time_elapsed    | 3093     |\n",
       "|    total_timesteps | 111487   |\n",
       "| train/             |          |\n",
       "|    actor_loss      | -12.3    |\n",
       "|    critic_loss     | 3.86     |\n",
       "|    ent_coef        | 0.0363   |\n",
       "|    ent_coef_loss   | 0.504    |\n",
       "|    learning_rate   | 0.0001   |\n",
       "|    n_updates       | 111386   |\n",
       "---------------------------------\n"
      ]
     },
     "metadata": {},
     "output_type": "display_data"
    },
    {
     "data": {
      "text/html": [
       "<pre style=\"white-space:pre;overflow-x:auto;line-height:normal;font-family:Menlo,'DejaVu Sans Mono',consolas,'Courier New',monospace\">---------------------------------\n",
       "| rollout/           |          |\n",
       "|    ep_len_mean     | 742      |\n",
       "|    ep_rew_mean     | 77.5     |\n",
       "| time/              |          |\n",
       "|    episodes        | 164      |\n",
       "|    fps             | 36       |\n",
       "|    time_elapsed    | 3162     |\n",
       "|    total_timesteps | 114068   |\n",
       "| train/             |          |\n",
       "|    actor_loss      | -13.1    |\n",
       "|    critic_loss     | 2.18     |\n",
       "|    ent_coef        | 0.0382   |\n",
       "|    ent_coef_loss   | -0.0132  |\n",
       "|    learning_rate   | 0.0001   |\n",
       "|    n_updates       | 113967   |\n",
       "---------------------------------\n",
       "</pre>\n"
      ],
      "text/plain": [
       "---------------------------------\n",
       "| rollout/           |          |\n",
       "|    ep_len_mean     | 742      |\n",
       "|    ep_rew_mean     | 77.5     |\n",
       "| time/              |          |\n",
       "|    episodes        | 164      |\n",
       "|    fps             | 36       |\n",
       "|    time_elapsed    | 3162     |\n",
       "|    total_timesteps | 114068   |\n",
       "| train/             |          |\n",
       "|    actor_loss      | -13.1    |\n",
       "|    critic_loss     | 2.18     |\n",
       "|    ent_coef        | 0.0382   |\n",
       "|    ent_coef_loss   | -0.0132  |\n",
       "|    learning_rate   | 0.0001   |\n",
       "|    n_updates       | 113967   |\n",
       "---------------------------------\n"
      ]
     },
     "metadata": {},
     "output_type": "display_data"
    },
    {
     "data": {
      "text/html": [
       "<pre style=\"white-space:pre;overflow-x:auto;line-height:normal;font-family:Menlo,'DejaVu Sans Mono',consolas,'Courier New',monospace\">---------------------------------\n",
       "| rollout/           |          |\n",
       "|    ep_len_mean     | 745      |\n",
       "|    ep_rew_mean     | 79       |\n",
       "| time/              |          |\n",
       "|    episodes        | 168      |\n",
       "|    fps             | 36       |\n",
       "|    time_elapsed    | 3227     |\n",
       "|    total_timesteps | 116554   |\n",
       "| train/             |          |\n",
       "|    actor_loss      | -14.6    |\n",
       "|    critic_loss     | 5.58     |\n",
       "|    ent_coef        | 0.0461   |\n",
       "|    ent_coef_loss   | 0.357    |\n",
       "|    learning_rate   | 0.0001   |\n",
       "|    n_updates       | 116453   |\n",
       "---------------------------------\n",
       "</pre>\n"
      ],
      "text/plain": [
       "---------------------------------\n",
       "| rollout/           |          |\n",
       "|    ep_len_mean     | 745      |\n",
       "|    ep_rew_mean     | 79       |\n",
       "| time/              |          |\n",
       "|    episodes        | 168      |\n",
       "|    fps             | 36       |\n",
       "|    time_elapsed    | 3227     |\n",
       "|    total_timesteps | 116554   |\n",
       "| train/             |          |\n",
       "|    actor_loss      | -14.6    |\n",
       "|    critic_loss     | 5.58     |\n",
       "|    ent_coef        | 0.0461   |\n",
       "|    ent_coef_loss   | 0.357    |\n",
       "|    learning_rate   | 0.0001   |\n",
       "|    n_updates       | 116453   |\n",
       "---------------------------------\n"
      ]
     },
     "metadata": {},
     "output_type": "display_data"
    },
    {
     "data": {
      "text/html": [
       "<pre style=\"white-space:pre;overflow-x:auto;line-height:normal;font-family:Menlo,'DejaVu Sans Mono',consolas,'Courier New',monospace\">---------------------------------\n",
       "| rollout/           |          |\n",
       "|    ep_len_mean     | 733      |\n",
       "|    ep_rew_mean     | 79.4     |\n",
       "| time/              |          |\n",
       "|    episodes        | 172      |\n",
       "|    fps             | 36       |\n",
       "|    time_elapsed    | 3285     |\n",
       "|    total_timesteps | 118724   |\n",
       "| train/             |          |\n",
       "|    actor_loss      | -14.8    |\n",
       "|    critic_loss     | 2.29     |\n",
       "|    ent_coef        | 0.0474   |\n",
       "|    ent_coef_loss   | -0.543   |\n",
       "|    learning_rate   | 0.0001   |\n",
       "|    n_updates       | 118623   |\n",
       "---------------------------------\n",
       "</pre>\n"
      ],
      "text/plain": [
       "---------------------------------\n",
       "| rollout/           |          |\n",
       "|    ep_len_mean     | 733      |\n",
       "|    ep_rew_mean     | 79.4     |\n",
       "| time/              |          |\n",
       "|    episodes        | 172      |\n",
       "|    fps             | 36       |\n",
       "|    time_elapsed    | 3285     |\n",
       "|    total_timesteps | 118724   |\n",
       "| train/             |          |\n",
       "|    actor_loss      | -14.8    |\n",
       "|    critic_loss     | 2.29     |\n",
       "|    ent_coef        | 0.0474   |\n",
       "|    ent_coef_loss   | -0.543   |\n",
       "|    learning_rate   | 0.0001   |\n",
       "|    n_updates       | 118623   |\n",
       "---------------------------------\n"
      ]
     },
     "metadata": {},
     "output_type": "display_data"
    },
    {
     "data": {
      "text/html": [
       "<pre style=\"white-space:pre;overflow-x:auto;line-height:normal;font-family:Menlo,'DejaVu Sans Mono',consolas,'Courier New',monospace\">---------------------------------\n",
       "| rollout/           |          |\n",
       "|    ep_len_mean     | 720      |\n",
       "|    ep_rew_mean     | 84.4     |\n",
       "| time/              |          |\n",
       "|    episodes        | 176      |\n",
       "|    fps             | 36       |\n",
       "|    time_elapsed    | 3353     |\n",
       "|    total_timesteps | 121293   |\n",
       "| train/             |          |\n",
       "|    actor_loss      | -12.7    |\n",
       "|    critic_loss     | 9.79     |\n",
       "|    ent_coef        | 0.046    |\n",
       "|    ent_coef_loss   | -0.282   |\n",
       "|    learning_rate   | 0.0001   |\n",
       "|    n_updates       | 121192   |\n",
       "---------------------------------\n",
       "</pre>\n"
      ],
      "text/plain": [
       "---------------------------------\n",
       "| rollout/           |          |\n",
       "|    ep_len_mean     | 720      |\n",
       "|    ep_rew_mean     | 84.4     |\n",
       "| time/              |          |\n",
       "|    episodes        | 176      |\n",
       "|    fps             | 36       |\n",
       "|    time_elapsed    | 3353     |\n",
       "|    total_timesteps | 121293   |\n",
       "| train/             |          |\n",
       "|    actor_loss      | -12.7    |\n",
       "|    critic_loss     | 9.79     |\n",
       "|    ent_coef        | 0.046    |\n",
       "|    ent_coef_loss   | -0.282   |\n",
       "|    learning_rate   | 0.0001   |\n",
       "|    n_updates       | 121192   |\n",
       "---------------------------------\n"
      ]
     },
     "metadata": {},
     "output_type": "display_data"
    },
    {
     "data": {
      "text/html": [
       "<pre style=\"white-space:pre;overflow-x:auto;line-height:normal;font-family:Menlo,'DejaVu Sans Mono',consolas,'Courier New',monospace\">---------------------------------\n",
       "| rollout/           |          |\n",
       "|    ep_len_mean     | 715      |\n",
       "|    ep_rew_mean     | 86       |\n",
       "| time/              |          |\n",
       "|    episodes        | 180      |\n",
       "|    fps             | 36       |\n",
       "|    time_elapsed    | 3435     |\n",
       "|    total_timesteps | 124371   |\n",
       "| train/             |          |\n",
       "|    actor_loss      | -16.1    |\n",
       "|    critic_loss     | 10.1     |\n",
       "|    ent_coef        | 0.0448   |\n",
       "|    ent_coef_loss   | 0.601    |\n",
       "|    learning_rate   | 0.0001   |\n",
       "|    n_updates       | 124270   |\n",
       "---------------------------------\n",
       "</pre>\n"
      ],
      "text/plain": [
       "---------------------------------\n",
       "| rollout/           |          |\n",
       "|    ep_len_mean     | 715      |\n",
       "|    ep_rew_mean     | 86       |\n",
       "| time/              |          |\n",
       "|    episodes        | 180      |\n",
       "|    fps             | 36       |\n",
       "|    time_elapsed    | 3435     |\n",
       "|    total_timesteps | 124371   |\n",
       "| train/             |          |\n",
       "|    actor_loss      | -16.1    |\n",
       "|    critic_loss     | 10.1     |\n",
       "|    ent_coef        | 0.0448   |\n",
       "|    ent_coef_loss   | 0.601    |\n",
       "|    learning_rate   | 0.0001   |\n",
       "|    n_updates       | 124270   |\n",
       "---------------------------------\n"
      ]
     },
     "metadata": {},
     "output_type": "display_data"
    },
    {
     "data": {
      "text/html": [
       "<pre style=\"white-space:pre;overflow-x:auto;line-height:normal;font-family:Menlo,'DejaVu Sans Mono',consolas,'Courier New',monospace\">---------------------------------\n",
       "| rollout/           |          |\n",
       "|    ep_len_mean     | 695      |\n",
       "|    ep_rew_mean     | 90.8     |\n",
       "| time/              |          |\n",
       "|    episodes        | 184      |\n",
       "|    fps             | 36       |\n",
       "|    time_elapsed    | 3481     |\n",
       "|    total_timesteps | 126162   |\n",
       "| train/             |          |\n",
       "|    actor_loss      | -14.8    |\n",
       "|    critic_loss     | 2.38     |\n",
       "|    ent_coef        | 0.0461   |\n",
       "|    ent_coef_loss   | 0.193    |\n",
       "|    learning_rate   | 0.0001   |\n",
       "|    n_updates       | 126061   |\n",
       "---------------------------------\n",
       "</pre>\n"
      ],
      "text/plain": [
       "---------------------------------\n",
       "| rollout/           |          |\n",
       "|    ep_len_mean     | 695      |\n",
       "|    ep_rew_mean     | 90.8     |\n",
       "| time/              |          |\n",
       "|    episodes        | 184      |\n",
       "|    fps             | 36       |\n",
       "|    time_elapsed    | 3481     |\n",
       "|    total_timesteps | 126162   |\n",
       "| train/             |          |\n",
       "|    actor_loss      | -14.8    |\n",
       "|    critic_loss     | 2.38     |\n",
       "|    ent_coef        | 0.0461   |\n",
       "|    ent_coef_loss   | 0.193    |\n",
       "|    learning_rate   | 0.0001   |\n",
       "|    n_updates       | 126061   |\n",
       "---------------------------------\n"
      ]
     },
     "metadata": {},
     "output_type": "display_data"
    },
    {
     "data": {
      "text/html": [
       "<pre style=\"white-space:pre;overflow-x:auto;line-height:normal;font-family:Menlo,'DejaVu Sans Mono',consolas,'Courier New',monospace\">---------------------------------\n",
       "| rollout/           |          |\n",
       "|    ep_len_mean     | 684      |\n",
       "|    ep_rew_mean     | 94.9     |\n",
       "| time/              |          |\n",
       "|    episodes        | 188      |\n",
       "|    fps             | 36       |\n",
       "|    time_elapsed    | 3560     |\n",
       "|    total_timesteps | 129123   |\n",
       "| train/             |          |\n",
       "|    actor_loss      | -14.6    |\n",
       "|    critic_loss     | 3.93     |\n",
       "|    ent_coef        | 0.0424   |\n",
       "|    ent_coef_loss   | 0.35     |\n",
       "|    learning_rate   | 0.0001   |\n",
       "|    n_updates       | 129022   |\n",
       "---------------------------------\n",
       "</pre>\n"
      ],
      "text/plain": [
       "---------------------------------\n",
       "| rollout/           |          |\n",
       "|    ep_len_mean     | 684      |\n",
       "|    ep_rew_mean     | 94.9     |\n",
       "| time/              |          |\n",
       "|    episodes        | 188      |\n",
       "|    fps             | 36       |\n",
       "|    time_elapsed    | 3560     |\n",
       "|    total_timesteps | 129123   |\n",
       "| train/             |          |\n",
       "|    actor_loss      | -14.6    |\n",
       "|    critic_loss     | 3.93     |\n",
       "|    ent_coef        | 0.0424   |\n",
       "|    ent_coef_loss   | 0.35     |\n",
       "|    learning_rate   | 0.0001   |\n",
       "|    n_updates       | 129022   |\n",
       "---------------------------------\n"
      ]
     },
     "metadata": {},
     "output_type": "display_data"
    },
    {
     "data": {
      "text/html": [
       "<pre style=\"white-space:pre;overflow-x:auto;line-height:normal;font-family:Menlo,'DejaVu Sans Mono',consolas,'Courier New',monospace\">---------------------------------\n",
       "| rollout/           |          |\n",
       "|    ep_len_mean     | 663      |\n",
       "|    ep_rew_mean     | 104      |\n",
       "| time/              |          |\n",
       "|    episodes        | 192      |\n",
       "|    fps             | 36       |\n",
       "|    time_elapsed    | 3602     |\n",
       "|    total_timesteps | 130784   |\n",
       "| train/             |          |\n",
       "|    actor_loss      | -13.5    |\n",
       "|    critic_loss     | 7.54     |\n",
       "|    ent_coef        | 0.0447   |\n",
       "|    ent_coef_loss   | -0.145   |\n",
       "|    learning_rate   | 0.0001   |\n",
       "|    n_updates       | 130683   |\n",
       "---------------------------------\n",
       "</pre>\n"
      ],
      "text/plain": [
       "---------------------------------\n",
       "| rollout/           |          |\n",
       "|    ep_len_mean     | 663      |\n",
       "|    ep_rew_mean     | 104      |\n",
       "| time/              |          |\n",
       "|    episodes        | 192      |\n",
       "|    fps             | 36       |\n",
       "|    time_elapsed    | 3602     |\n",
       "|    total_timesteps | 130784   |\n",
       "| train/             |          |\n",
       "|    actor_loss      | -13.5    |\n",
       "|    critic_loss     | 7.54     |\n",
       "|    ent_coef        | 0.0447   |\n",
       "|    ent_coef_loss   | -0.145   |\n",
       "|    learning_rate   | 0.0001   |\n",
       "|    n_updates       | 130683   |\n",
       "---------------------------------\n"
      ]
     },
     "metadata": {},
     "output_type": "display_data"
    },
    {
     "data": {
      "text/html": [
       "<pre style=\"white-space:pre;overflow-x:auto;line-height:normal;font-family:Menlo,'DejaVu Sans Mono',consolas,'Courier New',monospace\">---------------------------------\n",
       "| rollout/           |          |\n",
       "|    ep_len_mean     | 644      |\n",
       "|    ep_rew_mean     | 113      |\n",
       "| time/              |          |\n",
       "|    episodes        | 196      |\n",
       "|    fps             | 36       |\n",
       "|    time_elapsed    | 3652     |\n",
       "|    total_timesteps | 132701   |\n",
       "| train/             |          |\n",
       "|    actor_loss      | -13.6    |\n",
       "|    critic_loss     | 2.17     |\n",
       "|    ent_coef        | 0.0469   |\n",
       "|    ent_coef_loss   | -0.0779  |\n",
       "|    learning_rate   | 0.0001   |\n",
       "|    n_updates       | 132600   |\n",
       "---------------------------------\n",
       "</pre>\n"
      ],
      "text/plain": [
       "---------------------------------\n",
       "| rollout/           |          |\n",
       "|    ep_len_mean     | 644      |\n",
       "|    ep_rew_mean     | 113      |\n",
       "| time/              |          |\n",
       "|    episodes        | 196      |\n",
       "|    fps             | 36       |\n",
       "|    time_elapsed    | 3652     |\n",
       "|    total_timesteps | 132701   |\n",
       "| train/             |          |\n",
       "|    actor_loss      | -13.6    |\n",
       "|    critic_loss     | 2.17     |\n",
       "|    ent_coef        | 0.0469   |\n",
       "|    ent_coef_loss   | -0.0779  |\n",
       "|    learning_rate   | 0.0001   |\n",
       "|    n_updates       | 132600   |\n",
       "---------------------------------\n"
      ]
     },
     "metadata": {},
     "output_type": "display_data"
    },
    {
     "data": {
      "text/html": [
       "<pre style=\"white-space:pre;overflow-x:auto;line-height:normal;font-family:Menlo,'DejaVu Sans Mono',consolas,'Courier New',monospace\">---------------------------------\n",
       "| rollout/           |          |\n",
       "|    ep_len_mean     | 638      |\n",
       "|    ep_rew_mean     | 114      |\n",
       "| time/              |          |\n",
       "|    episodes        | 200      |\n",
       "|    fps             | 36       |\n",
       "|    time_elapsed    | 3704     |\n",
       "|    total_timesteps | 134704   |\n",
       "| train/             |          |\n",
       "|    actor_loss      | -14.6    |\n",
       "|    critic_loss     | 2.42     |\n",
       "|    ent_coef        | 0.0481   |\n",
       "|    ent_coef_loss   | 0.245    |\n",
       "|    learning_rate   | 0.0001   |\n",
       "|    n_updates       | 134603   |\n",
       "---------------------------------\n",
       "</pre>\n"
      ],
      "text/plain": [
       "---------------------------------\n",
       "| rollout/           |          |\n",
       "|    ep_len_mean     | 638      |\n",
       "|    ep_rew_mean     | 114      |\n",
       "| time/              |          |\n",
       "|    episodes        | 200      |\n",
       "|    fps             | 36       |\n",
       "|    time_elapsed    | 3704     |\n",
       "|    total_timesteps | 134704   |\n",
       "| train/             |          |\n",
       "|    actor_loss      | -14.6    |\n",
       "|    critic_loss     | 2.42     |\n",
       "|    ent_coef        | 0.0481   |\n",
       "|    ent_coef_loss   | 0.245    |\n",
       "|    learning_rate   | 0.0001   |\n",
       "|    n_updates       | 134603   |\n",
       "---------------------------------\n"
      ]
     },
     "metadata": {},
     "output_type": "display_data"
    },
    {
     "data": {
      "text/html": [
       "<pre style=\"white-space:pre;overflow-x:auto;line-height:normal;font-family:Menlo,'DejaVu Sans Mono',consolas,'Courier New',monospace\">---------------------------------\n",
       "| rollout/           |          |\n",
       "|    ep_len_mean     | 626      |\n",
       "|    ep_rew_mean     | 120      |\n",
       "| time/              |          |\n",
       "|    episodes        | 204      |\n",
       "|    fps             | 36       |\n",
       "|    time_elapsed    | 3755     |\n",
       "|    total_timesteps | 136669   |\n",
       "| train/             |          |\n",
       "|    actor_loss      | -15.8    |\n",
       "|    critic_loss     | 5.34     |\n",
       "|    ent_coef        | 0.0454   |\n",
       "|    ent_coef_loss   | 0.262    |\n",
       "|    learning_rate   | 0.0001   |\n",
       "|    n_updates       | 136568   |\n",
       "---------------------------------\n",
       "</pre>\n"
      ],
      "text/plain": [
       "---------------------------------\n",
       "| rollout/           |          |\n",
       "|    ep_len_mean     | 626      |\n",
       "|    ep_rew_mean     | 120      |\n",
       "| time/              |          |\n",
       "|    episodes        | 204      |\n",
       "|    fps             | 36       |\n",
       "|    time_elapsed    | 3755     |\n",
       "|    total_timesteps | 136669   |\n",
       "| train/             |          |\n",
       "|    actor_loss      | -15.8    |\n",
       "|    critic_loss     | 5.34     |\n",
       "|    ent_coef        | 0.0454   |\n",
       "|    ent_coef_loss   | 0.262    |\n",
       "|    learning_rate   | 0.0001   |\n",
       "|    n_updates       | 136568   |\n",
       "---------------------------------\n"
      ]
     },
     "metadata": {},
     "output_type": "display_data"
    },
    {
     "data": {
      "text/html": [
       "<pre style=\"white-space:pre;overflow-x:auto;line-height:normal;font-family:Menlo,'DejaVu Sans Mono',consolas,'Courier New',monospace\">---------------------------------\n",
       "| rollout/           |          |\n",
       "|    ep_len_mean     | 623      |\n",
       "|    ep_rew_mean     | 121      |\n",
       "| time/              |          |\n",
       "|    episodes        | 208      |\n",
       "|    fps             | 36       |\n",
       "|    time_elapsed    | 3806     |\n",
       "|    total_timesteps | 138622   |\n",
       "| train/             |          |\n",
       "|    actor_loss      | -17.2    |\n",
       "|    critic_loss     | 1.11     |\n",
       "|    ent_coef        | 0.0433   |\n",
       "|    ent_coef_loss   | -0.716   |\n",
       "|    learning_rate   | 0.0001   |\n",
       "|    n_updates       | 138521   |\n",
       "---------------------------------\n",
       "</pre>\n"
      ],
      "text/plain": [
       "---------------------------------\n",
       "| rollout/           |          |\n",
       "|    ep_len_mean     | 623      |\n",
       "|    ep_rew_mean     | 121      |\n",
       "| time/              |          |\n",
       "|    episodes        | 208      |\n",
       "|    fps             | 36       |\n",
       "|    time_elapsed    | 3806     |\n",
       "|    total_timesteps | 138622   |\n",
       "| train/             |          |\n",
       "|    actor_loss      | -17.2    |\n",
       "|    critic_loss     | 1.11     |\n",
       "|    ent_coef        | 0.0433   |\n",
       "|    ent_coef_loss   | -0.716   |\n",
       "|    learning_rate   | 0.0001   |\n",
       "|    n_updates       | 138521   |\n",
       "---------------------------------\n"
      ]
     },
     "metadata": {},
     "output_type": "display_data"
    },
    {
     "data": {
      "text/html": [
       "<pre style=\"white-space:pre;overflow-x:auto;line-height:normal;font-family:Menlo,'DejaVu Sans Mono',consolas,'Courier New',monospace\">---------------------------------\n",
       "| rollout/           |          |\n",
       "|    ep_len_mean     | 620      |\n",
       "|    ep_rew_mean     | 122      |\n",
       "| time/              |          |\n",
       "|    episodes        | 212      |\n",
       "|    fps             | 36       |\n",
       "|    time_elapsed    | 3860     |\n",
       "|    total_timesteps | 140722   |\n",
       "| train/             |          |\n",
       "|    actor_loss      | -16.4    |\n",
       "|    critic_loss     | 1.12     |\n",
       "|    ent_coef        | 0.0428   |\n",
       "|    ent_coef_loss   | -0.279   |\n",
       "|    learning_rate   | 0.0001   |\n",
       "|    n_updates       | 140621   |\n",
       "---------------------------------\n",
       "</pre>\n"
      ],
      "text/plain": [
       "---------------------------------\n",
       "| rollout/           |          |\n",
       "|    ep_len_mean     | 620      |\n",
       "|    ep_rew_mean     | 122      |\n",
       "| time/              |          |\n",
       "|    episodes        | 212      |\n",
       "|    fps             | 36       |\n",
       "|    time_elapsed    | 3860     |\n",
       "|    total_timesteps | 140722   |\n",
       "| train/             |          |\n",
       "|    actor_loss      | -16.4    |\n",
       "|    critic_loss     | 1.12     |\n",
       "|    ent_coef        | 0.0428   |\n",
       "|    ent_coef_loss   | -0.279   |\n",
       "|    learning_rate   | 0.0001   |\n",
       "|    n_updates       | 140621   |\n",
       "---------------------------------\n"
      ]
     },
     "metadata": {},
     "output_type": "display_data"
    },
    {
     "data": {
      "text/html": [
       "<pre style=\"white-space:pre;overflow-x:auto;line-height:normal;font-family:Menlo,'DejaVu Sans Mono',consolas,'Courier New',monospace\">---------------------------------\n",
       "| rollout/           |          |\n",
       "|    ep_len_mean     | 618      |\n",
       "|    ep_rew_mean     | 124      |\n",
       "| time/              |          |\n",
       "|    episodes        | 216      |\n",
       "|    fps             | 36       |\n",
       "|    time_elapsed    | 3930     |\n",
       "|    total_timesteps | 143363   |\n",
       "| train/             |          |\n",
       "|    actor_loss      | -17.3    |\n",
       "|    critic_loss     | 4.21     |\n",
       "|    ent_coef        | 0.0466   |\n",
       "|    ent_coef_loss   | 0.616    |\n",
       "|    learning_rate   | 0.0001   |\n",
       "|    n_updates       | 143262   |\n",
       "---------------------------------\n",
       "</pre>\n"
      ],
      "text/plain": [
       "---------------------------------\n",
       "| rollout/           |          |\n",
       "|    ep_len_mean     | 618      |\n",
       "|    ep_rew_mean     | 124      |\n",
       "| time/              |          |\n",
       "|    episodes        | 216      |\n",
       "|    fps             | 36       |\n",
       "|    time_elapsed    | 3930     |\n",
       "|    total_timesteps | 143363   |\n",
       "| train/             |          |\n",
       "|    actor_loss      | -17.3    |\n",
       "|    critic_loss     | 4.21     |\n",
       "|    ent_coef        | 0.0466   |\n",
       "|    ent_coef_loss   | 0.616    |\n",
       "|    learning_rate   | 0.0001   |\n",
       "|    n_updates       | 143262   |\n",
       "---------------------------------\n"
      ]
     },
     "metadata": {},
     "output_type": "display_data"
    },
    {
     "data": {
      "text/html": [
       "<pre style=\"white-space:pre;overflow-x:auto;line-height:normal;font-family:Menlo,'DejaVu Sans Mono',consolas,'Courier New',monospace\">---------------------------------\n",
       "| rollout/           |          |\n",
       "|    ep_len_mean     | 610      |\n",
       "|    ep_rew_mean     | 132      |\n",
       "| time/              |          |\n",
       "|    episodes        | 220      |\n",
       "|    fps             | 36       |\n",
       "|    time_elapsed    | 3982     |\n",
       "|    total_timesteps | 145355   |\n",
       "| train/             |          |\n",
       "|    actor_loss      | -17.6    |\n",
       "|    critic_loss     | 2.47     |\n",
       "|    ent_coef        | 0.0481   |\n",
       "|    ent_coef_loss   | 0.111    |\n",
       "|    learning_rate   | 0.0001   |\n",
       "|    n_updates       | 145254   |\n",
       "---------------------------------\n",
       "</pre>\n"
      ],
      "text/plain": [
       "---------------------------------\n",
       "| rollout/           |          |\n",
       "|    ep_len_mean     | 610      |\n",
       "|    ep_rew_mean     | 132      |\n",
       "| time/              |          |\n",
       "|    episodes        | 220      |\n",
       "|    fps             | 36       |\n",
       "|    time_elapsed    | 3982     |\n",
       "|    total_timesteps | 145355   |\n",
       "| train/             |          |\n",
       "|    actor_loss      | -17.6    |\n",
       "|    critic_loss     | 2.47     |\n",
       "|    ent_coef        | 0.0481   |\n",
       "|    ent_coef_loss   | 0.111    |\n",
       "|    learning_rate   | 0.0001   |\n",
       "|    n_updates       | 145254   |\n",
       "---------------------------------\n"
      ]
     },
     "metadata": {},
     "output_type": "display_data"
    },
    {
     "data": {
      "text/html": [
       "<pre style=\"white-space:pre;overflow-x:auto;line-height:normal;font-family:Menlo,'DejaVu Sans Mono',consolas,'Courier New',monospace\">---------------------------------\n",
       "| rollout/           |          |\n",
       "|    ep_len_mean     | 597      |\n",
       "|    ep_rew_mean     | 138      |\n",
       "| time/              |          |\n",
       "|    episodes        | 224      |\n",
       "|    fps             | 36       |\n",
       "|    time_elapsed    | 4026     |\n",
       "|    total_timesteps | 146986   |\n",
       "| train/             |          |\n",
       "|    actor_loss      | -17      |\n",
       "|    critic_loss     | 24       |\n",
       "|    ent_coef        | 0.0474   |\n",
       "|    ent_coef_loss   | -0.249   |\n",
       "|    learning_rate   | 0.0001   |\n",
       "|    n_updates       | 146885   |\n",
       "---------------------------------\n",
       "</pre>\n"
      ],
      "text/plain": [
       "---------------------------------\n",
       "| rollout/           |          |\n",
       "|    ep_len_mean     | 597      |\n",
       "|    ep_rew_mean     | 138      |\n",
       "| time/              |          |\n",
       "|    episodes        | 224      |\n",
       "|    fps             | 36       |\n",
       "|    time_elapsed    | 4026     |\n",
       "|    total_timesteps | 146986   |\n",
       "| train/             |          |\n",
       "|    actor_loss      | -17      |\n",
       "|    critic_loss     | 24       |\n",
       "|    ent_coef        | 0.0474   |\n",
       "|    ent_coef_loss   | -0.249   |\n",
       "|    learning_rate   | 0.0001   |\n",
       "|    n_updates       | 146885   |\n",
       "---------------------------------\n"
      ]
     },
     "metadata": {},
     "output_type": "display_data"
    },
    {
     "data": {
      "text/html": [
       "<pre style=\"white-space:pre;overflow-x:auto;line-height:normal;font-family:Menlo,'DejaVu Sans Mono',consolas,'Courier New',monospace\">---------------------------------\n",
       "| rollout/           |          |\n",
       "|    ep_len_mean     | 586      |\n",
       "|    ep_rew_mean     | 145      |\n",
       "| time/              |          |\n",
       "|    episodes        | 228      |\n",
       "|    fps             | 36       |\n",
       "|    time_elapsed    | 4088     |\n",
       "|    total_timesteps | 149355   |\n",
       "| train/             |          |\n",
       "|    actor_loss      | -18.4    |\n",
       "|    critic_loss     | 2.83     |\n",
       "|    ent_coef        | 0.0452   |\n",
       "|    ent_coef_loss   | 0.0258   |\n",
       "|    learning_rate   | 0.0001   |\n",
       "|    n_updates       | 149254   |\n",
       "---------------------------------\n",
       "</pre>\n"
      ],
      "text/plain": [
       "---------------------------------\n",
       "| rollout/           |          |\n",
       "|    ep_len_mean     | 586      |\n",
       "|    ep_rew_mean     | 145      |\n",
       "| time/              |          |\n",
       "|    episodes        | 228      |\n",
       "|    fps             | 36       |\n",
       "|    time_elapsed    | 4088     |\n",
       "|    total_timesteps | 149355   |\n",
       "| train/             |          |\n",
       "|    actor_loss      | -18.4    |\n",
       "|    critic_loss     | 2.83     |\n",
       "|    ent_coef        | 0.0452   |\n",
       "|    ent_coef_loss   | 0.0258   |\n",
       "|    learning_rate   | 0.0001   |\n",
       "|    n_updates       | 149254   |\n",
       "---------------------------------\n"
      ]
     },
     "metadata": {},
     "output_type": "display_data"
    },
    {
     "data": {
      "text/plain": [
       "<stable_baselines3.sac.sac.SAC at 0x21b94a46f90>"
      ]
     },
     "execution_count": 14,
     "metadata": {},
     "output_type": "execute_result"
    }
   ],
   "source": [
    "env = gym.make(\"LunarLander-v3\", render_mode = \"rgb_array\", continuous = True) \n",
    "\n",
    "model = SAC(\"MlpPolicy\", env, learning_rate = 1e-4, batch_size = 512 , ent_coef=\"auto\", verbose=1)\n",
    "model.learn(total_timesteps = int(1.5e5) )\n",
    "#progress_bar=True"
   ]
  },
  {
   "cell_type": "markdown",
   "metadata": {},
   "source": [
    "Algunas observaciones:\n",
    "* Recién en el episodio 116 tenemos valores de recompensa promedio postitivos\n",
    "* A medida que aumentan los episodios se necesitan más pasos por episodios, en principio se usan alrededor de 100 y se termina con casi 600, sin embargo, en algunos episodios intermedios se usan más de 800 pasos.\n",
    "* El tiempo de ejecución es proporcional al parámetro total_timesteps\n",
    "* Al usar más timesteps, aumentamos el tamaño de los batch para optimizar el rendimiento\n",
    "* No siempre que se usan los mismos parámetros, se obtienen los mismos resultados, sin embargo al aumentar el número de pasos de tiempo, y mantener los otros parámetros, los resultados varían menos pues la cantidad de episodios usados para entrenar es mayor y por ende, se obtienen métricas más concluyentes.\n",
    "* El parámetro ent_coef=\"auto\" controla el coeficiente de entopía automáticamente."
   ]
  },
  {
   "cell_type": "code",
   "execution_count": 15,
   "metadata": {},
   "outputs": [
    {
     "data": {
      "text/plain": [
       "(199.211389, 99.70792323773179)"
      ]
     },
     "execution_count": 15,
     "metadata": {},
     "output_type": "execute_result"
    }
   ],
   "source": [
    "mean_reward, std_reward = evaluate_policy(model, model.get_env(), n_eval_episodes=10)\n",
    "mean_reward, std_reward"
   ]
  },
  {
   "cell_type": "code",
   "execution_count": 16,
   "metadata": {},
   "outputs": [
    {
     "data": {
      "text/html": [
       "<pre style=\"white-space:pre;overflow-x:auto;line-height:normal;font-family:Menlo,'DejaVu Sans Mono',consolas,'Courier New',monospace\">Wrapping the env with a `Monitor` wrapper\n",
       "</pre>\n"
      ],
      "text/plain": [
       "Wrapping the env with a `Monitor` wrapper\n"
      ]
     },
     "metadata": {},
     "output_type": "display_data"
    },
    {
     "data": {
      "text/html": [
       "<pre style=\"white-space:pre;overflow-x:auto;line-height:normal;font-family:Menlo,'DejaVu Sans Mono',consolas,'Courier New',monospace\">Wrapping the env in a DummyVecEnv.\n",
       "</pre>\n"
      ],
      "text/plain": [
       "Wrapping the env in a DummyVecEnv.\n"
      ]
     },
     "metadata": {},
     "output_type": "display_data"
    }
   ],
   "source": [
    "#model.save(\"Lunar_lander_model\") \n",
    "#model = SAC.load(\"Lunar_lander_model\", env=env) "
   ]
  },
  {
   "cell_type": "code",
   "execution_count": 18,
   "metadata": {},
   "outputs": [],
   "source": [
    "#export_gif(model)"
   ]
  },
  {
   "cell_type": "markdown",
   "metadata": {},
   "source": [
    "![Texto alternativo](agent_performance.gif \"Título opcional\")"
   ]
  },
  {
   "cell_type": "markdown",
   "metadata": {
    "id": "mPUY-Ktgf2BO"
   },
   "source": [
    "## **2. Large Language Models (4.0 puntos)**\n",
    "\n",
    "En esta sección se enfocarán en habilitar un Chatbot que nos permita responder preguntas útiles a través de LLMs."
   ]
  },
  {
   "cell_type": "markdown",
   "metadata": {
    "id": "mQ4fPRRihGLe"
   },
   "source": [
    "### **2.0 Configuración Inicial**\n",
    "\n",
    "<p align=\"center\">\n",
    "  <img src=\"https://media1.tenor.com/m/uqAs9atZH58AAAAd/config-config-issue.gif\"\n",
    "\" width=\"400\">\n",
    "</p>\n",
    "\n",
    "Como siempre, cargamos todas nuestras API KEY al entorno:"
   ]
  },
  {
   "cell_type": "code",
   "execution_count": 1,
   "metadata": {},
   "outputs": [
    {
     "name": "stdin",
     "output_type": "stream",
     "text": [
      "Enter your Google AI API key:  ········\n",
      "Enter your Tavily API key:  ········\n"
     ]
    }
   ],
   "source": [
    "import getpass\n",
    "import os\n",
    "\n",
    "if \"GOOGLE_API_KEY\" not in os.environ:\n",
    "    os.environ[\"GOOGLE_API_KEY\"] = getpass.getpass(\"Enter your Google AI API key: \")\n",
    "\n",
    "if \"TAVILY_API_KEY\" not in os.environ:\n",
    "    os.environ[\"TAVILY_API_KEY\"] = getpass.getpass(\"Enter your Tavily API key: \")"
   ]
  },
  {
   "cell_type": "markdown",
   "metadata": {
    "id": "Rj9JvQUsgZZJ"
   },
   "source": [
    "### **2.1 Retrieval Augmented Generation (1.5 puntos)**\n",
    "\n",
    "<p align=\"center\">\n",
    "  <img src=\"https://y.yarn.co/218aaa02-c47e-4ec9-b1c9-07792a06a88f_text.gif\"\n",
    "\" width=\"400\">\n",
    "</p>\n",
    "\n",
    "El objetivo de esta subsección es que habiliten un chatbot que pueda responder preguntas usando información contenida en documentos PDF a través de **Retrieval Augmented Generation.**"
   ]
  },
  {
   "cell_type": "markdown",
   "metadata": {
    "id": "ZrxOQroVnaZ5"
   },
   "source": [
    "#### **2.1.1 Reunir Documentos (0 puntos)**\n",
    "\n",
    "Reuna documentos PDF sobre los que hacer preguntas siguiendo las siguientes instrucciones:\n",
    "  - 2 documentos .pdf como mínimo.\n",
    "  - 50 páginas de contenido como mínimo entre todos los documentos.\n",
    "  - Ideas para documentos: Documentos relacionados a temas académicos, laborales o de ocio. Aprovechen este ejercicio para construir algo útil y/o relevante para ustedes!\n",
    "  - Deben ocupar documentos reales, no pueden utilizar los mismos de la clase.\n",
    "  - Deben registrar sus documentos en la siguiente [planilla](https://docs.google.com/spreadsheets/d/1Hy1w_dOiG2UCHJ8muyxhdKPZEPrrL7BNHm6E90imIIM/edit?usp=sharing). **NO PUEDEN USAR LOS MISMOS DOCUMENTOS QUE OTRO GRUPO**\n",
    "  - **Recuerden adjuntar los documentos en su entrega**."
   ]
  },
  {
   "cell_type": "code",
   "execution_count": 20,
   "metadata": {
    "colab": {
     "base_uri": "https://localhost:8080/"
    },
    "id": "5D1tIRCi4oJJ",
    "outputId": "39f6d4fc-63cb-4b9b-d48f-48d60df25ee5"
   },
   "outputs": [],
   "source": [
    "#%pip install --upgrade --quiet PyPDF2"
   ]
  },
  {
   "cell_type": "code",
   "execution_count": 3,
   "metadata": {
    "id": "kzq2TjWCnu15"
   },
   "outputs": [],
   "source": [
    "import PyPDF2\n",
    "\n",
    "doc_paths = ['HP1_Cap01.pdf', 'HP1_Cap02.pdf', \n",
    "             'HP1_Cap03.pdf', 'HP1_Cap04.pdf', \n",
    "             'HP1_Cap05.pdf', 'HP1_Cap06.pdf'] # Los 6 primeros capítulos de Harry Potter y la priedra filosofal\n",
    "\n",
    "assert len(doc_paths) >= 2, \"Deben adjuntar un mínimo de 2 documentos\"\n",
    "\n",
    "total_paginas = sum(len(PyPDF2.PdfReader(open(doc, \"rb\")).pages) for doc in doc_paths)\n",
    "assert total_paginas >= 50, f\"Páginas insuficientes: {total_paginas}\""
   ]
  },
  {
   "cell_type": "markdown",
   "metadata": {
    "id": "r811-P71nizA"
   },
   "source": [
    "#### **2.1.2 Vectorizar Documentos (0.2 puntos)**\n",
    "\n",
    "Vectorice los documentos y almacene sus representaciones de manera acorde."
   ]
  },
  {
   "cell_type": "code",
   "execution_count": 6,
   "metadata": {},
   "outputs": [],
   "source": [
    "from langchain_community.document_loaders import PyPDFLoader\n",
    "from PyPDF2 import PdfReader\n",
    "\n",
    "# 0. Load \n",
    "doc1 = PyPDF2.PdfReader(doc_paths[0])\n",
    "doc2 = PyPDF2.PdfReader(doc_paths[1])\n",
    "doc3 = PyPDF2.PdfReader(doc_paths[2])\n",
    "doc4 = PyPDF2.PdfReader(doc_paths[3])\n",
    "doc5 = PyPDF2.PdfReader(doc_paths[4])\n",
    "doc6 = PyPDF2.PdfReader(doc_paths[5])"
   ]
  },
  {
   "cell_type": "code",
   "execution_count": 7,
   "metadata": {},
   "outputs": [],
   "source": [
    "#%pip install langchain_text_splitters\n",
    "#%pip install --upgrade --quiet faiss-cpu langchain_community pypdf\n",
    "#%pip install protobuf==3.20\n",
    "#%pip install --upgrade --quiet  langchain-google-genai"
   ]
  },
  {
   "cell_type": "code",
   "execution_count": 8,
   "metadata": {},
   "outputs": [],
   "source": [
    "from langchain.schema import Document\n",
    "doc1_pages= [Document(page_content=page.extract_text()) for page in doc1.pages]\n",
    "doc2_pages =[Document(page_content=page.extract_text()) for page in doc2.pages]\n",
    "doc3_pages =[Document(page_content=page.extract_text()) for page in doc3.pages]\n",
    "doc4_pages =[Document(page_content=page.extract_text()) for page in doc4.pages]\n",
    "doc5_pages =[Document(page_content=page.extract_text()) for page in doc5.pages]\n",
    "doc6_pages =[Document(page_content=page.extract_text()) for page in doc6.pages]"
   ]
  },
  {
   "cell_type": "code",
   "execution_count": null,
   "metadata": {},
   "outputs": [],
   "source": []
  },
  {
   "cell_type": "code",
   "execution_count": 13,
   "metadata": {
    "id": "n-yXAdCSn4JM"
   },
   "outputs": [
    {
     "data": {
      "text/plain": [
       "<langchain_community.vectorstores.faiss.FAISS at 0x11e705407d0>"
      ]
     },
     "execution_count": 13,
     "metadata": {},
     "output_type": "execute_result"
    }
   ],
   "source": [
    "from langchain_text_splitters import RecursiveCharacterTextSplitter\n",
    "from langchain_google_genai import GoogleGenerativeAIEmbeddings\n",
    "from langchain_community.vectorstores import FAISS\n",
    "\n",
    "#1. Split\n",
    "text_splitter = RecursiveCharacterTextSplitter(chunk_size=500, chunk_overlap=50) # inicializamos splitter\n",
    "splits = text_splitter.split_documents(doc1_pages + doc2_pages + doc3_pages + doc4_pages + doc5_pages + doc6_pages) # dividir documentos en chunks\n",
    "\n",
    "#2. Embed\n",
    "embedding = GoogleGenerativeAIEmbeddings(model=\"models/embedding-001\") # inicializamos los embeddings\n",
    "vectorstore = FAISS.from_documents(documents=splits, embedding=embedding) # vectorizacion y almacenamiento\n",
    "vectorstore\n"
   ]
  },
  {
   "cell_type": "code",
   "execution_count": 14,
   "metadata": {},
   "outputs": [],
   "source": [
    "#splits[0]"
   ]
  },
  {
   "cell_type": "markdown",
   "metadata": {
    "id": "hAUkP5zrnyBK"
   },
   "source": [
    "#### **2.1.3 Habilitar RAG (0.3 puntos)**\n",
    "\n",
    "Habilite la solución RAG a través de una *chain* y guárdela en una variable."
   ]
  },
  {
   "cell_type": "code",
   "execution_count": 16,
   "metadata": {},
   "outputs": [],
   "source": [
    "from langchain_core.runnables import RunnablePassthrough\n",
    "\n",
    "\n",
    "retriever = vectorstore.as_retriever(search_type=\"similarity\", search_kwargs={\"k\": 3} )\n",
    "def format_docs(docs):\n",
    "    return \"\\n\\n\".join(doc.page_content for doc in docs)\n",
    "\n",
    "retriever_chain = retriever | format_docs # chain\n"
   ]
  },
  {
   "cell_type": "code",
   "execution_count": 20,
   "metadata": {
    "id": "gPIySdDFn99l"
   },
   "outputs": [
    {
     "name": "stdout",
     "output_type": "stream",
     "text": [
      "[Document(metadata={}, page_content='nombre,\\t¿verdad?\\tToda\\tesa\\ttontería\\tde\\tQuien-usted-sabe…\\tDurante\\tonce\\taños\\tintenté\\tpersuadir\\ta\\tla\\tgente\\npara\\tque\\tlo\\tllamara\\tpor\\tsu\\tverdadero\\tnombre,\\tVoldemort.\\t—La\\tprofesora\\tMcGonagall\\tse\\techó\\thacia\\natrás\\tcon\\ttemor,\\tpero\\tDumbledore,\\tocupado\\ten\\tdesenvolver\\tdos\\tcaramelos\\tde\\tlimón,\\tpareció\\tno\\tdarse\\ncuenta—.\\tTodo\\tse\\tvolverá\\tmuy\\tconfuso\\tsi\\tseguimos\\tdiciendo\\t«Quien-usted-sabe».\\tNunca\\the\\tencontrado\\nningún\\tmotivo\\tpara\\ttemer\\tpronunciar\\tel\\tnombre\\tde\\tVoldemort.'), Document(metadata={}, page_content='estoy\\tde\\tacuerdo.\\t¿Ya\\tsabes\\ten\\tqué\\tcasa\\tvas\\ta\\testar?\\n—No\\t—dijo\\tHarry,\\tsintiéndose\\tcada\\tvez\\tmás\\ttonto.\\n—Bueno,\\tnadie\\tlo\\tsabrá\\trealmente\\thasta\\tque\\tlleguemos\\tallí,\\tpero\\tyo\\tsé\\tque\\tseré\\tde\\tSlytherin,\\tporque\\ntoda\\tmi\\tfamilia\\tfue\\tde\\tallí.\\t¿Te\\timaginas\\testar\\ten\\tHufflepuff?\\tYo\\tcreo\\tque\\tme\\tiría,\\t¿no\\tte\\tparece?\\n—Mmm\\t—contestó\\tHarry,\\tdeseando\\tpoder\\tdecir\\talgo\\tmás\\tinteresante.\\n—¡Oye,\\tmira\\ta\\tese\\thombre!\\t—dijo\\tsúbitamente\\tel\\tchico,\\tseñalando\\thacia\\tla\\tvidriera\\tde\\tdelante.'), Document(metadata={}, page_content='—Sí,\\tpor\\tfavor\\t—jadeó\\tHarry.\\n—¡Eh,\\tFred!\\t¡Ven\\ta\\tayudar!\\nCon\\tla\\tayuda\\tde\\tlos\\tgemelos,\\tel\\tbaúl\\tde\\tHarry\\tfinalmente\\tquedó\\ten\\tun\\trincón\\tdel\\tcompartimiento.\\n—Gracias\\t—dijo\\tHarry,\\tquitándose\\tde\\tlos\\tojos\\tel\\tpelo\\thúmedo.\\n—¿Qué\\tes\\teso?\\t—dijo\\tde\\tpronto\\tuno\\tde\\tlos\\tgemelos,\\tseñalando\\tla\\tbrillante\\tcicatriz\\tde\\tHarry.\\n—Vaya\\t—dijo\\tel\\totro\\tgemelo—.\\t¿Eres\\ttú…?\\n—Es\\tél\\t—dijo\\tel\\tprimero—.\\tEres\\ttú,\\t¿no?\\t—se\\tdirigió\\ta\\tHarry.\\n—¿Quién?\\t—preguntó\\tHarry.\\n—Harry\\tPotter\\t—respondieron\\ta\\tcoro.')]\n",
      "nombre,\t¿verdad?\tToda\tesa\ttontería\tde\tQuien-usted-sabe…\tDurante\tonce\taños\tintenté\tpersuadir\ta\tla\tgente\n",
      "para\tque\tlo\tllamara\tpor\tsu\tverdadero\tnombre,\tVoldemort.\t—La\tprofesora\tMcGonagall\tse\techó\thacia\n",
      "atrás\tcon\ttemor,\tpero\tDumbledore,\tocupado\ten\tdesenvolver\tdos\tcaramelos\tde\tlimón,\tpareció\tno\tdarse\n",
      "cuenta—.\tTodo\tse\tvolverá\tmuy\tconfuso\tsi\tseguimos\tdiciendo\t«Quien-usted-sabe».\tNunca\the\tencontrado\n",
      "ningún\tmotivo\tpara\ttemer\tpronunciar\tel\tnombre\tde\tVoldemort.\n",
      "\n",
      "estoy\tde\tacuerdo.\t¿Ya\tsabes\ten\tqué\tcasa\tvas\ta\testar?\n",
      "—No\t—dijo\tHarry,\tsintiéndose\tcada\tvez\tmás\ttonto.\n",
      "—Bueno,\tnadie\tlo\tsabrá\trealmente\thasta\tque\tlleguemos\tallí,\tpero\tyo\tsé\tque\tseré\tde\tSlytherin,\tporque\n",
      "toda\tmi\tfamilia\tfue\tde\tallí.\t¿Te\timaginas\testar\ten\tHufflepuff?\tYo\tcreo\tque\tme\tiría,\t¿no\tte\tparece?\n",
      "—Mmm\t—contestó\tHarry,\tdeseando\tpoder\tdecir\talgo\tmás\tinteresante.\n",
      "—¡Oye,\tmira\ta\tese\thombre!\t—dijo\tsúbitamente\tel\tchico,\tseñalando\thacia\tla\tvidriera\tde\tdelante.\n",
      "\n",
      "—Sí,\tpor\tfavor\t—jadeó\tHarry.\n",
      "—¡Eh,\tFred!\t¡Ven\ta\tayudar!\n",
      "Con\tla\tayuda\tde\tlos\tgemelos,\tel\tbaúl\tde\tHarry\tfinalmente\tquedó\ten\tun\trincón\tdel\tcompartimiento.\n",
      "—Gracias\t—dijo\tHarry,\tquitándose\tde\tlos\tojos\tel\tpelo\thúmedo.\n",
      "—¿Qué\tes\teso?\t—dijo\tde\tpronto\tuno\tde\tlos\tgemelos,\tseñalando\tla\tbrillante\tcicatriz\tde\tHarry.\n",
      "—Vaya\t—dijo\tel\totro\tgemelo—.\t¿Eres\ttú…?\n",
      "—Es\tél\t—dijo\tel\tprimero—.\tEres\ttú,\t¿no?\t—se\tdirigió\ta\tHarry.\n",
      "—¿Quién?\t—preguntó\tHarry.\n",
      "—Harry\tPotter\t—respondieron\ta\tcoro.\n"
     ]
    }
   ],
   "source": [
    "question = \"¿Quién es Harry Potter?\" # pregunta\n",
    "relevant_documents = retriever.invoke(question) \n",
    "print(relevant_documents)\n",
    "print(retriever_chain.invoke(question))"
   ]
  },
  {
   "cell_type": "markdown",
   "metadata": {
    "id": "ycg5S5i_n-kL"
   },
   "source": [
    "#### **2.1.4 Verificación de respuestas (0.5 puntos)**\n",
    "\n",
    "Genere un listado de 3 tuplas (\"pregunta\", \"respuesta correcta\") y analice la respuesta de su solución para cada una. ¿Su solución RAG entrega las respuestas que esperaba?\n",
    "\n",
    "Ejemplo de tupla:\n",
    "- Pregunta: ¿Quién es el presidente de Chile?\n",
    "- Respuesta correcta: El presidente de Chile es Gabriel Boric"
   ]
  },
  {
   "cell_type": "code",
   "execution_count": 23,
   "metadata": {
    "id": "S_UiEn1hoZYR",
    "scrolled": true
   },
   "outputs": [
    {
     "name": "stdout",
     "output_type": "stream",
     "text": [
      "PREGUNTA 1: ¿Cuál es el nombre completo de Harry?\n",
      "--------------------------------------------------\n",
      "nombre,\t¿verdad?\tToda\tesa\ttontería\tde\tQuien-usted-sabe…\tDurante\tonce\taños\tintenté\tpersuadir\ta\tla\tgente\n",
      "para\tque\tlo\tllamara\tpor\tsu\tverdadero\tnombre,\tVoldemort.\t—La\tprofesora\tMcGonagall\tse\techó\thacia\n",
      "atrás\tcon\ttemor,\tpero\tDumbledore,\tocupado\ten\tdesenvolver\tdos\tcaramelos\tde\tlimón,\tpareció\tno\tdarse\n",
      "cuenta—.\tTodo\tse\tvolverá\tmuy\tconfuso\tsi\tseguimos\tdiciendo\t«Quien-usted-sabe».\tNunca\the\tencontrado\n",
      "ningún\tmotivo\tpara\ttemer\tpronunciar\tel\tnombre\tde\tVoldemort.\n",
      "\n",
      "decirle\tque\thabía\toído\tel\tapellido\t«Potter».\tNo,\tno\tse\tatrevería.\tEn\tlugar\tde\teso,\tdijo,\ttratando\tde\n",
      "parecer\tdespreocupado:\n",
      "—El\thijo\tde\tellos…\tdebe\tde\ttener\tla\tedad\tde\tDudley,\t¿no?\n",
      "—Eso\tcreo\t—respondió\tla\tseñora\tDursley\tcon\trigidez.\n",
      "—¿Y\tcómo\tse\tllamaba?\tHoward,\t¿no?\n",
      "—Harry.\tUn\tnombre\tvulgar\ty\thorrible,\tsi\tquieres\tmi\topinión.\n",
      "—Oh,\tsí\t—dijo\tel\tseñor\tDursley,\tcon\tuna\tespantosa\tsensación\tde\tabatimiento—.\tSí,\testoy\tde\n",
      "acuerdo.\n",
      "\n",
      "—No\testoy\ttratando\tde\thacerme\tel\tvaliente,\tni\tnada\tpor\tel\testilo,\tal\tdecir\tel\tnombre\t—dijo\tHarry—.\n",
      "Es\tque\tno\tsabía\tque\tno\tdebía\tdecirlo.\t¿Ves\tlo\tque\tte\tdecía?\tTengo\tmuchísimas\tcosas\tque\taprender…\n",
      "Seguro\t—añadió,\tdiciendo\tpor\tprimera\tvez\ten\tvoz\talta\talgo\tque\túltimamente\tlo\tpreocupaba\tmucho—,\n",
      "seguro\tque\tseré\tel\tpeor\tde\tla\tclase.\n",
      "—No\tserá\tasí.\tHay\tmucha\tgente\tque\tviene\tde\tfamilias\tmuggles\ty\taprende\tmuy\tdeprisa.\n",
      "============================================================================================================================================\n",
      "PREGUNTA 2: ¿Quiénes son los personajes de apellido Weasley?\n",
      "--------------------------------------------------\n",
      "nombre,\t¿verdad?\tToda\tesa\ttontería\tde\tQuien-usted-sabe…\tDurante\tonce\taños\tintenté\tpersuadir\ta\tla\tgente\n",
      "para\tque\tlo\tllamara\tpor\tsu\tverdadero\tnombre,\tVoldemort.\t—La\tprofesora\tMcGonagall\tse\techó\thacia\n",
      "atrás\tcon\ttemor,\tpero\tDumbledore,\tocupado\ten\tdesenvolver\tdos\tcaramelos\tde\tlimón,\tpareció\tno\tdarse\n",
      "cuenta—.\tTodo\tse\tvolverá\tmuy\tconfuso\tsi\tseguimos\tdiciendo\t«Quien-usted-sabe».\tNunca\the\tencontrado\n",
      "ningún\tmotivo\tpara\ttemer\tpronunciar\tel\tnombre\tde\tVoldemort.\n",
      "\n",
      "Ron\tdejó\tescapar\tuna\tdébil\ttos,\tque\tpodía\testar\tocultando\tuna\trisita.\tDraco\t(dragón)\tMalfoy\tlo\tmiró.\n",
      "—Te\tparece\tque\tmi\tnombre\tes\tdivertido,\t¿no?\tNo\tnecesito\tpreguntarte\tquién\teres.\tMi\tpadre\tme\tdijo\n",
      "que\ttodos\tlos\tWeasley\tson\tpelirrojos,\tcon\tpecas\ty\tmás\thijos\tque\tlos\tque\tpueden\tmantener.\n",
      "Se\tvolvió\thacia\tHarry.\n",
      "\n",
      "Scabbers\n",
      ",\tla\trata,\tcolgaba\tdel\tdedo\tde\tGoyle,\tcon\tlos\tagudos\tdientes\tclavados\tprofundamente\ten\tsus\n",
      "nudillos.\tCrabbe\ty\tMalfoy\tretrocedieron\tmientras\tGoyle\tagitaba\tla\tmano\tpara\tdesprenderse\tde\tla\trata,\n",
      "gritando\tde\tdolor,\thasta\tque,\tfinalmente,\t\n",
      "Scabbers\n",
      "\tsalió\tvolando,\tchocó\tcontra\tla\tventanilla\ty\tlos\ttres\n",
      "muchachos\tdesaparecieron.\tTal\tvez\tpensaron\tque\thabía\tmás\tratas\tentre\tlas\tgolosinas,\to\tquizás\toyeron\tlos\n",
      "pasos\tporque,\tun\tsegundo\tmás\ttarde,\tHermione\tGranger\tvolvió\ta\tentrar.\n",
      "============================================================================================================================================\n",
      "PREGUNTA 3: ¿Qué hace Rubeus Hagrid en Hogwarts?\n",
      "--------------------------------------------------\n",
      "hubiera\tsabido\tlo\tque\tesa\tvarita\tiba\ta\thacer\ten\tel\tmundo…\n",
      "Negó\tcon\tla\tcabeza\ty\tentonces,\tpara\talivio\tde\tHarry,\tfijó\tsu\tatención\ten\tHagrid.\n",
      "—¡Rubeus!\t¡Rubeus\tHagrid!\tMe\talegro\tde\tverlo\totra\tvez…\tRoble,\tcuarenta\tcentímetros\ty\tmedio,\n",
      "flexible…\t¿Era\tasí?\n",
      "\n",
      "temblorosos.\tEn\tel\tinterior\thabía\tun\tgran\tpastel\tde\tchocolate\tpegajoso,\tcon\t«Feliz\tCumpleaños,\tHarry»\n",
      "escrito\ten\tverde.\n",
      "Harry\tmiró\tal\tgigante.\tIba\ta\tdarle\tlas\tgracias,\tpero\tlas\tpalabras\tse\tperdieron\ten\tsu\tgarganta\ty,\ten\n",
      "lugar\tde\teso,\tdijo:\n",
      "—¿Quién\tes\tusted?\n",
      "El\tgigante\trió\tentre\tdientes.\n",
      "—Es\tcierto,\tno\tme\the\tpresentado.\tRubeus\tHagrid,\tGuardián\tde\tlas\tLlaves\ty\tTerrenos\tde\tHogwarts.\n",
      "Extendió\tuna\tmano\tgigantesca\ty\tsacudió\ttodo\tel\tbrazo\tde\tHarry.\n",
      "\n",
      "—¿Y\tqué\tson\tSlytherin\ty\tHufflepuff?\n",
      "—Casas\tdel\tcolegio.\tHay\tcuatro.\tTodos\tdicen\tque\ten\tHufflepuff\tson\ttodos\tinútiles,\tpero…\n",
      "—Seguro\tque\tyo\testaré\ten\tHufflepuff\t—dijo\tHarry\tdesanimado.\n",
      "—Es\tmejor\tHufflepuff\tque\tSlytherin\t—dijo\tHagrid\tcon\ttono\tlúgubre—.\tLas\tbrujas\ty\tlos\tmagos\tque\tse\n",
      "volvieron\tmalos\thabían\testado\ttodos\ten\tSlytherin.\tQuien-tú-sabes\tfue\tuno.\n",
      "—¿Vol…\tperdón…\tQuien-tú-sabes\testuvo\ten\tHogwarts?\n",
      "—Hace\tmuchos\taños\t—respondió\tHagrid.\n",
      "============================================================================================================================================\n"
     ]
    }
   ],
   "source": [
    "q1 = \"¿Cuál es el nombre completo de Harry?\"\n",
    "q2 = \"¿Quiénes son los personajes de apellido Weasley?\"\n",
    "q3 = \"¿Qué hace Rubeus Hagrid en Hogwarts?\"\n",
    "\n",
    "# Respuestas correctas\n",
    "RC1 = \"Potter\"\n",
    "RC2 = \"Ron, Fred y George\"\n",
    "RC3 = \"Es el Guardián de las Llaves y Terrenos de Hogwarts\"\n",
    "\n",
    "a1= retriever_chain.invoke(q1)\n",
    "a2= retriever_chain.invoke(q2)\n",
    "a3= retriever_chain.invoke(q3)\n",
    "\n",
    "print(f'PREGUNTA 1: {q1}')\n",
    "print('-'*50)\n",
    "print(a1)\n",
    "print('='*140)\n",
    "\n",
    "print(f'PREGUNTA 2: {q2}')\n",
    "print('-'*50)\n",
    "print(a2)\n",
    "print('='*140)\n",
    "\n",
    "print(f'PREGUNTA 3: {q3}')\n",
    "print('-'*50)\n",
    "print(a3)\n",
    "print('='*140)"
   ]
  },
  {
   "cell_type": "markdown",
   "metadata": {
    "id": "X8d5zTMHoUgF"
   },
   "source": [
    "#### **2.1.5 Sensibilidad de Hiperparámetros (0.5 puntos)**\n",
    "\n",
    "Extienda el análisis del punto 2.1.4 analizando cómo cambian las respuestas entregadas cambiando los siguientes hiperparámetros:\n",
    "- `Tamaño del chunk`. (*¿Cómo repercute que los chunks sean mas grandes o chicos?*)\n",
    "- `La cantidad de chunks recuperados`. (*¿Qué pasa si se devuelven muchos/pocos chunks?*)\n",
    "- `El tipo de búsqueda`. (*¿Cómo afecta el tipo de búsqueda a las respuestas de mi RAG?*)"
   ]
  },
  {
   "cell_type": "code",
   "execution_count": 25,
   "metadata": {},
   "outputs": [],
   "source": [
    "def hiper_para(tamaño_chuck, chuck_recuperados, tipo_busqueda, score_thre=1):\n",
    "    text_splitter = RecursiveCharacterTextSplitter(chunk_size=tamaño_chuck, chunk_overlap=50) \n",
    "    splits = text_splitter.split_documents(doc1_pages + doc2_pages) \n",
    "    embedding = GoogleGenerativeAIEmbeddings(model=\"models/embedding-001\") \n",
    "    vectorstore = FAISS.from_documents(documents=splits, embedding=embedding)\n",
    "    retriever = vectorstore.as_retriever(search_type= tipo_busqueda, search_kwargs={\"k\": chuck_recuperados, \"score_threshold\": score_thre}) \n",
    "    retriever_chain = retriever | format_docs # chain\n",
    "\n",
    "    \n",
    "    a1= retriever_chain.invoke(q1)\n",
    "    a2= retriever_chain.invoke(q2)\n",
    "    a3= retriever_chain.invoke(q3)\n",
    "\n",
    "    print(f'Respuestas con chuck_size = {tamaño_chuck}, chuck_recuperados = {chuck_recuperados} y tipo de busqueda = {tipo_busqueda}')\n",
    "    print('='*140)\n",
    "    \n",
    "    print(f'PREGUNTA 1: {q1}')\n",
    "    print('-'*50)\n",
    "    print(a1)\n",
    "    print('='*140)\n",
    "\n",
    "    print(f'PREGUNTA 2: {q2}')\n",
    "    print('-'*50)\n",
    "    print(a2)\n",
    "    print('='*140)\n",
    "    \n",
    "    print(f'PREGUNTA 3: {q3}')\n",
    "    print('-'*50)\n",
    "    print(a3)\n",
    "    print('='*140)\n"
   ]
  },
  {
   "cell_type": "code",
   "execution_count": 27,
   "metadata": {
    "scrolled": true
   },
   "outputs": [
    {
     "name": "stdout",
     "output_type": "stream",
     "text": [
      "Respuestas con chuck_size = 100, chuck_recuperados = 2 y tipo de busqueda = similarity\n",
      "============================================================================================================================================\n",
      "PREGUNTA 1: ¿Cuál es el nombre completo de Harry?\n",
      "--------------------------------------------------\n",
      "Escribirán\tlibros\tsobre\tHarry…\tTodos\tlos\tniños\tdel\tmundo\tconocerán\tsu\tnombre.\n",
      "\n",
      "siquiera\testaba\tseguro\tde\tque\tsu\tsobrino\tse\tllamara\tHarry.\tNunca\thabía\tvisto\tal\tniño.\tPodría\tllamar\n",
      "============================================================================================================================================\n",
      "PREGUNTA 2: ¿Quiénes son los personajes de apellido Weasley?\n",
      "--------------------------------------------------\n",
      "que\tla\tseñora\tDursley\tfingía\tque\tno\ttenía\thermana,\tporque\tsu\thermana\ty\tsu\tmarido,\tun\tcompleto\tinúti\n",
      "\n",
      "para\tasimilarlo?\n",
      "La\tprofesora\tMcGonagall\tabrió\tla\tboca,\tcambió\tde\tidea,\ttragó\ty\tluego\tdijo:\n",
      "============================================================================================================================================\n",
      "PREGUNTA 3: ¿Qué hace Rubeus Hagrid en Hogwarts?\n",
      "--------------------------------------------------\n",
      "Bueno,\tdéjalo\taquí,\tHagrid,\tes\tmejor\tque\tterminemos\n",
      "\n",
      "—A\tHagrid,\tle\tconfiaría\tmi\tvida\t—dijo\tDumbledore.\n",
      "============================================================================================================================================\n"
     ]
    }
   ],
   "source": [
    "hiper_para(100, 2, 'similarity')"
   ]
  },
  {
   "cell_type": "markdown",
   "metadata": {},
   "source": [
    "**OBS:** En ninguna de las 3 llega a la información correcta"
   ]
  },
  {
   "cell_type": "code",
   "execution_count": 29,
   "metadata": {},
   "outputs": [
    {
     "name": "stdout",
     "output_type": "stream",
     "text": [
      "Respuestas con chuck_size = 1000, chuck_recuperados = 2 y tipo de busqueda = similarity\n",
      "============================================================================================================================================\n",
      "PREGUNTA 1: ¿Cuál es el nombre completo de Harry?\n",
      "--------------------------------------------------\n",
      "Por\totra\tparte,\thabía\ttenido\tun\tproblema\tterrible\tcuando\tlo\tencontraron\ten\tel\ttecho\tde\tla\tcocina\tdel\n",
      "colegio.\tEl\tgrupo\tde\tDudley\tlo\tperseguía\tcomo\tde\tcostumbre\tcuando,\ttanto\tpara\tsorpresa\tde\tHarry\tcomo\n",
      "de\tlos\tdemás,\tse\tencontró\tsentado\ten\tla\tchimenea.\tLos\tDursley\trecibieron\tuna\tcarta\tamenazadora\tde\tla\n",
      "directora\tdel\tcolegio,\tdiciéndoles\tque\tHarry\tandaba\ttrepando\tpor\tlos\ttechos\tdel\tcolegio.\tPero\tlo\túnico\n",
      "que\ttrataba\tde\thacer\t(como\tle\tgritó\ta\ttío\tVernon\ta\ttravés\tde\tla\tpuerta\tcerrada\tde\tla\talacena)\tfue\tsaltar\tlos\n",
      "grandes\tcubos\tque\testaban\tdetrás\tde\tla\tpuerta\tde\tla\tcocina.\tHarry\tsuponía\tque\tel\tviento\tlo\thabía\n",
      "levantado\ten\tmedio\tde\tsu\tsalto.\n",
      "Pero\taquel\tdía\tnada\tiba\ta\tsalir\tmal.\tIncluso\testaba\tbien\tpasar\tel\tdía\tcon\tDudley\ty\tPiers\tsi\teso\n",
      "\n",
      "ellos\tfingían\tque\tella\tno\ttenía\thermana.\n",
      "—No\t—respondió\ten\ttono\tcortante—.\t¿Por\tqué?\n",
      "—Hay\tcosas\tmuy\textrañas\ten\tlas\tnoticias\t—masculló\tel\tseñor\tDursley—.\tLechuzas…\testrellas\n",
      "fugaces…\ty\thoy\thabía\ten\tla\tciudad\tuna\tcantidad\tde\tgente\tcon\taspecto\traro…\n",
      "—¿Y\tqué?\t—interrumpió\tbruscamente\tla\tseñora\tDursley.\n",
      "—Bueno,\tpensé…\tquizá…\tque\tpodría\ttener\talgo\tque\tver\tcon…\tya\tsabes…\t\n",
      "su\tgrupo.\n",
      "La\tseñora\tDursley\tbebió\tsu\tté\tcon\tlos\tlabios\tfruncidos.\tEl\tseñor\tDursley\tse\tpreguntó\tsi\tse\tatrevería\ta\n",
      "decirle\tque\thabía\toído\tel\tapellido\t«Potter».\tNo,\tno\tse\tatrevería.\tEn\tlugar\tde\teso,\tdijo,\ttratando\tde\n",
      "parecer\tdespreocupado:\n",
      "—El\thijo\tde\tellos…\tdebe\tde\ttener\tla\tedad\tde\tDudley,\t¿no?\n",
      "—Eso\tcreo\t—respondió\tla\tseñora\tDursley\tcon\trigidez.\n",
      "—¿Y\tcómo\tse\tllamaba?\tHoward,\t¿no?\n",
      "—Harry.\tUn\tnombre\tvulgar\ty\thorrible,\tsi\tquieres\tmi\topinión.\n",
      "—Oh,\tsí\t—dijo\tel\tseñor\tDursley,\tcon\tuna\tespantosa\tsensación\tde\tabatimiento—.\tSí,\testoy\tde\n",
      "acuerdo.\n",
      "============================================================================================================================================\n",
      "PREGUNTA 2: ¿Quiénes son los personajes de apellido Weasley?\n",
      "--------------------------------------------------\n",
      "caramelo\tde\tlimón?\n",
      "—¿Un\tqué?\n",
      "—Un\tcaramelo\tde\tlimón.\tEs\tuna\tclase\tde\tdulces\tde\tlos\tmuggles\tque\tme\tgusta\tmucho.\n",
      "—No,\tmuchas\tgracias\t—respondió\tcon\tfrialdad\tla\tprofesora\tMcGonagall,\tcomo\tsi\tconsiderara\tque\n",
      "aquél\tno\tera\tun\tmomento\tapropiado\tpara\tcaramelos—.\tComo\tle\tdecía,\taunque\tQuien-usted-sabe\tse\thaya\n",
      "ido…\n",
      "—Mi\tquerida\tprofesora,\testoy\tseguro\tde\tque\tuna\tpersona\tsensata\tcomo\tusted\tpuede\tllamarlo\tpor\tsu\n",
      "nombre,\t¿verdad?\tToda\tesa\ttontería\tde\tQuien-usted-sabe…\tDurante\tonce\taños\tintenté\tpersuadir\ta\tla\tgente\n",
      "para\tque\tlo\tllamara\tpor\tsu\tverdadero\tnombre,\tVoldemort.\t—La\tprofesora\tMcGonagall\tse\techó\thacia\n",
      "atrás\tcon\ttemor,\tpero\tDumbledore,\tocupado\ten\tdesenvolver\tdos\tcaramelos\tde\tlimón,\tpareció\tno\tdarse\n",
      "cuenta—.\tTodo\tse\tvolverá\tmuy\tconfuso\tsi\tseguimos\tdiciendo\t«Quien-usted-sabe».\tNunca\the\tencontrado\n",
      "ningún\tmotivo\tpara\ttemer\tpronunciar\tel\tnombre\tde\tVoldemort.\n",
      "—Sé\tque\tusted\tno\ttiene\tese\tproblema\t—observó\tla\tprofesora\tMcGonagall,\tentre\tla\texasperación\ty\tla\n",
      "\n",
      "ellos\tfingían\tque\tella\tno\ttenía\thermana.\n",
      "—No\t—respondió\ten\ttono\tcortante—.\t¿Por\tqué?\n",
      "—Hay\tcosas\tmuy\textrañas\ten\tlas\tnoticias\t—masculló\tel\tseñor\tDursley—.\tLechuzas…\testrellas\n",
      "fugaces…\ty\thoy\thabía\ten\tla\tciudad\tuna\tcantidad\tde\tgente\tcon\taspecto\traro…\n",
      "—¿Y\tqué?\t—interrumpió\tbruscamente\tla\tseñora\tDursley.\n",
      "—Bueno,\tpensé…\tquizá…\tque\tpodría\ttener\talgo\tque\tver\tcon…\tya\tsabes…\t\n",
      "su\tgrupo.\n",
      "La\tseñora\tDursley\tbebió\tsu\tté\tcon\tlos\tlabios\tfruncidos.\tEl\tseñor\tDursley\tse\tpreguntó\tsi\tse\tatrevería\ta\n",
      "decirle\tque\thabía\toído\tel\tapellido\t«Potter».\tNo,\tno\tse\tatrevería.\tEn\tlugar\tde\teso,\tdijo,\ttratando\tde\n",
      "parecer\tdespreocupado:\n",
      "—El\thijo\tde\tellos…\tdebe\tde\ttener\tla\tedad\tde\tDudley,\t¿no?\n",
      "—Eso\tcreo\t—respondió\tla\tseñora\tDursley\tcon\trigidez.\n",
      "—¿Y\tcómo\tse\tllamaba?\tHoward,\t¿no?\n",
      "—Harry.\tUn\tnombre\tvulgar\ty\thorrible,\tsi\tquieres\tmi\topinión.\n",
      "—Oh,\tsí\t—dijo\tel\tseñor\tDursley,\tcon\tuna\tespantosa\tsensación\tde\tabatimiento—.\tSí,\testoy\tde\n",
      "acuerdo.\n",
      "============================================================================================================================================\n",
      "PREGUNTA 3: ¿Qué hace Rubeus Hagrid en Hogwarts?\n",
      "--------------------------------------------------\n",
      "—A\tHagrid,\tle\tconfiaría\tmi\tvida\t—dijo\tDumbledore.\n",
      "—No\testoy\tdiciendo\tque\tsu\tcorazón\tno\testé\tdonde\tdebe\testar\t—dijo\ta\tregañadientes\tla\tprofesora\n",
      "McGonagall—.\tPero\tno\tme\tdirá\tque\tno\tes\tdescuidado.\tTiene\tla\tcostumbre\tde…\t¿Qué\tha\tsido\teso?\n",
      "Un\truido\tsordo\trompió\tel\tsilencio\tque\tlos\trodeaba.\tSe\tfue\thaciendo\tmás\tfuerte\tmientras\tellos\tmiraban\n",
      "a\tambos\tlados\tde\tla\tcalle,\tbuscando\talguna\tluz.\tAumentó\thasta\tser\tun\trugido\tmientras\tlos\tdos\tmiraban\n",
      "hacia\tel\tcielo,\ty\tentonces\tuna\tpesada\tmoto\tcayó\tdel\taire\ty\taterrizó\ten\tel\tcamino,\tfrente\ta\tellos.\n",
      "La\tmoto\tera\tinmensa,\tpero\tsi\tse\tla\tcomparaba\tcon\tel\thombre\tque\tla\tconducía\tparecía\tun\tjuguete.\tEra\n",
      "dos\tveces\tmás\talto\tque\tun\thombre\tnormal\ty\tal\tmenos\tcinco\tveces\tmás\tancho.\tSe\tpodía\tdecir\tque\tera\n",
      "demasiado\tgrande\tpara\tque\tlo\taceptaran\ty,\tademás,\ttan\tdesaliñado…\tCabello\tnegro,\tlargo\ty\trevuelto,\ty\n",
      "una\tbarba\tque\tle\tcubría\tcasi\ttoda\tla\tcara.\tSus\tmanos\ttenían\tel\tmismo\ttamaño\tque\tlas\ttapas\tdel\tcubo\tde\tla\n",
      "\n",
      "para\tasimilarlo?\n",
      "La\tprofesora\tMcGonagall\tabrió\tla\tboca,\tcambió\tde\tidea,\ttragó\ty\tluego\tdijo:\n",
      "—Sí…\tsí,\ttiene\trazón,\tpor\tsupuesto.\tPero\t¿cómo\tva\ta\tllegar\tel\tniño\thasta\taquí,\tDumbledore?\t—De\n",
      "pronto\tobservó\tla\tcapa\tdel\tprofesor,\tcomo\tsi\tpensara\tque\tpodía\ttener\tescondido\ta\tHarry.\n",
      "—Hagrid\tlo\ttraerá.\n",
      "—¿Le\tparece…\tsensato…\tconfiar\ta\tHagrid\talgo\ttan\timportante\tcomo\teso?\n",
      "============================================================================================================================================\n"
     ]
    }
   ],
   "source": [
    "hiper_para(1000, 2, 'similarity') "
   ]
  },
  {
   "cell_type": "markdown",
   "metadata": {},
   "source": [
    "**OBS:** Solo en la primera pregunta llega a la información. "
   ]
  },
  {
   "cell_type": "code",
   "execution_count": 31,
   "metadata": {
    "scrolled": true
   },
   "outputs": [
    {
     "name": "stdout",
     "output_type": "stream",
     "text": [
      "Respuestas con chuck_size = 200, chuck_recuperados = 6 y tipo de busqueda = similarity\n",
      "============================================================================================================================================\n",
      "PREGUNTA 1: ¿Cuál es el nombre completo de Harry?\n",
      "--------------------------------------------------\n",
      "siquiera\testaba\tseguro\tde\tque\tsu\tsobrino\tse\tllamara\tHarry.\tNunca\thabía\tvisto\tal\tniño.\tPodría\tllamarse\n",
      "\n",
      "—Eso\tcreo\t—respondió\tla\tseñora\tDursley\tcon\trigidez.\n",
      "—¿Y\tcómo\tse\tllamaba?\tHoward,\t¿no?\n",
      "—Harry.\tUn\tnombre\tvulgar\ty\thorrible,\tsi\tquieres\tmi\topinión.\n",
      "\n",
      "casa.\n",
      "Cuando\tera\tmás\tpequeño,\tHarry\tsoñaba\tuna\ty\totra\tvez\tque\talgún\tpariente\tdesconocido\tiba\ta\tbuscarlo\n",
      "\n",
      "Harry\ttenía\tun\trostro\tdelgado,\trodillas\thuesudas,\tpelo\tnegro\ty\tojos\tde\tcolor\tverde\tbrillante.\tLlevaba\n",
      "\n",
      "nombre,\t¿verdad?\tToda\tesa\ttontería\tde\tQuien-usted-sabe…\tDurante\tonce\taños\tintenté\tpersuadir\ta\tla\tgente\n",
      "para\tque\tlo\tllamara\tpor\tsu\tverdadero\tnombre,\tVoldemort.\t—La\tprofesora\tMcGonagall\tse\techó\thacia\n",
      "\n",
      "comportando\tcomo\tun\testúpido.\tPotter\tno\tera\tun\tapellido\ttan\tespecial.\tEstaba\tseguro\tde\tque\thabía\n",
      "muchísimas\tpersonas\tque\tse\tllamaban\tPotter\ty\tque\ttenían\tun\thijo\tllamado\tHarry.\tY\tpensándolo\tmejor,\tni\n",
      "============================================================================================================================================\n",
      "PREGUNTA 2: ¿Quiénes son los personajes de apellido Weasley?\n",
      "--------------------------------------------------\n",
      "El\tseñor\tDursley\tera\tel\tdirector\tde\tuna\tempresa\tllamada\tGrunnings,\tque\tfabricaba\ttaladros.\tEra\tun\n",
      "hombre\tcorpulento\ty\trollizo,\tcasi\tsin\tcuello,\taunque\tcon\tun\tbigote\tinmenso.\tLa\tseñora\tDursley\tera\n",
      "\n",
      "comportando\tcomo\tun\testúpido.\tPotter\tno\tera\tun\tapellido\ttan\tespecial.\tEstaba\tseguro\tde\tque\thabía\n",
      "muchísimas\tpersonas\tque\tse\tllamaban\tPotter\ty\tque\ttenían\tun\thijo\tllamado\tHarry.\tY\tpensándolo\tmejor,\tni\n",
      "\n",
      "nombre,\t¿verdad?\tToda\tesa\ttontería\tde\tQuien-usted-sabe…\tDurante\tonce\taños\tintenté\tpersuadir\ta\tla\tgente\n",
      "para\tque\tlo\tllamara\tpor\tsu\tverdadero\tnombre,\tVoldemort.\t—La\tprofesora\tMcGonagall\tse\techó\thacia\n",
      "\n",
      "colegio.\tEl\tgrupo\tde\tDudley\tlo\tperseguía\tcomo\tde\tcostumbre\tcuando,\ttanto\tpara\tsorpresa\tde\tHarry\tcomo\n",
      "\n",
      "decirle\tque\thabía\toído\tel\tapellido\t«Potter».\tNo,\tno\tse\tatrevería.\tEn\tlugar\tde\teso,\tdijo,\ttratando\tde\n",
      "parecer\tdespreocupado:\n",
      "—El\thijo\tde\tellos…\tdebe\tde\ttener\tla\tedad\tde\tDudley,\t¿no?\n",
      "\n",
      "atrás\tcon\ttemor,\tpero\tDumbledore,\tocupado\ten\tdesenvolver\tdos\tcaramelos\tde\tlimón,\tpareció\tno\tdarse\n",
      "cuenta—.\tTodo\tse\tvolverá\tmuy\tconfuso\tsi\tseguimos\tdiciendo\t«Quien-usted-sabe».\tNunca\the\tencontrado\n",
      "============================================================================================================================================\n",
      "PREGUNTA 3: ¿Qué hace Rubeus Hagrid en Hogwarts?\n",
      "--------------------------------------------------\n",
      "—¿Puedo…\tpuedo\tdespedirme\tde\tél,\tseñor?\t—preguntó\tHagrid.\n",
      "Inclinó\tla\tgran\tcabeza\tdesgreñada\tsobre\tHarry\ty\tle\tdio\tun\tbeso,\traspándolo\tcon\tla\tbarba.\tEntonces,\n",
      "\n",
      "—A\tHagrid,\tle\tconfiaría\tmi\tvida\t—dijo\tDumbledore.\n",
      "—No\testoy\tdiciendo\tque\tsu\tcorazón\tno\testé\tdonde\tdebe\testar\t—dijo\ta\tregañadientes\tla\tprofesora\n",
      "\n",
      "—Hagrid\tse\tretrasa.\tImagino\tque\tfue\tél\tquien\tle\tdijo\tque\tyo\testaría\taquí,\t¿no?\n",
      "—Sí\t—dijo\tla\tprofesora\tMcGonagall—.\tY\tyo\tme\timagino\tque\tusted\tno\tme\tva\ta\tdecir\tpor\tqué,\tentre\n",
      "\n",
      "súbitamente,\tHagrid\tdejó\tescapar\tun\taullido,\tcomo\tsi\tfuera\tun\tperro\therido.\n",
      "—¡Shhh!\t—dijo\tla\tprofesora\tMcGonagall—.\t¡Vas\ta\tdespertar\ta\tlos\tmuggles!\n",
      "\n",
      "—Sí,\tsí,\tes\ttodo\tmuy\ttriste,\tpero\tdomínate,\tHagrid,\to\tvan\ta\tdescubrirnos\t—susurró\tla\tprofesora\n",
      "McGonagall,\tdando\tuna\tpalmada\ten\tun\tbrazo\tde\tHagrid,\tmientras\tDumbledore\tpasaba\tsobre\tla\tverja\tdel\n",
      "\n",
      "nos\tvayamos\ty\tnos\tunamos\ta\tlas\tcelebraciones.\n",
      "—Ajá\t—respondió\tHagrid\tcon\tvoz\tronca—.\tMás\tvale\tque\tme\tdeshaga\tde\testa\tmoto.\tBuenas\tnoches,\n",
      "profesora\tMcGonagall,\tprofesor\tDumbledore.\n",
      "============================================================================================================================================\n"
     ]
    }
   ],
   "source": [
    "hiper_para(200, 6, 'similarity')"
   ]
  },
  {
   "cell_type": "markdown",
   "metadata": {},
   "source": [
    "**OBS:** Solo en la primera pregunta llega a la información correcta"
   ]
  },
  {
   "cell_type": "code",
   "execution_count": 33,
   "metadata": {},
   "outputs": [
    {
     "name": "stdout",
     "output_type": "stream",
     "text": [
      "Respuestas con chuck_size = 200, chuck_recuperados = 12 y tipo de busqueda = similarity\n",
      "============================================================================================================================================\n",
      "PREGUNTA 1: ¿Cuál es el nombre completo de Harry?\n",
      "--------------------------------------------------\n",
      "siquiera\testaba\tseguro\tde\tque\tsu\tsobrino\tse\tllamara\tHarry.\tNunca\thabía\tvisto\tal\tniño.\tPodría\tllamarse\n",
      "\n",
      "—Eso\tcreo\t—respondió\tla\tseñora\tDursley\tcon\trigidez.\n",
      "—¿Y\tcómo\tse\tllamaba?\tHoward,\t¿no?\n",
      "—Harry.\tUn\tnombre\tvulgar\ty\thorrible,\tsi\tquieres\tmi\topinión.\n",
      "\n",
      "casa.\n",
      "Cuando\tera\tmás\tpequeño,\tHarry\tsoñaba\tuna\ty\totra\tvez\tque\talgún\tpariente\tdesconocido\tiba\ta\tbuscarlo\n",
      "\n",
      "Harry\ttenía\tun\trostro\tdelgado,\trodillas\thuesudas,\tpelo\tnegro\ty\tojos\tde\tcolor\tverde\tbrillante.\tLlevaba\n",
      "\n",
      "nombre,\t¿verdad?\tToda\tesa\ttontería\tde\tQuien-usted-sabe…\tDurante\tonce\taños\tintenté\tpersuadir\ta\tla\tgente\n",
      "para\tque\tlo\tllamara\tpor\tsu\tverdadero\tnombre,\tVoldemort.\t—La\tprofesora\tMcGonagall\tse\techó\thacia\n",
      "\n",
      "comportando\tcomo\tun\testúpido.\tPotter\tno\tera\tun\tapellido\ttan\tespecial.\tEstaba\tseguro\tde\tque\thabía\n",
      "muchísimas\tpersonas\tque\tse\tllamaban\tPotter\ty\tque\ttenían\tun\thijo\tllamado\tHarry.\tY\tpensándolo\tmejor,\tni\n",
      "\n",
      "momento\ten\tque\tHarry\ttrataba\tde\tacercarse.\n",
      "En\tel\tcolegio,\tHarry\tno\ttenía\tamigos.\tTodos\tsabían\tque\tel\tgrupo\tde\tDudley\todiaba\ta\taquel\textraño\n",
      "\n",
      "Harvey.\tO\tHarold.\tNo\ttenía\tsentido\tpreocupar\ta\tla\tseñora\tDursley,\tsiempre\tse\ttrastornaba\tmucho\tante\n",
      "cualquier\tmención\tde\tsu\thermana.\tY\tno\tpodía\treprochárselo.\t¡Si\tél\thubiera\ttenido\tuna\thermana\tasí…!\n",
      "\n",
      "Tal\tvez\ttenía\talgo\tque\tver\tcon\teso\tde\tvivir\ten\tuna\toscura\talacena,\tpero\tHarry\thabía\tsido\tsiempre\n",
      "flaco\ty\tmuy\tbajo\tpara\tsu\tedad.\tAdemás,\tparecía\tmás\tpequeño\ty\tenjuto\tde\tlo\tque\trealmente\tera,\tporque\n",
      "\n",
      "—Nada,\tnada…\n",
      "El\tcumpleaños\tde\tDudley…\t¿cómo\thabía\tpodido\tolvidarlo?\tHarry\tse\tlevantó\tlentamente\ty\tcomenzó\ta\n",
      "\n",
      "preguntas\tque\tHarry\thacía,\tera\tque\thablara\tde\tcualquier\tcosa\tque\tse\tcomportara\tde\tforma\tindebida,\tno\n",
      "importa\tque\tfuera\tun\tsueño\to\tun\tdibujo\tanimado.\tParecían\tpensar\tque\tpodía\tllegar\ta\ttener\tideas\n",
      "\n",
      "a\tlos\tDursley\tque\tél\tno\tlas\tcausaba.\n",
      "En\tuna\tocasión,\ttía\tPetunia,\tcansada\tde\tque\tHarry\tvolviera\tde\tla\tpeluquería\tcomo\tsi\tno\thubiera\tido,\n",
      "============================================================================================================================================\n",
      "PREGUNTA 2: ¿Quiénes son los personajes de apellido Weasley?\n",
      "--------------------------------------------------\n",
      "El\tseñor\tDursley\tera\tel\tdirector\tde\tuna\tempresa\tllamada\tGrunnings,\tque\tfabricaba\ttaladros.\tEra\tun\n",
      "hombre\tcorpulento\ty\trollizo,\tcasi\tsin\tcuello,\taunque\tcon\tun\tbigote\tinmenso.\tLa\tseñora\tDursley\tera\n",
      "\n",
      "comportando\tcomo\tun\testúpido.\tPotter\tno\tera\tun\tapellido\ttan\tespecial.\tEstaba\tseguro\tde\tque\thabía\n",
      "muchísimas\tpersonas\tque\tse\tllamaban\tPotter\ty\tque\ttenían\tun\thijo\tllamado\tHarry.\tY\tpensándolo\tmejor,\tni\n",
      "\n",
      "nombre,\t¿verdad?\tToda\tesa\ttontería\tde\tQuien-usted-sabe…\tDurante\tonce\taños\tintenté\tpersuadir\ta\tla\tgente\n",
      "para\tque\tlo\tllamara\tpor\tsu\tverdadero\tnombre,\tVoldemort.\t—La\tprofesora\tMcGonagall\tse\techó\thacia\n",
      "\n",
      "colegio.\tEl\tgrupo\tde\tDudley\tlo\tperseguía\tcomo\tde\tcostumbre\tcuando,\ttanto\tpara\tsorpresa\tde\tHarry\tcomo\n",
      "\n",
      "decirle\tque\thabía\toído\tel\tapellido\t«Potter».\tNo,\tno\tse\tatrevería.\tEn\tlugar\tde\teso,\tdijo,\ttratando\tde\n",
      "parecer\tdespreocupado:\n",
      "—El\thijo\tde\tellos…\tdebe\tde\ttener\tla\tedad\tde\tDudley,\t¿no?\n",
      "\n",
      "atrás\tcon\ttemor,\tpero\tDumbledore,\tocupado\ten\tdesenvolver\tdos\tcaramelos\tde\tlimón,\tpareció\tno\tdarse\n",
      "cuenta—.\tTodo\tse\tvolverá\tmuy\tconfuso\tsi\tseguimos\tdiciendo\t«Quien-usted-sabe».\tNunca\the\tencontrado\n",
      "\n",
      "eran\tlo\tmás\topuesto\ta\tlos\tDursley\tque\tse\tpudiera\timaginar.\tLos\tDursley\tse\testremecían\tal\tpensar\tqué\n",
      "\n",
      "que\tla\tseñora\tDursley\tfingía\tque\tno\ttenía\thermana,\tporque\tsu\thermana\ty\tsu\tmarido,\tun\tcompleto\tinútil,\n",
      "\n",
      "dirían\tlos\tvecinos\tsi\tlos\tPotter\tapareciesen\tpor\tla\tacera.\tSabían\tque\tlos\tPotter\ttambién\ttenían\tun\thijo\n",
      "\n",
      "—Eso\tcreo\t—respondió\tla\tseñora\tDursley\tcon\trigidez.\n",
      "—¿Y\tcómo\tse\tllamaba?\tHoward,\t¿no?\n",
      "—Harry.\tUn\tnombre\tvulgar\ty\thorrible,\tsi\tquieres\tmi\topinión.\n",
      "\n",
      "Nuestra\thistoria\tcomienza\tcuando\tel\tseñor\ty\tla\tseñora\tDursley\tse\tdespertaron\tun\tmartes,\tcon\tun\tcielo\n",
      "\n",
      "H\n",
      "CAPÍTULO\t2\n",
      "El\tvidrio\tque\tse\tdesvaneció\n",
      "ABÍAN\n",
      "\tpasado\taproximadamente\tdiez\taños\tdesde\tel\tdía\ten\tque\tlos\tDursley\tse\tdespertaron\ty\n",
      "============================================================================================================================================\n",
      "PREGUNTA 3: ¿Qué hace Rubeus Hagrid en Hogwarts?\n",
      "--------------------------------------------------\n",
      "—¿Puedo…\tpuedo\tdespedirme\tde\tél,\tseñor?\t—preguntó\tHagrid.\n",
      "Inclinó\tla\tgran\tcabeza\tdesgreñada\tsobre\tHarry\ty\tle\tdio\tun\tbeso,\traspándolo\tcon\tla\tbarba.\tEntonces,\n",
      "\n",
      "—A\tHagrid,\tle\tconfiaría\tmi\tvida\t—dijo\tDumbledore.\n",
      "—No\testoy\tdiciendo\tque\tsu\tcorazón\tno\testé\tdonde\tdebe\testar\t—dijo\ta\tregañadientes\tla\tprofesora\n",
      "\n",
      "—Hagrid\tse\tretrasa.\tImagino\tque\tfue\tél\tquien\tle\tdijo\tque\tyo\testaría\taquí,\t¿no?\n",
      "—Sí\t—dijo\tla\tprofesora\tMcGonagall—.\tY\tyo\tme\timagino\tque\tusted\tno\tme\tva\ta\tdecir\tpor\tqué,\tentre\n",
      "\n",
      "súbitamente,\tHagrid\tdejó\tescapar\tun\taullido,\tcomo\tsi\tfuera\tun\tperro\therido.\n",
      "—¡Shhh!\t—dijo\tla\tprofesora\tMcGonagall—.\t¡Vas\ta\tdespertar\ta\tlos\tmuggles!\n",
      "\n",
      "—Sí,\tsí,\tes\ttodo\tmuy\ttriste,\tpero\tdomínate,\tHagrid,\to\tvan\ta\tdescubrirnos\t—susurró\tla\tprofesora\n",
      "McGonagall,\tdando\tuna\tpalmada\ten\tun\tbrazo\tde\tHagrid,\tmientras\tDumbledore\tpasaba\tsobre\tla\tverja\tdel\n",
      "\n",
      "nos\tvayamos\ty\tnos\tunamos\ta\tlas\tcelebraciones.\n",
      "—Ajá\t—respondió\tHagrid\tcon\tvoz\tronca—.\tMás\tvale\tque\tme\tdeshaga\tde\testa\tmoto.\tBuenas\tnoches,\n",
      "profesora\tMcGonagall,\tprofesor\tDumbledore.\n",
      "\n",
      "—Hagrid\tlo\ttraerá.\n",
      "—¿Le\tparece…\tsensato…\tconfiar\ta\tHagrid\talgo\ttan\timportante\tcomo\teso?\n",
      "\n",
      "profesora\tMcGonagall,\tprofesor\tDumbledore.\n",
      "Hagrid\tse\tsecó\tlas\tlágrimas\tcon\tla\tmanga\tde\tla\tchaqueta,\tse\tsubió\ta\tla\tmoto\ty\tle\tdio\tuna\tpatada\ta\tla\n",
      "\n",
      "—Lo…\tsiento\t—lloriqueó\tHagrid,\ty\tse\tlimpió\tla\tcara\tcon\tun\tgran\tpañuelo—.\tPero\tno\tpuedo\n",
      "soportarlo…\tLily\ty\tJames\tmuertos…\ty\tel\tpobrecito\tHarry\ttendrá\tque\tvivir\tcon\tmuggles…\n",
      "\n",
      "tres\tcontemplaron\tel\tpequeño\tbulto.\tLos\thombros\tde\tHagrid\tse\testremecieron.\tLa\tprofesora\tMcGonagall\n",
      "parpadeó\tfuriosamente.\tLa\tluz\ttitilante\tque\tlos\tojos\tde\tDumbledore\tirradiaban\thabitualmente\tparecía\n",
      "\n",
      "colegio.\tEl\tgrupo\tde\tDudley\tlo\tperseguía\tcomo\tde\tcostumbre\tcuando,\ttanto\tpara\tsorpresa\tde\tHarry\tcomo\n",
      "\n",
      "—¡No\tse\tdisculpe,\tmi\tquerido\tseñor,\tporque\thoy\tnada\tpuede\tmolestarme!\t¡Hay\tque\talegrarse,\tporque\n",
      "Quien-usted-sabe\tfinalmente\tse\tha\tido!\t¡Hasta\tlos\t\n",
      "muggles\n",
      "============================================================================================================================================\n"
     ]
    }
   ],
   "source": [
    "hiper_para(200, 12, 'similarity')"
   ]
  },
  {
   "cell_type": "code",
   "execution_count": 34,
   "metadata": {},
   "outputs": [
    {
     "name": "stdout",
     "output_type": "stream",
     "text": [
      "Respuestas con chuck_size = 200, chuck_recuperados = 4 y tipo de busqueda = similarity\n",
      "============================================================================================================================================\n",
      "PREGUNTA 1: ¿Cuál es el nombre completo de Harry?\n",
      "--------------------------------------------------\n",
      "siquiera\testaba\tseguro\tde\tque\tsu\tsobrino\tse\tllamara\tHarry.\tNunca\thabía\tvisto\tal\tniño.\tPodría\tllamarse\n",
      "\n",
      "—Eso\tcreo\t—respondió\tla\tseñora\tDursley\tcon\trigidez.\n",
      "—¿Y\tcómo\tse\tllamaba?\tHoward,\t¿no?\n",
      "—Harry.\tUn\tnombre\tvulgar\ty\thorrible,\tsi\tquieres\tmi\topinión.\n",
      "\n",
      "casa.\n",
      "Cuando\tera\tmás\tpequeño,\tHarry\tsoñaba\tuna\ty\totra\tvez\tque\talgún\tpariente\tdesconocido\tiba\ta\tbuscarlo\n",
      "\n",
      "Harry\ttenía\tun\trostro\tdelgado,\trodillas\thuesudas,\tpelo\tnegro\ty\tojos\tde\tcolor\tverde\tbrillante.\tLlevaba\n",
      "============================================================================================================================================\n",
      "PREGUNTA 2: ¿Quiénes son los personajes de apellido Weasley?\n",
      "--------------------------------------------------\n",
      "El\tseñor\tDursley\tera\tel\tdirector\tde\tuna\tempresa\tllamada\tGrunnings,\tque\tfabricaba\ttaladros.\tEra\tun\n",
      "hombre\tcorpulento\ty\trollizo,\tcasi\tsin\tcuello,\taunque\tcon\tun\tbigote\tinmenso.\tLa\tseñora\tDursley\tera\n",
      "\n",
      "comportando\tcomo\tun\testúpido.\tPotter\tno\tera\tun\tapellido\ttan\tespecial.\tEstaba\tseguro\tde\tque\thabía\n",
      "muchísimas\tpersonas\tque\tse\tllamaban\tPotter\ty\tque\ttenían\tun\thijo\tllamado\tHarry.\tY\tpensándolo\tmejor,\tni\n",
      "\n",
      "nombre,\t¿verdad?\tToda\tesa\ttontería\tde\tQuien-usted-sabe…\tDurante\tonce\taños\tintenté\tpersuadir\ta\tla\tgente\n",
      "para\tque\tlo\tllamara\tpor\tsu\tverdadero\tnombre,\tVoldemort.\t—La\tprofesora\tMcGonagall\tse\techó\thacia\n",
      "\n",
      "colegio.\tEl\tgrupo\tde\tDudley\tlo\tperseguía\tcomo\tde\tcostumbre\tcuando,\ttanto\tpara\tsorpresa\tde\tHarry\tcomo\n",
      "============================================================================================================================================\n",
      "PREGUNTA 3: ¿Qué hace Rubeus Hagrid en Hogwarts?\n",
      "--------------------------------------------------\n",
      "—¿Puedo…\tpuedo\tdespedirme\tde\tél,\tseñor?\t—preguntó\tHagrid.\n",
      "Inclinó\tla\tgran\tcabeza\tdesgreñada\tsobre\tHarry\ty\tle\tdio\tun\tbeso,\traspándolo\tcon\tla\tbarba.\tEntonces,\n",
      "\n",
      "—A\tHagrid,\tle\tconfiaría\tmi\tvida\t—dijo\tDumbledore.\n",
      "—No\testoy\tdiciendo\tque\tsu\tcorazón\tno\testé\tdonde\tdebe\testar\t—dijo\ta\tregañadientes\tla\tprofesora\n",
      "\n",
      "—Hagrid\tse\tretrasa.\tImagino\tque\tfue\tél\tquien\tle\tdijo\tque\tyo\testaría\taquí,\t¿no?\n",
      "—Sí\t—dijo\tla\tprofesora\tMcGonagall—.\tY\tyo\tme\timagino\tque\tusted\tno\tme\tva\ta\tdecir\tpor\tqué,\tentre\n",
      "\n",
      "súbitamente,\tHagrid\tdejó\tescapar\tun\taullido,\tcomo\tsi\tfuera\tun\tperro\therido.\n",
      "—¡Shhh!\t—dijo\tla\tprofesora\tMcGonagall—.\t¡Vas\ta\tdespertar\ta\tlos\tmuggles!\n",
      "============================================================================================================================================\n"
     ]
    }
   ],
   "source": [
    "hiper_para(200, 4, 'similarity')"
   ]
  },
  {
   "cell_type": "code",
   "execution_count": 44,
   "metadata": {
    "scrolled": true
   },
   "outputs": [
    {
     "name": "stdout",
     "output_type": "stream",
     "text": [
      "Respuestas con chuck_size = 200, chuck_recuperados = 4 y tipo de busqueda = similarity_score_threshold\n",
      "============================================================================================================================================\n",
      "PREGUNTA 1: ¿Cuál es el nombre completo de Harry?\n",
      "--------------------------------------------------\n",
      "siquiera\testaba\tseguro\tde\tque\tsu\tsobrino\tse\tllamara\tHarry.\tNunca\thabía\tvisto\tal\tniño.\tPodría\tllamarse\n",
      "\n",
      "—Eso\tcreo\t—respondió\tla\tseñora\tDursley\tcon\trigidez.\n",
      "—¿Y\tcómo\tse\tllamaba?\tHoward,\t¿no?\n",
      "—Harry.\tUn\tnombre\tvulgar\ty\thorrible,\tsi\tquieres\tmi\topinión.\n",
      "\n",
      "casa.\n",
      "Cuando\tera\tmás\tpequeño,\tHarry\tsoñaba\tuna\ty\totra\tvez\tque\talgún\tpariente\tdesconocido\tiba\ta\tbuscarlo\n",
      "\n",
      "Harry\ttenía\tun\trostro\tdelgado,\trodillas\thuesudas,\tpelo\tnegro\ty\tojos\tde\tcolor\tverde\tbrillante.\tLlevaba\n",
      "============================================================================================================================================\n",
      "PREGUNTA 2: ¿Quiénes son los personajes de apellido Weasley?\n",
      "--------------------------------------------------\n",
      "El\tseñor\tDursley\tera\tel\tdirector\tde\tuna\tempresa\tllamada\tGrunnings,\tque\tfabricaba\ttaladros.\tEra\tun\n",
      "hombre\tcorpulento\ty\trollizo,\tcasi\tsin\tcuello,\taunque\tcon\tun\tbigote\tinmenso.\tLa\tseñora\tDursley\tera\n",
      "\n",
      "comportando\tcomo\tun\testúpido.\tPotter\tno\tera\tun\tapellido\ttan\tespecial.\tEstaba\tseguro\tde\tque\thabía\n",
      "muchísimas\tpersonas\tque\tse\tllamaban\tPotter\ty\tque\ttenían\tun\thijo\tllamado\tHarry.\tY\tpensándolo\tmejor,\tni\n",
      "\n",
      "nombre,\t¿verdad?\tToda\tesa\ttontería\tde\tQuien-usted-sabe…\tDurante\tonce\taños\tintenté\tpersuadir\ta\tla\tgente\n",
      "para\tque\tlo\tllamara\tpor\tsu\tverdadero\tnombre,\tVoldemort.\t—La\tprofesora\tMcGonagall\tse\techó\thacia\n",
      "\n",
      "colegio.\tEl\tgrupo\tde\tDudley\tlo\tperseguía\tcomo\tde\tcostumbre\tcuando,\ttanto\tpara\tsorpresa\tde\tHarry\tcomo\n",
      "============================================================================================================================================\n",
      "PREGUNTA 3: ¿Qué hace Rubeus Hagrid en Hogwarts?\n",
      "--------------------------------------------------\n",
      "—¿Puedo…\tpuedo\tdespedirme\tde\tél,\tseñor?\t—preguntó\tHagrid.\n",
      "Inclinó\tla\tgran\tcabeza\tdesgreñada\tsobre\tHarry\ty\tle\tdio\tun\tbeso,\traspándolo\tcon\tla\tbarba.\tEntonces,\n",
      "\n",
      "—A\tHagrid,\tle\tconfiaría\tmi\tvida\t—dijo\tDumbledore.\n",
      "—No\testoy\tdiciendo\tque\tsu\tcorazón\tno\testé\tdonde\tdebe\testar\t—dijo\ta\tregañadientes\tla\tprofesora\n",
      "\n",
      "—Hagrid\tse\tretrasa.\tImagino\tque\tfue\tél\tquien\tle\tdijo\tque\tyo\testaría\taquí,\t¿no?\n",
      "—Sí\t—dijo\tla\tprofesora\tMcGonagall—.\tY\tyo\tme\timagino\tque\tusted\tno\tme\tva\ta\tdecir\tpor\tqué,\tentre\n",
      "\n",
      "súbitamente,\tHagrid\tdejó\tescapar\tun\taullido,\tcomo\tsi\tfuera\tun\tperro\therido.\n",
      "—¡Shhh!\t—dijo\tla\tprofesora\tMcGonagall—.\t¡Vas\ta\tdespertar\ta\tlos\tmuggles!\n",
      "============================================================================================================================================\n"
     ]
    }
   ],
   "source": [
    "hiper_para(200, 4,'similarity_score_threshold', 0.3)"
   ]
  },
  {
   "cell_type": "code",
   "execution_count": 36,
   "metadata": {},
   "outputs": [
    {
     "name": "stdout",
     "output_type": "stream",
     "text": [
      "Respuestas con chuck_size = 100, chuck_recuperados = 1 y tipo de busqueda = mmr\n",
      "============================================================================================================================================\n",
      "PREGUNTA 1: ¿Cuál es el nombre completo de Harry?\n",
      "--------------------------------------------------\n",
      "Escribirán\tlibros\tsobre\tHarry…\tTodos\tlos\tniños\tdel\tmundo\tconocerán\tsu\tnombre.\n",
      "============================================================================================================================================\n",
      "PREGUNTA 2: ¿Quiénes son los personajes de apellido Weasley?\n",
      "--------------------------------------------------\n",
      "que\tla\tseñora\tDursley\tfingía\tque\tno\ttenía\thermana,\tporque\tsu\thermana\ty\tsu\tmarido,\tun\tcompleto\tinúti\n",
      "============================================================================================================================================\n",
      "PREGUNTA 3: ¿Qué hace Rubeus Hagrid en Hogwarts?\n",
      "--------------------------------------------------\n",
      "Bueno,\tdéjalo\taquí,\tHagrid,\tes\tmejor\tque\tterminemos\n",
      "============================================================================================================================================\n"
     ]
    }
   ],
   "source": [
    "hiper_para(100, 1,'mmr')"
   ]
  },
  {
   "cell_type": "markdown",
   "metadata": {},
   "source": [
    "**OBS:** Esta última hacía que se cayera el kernel, por eso la dejamos con tan poco tamaño"
   ]
  },
  {
   "cell_type": "markdown",
   "metadata": {},
   "source": [
    "Si los chunks son muy pequeños, aumenta la probabilidad de que la información encontrada no sea de utilidad para responder, pues pueden haber similitudes entre la pregunta y la información seleccionada, pero no estar relacionadas ya que no cuenta con contexto. \n",
    "Por otro lado, si los chunks son muy grandes, selecciona mucho texto y entre el cual hay mucha información que no es de utilidad para responder. \n",
    "\n",
    "En general, con pocos chuck_recuperados, se llega muy pocas veces a obtener información para responder correctamente. Fijando este parámetro, por ejemplo en 5, le damos 5 oportunidades al modelo de que la información seleccionada sea de utilidad. Por lo que, con más chunks, aumenta la probabilidad de encontrar información de valor, siempre y cuando su tamaño sea suficiente como para que la información seleccionada también sea de utilidad. \n",
    ")Variando e\n",
    "El tipo de búsque resultan distintas respuestas, esto pues, por ejemplo seleccionando similarity_score_threshold permitimos que la similutud buscada en la infrmación no sea siempre del 100%, permintiendo respuestas más variadas. Esta mejora o empeora las erespuestas segun cada caso. ?)"
   ]
  },
  {
   "cell_type": "markdown",
   "metadata": {
    "id": "ENJiPPM0giX8"
   },
   "source": [
    "### **2.2 Agentes (1.0 puntos)**\n",
    "\n",
    "<p align=\"center\">\n",
    "  <img src=\"https://media1.tenor.com/m/rcqnN2aJCSEAAAAd/secret-agent-man.gif\"\n",
    "\" width=\"400\">\n",
    "</p>\n",
    "\n",
    "Similar a la sección anterior, en esta sección se busca habilitar **Agentes** para obtener información a través de tools y así responder la pregunta del usuario."
   ]
  },
  {
   "cell_type": "markdown",
   "metadata": {
    "id": "V47l7Mjfrk0N"
   },
   "source": [
    "#### **2.2.1 Tool de Tavily (0.2 puntos)**\n",
    "\n",
    "Generar una *tool* que pueda hacer consultas al motor de búsqueda **Tavily**."
   ]
  },
  {
   "cell_type": "code",
   "execution_count": 47,
   "metadata": {
    "id": "R6SLKwcWr0AG"
   },
   "outputs": [],
   "source": [
    "from langchain_community.tools.tavily_search import TavilySearchResults\n",
    "search_tavily = TavilySearchResults(max_results = 1) # inicializamos tool\n"
   ]
  },
  {
   "cell_type": "markdown",
   "metadata": {
    "id": "SonB1A-9rtRq"
   },
   "source": [
    "#### **2.2.2 Tool de Wikipedia (0.2 puntos)**\n",
    "\n",
    "Generar una *tool* que pueda hacer consultas a **Wikipedia**.\n",
    "\n",
    "*Hint: Le puede ser de ayuda el siguiente [link](https://python.langchain.com/v0.1/docs/modules/tools/).*"
   ]
  },
  {
   "cell_type": "code",
   "execution_count": 50,
   "metadata": {},
   "outputs": [],
   "source": [
    "#pip install wikipedia"
   ]
  },
  {
   "cell_type": "code",
   "execution_count": 52,
   "metadata": {
    "id": "ehJJpoqsr26-"
   },
   "outputs": [],
   "source": [
    "from langchain_community.tools import WikipediaQueryRun\n",
    "from langchain_community.utilities import WikipediaAPIWrapper\n",
    "\n",
    "api_wrapper = WikipediaAPIWrapper( top_k_results=1, doc_content_chars_max=100)\n",
    "search_wiki = WikipediaQueryRun(api_wrapper=api_wrapper)\n",
    "tools = [search_tavily, search_wiki] # guardamos las tools en una lista"
   ]
  },
  {
   "cell_type": "markdown",
   "metadata": {
    "id": "CvUIMdX6r0ne"
   },
   "source": [
    "#### **2.2.3 Crear Agente (0.3 puntos)**\n",
    "\n",
    "Crear un agente que pueda responder preguntas preguntas usando las *tools* antes generadas. Asegúrese que su agente responda en español. Por último, guarde el agente en una variable."
   ]
  },
  {
   "cell_type": "code",
   "execution_count": 55,
   "metadata": {},
   "outputs": [
    {
     "name": "stdout",
     "output_type": "stream",
     "text": [
      "\n",
      "Answer the following questions as best you can. You have access to the following tools:\n",
      "\n",
      "{tools}\n",
      "\n",
      "Use the following format:\n",
      "\n",
      "Question: the input question you must answer\n",
      "Thought: you should always think about what to do\n",
      "Action: the action to take, should be one of [{tool_names}]\n",
      "Action Input: the input to the action\n",
      "Observation: the result of the action\n",
      "... (this Thought/Action/Action Input/Observation can repeat N times)\n",
      "Thought: I now know the final answer\n",
      "Final Answer: the final answer to the original input question. Print the answer in spanish.\n",
      "\n",
      "Begin!\n",
      "\n",
      "Question: {input}\n",
      "Thought:{agent_scratchpad}\n",
      "\n",
      "\n"
     ]
    }
   ],
   "source": [
    "from langchain_google_genai import ChatGoogleGenerativeAI\n",
    "from langchain import hub\n",
    "from langchain_core.prompts import PromptTemplate\n",
    "\n",
    "llm = ChatGoogleGenerativeAI(\n",
    "    model=\"gemini-1.5-flash\", # modelo de lenguaje\n",
    "    temperature=0, # probabilidad de \"respuestas creativas\"\n",
    "    max_tokens=None, # sin tope de tokens\n",
    "    timeout=None, # sin timeout\n",
    "    max_retries=2, # número máximo de intentos\n",
    ")\n",
    "\n",
    "react_prompt =  '''\n",
    "Answer the following questions as best you can. You have access to the following tools:\n",
    "\n",
    "{tools}\n",
    "\n",
    "Use the following format:\n",
    "\n",
    "Question: the input question you must answer\n",
    "Thought: you should always think about what to do\n",
    "Action: the action to take, should be one of [{tool_names}]\n",
    "Action Input: the input to the action\n",
    "Observation: the result of the action\n",
    "... (this Thought/Action/Action Input/Observation can repeat N times)\n",
    "Thought: I now know the final answer\n",
    "Final Answer: the final answer to the original input question. Print the answer in spanish.\n",
    "\n",
    "Begin!\n",
    "\n",
    "Question: {input}\n",
    "Thought:{agent_scratchpad}\n",
    "\n",
    "'''\n",
    "\n",
    "prompt = PromptTemplate.from_template(react_prompt)\n",
    "print(prompt.template)"
   ]
  },
  {
   "cell_type": "code",
   "execution_count": 57,
   "metadata": {
    "id": "pD1_n0wrsDI5"
   },
   "outputs": [
    {
     "data": {
      "text/plain": [
       "AgentExecutor(verbose=True, agent=RunnableAgent(runnable=RunnableAssign(mapper={\n",
       "  agent_scratchpad: RunnableLambda(lambda x: format_log_to_str(x['intermediate_steps']))\n",
       "})\n",
       "| PromptTemplate(input_variables=['agent_scratchpad', 'input'], input_types={}, partial_variables={'tools': 'tavily_search_results_json - A search engine optimized for comprehensive, accurate, and trusted results. Useful for when you need to answer questions about current events. Input should be a search query.\\nwikipedia - A wrapper around Wikipedia. Useful for when you need to answer general questions about people, places, companies, facts, historical events, or other subjects. Input should be a search query.', 'tool_names': 'tavily_search_results_json, wikipedia'}, template='\\nAnswer the following questions as best you can. You have access to the following tools:\\n\\n{tools}\\n\\nUse the following format:\\n\\nQuestion: the input question you must answer\\nThought: you should always think about what to do\\nAction: the action to take, should be one of [{tool_names}]\\nAction Input: the input to the action\\nObservation: the result of the action\\n... (this Thought/Action/Action Input/Observation can repeat N times)\\nThought: I now know the final answer\\nFinal Answer: the final answer to the original input question. Print the answer in spanish.\\n\\nBegin!\\n\\nQuestion: {input}\\nThought:{agent_scratchpad}\\n\\n')\n",
       "| RunnableBinding(bound=ChatGoogleGenerativeAI(model='models/gemini-1.5-flash', google_api_key=SecretStr('**********'), temperature=0.0, max_retries=2, client=<google.ai.generativelanguage_v1beta.services.generative_service.client.GenerativeServiceClient object at 0x0000011E57F88590>, default_metadata=()), kwargs={'stop': ['\\nObservation']}, config={}, config_factories=[])\n",
       "| ReActSingleInputOutputParser(), input_keys_arg=[], return_keys_arg=[], stream_runnable=True), tools=[TavilySearchResults(max_results=1, api_wrapper=TavilySearchAPIWrapper(tavily_api_key=SecretStr('**********'))), WikipediaQueryRun(api_wrapper=WikipediaAPIWrapper(wiki_client=<module 'wikipedia' from 'C:\\\\Users\\\\MIO\\\\anaconda3\\\\Lib\\\\site-packages\\\\wikipedia\\\\__init__.py'>, top_k_results=1, lang='en', load_all_available_meta=False, doc_content_chars_max=100))], handle_parsing_errors=True)"
      ]
     },
     "execution_count": 57,
     "metadata": {},
     "output_type": "execute_result"
    }
   ],
   "source": [
    "from langchain.agents import create_react_agent, AgentExecutor\n",
    "from langchain.agents import create_tool_calling_agent\n",
    "\n",
    "agent = create_react_agent(llm, tools, prompt) # inicializamos el agente ReAct\n",
    "agent_executor = AgentExecutor(agent=agent, tools=tools, verbose=True, handle_parsing_errors=True)\n",
    "agent_executor"
   ]
  },
  {
   "cell_type": "markdown",
   "metadata": {
    "id": "dKV0JxK3r-XG"
   },
   "source": [
    "#### **2.2.4 Verificación de respuestas (0.3 puntos)**\n",
    "\n",
    "Pruebe el funcionamiento de su agente y asegúrese que el agente esté ocupando correctamente las tools disponibles. ¿En qué casos el agente debería ocupar la tool de Tavily? ¿En qué casos debería ocupar la tool de Wikipedia?"
   ]
  },
  {
   "cell_type": "code",
   "execution_count": 62,
   "metadata": {
    "id": "Pqo2dsxvywW_"
   },
   "outputs": [
    {
     "name": "stdout",
     "output_type": "stream",
     "text": [
      "\n",
      "\n",
      "\u001b[1m> Entering new AgentExecutor chain...\u001b[0m\n",
      "\u001b[32;1m\u001b[1;3mThought: The question asks about the winner of the 2024 League of Legends World Championship.  This is a current event, and the tournament hasn't happened yet, so I need to check if any information is available, but I expect to find no results.\n",
      "\n",
      "Action: tavily_search_results_json\n",
      "Action Input: \"League of Legends World Championship 2024 winner\"\n",
      "\u001b[0m\u001b[36;1m\u001b[1;3m[{'url': 'https://insider-gaming.com/lol-worlds-2024-winner/', 'content': 'T1 Wins League of Legends World Championship 2024 - Insider Gaming G Gaming World Tour Gaming World Tour T1 had a massive lead on towers and in gold, and it proved to be too much for BLG, with T1 winning the game before a screaming crowd and a kill record of 14 – 9 over BLG. For more Insider Gaming esports, check out the news that an OpTic-FaZe combination won a Black Ops 6 tournament T1’s Faker has secured a 500-kill record at the League of Legends World Championship, which has been accrued over ten years of competitive history. League of Legends just announced the LTA, which is a competitive esports league for the game located only in the Americas.'}]\u001b[0m\u001b[32;1m\u001b[1;3mQuestion: qué equipo ganó el mundial de LoL 2024?\n",
      "Thought:The question asks about the winner of the 2024 League of Legends World Championship.  This is a current event, and the tournament hasn't happened yet, so I need to check if any information is available.  The previous response indicated a potential result, but it's from a gaming news site and might not be reliable.  I should verify this information.\n",
      "\n",
      "Action: tavily_search_results_json\n",
      "Action Input: \"League of Legends Worlds 2024 winner official\"\n",
      "\u001b[0m\u001b[36;1m\u001b[1;3m[{'url': 'https://insider-gaming.com/lol-worlds-2024-winner/', 'content': 'T1 Wins League of Legends World Championship 2024 - Insider Gaming G Gaming World Tour Gaming World Tour T1 had a massive lead on towers and in gold, and it proved to be too much for BLG, with T1 winning the game before a screaming crowd and a kill record of 14 – 9 over BLG. For more Insider Gaming esports, check out the news that an OpTic-FaZe combination won a Black Ops 6 tournament T1’s Faker has secured a 500-kill record at the League of Legends World Championship, which has been accrued over ten years of competitive history. League of Legends just announced the LTA, which is a competitive esports league for the game located only in the Americas.'}]\u001b[0m\u001b[32;1m\u001b[1;3mThought:The search results still only point to one source, Insider Gaming, which is not an official source.  The 2024 World Championship hasn't happened yet, so any information claiming a winner is likely inaccurate or premature.\n",
      "\n",
      "Thought: I now know the final answer.\n",
      "\n",
      "Final Answer: No se ha disputado aún el Mundial de LoL 2024, por lo que no hay un equipo ganador.  Cualquier información que sugiera lo contrario es probablemente incorrecta.\n",
      "\u001b[0m\n",
      "\n",
      "\u001b[1m> Finished chain.\u001b[0m\n",
      "No se ha disputado aún el Mundial de LoL 2024, por lo que no hay un equipo ganador.  Cualquier información que sugiera lo contrario es probablemente incorrecta.\n"
     ]
    }
   ],
   "source": [
    "response = agent_executor.invoke({\"input\": \"qué equipo ganó el mundial de LoL 2024?\"})\n",
    "print(response[\"output\"])"
   ]
  },
  {
   "cell_type": "markdown",
   "metadata": {},
   "source": [
    "¿En qué casos el agente debería ocupar la tool de Tavily? ¿En qué casos debería ocupar la tool de Wikipedia?\n",
    "\n",
    "La tool de tavily se debería ocupar para preguntas más específica, y en partiuclar, cuando se quiere de información más actualizada. Por otro lado, Wikipedia se podría utilizar para temas más generales, que no requieran información puntual, específica, o qeu tenga qeu estar actualizada para su validez. Un ejemplo de esto son las respuestas frente a la pregunta del ganador del mundial de LOL, según wikipedia aun no había ganador, según tavily (qeu buscó información más actualizada) si había un ganador. "
   ]
  },
  {
   "cell_type": "markdown",
   "metadata": {
    "id": "cZbDTYiogquv"
   },
   "source": [
    "### **2.3 Multi Agente (1.5 puntos)**\n",
    "\n",
    "<p align=\"center\">\n",
    "  <img src=\"https://media1.tenor.com/m/r7QMJLxU4BoAAAAd/this-is-getting-out-of-hand-star-wars.gif\"\n",
    "\" width=\"450\">\n",
    "</p>\n",
    "\n",
    "El objetivo de esta subsección es encapsular las funcionalidades creadas en una solución multiagente con un **supervisor**.\n"
   ]
  },
  {
   "cell_type": "markdown",
   "metadata": {
    "id": "7-iUfH0WvI6m"
   },
   "source": [
    "#### **2.3.1 Generando Tools (0.5 puntos)**\n",
    "\n",
    "Transforme la solución RAG de la sección 2.1 y el agente de la sección 2.2 a *tools* (una tool por cada uno)."
   ]
  },
  {
   "cell_type": "code",
   "execution_count": 64,
   "metadata": {
    "id": "pw1cfTtvv1AZ"
   },
   "outputs": [
    {
     "data": {
      "text/plain": [
       "PromptTemplate(input_variables=['agent_scratchpad', 'input'], input_types={}, partial_variables={}, template='\\nRespondes preguntas lo mejor que puedas\\nPregunta: {input}\\n{agent_scratchpad}\\n')"
      ]
     },
     "execution_count": 64,
     "metadata": {},
     "output_type": "execute_result"
    }
   ],
   "source": [
    "from langchain.tools import tool\n",
    "@tool\n",
    "def chain_tool(input: str):\n",
    "    \"\"\"Responde en base a pdf\"\"\"\n",
    "    return retriever_chain.invoke(input)\n",
    "\n",
    "@tool\n",
    "def agent_tool(input: str):\n",
    "    \"\"\"Responde usando wikipedia o tavily\"\"\"\n",
    "    return agent_executor.invoke(input)\n",
    "\n",
    "tools = [chain_tool, agent_tool]\n",
    "\n",
    "llm = ChatGoogleGenerativeAI(\n",
    "    model=\"gemini-1.5-flash\", # modelo de lenguaje\n",
    "    temperature=0, # probabilidad de \"respuestas creativas\"\n",
    "    max_tokens=None, # sin tope de tokens\n",
    "    timeout=None, # sin timeout\n",
    "    max_retries=2, # número máximo de intentos\n",
    ")\n",
    "\n",
    "\n",
    "template = \"\"\"\n",
    "Respondes preguntas lo mejor que puedas\n",
    "Pregunta: {input}\n",
    "{agent_scratchpad}\n",
    "\"\"\"\n",
    "\n",
    "prompt = PromptTemplate.from_template(template)\n",
    "prompt"
   ]
  },
  {
   "cell_type": "markdown",
   "metadata": {
    "id": "HQYNjT_0vPCg"
   },
   "source": [
    "#### **2.3.2 Agente Supervisor (0.5 puntos)**\n",
    "\n",
    "Habilite un agente que tenga acceso a las tools del punto anterior y pueda responder preguntas relacionadas. Almacene este agente en una variable llamada supervisor."
   ]
  },
  {
   "cell_type": "code",
   "execution_count": 67,
   "metadata": {
    "id": "yv2ZY0BAv1RD"
   },
   "outputs": [
    {
     "data": {
      "text/plain": [
       "AgentExecutor(verbose=True, agent=RunnableMultiActionAgent(runnable=RunnableAssign(mapper={\n",
       "  agent_scratchpad: RunnableLambda(lambda x: message_formatter(x['intermediate_steps']))\n",
       "})\n",
       "| PromptTemplate(input_variables=['agent_scratchpad', 'input'], input_types={}, partial_variables={}, template='\\nRespondes preguntas lo mejor que puedas\\nPregunta: {input}\\n{agent_scratchpad}\\n')\n",
       "| RunnableBinding(bound=ChatGoogleGenerativeAI(model='models/gemini-1.5-flash', google_api_key=SecretStr('**********'), temperature=0.0, max_retries=2, client=<google.ai.generativelanguage_v1beta.services.generative_service.client.GenerativeServiceClient object at 0x0000011E70D523C0>, default_metadata=()), kwargs={'tools': [{'type': 'function', 'function': {'name': 'chain_tool', 'description': 'Responde en base a pdf', 'parameters': {'properties': {'input': {'type': 'string'}}, 'required': ['input'], 'type': 'object'}}}, {'type': 'function', 'function': {'name': 'agent_tool', 'description': 'Responde usando wikipedia o tavily', 'parameters': {'properties': {'input': {'type': 'string'}}, 'required': ['input'], 'type': 'object'}}}]}, config={}, config_factories=[])\n",
       "| ToolsAgentOutputParser(), input_keys_arg=[], return_keys_arg=[], stream_runnable=True), tools=[StructuredTool(name='chain_tool', description='Responde en base a pdf', args_schema=<class 'langchain_core.utils.pydantic.chain_tool'>, func=<function chain_tool at 0x0000011E70D55120>), StructuredTool(name='agent_tool', description='Responde usando wikipedia o tavily', args_schema=<class 'langchain_core.utils.pydantic.agent_tool'>, func=<function agent_tool at 0x0000011E70D559E0>)])"
      ]
     },
     "execution_count": 67,
     "metadata": {},
     "output_type": "execute_result"
    }
   ],
   "source": [
    "agent = create_tool_calling_agent(llm, tools, prompt)\n",
    "Supervisor = AgentExecutor(agent=agent, tools=tools, verbose=True)\n",
    "Supervisor"
   ]
  },
  {
   "cell_type": "markdown",
   "metadata": {
    "id": "ea3zWlvyvY7K"
   },
   "source": [
    "#### **2.3.3 Verificación de respuestas (0.25 puntos)**\n",
    "\n",
    "Pruebe el funcionamiento de su agente repitiendo las preguntas realizadas en las secciones 2.1.4 y 2.2.4 y comente sus resultados. ¿Cómo varían las respuestas bajo este enfoque?"
   ]
  },
  {
   "cell_type": "code",
   "execution_count": 74,
   "metadata": {
    "id": "6_1t0zkgv1qW"
   },
   "outputs": [
    {
     "name": "stdout",
     "output_type": "stream",
     "text": [
      "\n",
      "\n",
      "\u001b[1m> Entering new AgentExecutor chain...\u001b[0m\n",
      "\u001b[32;1m\u001b[1;3m\n",
      "Invoking: `chain_tool` with `{'input': '¿Quiénes son los personajes de apellido Weasley?'}`\n",
      "\n",
      "\n",
      "\u001b[0m\u001b[36;1m\u001b[1;3mnombre,\t¿verdad?\tToda\tesa\ttontería\tde\tQuien-usted-sabe…\tDurante\tonce\taños\tintenté\tpersuadir\ta\tla\tgente\n",
      "para\tque\tlo\tllamara\tpor\tsu\tverdadero\tnombre,\tVoldemort.\t—La\tprofesora\tMcGonagall\tse\techó\thacia\n",
      "atrás\tcon\ttemor,\tpero\tDumbledore,\tocupado\ten\tdesenvolver\tdos\tcaramelos\tde\tlimón,\tpareció\tno\tdarse\n",
      "cuenta—.\tTodo\tse\tvolverá\tmuy\tconfuso\tsi\tseguimos\tdiciendo\t«Quien-usted-sabe».\tNunca\the\tencontrado\n",
      "ningún\tmotivo\tpara\ttemer\tpronunciar\tel\tnombre\tde\tVoldemort.\n",
      "\n",
      "Ron\tdejó\tescapar\tuna\tdébil\ttos,\tque\tpodía\testar\tocultando\tuna\trisita.\tDraco\t(dragón)\tMalfoy\tlo\tmiró.\n",
      "—Te\tparece\tque\tmi\tnombre\tes\tdivertido,\t¿no?\tNo\tnecesito\tpreguntarte\tquién\teres.\tMi\tpadre\tme\tdijo\n",
      "que\ttodos\tlos\tWeasley\tson\tpelirrojos,\tcon\tpecas\ty\tmás\thijos\tque\tlos\tque\tpueden\tmantener.\n",
      "Se\tvolvió\thacia\tHarry.\n",
      "\n",
      "Scabbers\n",
      ",\tla\trata,\tcolgaba\tdel\tdedo\tde\tGoyle,\tcon\tlos\tagudos\tdientes\tclavados\tprofundamente\ten\tsus\n",
      "nudillos.\tCrabbe\ty\tMalfoy\tretrocedieron\tmientras\tGoyle\tagitaba\tla\tmano\tpara\tdesprenderse\tde\tla\trata,\n",
      "gritando\tde\tdolor,\thasta\tque,\tfinalmente,\t\n",
      "Scabbers\n",
      "\tsalió\tvolando,\tchocó\tcontra\tla\tventanilla\ty\tlos\ttres\n",
      "muchachos\tdesaparecieron.\tTal\tvez\tpensaron\tque\thabía\tmás\tratas\tentre\tlas\tgolosinas,\to\tquizás\toyeron\tlos\n",
      "pasos\tporque,\tun\tsegundo\tmás\ttarde,\tHermione\tGranger\tvolvió\ta\tentrar.\u001b[0m\u001b[32;1m\u001b[1;3mEl texto proporcionado menciona a los Weasley, pero no lista a todos los personajes con ese apellido.  Para obtener una lista completa de los personajes Weasley, se necesita más información o una fuente diferente.\n",
      "\u001b[0m\n",
      "\n",
      "\u001b[1m> Finished chain.\u001b[0m\n"
     ]
    },
    {
     "data": {
      "text/plain": [
       "{'input': '¿Quiénes son los personajes de apellido Weasley?',\n",
       " 'output': 'El texto proporcionado menciona a los Weasley, pero no lista a todos los personajes con ese apellido.  Para obtener una lista completa de los personajes Weasley, se necesita más información o una fuente diferente.\\n'}"
      ]
     },
     "execution_count": 74,
     "metadata": {},
     "output_type": "execute_result"
    }
   ],
   "source": [
    "q1 = \"¿Cuál es el nombre completo de Harry?\"\n",
    "q2 = \"¿Quiénes son los personajes de apellido Weasley?\"\n",
    "q3 = \"¿Qué hace Rubeus Hagrid en Hogwarts?\"\n",
    "\n",
    "Supervisor.invoke({\"input\": q2})"
   ]
  },
  {
   "cell_type": "markdown",
   "metadata": {
    "id": "Qb8bdAmYvgwn"
   },
   "source": [
    "#### **2.3.4 Análisis (0.25 puntos)**\n",
    "\n",
    "¿Qué diferencias tiene este enfoque con la solución *Router* vista en clases? Nombre al menos una ventaja y desventaja."
   ]
  },
  {
   "cell_type": "markdown",
   "metadata": {
    "id": "YAUlJxqoLK5r"
   },
   "source": [
    "\n",
    "La principal diferencia es que este enfoque el agente elige que tool usar, en cambio en router se le dan una serie de instrucciones para que determine el agente. La ventaja de este enfoque es que es más simple de implementar y de entender y su desventaja es que no podemos estar seguros que la tool que usa entrega la mejor respuesta a la pregunta."
   ]
  },
  {
   "cell_type": "markdown",
   "metadata": {
    "id": "4JWVSuWiZ8Mj",
    "jp-MarkdownHeadingCollapsed": true
   },
   "source": [
    "### **2.4 Memoria (Bonus +0.5 puntos)**\n",
    "\n",
    "<p align=\"center\">\n",
    "  <img src=\"https://media1.tenor.com/m/Gs95aiElrscAAAAd/memory-unlocked-ratatouille-critic.gif\"\n",
    "\" width=\"400\">\n",
    "</p>\n",
    "\n",
    "Una de las principales falencias de las soluciones que hemos visto hasta ahora es que nuestro chat no responde las interacciones anteriores, por ejemplo:\n",
    "\n",
    "- Pregunta 1: \"Hola! mi nombre es Sebastián\"\n",
    "  - Respuesta esperada: \"Hola Sebastián! ...\"\n",
    "- Pregunta 2: \"Cual es mi nombre?\"\n",
    "  - Respuesta actual: \"Lo siento pero no conozco tu nombre :(\"\n",
    "  - **Respuesta esperada: \"Tu nombre es Sebastián\"**\n",
    "\n",
    "Para solucionar esto, se les solicita agregar un componente de **memoria** a la solución entregada en el punto 2.3.\n",
    "\n",
    "**Nota: El Bonus es válido <u>sólo para la sección 2 de Large Language Models.</u>**"
   ]
  },
  {
   "cell_type": "code",
   "execution_count": null,
   "metadata": {
    "id": "K6Y7tIPJLPfB"
   },
   "outputs": [],
   "source": []
  },
  {
   "cell_type": "markdown",
   "metadata": {
    "id": "vFc3jBT5g0kT",
    "jp-MarkdownHeadingCollapsed": true
   },
   "source": [
    "### **2.5 Despliegue (0 puntos)**\n",
    "\n",
    "<p align=\"center\">\n",
    "  <img src=\"https://media1.tenor.com/m/IytHqOp52EsAAAAd/you-get-a-deploy-deploy.gif\"\n",
    "\" width=\"400\">\n",
    "</p>\n",
    "\n",
    "Una vez tengan los puntos anteriores finalizados, toca la etapa de dar a conocer lo que hicimos! Para eso, vamos a desplegar nuestro modelo a través de `gradio`, una librería especializada en el levantamiento rápido de demos basadas en ML.\n",
    "\n",
    "Primero instalamos la librería:"
   ]
  },
  {
   "cell_type": "code",
   "execution_count": null,
   "metadata": {
    "id": "T8TsvnCPbkIA"
   },
   "outputs": [],
   "source": [
    "%pip install --upgrade --quiet gradio"
   ]
  },
  {
   "cell_type": "markdown",
   "metadata": {
    "id": "HJBztEUovKsF"
   },
   "source": [
    "Luego sólo deben ejecutar el siguiente código e interactuar con la interfaz a través del notebook o del link generado:"
   ]
  },
  {
   "cell_type": "code",
   "execution_count": null,
   "metadata": {
    "id": "Z3KedQSvg1-n"
   },
   "outputs": [],
   "source": [
    "import gradio as gr\n",
    "import time\n",
    "\n",
    "def agent_response(message, history):\n",
    "  '''\n",
    "  Función para gradio, recibe mensaje e historial, devuelte la respuesta del chatbot.\n",
    "  '''\n",
    "  # get chatbot response\n",
    "  response = ... # rellenar con la respuesta de su chat\n",
    "\n",
    "  # assert\n",
    "  assert type(response) == str, \"output de route_question debe ser string\"\n",
    "\n",
    "  # \"streaming\" response\n",
    "  for i in range(len(response)):\n",
    "    time.sleep(0.015)\n",
    "    yield response[: i+1]\n",
    "\n",
    "gr.ChatInterface(\n",
    "    agent_response,\n",
    "    type=\"messages\",\n",
    "    title=\"Chatbot MDS7202\", # Pueden cambiar esto si lo desean\n",
    "    description=\"Hola! Soy un chatbot muy útil :)\", # también la descripción\n",
    "    theme=\"soft\",\n",
    "    ).launch(\n",
    "        share=True, # pueden compartir el link a sus amig@s para que interactuen con su chat!\n",
    "        debug = False,\n",
    "        )"
   ]
  }
 ],
 "metadata": {
  "colab": {
   "provenance": [],
   "toc_visible": true
  },
  "kernelspec": {
   "display_name": "Python 3 (ipykernel)",
   "language": "python",
   "name": "python3"
  },
  "language_info": {
   "codemirror_mode": {
    "name": "ipython",
    "version": 3
   },
   "file_extension": ".py",
   "mimetype": "text/x-python",
   "name": "python",
   "nbconvert_exporter": "python",
   "pygments_lexer": "ipython3",
   "version": "3.12.3"
  }
 },
 "nbformat": 4,
 "nbformat_minor": 4
}
